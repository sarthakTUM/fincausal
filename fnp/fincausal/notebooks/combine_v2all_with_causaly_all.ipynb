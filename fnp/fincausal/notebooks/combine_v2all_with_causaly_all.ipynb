{
 "cells": [
  {
   "cell_type": "code",
   "execution_count": 1,
   "metadata": {},
   "outputs": [],
   "source": [
    "import pandas as pd\n",
    "from pathlib import Path\n",
    "import uuid"
   ]
  },
  {
   "cell_type": "code",
   "execution_count": 2,
   "metadata": {},
   "outputs": [],
   "source": [
    "fincausal_task1_train_path = Path('/media/sarthak/HDD/data_science/fnp_resources/data/task1/all_combined/train_dev_test.csv')\n",
    "causaly_all_data_path = Path('/media/sarthak/HDD/data_science/fnp_resources/data/extra/causaly.csv')"
   ]
  },
  {
   "cell_type": "code",
   "execution_count": 3,
   "metadata": {},
   "outputs": [
    {
     "data": {
      "text/html": [
       "<div>\n",
       "<style scoped>\n",
       "    .dataframe tbody tr th:only-of-type {\n",
       "        vertical-align: middle;\n",
       "    }\n",
       "\n",
       "    .dataframe tbody tr th {\n",
       "        vertical-align: top;\n",
       "    }\n",
       "\n",
       "    .dataframe thead th {\n",
       "        text-align: right;\n",
       "    }\n",
       "</style>\n",
       "<table border=\"1\" class=\"dataframe\">\n",
       "  <thead>\n",
       "    <tr style=\"text-align: right;\">\n",
       "      <th></th>\n",
       "      <th>sentence</th>\n",
       "      <th>causal</th>\n",
       "    </tr>\n",
       "  </thead>\n",
       "  <tbody>\n",
       "    <tr>\n",
       "      <th>0</th>\n",
       "      <td>Results indicated that boys with ADHD , relati...</td>\n",
       "      <td>1</td>\n",
       "    </tr>\n",
       "    <tr>\n",
       "      <th>1</th>\n",
       "      <td>Ticagrelor appears to provide higher value for...</td>\n",
       "      <td>0</td>\n",
       "    </tr>\n",
       "    <tr>\n",
       "      <th>2</th>\n",
       "      <td>Whatever the mechanism , active smoking is an ...</td>\n",
       "      <td>1</td>\n",
       "    </tr>\n",
       "    <tr>\n",
       "      <th>3</th>\n",
       "      <td>In this study , we examined whether use of an ...</td>\n",
       "      <td>0</td>\n",
       "    </tr>\n",
       "    <tr>\n",
       "      <th>4</th>\n",
       "      <td>Using causal inference testing , we searched c...</td>\n",
       "      <td>0</td>\n",
       "    </tr>\n",
       "  </tbody>\n",
       "</table>\n",
       "</div>"
      ],
      "text/plain": [
       "                                            sentence  causal\n",
       "0  Results indicated that boys with ADHD , relati...       1\n",
       "1  Ticagrelor appears to provide higher value for...       0\n",
       "2  Whatever the mechanism , active smoking is an ...       1\n",
       "3  In this study , we examined whether use of an ...       0\n",
       "4  Using causal inference testing , we searched c...       0"
      ]
     },
     "execution_count": 3,
     "metadata": {},
     "output_type": "execute_result"
    }
   ],
   "source": [
    "causaly_df = pd.read_csv(causaly_all_data_path)\n",
    "causaly_df.head()"
   ]
  },
  {
   "cell_type": "code",
   "execution_count": 4,
   "metadata": {},
   "outputs": [
    {
     "data": {
      "text/plain": [
       "(2000, 2)"
      ]
     },
     "execution_count": 4,
     "metadata": {},
     "output_type": "execute_result"
    }
   ],
   "source": [
    "causaly_df.shape"
   ]
  },
  {
   "cell_type": "code",
   "execution_count": 5,
   "metadata": {},
   "outputs": [
    {
     "data": {
      "text/html": [
       "<div>\n",
       "<style scoped>\n",
       "    .dataframe tbody tr th:only-of-type {\n",
       "        vertical-align: middle;\n",
       "    }\n",
       "\n",
       "    .dataframe tbody tr th {\n",
       "        vertical-align: top;\n",
       "    }\n",
       "\n",
       "    .dataframe thead th {\n",
       "        text-align: right;\n",
       "    }\n",
       "</style>\n",
       "<table border=\"1\" class=\"dataframe\">\n",
       "  <thead>\n",
       "    <tr style=\"text-align: right;\">\n",
       "      <th></th>\n",
       "      <th>Index</th>\n",
       "      <th>Text</th>\n",
       "      <th>Gold</th>\n",
       "      <th>unique_id</th>\n",
       "    </tr>\n",
       "  </thead>\n",
       "  <tbody>\n",
       "    <tr>\n",
       "      <th>0</th>\n",
       "      <td>334.00005</td>\n",
       "      <td>About Automotive Finco Corp. Automotive Finco ...</td>\n",
       "      <td>0</td>\n",
       "      <td>f6f9b2cd-c18a-41ae-afdf-1a38276e7c76</td>\n",
       "    </tr>\n",
       "    <tr>\n",
       "      <th>1</th>\n",
       "      <td>130.00008</td>\n",
       "      <td>Titan has acquired all of Core Gold's secured ...</td>\n",
       "      <td>1</td>\n",
       "      <td>5c168ebc-1302-44e1-97cb-21a59d505f58</td>\n",
       "    </tr>\n",
       "    <tr>\n",
       "      <th>2</th>\n",
       "      <td>220.00009</td>\n",
       "      <td>Current drill spacing is shown three dimension...</td>\n",
       "      <td>0</td>\n",
       "      <td>2413d551-6a1e-417c-a4f1-8691370ba2cf</td>\n",
       "    </tr>\n",
       "    <tr>\n",
       "      <th>3</th>\n",
       "      <td>426.00012</td>\n",
       "      <td>The company's products and services include Pa...</td>\n",
       "      <td>0</td>\n",
       "      <td>7ec552d1-48c3-4a30-8172-1e77e141a2d0</td>\n",
       "    </tr>\n",
       "    <tr>\n",
       "      <th>4</th>\n",
       "      <td>334.00009</td>\n",
       "      <td>There can be no assurance that such informatio...</td>\n",
       "      <td>0</td>\n",
       "      <td>fbc8ec3f-d91b-40ca-a9b6-c06b37c0c8d2</td>\n",
       "    </tr>\n",
       "  </tbody>\n",
       "</table>\n",
       "</div>"
      ],
      "text/plain": [
       "       Index                                               Text  Gold  \\\n",
       "0  334.00005  About Automotive Finco Corp. Automotive Finco ...     0   \n",
       "1  130.00008  Titan has acquired all of Core Gold's secured ...     1   \n",
       "2  220.00009  Current drill spacing is shown three dimension...     0   \n",
       "3  426.00012  The company's products and services include Pa...     0   \n",
       "4  334.00009  There can be no assurance that such informatio...     0   \n",
       "\n",
       "                              unique_id  \n",
       "0  f6f9b2cd-c18a-41ae-afdf-1a38276e7c76  \n",
       "1  5c168ebc-1302-44e1-97cb-21a59d505f58  \n",
       "2  2413d551-6a1e-417c-a4f1-8691370ba2cf  \n",
       "3  7ec552d1-48c3-4a30-8172-1e77e141a2d0  \n",
       "4  fbc8ec3f-d91b-40ca-a9b6-c06b37c0c8d2  "
      ]
     },
     "execution_count": 5,
     "metadata": {},
     "output_type": "execute_result"
    }
   ],
   "source": [
    "fincausal_task1_train_df = pd.read_csv(fincausal_task1_train_path)\n",
    "fincausal_task1_train_df.head()"
   ]
  },
  {
   "cell_type": "code",
   "execution_count": 6,
   "metadata": {},
   "outputs": [
    {
     "data": {
      "text/plain": [
       "(22054, 4)"
      ]
     },
     "execution_count": 6,
     "metadata": {},
     "output_type": "execute_result"
    }
   ],
   "source": [
    "fincausal_task1_train_df.shape"
   ]
  },
  {
   "cell_type": "code",
   "execution_count": 7,
   "metadata": {},
   "outputs": [
    {
     "data": {
      "text/html": [
       "<div>\n",
       "<style scoped>\n",
       "    .dataframe tbody tr th:only-of-type {\n",
       "        vertical-align: middle;\n",
       "    }\n",
       "\n",
       "    .dataframe tbody tr th {\n",
       "        vertical-align: top;\n",
       "    }\n",
       "\n",
       "    .dataframe thead th {\n",
       "        text-align: right;\n",
       "    }\n",
       "</style>\n",
       "<table border=\"1\" class=\"dataframe\">\n",
       "  <thead>\n",
       "    <tr style=\"text-align: right;\">\n",
       "      <th></th>\n",
       "      <th>Index</th>\n",
       "      <th>Text</th>\n",
       "      <th>Gold</th>\n",
       "      <th>unique_id</th>\n",
       "    </tr>\n",
       "  </thead>\n",
       "  <tbody>\n",
       "    <tr>\n",
       "      <th>0</th>\n",
       "      <td>None</td>\n",
       "      <td>Results indicated that boys with ADHD , relati...</td>\n",
       "      <td>1</td>\n",
       "      <td>a02b63a3-dab9-49ef-a54e-3448f4fd4707</td>\n",
       "    </tr>\n",
       "    <tr>\n",
       "      <th>1</th>\n",
       "      <td>None</td>\n",
       "      <td>Ticagrelor appears to provide higher value for...</td>\n",
       "      <td>0</td>\n",
       "      <td>a9a8b7e2-dee4-4985-a192-1262c7f88d5e</td>\n",
       "    </tr>\n",
       "    <tr>\n",
       "      <th>2</th>\n",
       "      <td>None</td>\n",
       "      <td>Whatever the mechanism , active smoking is an ...</td>\n",
       "      <td>1</td>\n",
       "      <td>60494e82-334a-4908-85a4-bf618f081d17</td>\n",
       "    </tr>\n",
       "    <tr>\n",
       "      <th>3</th>\n",
       "      <td>None</td>\n",
       "      <td>In this study , we examined whether use of an ...</td>\n",
       "      <td>0</td>\n",
       "      <td>6e2909b2-4305-4496-a26f-558dc5c5f2c9</td>\n",
       "    </tr>\n",
       "    <tr>\n",
       "      <th>4</th>\n",
       "      <td>None</td>\n",
       "      <td>Using causal inference testing , we searched c...</td>\n",
       "      <td>0</td>\n",
       "      <td>3defa853-142e-4646-94fc-def51a380d77</td>\n",
       "    </tr>\n",
       "  </tbody>\n",
       "</table>\n",
       "</div>"
      ],
      "text/plain": [
       "  Index                                               Text  Gold  \\\n",
       "0  None  Results indicated that boys with ADHD , relati...     1   \n",
       "1  None  Ticagrelor appears to provide higher value for...     0   \n",
       "2  None  Whatever the mechanism , active smoking is an ...     1   \n",
       "3  None  In this study , we examined whether use of an ...     0   \n",
       "4  None  Using causal inference testing , we searched c...     0   \n",
       "\n",
       "                              unique_id  \n",
       "0  a02b63a3-dab9-49ef-a54e-3448f4fd4707  \n",
       "1  a9a8b7e2-dee4-4985-a192-1262c7f88d5e  \n",
       "2  60494e82-334a-4908-85a4-bf618f081d17  \n",
       "3  6e2909b2-4305-4496-a26f-558dc5c5f2c9  \n",
       "4  3defa853-142e-4646-94fc-def51a380d77  "
      ]
     },
     "execution_count": 7,
     "metadata": {},
     "output_type": "execute_result"
    }
   ],
   "source": [
    "causaly_df = pd.DataFrame({\n",
    "    'Index': None,\n",
    "    'Text': causaly_df.sentence,\n",
    "    'Gold': causaly_df.causal,\n",
    "    'unique_id': [str(uuid.uuid4()) for _ in range(len(causaly_df))]\n",
    "})\n",
    "causaly_df.head()"
   ]
  },
  {
   "cell_type": "code",
   "execution_count": 8,
   "metadata": {},
   "outputs": [
    {
     "data": {
      "text/plain": [
       "(24054, 4)"
      ]
     },
     "execution_count": 8,
     "metadata": {},
     "output_type": "execute_result"
    }
   ],
   "source": [
    "merged_df = pd.concat([fincausal_task1_train_df, causaly_df])\n",
    "merged_df.shape"
   ]
  },
  {
   "cell_type": "code",
   "execution_count": 9,
   "metadata": {},
   "outputs": [
    {
     "data": {
      "text/html": [
       "<div>\n",
       "<style scoped>\n",
       "    .dataframe tbody tr th:only-of-type {\n",
       "        vertical-align: middle;\n",
       "    }\n",
       "\n",
       "    .dataframe tbody tr th {\n",
       "        vertical-align: top;\n",
       "    }\n",
       "\n",
       "    .dataframe thead th {\n",
       "        text-align: right;\n",
       "    }\n",
       "</style>\n",
       "<table border=\"1\" class=\"dataframe\">\n",
       "  <thead>\n",
       "    <tr style=\"text-align: right;\">\n",
       "      <th></th>\n",
       "      <th>Index</th>\n",
       "      <th>Text</th>\n",
       "      <th>Gold</th>\n",
       "      <th>unique_id</th>\n",
       "    </tr>\n",
       "  </thead>\n",
       "  <tbody>\n",
       "    <tr>\n",
       "      <th>0</th>\n",
       "      <td>334</td>\n",
       "      <td>About Automotive Finco Corp. Automotive Finco ...</td>\n",
       "      <td>0</td>\n",
       "      <td>f6f9b2cd-c18a-41ae-afdf-1a38276e7c76</td>\n",
       "    </tr>\n",
       "    <tr>\n",
       "      <th>1</th>\n",
       "      <td>130</td>\n",
       "      <td>Titan has acquired all of Core Gold's secured ...</td>\n",
       "      <td>1</td>\n",
       "      <td>5c168ebc-1302-44e1-97cb-21a59d505f58</td>\n",
       "    </tr>\n",
       "    <tr>\n",
       "      <th>2</th>\n",
       "      <td>220</td>\n",
       "      <td>Current drill spacing is shown three dimension...</td>\n",
       "      <td>0</td>\n",
       "      <td>2413d551-6a1e-417c-a4f1-8691370ba2cf</td>\n",
       "    </tr>\n",
       "    <tr>\n",
       "      <th>3</th>\n",
       "      <td>426</td>\n",
       "      <td>The company's products and services include Pa...</td>\n",
       "      <td>0</td>\n",
       "      <td>7ec552d1-48c3-4a30-8172-1e77e141a2d0</td>\n",
       "    </tr>\n",
       "    <tr>\n",
       "      <th>4</th>\n",
       "      <td>334</td>\n",
       "      <td>There can be no assurance that such informatio...</td>\n",
       "      <td>0</td>\n",
       "      <td>fbc8ec3f-d91b-40ca-a9b6-c06b37c0c8d2</td>\n",
       "    </tr>\n",
       "  </tbody>\n",
       "</table>\n",
       "</div>"
      ],
      "text/plain": [
       "  Index                                               Text  Gold  \\\n",
       "0   334  About Automotive Finco Corp. Automotive Finco ...     0   \n",
       "1   130  Titan has acquired all of Core Gold's secured ...     1   \n",
       "2   220  Current drill spacing is shown three dimension...     0   \n",
       "3   426  The company's products and services include Pa...     0   \n",
       "4   334  There can be no assurance that such informatio...     0   \n",
       "\n",
       "                              unique_id  \n",
       "0  f6f9b2cd-c18a-41ae-afdf-1a38276e7c76  \n",
       "1  5c168ebc-1302-44e1-97cb-21a59d505f58  \n",
       "2  2413d551-6a1e-417c-a4f1-8691370ba2cf  \n",
       "3  7ec552d1-48c3-4a30-8172-1e77e141a2d0  \n",
       "4  fbc8ec3f-d91b-40ca-a9b6-c06b37c0c8d2  "
      ]
     },
     "execution_count": 9,
     "metadata": {},
     "output_type": "execute_result"
    }
   ],
   "source": [
    "merged_df.head()"
   ]
  },
  {
   "cell_type": "code",
   "execution_count": 10,
   "metadata": {},
   "outputs": [
    {
     "data": {
      "text/plain": [
       "0    0.888085\n",
       "1    0.111915\n",
       "Name: Gold, dtype: float64"
      ]
     },
     "execution_count": 10,
     "metadata": {},
     "output_type": "execute_result"
    }
   ],
   "source": [
    "merged_df.Gold.value_counts() / len(merged_df)"
   ]
  },
  {
   "cell_type": "code",
   "execution_count": 11,
   "metadata": {},
   "outputs": [],
   "source": [
    "merged_df.to_csv('/media/sarthak/HDD/data_science/fnp_resources/data/task1/all_combined/train_dev_test_causaly.csv', index=False)"
   ]
  }
 ],
 "metadata": {
  "kernelspec": {
   "display_name": "Python fnp",
   "language": "python",
   "name": "fnp"
  },
  "language_info": {
   "codemirror_mode": {
    "name": "ipython",
    "version": 3
   },
   "file_extension": ".py",
   "mimetype": "text/x-python",
   "name": "python",
   "nbconvert_exporter": "python",
   "pygments_lexer": "ipython3",
   "version": "3.6.7"
  }
 },
 "nbformat": 4,
 "nbformat_minor": 4
}
