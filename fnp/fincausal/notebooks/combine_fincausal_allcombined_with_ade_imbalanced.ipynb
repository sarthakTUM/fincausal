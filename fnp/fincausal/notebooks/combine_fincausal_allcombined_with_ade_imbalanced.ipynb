{
 "cells": [
  {
   "cell_type": "code",
   "execution_count": 1,
   "metadata": {},
   "outputs": [],
   "source": [
    "import pandas as pd\n",
    "from pathlib import Path\n",
    "import uuid"
   ]
  },
  {
   "cell_type": "code",
   "execution_count": 2,
   "metadata": {},
   "outputs": [],
   "source": [
    "fincausal_path = Path('/media/sarthak/HDD/data_science/fnp_resources/data/task1/train_on_trial_and_test_on_practice/train.csv')\n",
    "ade_path = Path('/media/sarthak/HDD/data_science/fnp_resources/data/extra/ade.csv')\n",
    "# causaly_path = Path('/media/sarthak/HDD/data_science/fnp_resources/data/extra/causaly.csv')\n",
    "# semeval_path = Path('/media/sarthak/HDD/data_science/fnp_resources/data/extra/semeval.csv')"
   ]
  },
  {
   "cell_type": "code",
   "execution_count": 3,
   "metadata": {},
   "outputs": [],
   "source": [
    "# causaly_df = pd.read_csv(causaly_path)\n",
    "ade_df = pd.read_csv(ade_path)\n",
    "fincausal_df = pd.read_csv(fincausal_path)\n",
    "# semeval_df = pd.read_csv(semeval_path)"
   ]
  },
  {
   "cell_type": "code",
   "execution_count": 7,
   "metadata": {},
   "outputs": [
    {
     "data": {
      "text/html": [
       "<div>\n",
       "<style scoped>\n",
       "    .dataframe tbody tr th:only-of-type {\n",
       "        vertical-align: middle;\n",
       "    }\n",
       "\n",
       "    .dataframe tbody tr th {\n",
       "        vertical-align: top;\n",
       "    }\n",
       "\n",
       "    .dataframe thead th {\n",
       "        text-align: right;\n",
       "    }\n",
       "</style>\n",
       "<table border=\"1\" class=\"dataframe\">\n",
       "  <thead>\n",
       "    <tr style=\"text-align: right;\">\n",
       "      <th></th>\n",
       "      <th>Index</th>\n",
       "      <th>Text</th>\n",
       "      <th>Gold</th>\n",
       "      <th>unique_id</th>\n",
       "    </tr>\n",
       "  </thead>\n",
       "  <tbody>\n",
       "    <tr>\n",
       "      <th>0</th>\n",
       "      <td>None</td>\n",
       "      <td>At 1 year of age cardiovascular and renal func...</td>\n",
       "      <td>0</td>\n",
       "      <td>6d91fd98-8318-4c29-9fa6-043f31970929</td>\n",
       "    </tr>\n",
       "    <tr>\n",
       "      <th>1</th>\n",
       "      <td>None</td>\n",
       "      <td>Chlorambucil-induced chromosome damage to huma...</td>\n",
       "      <td>1</td>\n",
       "      <td>cd7917e9-b554-4feb-a34f-b059e814f6ba</td>\n",
       "    </tr>\n",
       "    <tr>\n",
       "      <th>2</th>\n",
       "      <td>None</td>\n",
       "      <td>Gingival hemorrhage, myelodysplastic syndromes...</td>\n",
       "      <td>0</td>\n",
       "      <td>ce94d224-e72b-46d6-a0f6-cd0170b97c6d</td>\n",
       "    </tr>\n",
       "    <tr>\n",
       "      <th>3</th>\n",
       "      <td>None</td>\n",
       "      <td>The development of safer and more effective me...</td>\n",
       "      <td>0</td>\n",
       "      <td>325be653-60e1-4e5f-9031-7c18ae763c1f</td>\n",
       "    </tr>\n",
       "    <tr>\n",
       "      <th>4</th>\n",
       "      <td>None</td>\n",
       "      <td>Molluscum contagiosum is a common viral skin i...</td>\n",
       "      <td>0</td>\n",
       "      <td>23ce9734-187e-43c8-b417-a6345cef6c3c</td>\n",
       "    </tr>\n",
       "  </tbody>\n",
       "</table>\n",
       "</div>"
      ],
      "text/plain": [
       "  Index                                               Text  Gold  \\\n",
       "0  None  At 1 year of age cardiovascular and renal func...     0   \n",
       "1  None  Chlorambucil-induced chromosome damage to huma...     1   \n",
       "2  None  Gingival hemorrhage, myelodysplastic syndromes...     0   \n",
       "3  None  The development of safer and more effective me...     0   \n",
       "4  None  Molluscum contagiosum is a common viral skin i...     0   \n",
       "\n",
       "                              unique_id  \n",
       "0  6d91fd98-8318-4c29-9fa6-043f31970929  \n",
       "1  cd7917e9-b554-4feb-a34f-b059e814f6ba  \n",
       "2  ce94d224-e72b-46d6-a0f6-cd0170b97c6d  \n",
       "3  325be653-60e1-4e5f-9031-7c18ae763c1f  \n",
       "4  23ce9734-187e-43c8-b417-a6345cef6c3c  "
      ]
     },
     "execution_count": 7,
     "metadata": {},
     "output_type": "execute_result"
    }
   ],
   "source": [
    "df = pd.DataFrame({\n",
    "    'Index': None,\n",
    "    'Text': ade_df.sentences,\n",
    "    'Gold': ade_df.causal,\n",
    "    'unique_id': [str(uuid.uuid4()) for _ in range(len(ade_df))]\n",
    "})\n",
    "df.head()"
   ]
  },
  {
   "cell_type": "code",
   "execution_count": 8,
   "metadata": {},
   "outputs": [
    {
     "data": {
      "text/html": [
       "<div>\n",
       "<style scoped>\n",
       "    .dataframe tbody tr th:only-of-type {\n",
       "        vertical-align: middle;\n",
       "    }\n",
       "\n",
       "    .dataframe tbody tr th {\n",
       "        vertical-align: top;\n",
       "    }\n",
       "\n",
       "    .dataframe thead th {\n",
       "        text-align: right;\n",
       "    }\n",
       "</style>\n",
       "<table border=\"1\" class=\"dataframe\">\n",
       "  <thead>\n",
       "    <tr style=\"text-align: right;\">\n",
       "      <th></th>\n",
       "      <th>Index</th>\n",
       "      <th>Text</th>\n",
       "      <th>Gold</th>\n",
       "      <th>unique_id</th>\n",
       "    </tr>\n",
       "  </thead>\n",
       "  <tbody>\n",
       "    <tr>\n",
       "      <th>0</th>\n",
       "      <td>None</td>\n",
       "      <td>At 1 year of age cardiovascular and renal func...</td>\n",
       "      <td>0</td>\n",
       "      <td>4eac61c4-a38b-4b4a-b502-20f7a29f2146</td>\n",
       "    </tr>\n",
       "    <tr>\n",
       "      <th>1</th>\n",
       "      <td>None</td>\n",
       "      <td>Chlorambucil-induced chromosome damage to huma...</td>\n",
       "      <td>1</td>\n",
       "      <td>1d19e270-2fb9-44cc-a39f-2f92a683dc01</td>\n",
       "    </tr>\n",
       "    <tr>\n",
       "      <th>2</th>\n",
       "      <td>None</td>\n",
       "      <td>Gingival hemorrhage, myelodysplastic syndromes...</td>\n",
       "      <td>0</td>\n",
       "      <td>9f3e10a7-d421-4608-8972-ed09f850cdaf</td>\n",
       "    </tr>\n",
       "    <tr>\n",
       "      <th>3</th>\n",
       "      <td>None</td>\n",
       "      <td>The development of safer and more effective me...</td>\n",
       "      <td>0</td>\n",
       "      <td>52130b0b-9270-4a18-a7a9-25b3d69d3b90</td>\n",
       "    </tr>\n",
       "    <tr>\n",
       "      <th>4</th>\n",
       "      <td>None</td>\n",
       "      <td>Molluscum contagiosum is a common viral skin i...</td>\n",
       "      <td>0</td>\n",
       "      <td>326fa899-090a-4dc5-a39d-4b4c0c5ab605</td>\n",
       "    </tr>\n",
       "  </tbody>\n",
       "</table>\n",
       "</div>"
      ],
      "text/plain": [
       "  Index                                               Text  Gold  \\\n",
       "0  None  At 1 year of age cardiovascular and renal func...     0   \n",
       "1  None  Chlorambucil-induced chromosome damage to huma...     1   \n",
       "2  None  Gingival hemorrhage, myelodysplastic syndromes...     0   \n",
       "3  None  The development of safer and more effective me...     0   \n",
       "4  None  Molluscum contagiosum is a common viral skin i...     0   \n",
       "\n",
       "                              unique_id  \n",
       "0  4eac61c4-a38b-4b4a-b502-20f7a29f2146  \n",
       "1  1d19e270-2fb9-44cc-a39f-2f92a683dc01  \n",
       "2  9f3e10a7-d421-4608-8972-ed09f850cdaf  \n",
       "3  52130b0b-9270-4a18-a7a9-25b3d69d3b90  \n",
       "4  326fa899-090a-4dc5-a39d-4b4c0c5ab605  "
      ]
     },
     "execution_count": 8,
     "metadata": {},
     "output_type": "execute_result"
    }
   ],
   "source": [
    "ade_df = pd.DataFrame({\n",
    "    'Index': None,\n",
    "    'Text': ade_df.sentences,\n",
    "    'Gold': ade_df.causal,\n",
    "    'unique_id': [str(uuid.uuid4()) for _ in range(len(ade_df))]\n",
    "})\n",
    "ade_df.head()"
   ]
  },
  {
   "cell_type": "code",
   "execution_count": 14,
   "metadata": {},
   "outputs": [
    {
     "data": {
      "text/html": [
       "<div>\n",
       "<style scoped>\n",
       "    .dataframe tbody tr th:only-of-type {\n",
       "        vertical-align: middle;\n",
       "    }\n",
       "\n",
       "    .dataframe tbody tr th {\n",
       "        vertical-align: top;\n",
       "    }\n",
       "\n",
       "    .dataframe thead th {\n",
       "        text-align: right;\n",
       "    }\n",
       "</style>\n",
       "<table border=\"1\" class=\"dataframe\">\n",
       "  <thead>\n",
       "    <tr style=\"text-align: right;\">\n",
       "      <th></th>\n",
       "      <th>Index</th>\n",
       "      <th>Text</th>\n",
       "      <th>Gold</th>\n",
       "      <th>unique_id</th>\n",
       "    </tr>\n",
       "  </thead>\n",
       "  <tbody>\n",
       "    <tr>\n",
       "      <th>0</th>\n",
       "      <td>None</td>\n",
       "      <td>The system as described above has its greatest...</td>\n",
       "      <td>0</td>\n",
       "      <td>fc20b388-0775-42e7-bbf4-de79869dd442</td>\n",
       "    </tr>\n",
       "    <tr>\n",
       "      <th>1</th>\n",
       "      <td>None</td>\n",
       "      <td>The child was carefully wrapped and bound into...</td>\n",
       "      <td>0</td>\n",
       "      <td>133753ab-4fe7-45b8-884d-05d5715908d7</td>\n",
       "    </tr>\n",
       "    <tr>\n",
       "      <th>2</th>\n",
       "      <td>None</td>\n",
       "      <td>The author of a keygen uses a disassembler to ...</td>\n",
       "      <td>0</td>\n",
       "      <td>1715c840-4439-4c1b-9a59-d8a4efa9b90f</td>\n",
       "    </tr>\n",
       "    <tr>\n",
       "      <th>3</th>\n",
       "      <td>None</td>\n",
       "      <td>A misty ridge uprises from the surge.</td>\n",
       "      <td>0</td>\n",
       "      <td>4f64626f-2e64-41fd-90bf-3dcf557efbb0</td>\n",
       "    </tr>\n",
       "    <tr>\n",
       "      <th>4</th>\n",
       "      <td>None</td>\n",
       "      <td>The student association is the voice of the un...</td>\n",
       "      <td>0</td>\n",
       "      <td>b9055904-cc61-4f56-a35f-7ee5ecbcff45</td>\n",
       "    </tr>\n",
       "  </tbody>\n",
       "</table>\n",
       "</div>"
      ],
      "text/plain": [
       "  Index                                               Text  Gold  \\\n",
       "0  None  The system as described above has its greatest...     0   \n",
       "1  None  The child was carefully wrapped and bound into...     0   \n",
       "2  None  The author of a keygen uses a disassembler to ...     0   \n",
       "3  None              A misty ridge uprises from the surge.     0   \n",
       "4  None  The student association is the voice of the un...     0   \n",
       "\n",
       "                              unique_id  \n",
       "0  fc20b388-0775-42e7-bbf4-de79869dd442  \n",
       "1  133753ab-4fe7-45b8-884d-05d5715908d7  \n",
       "2  1715c840-4439-4c1b-9a59-d8a4efa9b90f  \n",
       "3  4f64626f-2e64-41fd-90bf-3dcf557efbb0  \n",
       "4  b9055904-cc61-4f56-a35f-7ee5ecbcff45  "
      ]
     },
     "execution_count": 14,
     "metadata": {},
     "output_type": "execute_result"
    }
   ],
   "source": [
    "semeval_df = pd.DataFrame({\n",
    "    'Index': None,\n",
    "    'Text': semeval_df.sentence,\n",
    "    'Gold': semeval_df.causal,\n",
    "    'unique_id': [str(uuid.uuid4()) for _ in range(len(semeval_df))]\n",
    "})\n",
    "semeval_df.head()"
   ]
  },
  {
   "cell_type": "code",
   "execution_count": 9,
   "metadata": {},
   "outputs": [
    {
     "data": {
      "text/plain": [
       "(27798, 4)"
      ]
     },
     "execution_count": 9,
     "metadata": {},
     "output_type": "execute_result"
    }
   ],
   "source": [
    "merged_df = pd.concat([fincausal_df, ade_df])\n",
    "merged_df.shape"
   ]
  },
  {
   "cell_type": "code",
   "execution_count": 10,
   "metadata": {},
   "outputs": [
    {
     "data": {
      "text/html": [
       "<div>\n",
       "<style scoped>\n",
       "    .dataframe tbody tr th:only-of-type {\n",
       "        vertical-align: middle;\n",
       "    }\n",
       "\n",
       "    .dataframe tbody tr th {\n",
       "        vertical-align: top;\n",
       "    }\n",
       "\n",
       "    .dataframe thead th {\n",
       "        text-align: right;\n",
       "    }\n",
       "</style>\n",
       "<table border=\"1\" class=\"dataframe\">\n",
       "  <thead>\n",
       "    <tr style=\"text-align: right;\">\n",
       "      <th></th>\n",
       "      <th>Index</th>\n",
       "      <th>Text</th>\n",
       "      <th>Gold</th>\n",
       "      <th>unique_id</th>\n",
       "    </tr>\n",
       "  </thead>\n",
       "  <tbody>\n",
       "    <tr>\n",
       "      <th>0</th>\n",
       "      <td>115</td>\n",
       "      <td>Seeking Alpha  ETF Analysis  |  About: Global...</td>\n",
       "      <td>0</td>\n",
       "      <td>59aabda8-b867-43eb-bb6d-c9ba59fb8025</td>\n",
       "    </tr>\n",
       "    <tr>\n",
       "      <th>1</th>\n",
       "      <td>330</td>\n",
       "      <td>Options for clients concerned about how IHT l...</td>\n",
       "      <td>0</td>\n",
       "      <td>90866e7b-1440-4d65-a333-17389c1a3705</td>\n",
       "    </tr>\n",
       "    <tr>\n",
       "      <th>2</th>\n",
       "      <td>315</td>\n",
       "      <td>Cackley said that figure indicates loan servi...</td>\n",
       "      <td>0</td>\n",
       "      <td>dbbd03a4-2b62-4f99-bc0b-597a64f2ce60</td>\n",
       "    </tr>\n",
       "    <tr>\n",
       "      <th>3</th>\n",
       "      <td>184</td>\n",
       "      <td>A taxpayer has normally been required to file...</td>\n",
       "      <td>0</td>\n",
       "      <td>72440cd6-7729-4337-b476-3d0b29eec078</td>\n",
       "    </tr>\n",
       "    <tr>\n",
       "      <th>4</th>\n",
       "      <td>241</td>\n",
       "      <td>I was excited to listen…and thanks to Paula f...</td>\n",
       "      <td>0</td>\n",
       "      <td>ed17a935-0095-4b3b-99f6-9798c32d5b68</td>\n",
       "    </tr>\n",
       "  </tbody>\n",
       "</table>\n",
       "</div>"
      ],
      "text/plain": [
       "  Index                                               Text  Gold  \\\n",
       "0   115   Seeking Alpha  ETF Analysis  |  About: Global...     0   \n",
       "1   330   Options for clients concerned about how IHT l...     0   \n",
       "2   315   Cackley said that figure indicates loan servi...     0   \n",
       "3   184   A taxpayer has normally been required to file...     0   \n",
       "4   241   I was excited to listen…and thanks to Paula f...     0   \n",
       "\n",
       "                              unique_id  \n",
       "0  59aabda8-b867-43eb-bb6d-c9ba59fb8025  \n",
       "1  90866e7b-1440-4d65-a333-17389c1a3705  \n",
       "2  dbbd03a4-2b62-4f99-bc0b-597a64f2ce60  \n",
       "3  72440cd6-7729-4337-b476-3d0b29eec078  \n",
       "4  ed17a935-0095-4b3b-99f6-9798c32d5b68  "
      ]
     },
     "execution_count": 10,
     "metadata": {},
     "output_type": "execute_result"
    }
   ],
   "source": [
    "merged_df.head()"
   ]
  },
  {
   "cell_type": "code",
   "execution_count": 11,
   "metadata": {},
   "outputs": [
    {
     "data": {
      "text/plain": [
       "0    0.82988\n",
       "1    0.17012\n",
       "Name: Gold, dtype: float64"
      ]
     },
     "execution_count": 11,
     "metadata": {},
     "output_type": "execute_result"
    }
   ],
   "source": [
    "merged_df.Gold.value_counts() / len(merged_df)"
   ]
  },
  {
   "cell_type": "code",
   "execution_count": 12,
   "metadata": {},
   "outputs": [],
   "source": [
    "merged_df = merged_df.sample(frac=1)"
   ]
  },
  {
   "cell_type": "code",
   "execution_count": 13,
   "metadata": {},
   "outputs": [
    {
     "data": {
      "text/html": [
       "<div>\n",
       "<style scoped>\n",
       "    .dataframe tbody tr th:only-of-type {\n",
       "        vertical-align: middle;\n",
       "    }\n",
       "\n",
       "    .dataframe tbody tr th {\n",
       "        vertical-align: top;\n",
       "    }\n",
       "\n",
       "    .dataframe thead th {\n",
       "        text-align: right;\n",
       "    }\n",
       "</style>\n",
       "<table border=\"1\" class=\"dataframe\">\n",
       "  <thead>\n",
       "    <tr style=\"text-align: right;\">\n",
       "      <th></th>\n",
       "      <th>Index</th>\n",
       "      <th>Text</th>\n",
       "      <th>Gold</th>\n",
       "      <th>unique_id</th>\n",
       "    </tr>\n",
       "  </thead>\n",
       "  <tbody>\n",
       "    <tr>\n",
       "      <th>6726</th>\n",
       "      <td>None</td>\n",
       "      <td>The effect of regional perfusion treatment on ...</td>\n",
       "      <td>0</td>\n",
       "      <td>4075c8b9-c68e-4331-b085-85a59a52853e</td>\n",
       "    </tr>\n",
       "    <tr>\n",
       "      <th>2435</th>\n",
       "      <td>None</td>\n",
       "      <td>All evidence suggests this was an idiosyncrati...</td>\n",
       "      <td>0</td>\n",
       "      <td>d61499d5-872b-4e32-ae30-a01ba67c4770</td>\n",
       "    </tr>\n",
       "    <tr>\n",
       "      <th>18535</th>\n",
       "      <td>None</td>\n",
       "      <td>Mild adverse cardiac and central nervous syste...</td>\n",
       "      <td>0</td>\n",
       "      <td>31be2269-8a7b-4978-a966-b47d584287a1</td>\n",
       "    </tr>\n",
       "    <tr>\n",
       "      <th>12437</th>\n",
       "      <td>None</td>\n",
       "      <td>Reexposure to the drug was reported in three p...</td>\n",
       "      <td>0</td>\n",
       "      <td>1f7f5df6-3bd5-456b-902e-7508017e0d74</td>\n",
       "    </tr>\n",
       "    <tr>\n",
       "      <th>11132</th>\n",
       "      <td>None</td>\n",
       "      <td>The patient was successfully treated by single...</td>\n",
       "      <td>0</td>\n",
       "      <td>26da6a7a-4948-41d2-981f-6ebba619b5fd</td>\n",
       "    </tr>\n",
       "  </tbody>\n",
       "</table>\n",
       "</div>"
      ],
      "text/plain": [
       "      Index                                               Text  Gold  \\\n",
       "6726   None  The effect of regional perfusion treatment on ...     0   \n",
       "2435   None  All evidence suggests this was an idiosyncrati...     0   \n",
       "18535  None  Mild adverse cardiac and central nervous syste...     0   \n",
       "12437  None  Reexposure to the drug was reported in three p...     0   \n",
       "11132  None  The patient was successfully treated by single...     0   \n",
       "\n",
       "                                  unique_id  \n",
       "6726   4075c8b9-c68e-4331-b085-85a59a52853e  \n",
       "2435   d61499d5-872b-4e32-ae30-a01ba67c4770  \n",
       "18535  31be2269-8a7b-4978-a966-b47d584287a1  \n",
       "12437  1f7f5df6-3bd5-456b-902e-7508017e0d74  \n",
       "11132  26da6a7a-4948-41d2-981f-6ebba619b5fd  "
      ]
     },
     "execution_count": 13,
     "metadata": {},
     "output_type": "execute_result"
    }
   ],
   "source": [
    "merged_df.head()"
   ]
  },
  {
   "cell_type": "code",
   "execution_count": 14,
   "metadata": {},
   "outputs": [],
   "source": [
    "merged_df.to_csv('/media/sarthak/HDD/data_science/fnp_resources/data/task1/all_combined/train_with_ade_all.csv', index=False)"
   ]
  },
  {
   "cell_type": "code",
   "execution_count": null,
   "metadata": {},
   "outputs": [],
   "source": []
  }
 ],
 "metadata": {
  "kernelspec": {
   "display_name": "Python fnp",
   "language": "python",
   "name": "fnp"
  },
  "language_info": {
   "codemirror_mode": {
    "name": "ipython",
    "version": 3
   },
   "file_extension": ".py",
   "mimetype": "text/x-python",
   "name": "python",
   "nbconvert_exporter": "python",
   "pygments_lexer": "ipython3",
   "version": "3.6.7"
  }
 },
 "nbformat": 4,
 "nbformat_minor": 4
}
