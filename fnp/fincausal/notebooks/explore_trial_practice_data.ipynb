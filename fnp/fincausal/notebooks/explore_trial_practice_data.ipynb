{
 "cells": [
  {
   "cell_type": "code",
   "execution_count": 1,
   "metadata": {},
   "outputs": [],
   "source": [
    "import pandas as pd\n",
    "from pathlib import Path\n",
    "import numpy as np\n",
    "import uuid\n",
    "import os"
   ]
  },
  {
   "cell_type": "code",
   "execution_count": 2,
   "metadata": {},
   "outputs": [],
   "source": [
    "fincausal_task1_trial_path = Path('/media/sarthak/HDD/data_science/fnp_resources/data/TRIAL/fnp2020-fincausal-task1.csv')\n",
    "fincausal_task1_practice_path = Path('/media/sarthak/HDD/data_science/fnp_resources/data/PRACTICE/fnp2020-fincausal2-task1.csv')"
   ]
  },
  {
   "cell_type": "code",
   "execution_count": 3,
   "metadata": {},
   "outputs": [],
   "source": [
    "fincausal_task1_trial = pd.read_csv(fincausal_task1_trial_path, sep=';')\n",
    "fincausal_task1_practice = pd.read_csv(fincausal_task1_practice_path, sep=';')"
   ]
  },
  {
   "cell_type": "code",
   "execution_count": 4,
   "metadata": {},
   "outputs": [],
   "source": [
    "fincausal_task1_trial.columns = [col.strip() for col in fincausal_task1_trial.columns]\n",
    "fincausal_task1_practice.columns = [col.strip() for col in fincausal_task1_practice.columns]"
   ]
  },
  {
   "cell_type": "code",
   "execution_count": 5,
   "metadata": {},
   "outputs": [
    {
     "data": {
      "text/html": [
       "<div>\n",
       "<style scoped>\n",
       "    .dataframe tbody tr th:only-of-type {\n",
       "        vertical-align: middle;\n",
       "    }\n",
       "\n",
       "    .dataframe tbody tr th {\n",
       "        vertical-align: top;\n",
       "    }\n",
       "\n",
       "    .dataframe thead th {\n",
       "        text-align: right;\n",
       "    }\n",
       "</style>\n",
       "<table border=\"1\" class=\"dataframe\">\n",
       "  <thead>\n",
       "    <tr style=\"text-align: right;\">\n",
       "      <th></th>\n",
       "      <th>Index</th>\n",
       "      <th>Text</th>\n",
       "      <th>Gold</th>\n",
       "    </tr>\n",
       "  </thead>\n",
       "  <tbody>\n",
       "    <tr>\n",
       "      <th>0</th>\n",
       "      <td>1.00001</td>\n",
       "      <td>Third Democratic presidential debate  Septemb...</td>\n",
       "      <td>0</td>\n",
       "    </tr>\n",
       "    <tr>\n",
       "      <th>1</th>\n",
       "      <td>1.00002</td>\n",
       "      <td>On the policy front, Bernie Sanders claimed h...</td>\n",
       "      <td>0</td>\n",
       "    </tr>\n",
       "    <tr>\n",
       "      <th>2</th>\n",
       "      <td>1.00003</td>\n",
       "      <td>Joe Biden misrepresented recent history when ...</td>\n",
       "      <td>0</td>\n",
       "    </tr>\n",
       "    <tr>\n",
       "      <th>3</th>\n",
       "      <td>1.00004</td>\n",
       "      <td>Here's a look at some of the assertions in th...</td>\n",
       "      <td>0</td>\n",
       "    </tr>\n",
       "    <tr>\n",
       "      <th>4</th>\n",
       "      <td>1.00005</td>\n",
       "      <td>It killed 22 people, and injured many more, w...</td>\n",
       "      <td>0</td>\n",
       "    </tr>\n",
       "  </tbody>\n",
       "</table>\n",
       "</div>"
      ],
      "text/plain": [
       "     Index                                               Text  Gold\n",
       "0  1.00001   Third Democratic presidential debate  Septemb...     0\n",
       "1  1.00002   On the policy front, Bernie Sanders claimed h...     0\n",
       "2  1.00003   Joe Biden misrepresented recent history when ...     0\n",
       "3  1.00004   Here's a look at some of the assertions in th...     0\n",
       "4  1.00005   It killed 22 people, and injured many more, w...     0"
      ]
     },
     "execution_count": 5,
     "metadata": {},
     "output_type": "execute_result"
    }
   ],
   "source": [
    "fincausal_task1_trial.head()"
   ]
  },
  {
   "cell_type": "code",
   "execution_count": 6,
   "metadata": {},
   "outputs": [
    {
     "data": {
      "text/html": [
       "<div>\n",
       "<style scoped>\n",
       "    .dataframe tbody tr th:only-of-type {\n",
       "        vertical-align: middle;\n",
       "    }\n",
       "\n",
       "    .dataframe tbody tr th {\n",
       "        vertical-align: top;\n",
       "    }\n",
       "\n",
       "    .dataframe thead th {\n",
       "        text-align: right;\n",
       "    }\n",
       "</style>\n",
       "<table border=\"1\" class=\"dataframe\">\n",
       "  <thead>\n",
       "    <tr style=\"text-align: right;\">\n",
       "      <th></th>\n",
       "      <th>Index</th>\n",
       "      <th>Text</th>\n",
       "      <th>Gold</th>\n",
       "    </tr>\n",
       "  </thead>\n",
       "  <tbody>\n",
       "    <tr>\n",
       "      <th>0</th>\n",
       "      <td>1.00001</td>\n",
       "      <td>Florida raking in billions as Americans aband...</td>\n",
       "      <td>0</td>\n",
       "    </tr>\n",
       "    <tr>\n",
       "      <th>1</th>\n",
       "      <td>1.00002</td>\n",
       "      <td>Recently, changes to the U.S. tax code have e...</td>\n",
       "      <td>0</td>\n",
       "    </tr>\n",
       "    <tr>\n",
       "      <th>2</th>\n",
       "      <td>1.00003</td>\n",
       "      <td>MORE FROM FOXBUSINESS.COM... As it turns out,...</td>\n",
       "      <td>0</td>\n",
       "    </tr>\n",
       "    <tr>\n",
       "      <th>3</th>\n",
       "      <td>1.00004</td>\n",
       "      <td>According to a new study from LendingTree, wh...</td>\n",
       "      <td>0</td>\n",
       "    </tr>\n",
       "    <tr>\n",
       "      <th>4</th>\n",
       "      <td>1.00005</td>\n",
       "      <td>The Sunshine State drew in a net influx of ab...</td>\n",
       "      <td>1</td>\n",
       "    </tr>\n",
       "  </tbody>\n",
       "</table>\n",
       "</div>"
      ],
      "text/plain": [
       "     Index                                               Text  Gold\n",
       "0  1.00001   Florida raking in billions as Americans aband...     0\n",
       "1  1.00002   Recently, changes to the U.S. tax code have e...     0\n",
       "2  1.00003   MORE FROM FOXBUSINESS.COM... As it turns out,...     0\n",
       "3  1.00004   According to a new study from LendingTree, wh...     0\n",
       "4  1.00005   The Sunshine State drew in a net influx of ab...     1"
      ]
     },
     "execution_count": 6,
     "metadata": {},
     "output_type": "execute_result"
    }
   ],
   "source": [
    "fincausal_task1_practice.head()"
   ]
  },
  {
   "cell_type": "markdown",
   "metadata": {},
   "source": [
    "There were whitexpaces in column name when using sep=';', which is now removed. We must save them with whitespaces removed to avoid coding the logic in package code"
   ]
  },
  {
   "cell_type": "code",
   "execution_count": 7,
   "metadata": {},
   "outputs": [
    {
     "data": {
      "text/plain": [
       "Index    0\n",
       "Text     0\n",
       "Gold     0\n",
       "dtype: int64"
      ]
     },
     "execution_count": 7,
     "metadata": {},
     "output_type": "execute_result"
    }
   ],
   "source": [
    "# NAs practice\n",
    "fincausal_task1_practice.isna().sum()"
   ]
  },
  {
   "cell_type": "code",
   "execution_count": 8,
   "metadata": {},
   "outputs": [
    {
     "data": {
      "text/plain": [
       "Index    0\n",
       "Text     0\n",
       "Gold     0\n",
       "dtype: int64"
      ]
     },
     "execution_count": 8,
     "metadata": {},
     "output_type": "execute_result"
    }
   ],
   "source": [
    "# NAs trial\n",
    "fincausal_task1_trial.isna().sum()"
   ]
  },
  {
   "cell_type": "markdown",
   "metadata": {},
   "source": [
    "There are no NAs in the dataset"
   ]
  },
  {
   "cell_type": "code",
   "execution_count": 9,
   "metadata": {},
   "outputs": [
    {
     "name": "stdout",
     "output_type": "stream",
     "text": [
      "how many? 3\n",
      "label distribution for them: 0    3\n",
      "Name: Gold, dtype: int64\n"
     ]
    }
   ],
   "source": [
    "# empty sentences practice?\n",
    "empty_sections_practice = fincausal_task1_practice.loc[(fincausal_task1_practice.Text == \" \") | (fincausal_task1_practice.Text == \"\")]\n",
    "print('how many? {}'.format(len(empty_sections_practice)))\n",
    "print('label distribution for them: {}'.format(empty_sections_practice.Gold.value_counts()))"
   ]
  },
  {
   "cell_type": "code",
   "execution_count": 10,
   "metadata": {},
   "outputs": [
    {
     "name": "stdout",
     "output_type": "stream",
     "text": [
      "how many? 1\n",
      "label distribution for them: 0    1\n",
      "Name: Gold, dtype: int64\n"
     ]
    }
   ],
   "source": [
    "# empty sentences trial?\n",
    "empty_sections_trial = fincausal_task1_trial.loc[(fincausal_task1_trial.Text == \" \") | (fincausal_task1_trial.Text == \"\")]\n",
    "print('how many? {}'.format(len(empty_sections_trial)))\n",
    "print('label distribution for them: {}'.format(empty_sections_trial.Gold.value_counts()))"
   ]
  },
  {
   "cell_type": "markdown",
   "metadata": {},
   "source": [
    "There is 1 empty text in trial data and 3 in practice data. All of them have 0 labels. We keep them becaue they are probable instances during the inference time. However, we remove them from training the model as they can disturb the training process, instead just return 0 when they arrive during inference time"
   ]
  },
  {
   "cell_type": "code",
   "execution_count": 11,
   "metadata": {},
   "outputs": [
    {
     "name": "stdout",
     "output_type": "stream",
     "text": [
      "label distribution of trial: 0    8058\n",
      "1     570\n",
      "Name: Gold, dtype: int64\n",
      "label distribution of practice: 0    12520\n",
      "1     1027\n",
      "Name: Gold, dtype: int64\n"
     ]
    }
   ],
   "source": [
    "# label distributions in both the sets? - both have roughly same distribution\n",
    "fincausal_task1_trial_label_distribution = fincausal_task1_trial.Gold.value_counts()\n",
    "fincausal_task1_practice_label_distribution = fincausal_task1_practice.Gold.value_counts()\n",
    "\n",
    "print('label distribution of trial: {}'.format(fincausal_task1_trial_label_distribution))\n",
    "print('label distribution of practice: {}'.format(fincausal_task1_practice_label_distribution))"
   ]
  },
  {
   "cell_type": "markdown",
   "metadata": {},
   "source": [
    "Trial has 7.07% positives, and practice has 8.20% positives. We must use that for class weighting, as well as maintain the distribution while splitting"
   ]
  },
  {
   "cell_type": "code",
   "execution_count": 13,
   "metadata": {},
   "outputs": [
    {
     "data": {
      "text/plain": [
       "204"
      ]
     },
     "execution_count": 13,
     "metadata": {},
     "output_type": "execute_result"
    }
   ],
   "source": [
    "# do they have any EXACTLY same texts?\n",
    "len(list(set(fincausal_task1_trial.Text).intersection(set(fincausal_task1_practice.Text))))"
   ]
  },
  {
   "cell_type": "markdown",
   "metadata": {},
   "source": [
    "There are 204 exactly same texts between practice and trial, and we keep them"
   ]
  },
  {
   "cell_type": "code",
   "execution_count": 14,
   "metadata": {},
   "outputs": [
    {
     "data": {
      "text/html": [
       "<div>\n",
       "<style scoped>\n",
       "    .dataframe tbody tr th:only-of-type {\n",
       "        vertical-align: middle;\n",
       "    }\n",
       "\n",
       "    .dataframe tbody tr th {\n",
       "        vertical-align: top;\n",
       "    }\n",
       "\n",
       "    .dataframe thead th {\n",
       "        text-align: right;\n",
       "    }\n",
       "</style>\n",
       "<table border=\"1\" class=\"dataframe\">\n",
       "  <thead>\n",
       "    <tr style=\"text-align: right;\">\n",
       "      <th></th>\n",
       "      <th>Index_trial</th>\n",
       "      <th>Text</th>\n",
       "      <th>Gold_trial</th>\n",
       "      <th>Index_practice</th>\n",
       "      <th>Gold_practice</th>\n",
       "    </tr>\n",
       "  </thead>\n",
       "  <tbody>\n",
       "    <tr>\n",
       "      <th>0</th>\n",
       "      <td>1.00033</td>\n",
       "      <td>All rights reserved.</td>\n",
       "      <td>0</td>\n",
       "      <td>116.00027</td>\n",
       "      <td>0</td>\n",
       "    </tr>\n",
       "    <tr>\n",
       "      <th>1</th>\n",
       "      <td>351.00075</td>\n",
       "      <td>All rights reserved.</td>\n",
       "      <td>0</td>\n",
       "      <td>116.00027</td>\n",
       "      <td>0</td>\n",
       "    </tr>\n",
       "    <tr>\n",
       "      <th>2</th>\n",
       "      <td>2.00007</td>\n",
       "      <td>The current ratio, also known as the working ...</td>\n",
       "      <td>0</td>\n",
       "      <td>316.00076</td>\n",
       "      <td>0</td>\n",
       "    </tr>\n",
       "    <tr>\n",
       "      <th>3</th>\n",
       "      <td>2.00008</td>\n",
       "      <td>The ratio is simply calculated by dividing cu...</td>\n",
       "      <td>0</td>\n",
       "      <td>316.00077</td>\n",
       "      <td>0</td>\n",
       "    </tr>\n",
       "    <tr>\n",
       "      <th>4</th>\n",
       "      <td>2.00009</td>\n",
       "      <td>Typically, the higher the current ratio the b...</td>\n",
       "      <td>0</td>\n",
       "      <td>316.00078</td>\n",
       "      <td>0</td>\n",
       "    </tr>\n",
       "  </tbody>\n",
       "</table>\n",
       "</div>"
      ],
      "text/plain": [
       "   Index_trial                                               Text  Gold_trial  \\\n",
       "0      1.00033                               All rights reserved.           0   \n",
       "1    351.00075                               All rights reserved.           0   \n",
       "2      2.00007   The current ratio, also known as the working ...           0   \n",
       "3      2.00008   The ratio is simply calculated by dividing cu...           0   \n",
       "4      2.00009   Typically, the higher the current ratio the b...           0   \n",
       "\n",
       "   Index_practice  Gold_practice  \n",
       "0       116.00027              0  \n",
       "1       116.00027              0  \n",
       "2       316.00076              0  \n",
       "3       316.00077              0  \n",
       "4       316.00078              0  "
      ]
     },
     "execution_count": 14,
     "metadata": {},
     "output_type": "execute_result"
    }
   ],
   "source": [
    "# are the labels for the equal texts same?\n",
    "merged_inner = pd.merge(left=fincausal_task1_trial, \n",
    "                        right=fincausal_task1_practice, \n",
    "                        left_on='Text', \n",
    "                        right_on='Text',\n",
    "                        suffixes=('_trial', '_practice'))\n",
    "merged_inner.head()"
   ]
  },
  {
   "cell_type": "code",
   "execution_count": 15,
   "metadata": {},
   "outputs": [
    {
     "data": {
      "text/plain": [
       "False"
      ]
     },
     "execution_count": 15,
     "metadata": {},
     "output_type": "execute_result"
    }
   ],
   "source": [
    "merged_inner.Gold_trial.equals(merged_inner.Gold_practice)"
   ]
  },
  {
   "cell_type": "code",
   "execution_count": 16,
   "metadata": {},
   "outputs": [
    {
     "data": {
      "text/html": [
       "<div>\n",
       "<style scoped>\n",
       "    .dataframe tbody tr th:only-of-type {\n",
       "        vertical-align: middle;\n",
       "    }\n",
       "\n",
       "    .dataframe tbody tr th {\n",
       "        vertical-align: top;\n",
       "    }\n",
       "\n",
       "    .dataframe thead th {\n",
       "        text-align: right;\n",
       "    }\n",
       "</style>\n",
       "<table border=\"1\" class=\"dataframe\">\n",
       "  <thead>\n",
       "    <tr style=\"text-align: right;\">\n",
       "      <th></th>\n",
       "      <th>Index_trial</th>\n",
       "      <th>Text</th>\n",
       "      <th>Gold_trial</th>\n",
       "      <th>Index_practice</th>\n",
       "      <th>Gold_practice</th>\n",
       "    </tr>\n",
       "  </thead>\n",
       "  <tbody>\n",
       "    <tr>\n",
       "      <th>329</th>\n",
       "      <td>318.00019</td>\n",
       "      <td>The earnings component of an annuity withdraw...</td>\n",
       "      <td>0</td>\n",
       "      <td>363.00019</td>\n",
       "      <td>1</td>\n",
       "    </tr>\n",
       "    <tr>\n",
       "      <th>340</th>\n",
       "      <td>320.00003</td>\n",
       "      <td>Richard Moriarty, chief executive of the UK C...</td>\n",
       "      <td>0</td>\n",
       "      <td>438.00006</td>\n",
       "      <td>1</td>\n",
       "    </tr>\n",
       "    <tr>\n",
       "      <th>344</th>\n",
       "      <td>325.00006</td>\n",
       "      <td>So if the Market Price RAD is $400,000 and yo...</td>\n",
       "      <td>0</td>\n",
       "      <td>353.00008</td>\n",
       "      <td>1</td>\n",
       "    </tr>\n",
       "    <tr>\n",
       "      <th>345</th>\n",
       "      <td>325.00007</td>\n",
       "      <td>If you pay the full RAD there is no interest ...</td>\n",
       "      <td>0</td>\n",
       "      <td>353.00009</td>\n",
       "      <td>1</td>\n",
       "    </tr>\n",
       "    <tr>\n",
       "      <th>347</th>\n",
       "      <td>325.00009</td>\n",
       "      <td>Under the new rate, the equivalent daily paym...</td>\n",
       "      <td>0</td>\n",
       "      <td>353.00011</td>\n",
       "      <td>1</td>\n",
       "    </tr>\n",
       "    <tr>\n",
       "      <th>349</th>\n",
       "      <td>325.00015</td>\n",
       "      <td>If she moved in today, the MPIR would give he...</td>\n",
       "      <td>0</td>\n",
       "      <td>353.00016</td>\n",
       "      <td>1</td>\n",
       "    </tr>\n",
       "    <tr>\n",
       "      <th>359</th>\n",
       "      <td>348.00004</td>\n",
       "      <td>As these reserves are made up of retained pro...</td>\n",
       "      <td>0</td>\n",
       "      <td>73.00004</td>\n",
       "      <td>1</td>\n",
       "    </tr>\n",
       "    <tr>\n",
       "      <th>360</th>\n",
       "      <td>348.00004</td>\n",
       "      <td>As these reserves are made up of retained pro...</td>\n",
       "      <td>0</td>\n",
       "      <td>531.00005</td>\n",
       "      <td>1</td>\n",
       "    </tr>\n",
       "  </tbody>\n",
       "</table>\n",
       "</div>"
      ],
      "text/plain": [
       "     Index_trial                                               Text  \\\n",
       "329    318.00019   The earnings component of an annuity withdraw...   \n",
       "340    320.00003   Richard Moriarty, chief executive of the UK C...   \n",
       "344    325.00006   So if the Market Price RAD is $400,000 and yo...   \n",
       "345    325.00007   If you pay the full RAD there is no interest ...   \n",
       "347    325.00009   Under the new rate, the equivalent daily paym...   \n",
       "349    325.00015   If she moved in today, the MPIR would give he...   \n",
       "359    348.00004   As these reserves are made up of retained pro...   \n",
       "360    348.00004   As these reserves are made up of retained pro...   \n",
       "\n",
       "     Gold_trial  Index_practice  Gold_practice  \n",
       "329           0       363.00019              1  \n",
       "340           0       438.00006              1  \n",
       "344           0       353.00008              1  \n",
       "345           0       353.00009              1  \n",
       "347           0       353.00011              1  \n",
       "349           0       353.00016              1  \n",
       "359           0        73.00004              1  \n",
       "360           0       531.00005              1  "
      ]
     },
     "execution_count": 16,
     "metadata": {},
     "output_type": "execute_result"
    }
   ],
   "source": [
    "# what rows are there which have different labels for same text?\n",
    "merged_inner.loc[merged_inner.Gold_trial != merged_inner.Gold_practice]"
   ]
  },
  {
   "cell_type": "markdown",
   "metadata": {},
   "source": [
    "Above are the 8 rows which have same texts but different golds, we must remove them."
   ]
  },
  {
   "cell_type": "code",
   "execution_count": 17,
   "metadata": {},
   "outputs": [],
   "source": [
    "# do trial and practice dfs have common indexes?\n",
    "common_indexes = list(set(fincausal_task1_practice.Index).intersection(fincausal_task1_trial.Index))"
   ]
  },
  {
   "cell_type": "code",
   "execution_count": 18,
   "metadata": {},
   "outputs": [
    {
     "data": {
      "text/plain": [
       "4693"
      ]
     },
     "execution_count": 18,
     "metadata": {},
     "output_type": "execute_result"
    }
   ],
   "source": [
    "len(common_indexes)"
   ]
  },
  {
   "cell_type": "code",
   "execution_count": 19,
   "metadata": {},
   "outputs": [
    {
     "data": {
      "text/plain": [
       "False"
      ]
     },
     "execution_count": 19,
     "metadata": {},
     "output_type": "execute_result"
    }
   ],
   "source": [
    "# is the text also equal?\n",
    "fincausal_task1_practice.loc[fincausal_task1_practice.Index.isin(common_indexes)].Text.equals(fincausal_task1_trial.loc[fincausal_task1_trial.Index.isin(common_indexes)])"
   ]
  },
  {
   "cell_type": "markdown",
   "metadata": {},
   "source": [
    "There are 4693 common index values between trial and practice, and might be a problem after concatenating to have unique values. Therefore, create your own unique ID after concatenating"
   ]
  },
  {
   "cell_type": "markdown",
   "metadata": {},
   "source": [
    "# Splitting"
   ]
  },
  {
   "cell_type": "code",
   "execution_count": 20,
   "metadata": {},
   "outputs": [],
   "source": [
    "# 1. remove the indexes with empty text\n",
    "fincausal_task1_trial_nonemptytext = fincausal_task1_trial.loc[~fincausal_task1_trial.Index.isin(empty_sections_trial)]\n",
    "fincausal_task1_practice_nonemptytext = fincausal_task1_practice.loc[~fincausal_task1_practice.Index.isin(empty_sections_practice)]\n",
    "\n",
    "# 2. remove the indexes from trial and practice (with conflicting labels) before combining\n",
    "fincausal_task1_trial_nonemptytext_noconflictgold = fincausal_task1_trial_nonemptytext.loc[~fincausal_task1_trial_nonemptytext.Index.isin(merged_inner.Index_trial)]\n",
    "fincausal_task1_practice_nonemptytext_noconflictgold = fincausal_task1_practice_nonemptytext.loc[~fincausal_task1_practice_nonemptytext.Index.isin(merged_inner.Index_practice)]\n",
    "\n",
    "# 3. trial and practice data can be combined\n",
    "fincausal_task1_combined_nonemptytext_noconflictgold = pd.concat([fincausal_task1_trial_nonemptytext_noconflictgold, fincausal_task1_practice_nonemptytext_noconflictgold])\n",
    "\n",
    "# 4. Create a unique ID column\n",
    "fincausal_task1_combined_nonemptytext_noconflictgold['unique_id'] = [str(uuid.uuid4()) for _ in range(len(fincausal_task1_combined_nonemptytext_noconflictgold))]"
   ]
  },
  {
   "cell_type": "code",
   "execution_count": 21,
   "metadata": {},
   "outputs": [],
   "source": [
    "# 5. shuffle the dataset\n",
    "fincausal_task1_combined_nonemptytext_noconflictgold = fincausal_task1_combined_nonemptytext_noconflictgold.sample(frac=1).reset_index(drop=True)"
   ]
  },
  {
   "cell_type": "code",
   "execution_count": 22,
   "metadata": {},
   "outputs": [
    {
     "data": {
      "text/html": [
       "<div>\n",
       "<style scoped>\n",
       "    .dataframe tbody tr th:only-of-type {\n",
       "        vertical-align: middle;\n",
       "    }\n",
       "\n",
       "    .dataframe tbody tr th {\n",
       "        vertical-align: top;\n",
       "    }\n",
       "\n",
       "    .dataframe thead th {\n",
       "        text-align: right;\n",
       "    }\n",
       "</style>\n",
       "<table border=\"1\" class=\"dataframe\">\n",
       "  <thead>\n",
       "    <tr style=\"text-align: right;\">\n",
       "      <th></th>\n",
       "      <th>Index</th>\n",
       "      <th>Text</th>\n",
       "      <th>Gold</th>\n",
       "      <th>unique_id</th>\n",
       "    </tr>\n",
       "  </thead>\n",
       "  <tbody>\n",
       "    <tr>\n",
       "      <th>0</th>\n",
       "      <td>476.00009</td>\n",
       "      <td>Valuation and Earnings  This table compares B...</td>\n",
       "      <td>0</td>\n",
       "      <td>5e626c67-0b64-40da-be24-00d77645531e</td>\n",
       "    </tr>\n",
       "    <tr>\n",
       "      <th>1</th>\n",
       "      <td>116.00016</td>\n",
       "      <td>To qualify for the 10% CGT rate under 'invest...</td>\n",
       "      <td>1</td>\n",
       "      <td>bd4a1b84-9d03-438e-a212-1ce409238173</td>\n",
       "    </tr>\n",
       "    <tr>\n",
       "      <th>2</th>\n",
       "      <td>289.00011</td>\n",
       "      <td>Regarding GST, he said that collection of the...</td>\n",
       "      <td>0</td>\n",
       "      <td>737475b8-acb1-4260-aa09-a81e0e165d1d</td>\n",
       "    </tr>\n",
       "    <tr>\n",
       "      <th>3</th>\n",
       "      <td>452.00033</td>\n",
       "      <td>San Francisco zoned the 12 properties for a m...</td>\n",
       "      <td>1</td>\n",
       "      <td>7e858720-423f-4196-b847-940d6a9f3e33</td>\n",
       "    </tr>\n",
       "    <tr>\n",
       "      <th>4</th>\n",
       "      <td>352.00018</td>\n",
       "      <td>I think that open line of communication kept ...</td>\n",
       "      <td>0</td>\n",
       "      <td>46d3776e-80b7-4141-929c-72226a913d2f</td>\n",
       "    </tr>\n",
       "  </tbody>\n",
       "</table>\n",
       "</div>"
      ],
      "text/plain": [
       "       Index                                               Text  Gold  \\\n",
       "0  476.00009   Valuation and Earnings  This table compares B...     0   \n",
       "1  116.00016   To qualify for the 10% CGT rate under 'invest...     1   \n",
       "2  289.00011   Regarding GST, he said that collection of the...     0   \n",
       "3  452.00033   San Francisco zoned the 12 properties for a m...     1   \n",
       "4  352.00018   I think that open line of communication kept ...     0   \n",
       "\n",
       "                              unique_id  \n",
       "0  5e626c67-0b64-40da-be24-00d77645531e  \n",
       "1  bd4a1b84-9d03-438e-a212-1ce409238173  \n",
       "2  737475b8-acb1-4260-aa09-a81e0e165d1d  \n",
       "3  7e858720-423f-4196-b847-940d6a9f3e33  \n",
       "4  46d3776e-80b7-4141-929c-72226a913d2f  "
      ]
     },
     "execution_count": 22,
     "metadata": {},
     "output_type": "execute_result"
    }
   ],
   "source": [
    "fincausal_task1_combined_nonemptytext_noconflictgold.head()"
   ]
  },
  {
   "cell_type": "code",
   "execution_count": 84,
   "metadata": {},
   "outputs": [
    {
     "data": {
      "text/plain": [
       "(21633, 4)"
      ]
     },
     "execution_count": 84,
     "metadata": {},
     "output_type": "execute_result"
    }
   ],
   "source": [
    "fincausal_task1_combined_nonemptytext_noconflictgold.shape"
   ]
  },
  {
   "cell_type": "code",
   "execution_count": 23,
   "metadata": {},
   "outputs": [
    {
     "data": {
      "text/plain": [
       "0    0.927888\n",
       "1    0.072112\n",
       "Name: Gold, dtype: float64"
      ]
     },
     "execution_count": 23,
     "metadata": {},
     "output_type": "execute_result"
    }
   ],
   "source": [
    "fincausal_task1_combined_nonemptytext_noconflictgold.Gold.value_counts() / len(fincausal_task1_combined_nonemptytext_noconflictgold)"
   ]
  },
  {
   "cell_type": "code",
   "execution_count": 96,
   "metadata": {},
   "outputs": [],
   "source": [
    "# 6. divide the data into k-folds with each fold having representative distribution\n",
    "from sklearn.model_selection import StratifiedKFold, train_test_split"
   ]
  },
  {
   "cell_type": "code",
   "execution_count": 93,
   "metadata": {},
   "outputs": [],
   "source": [
    "skf = StratifiedKFold(n_splits=5)"
   ]
  },
  {
   "cell_type": "code",
   "execution_count": 94,
   "metadata": {},
   "outputs": [],
   "source": [
    "train_dfs = []\n",
    "test_dfs = []\n",
    "\n",
    "X = fincausal_task1_combined_nonemptytext_noconflictgold\n",
    "y = fincausal_task1_combined_nonemptytext_noconflictgold.Gold\n",
    "\n",
    "for train_index, test_index in skf.split(X, y):\n",
    "    train = fincausal_task1_combined_nonemptytext_noconflictgold.iloc[train_index]\n",
    "    test = fincausal_task1_combined_nonemptytext_noconflictgold.iloc[test_index]\n",
    "    \n",
    "    train_dfs.append(train)\n",
    "    test_dfs.append(test)"
   ]
  },
  {
   "cell_type": "code",
   "execution_count": 103,
   "metadata": {},
   "outputs": [],
   "source": [
    "# 7. for each train_df, create a val_df, and save train, val and test dfs as csv\n",
    "data_root_dir = Path('/media/sarthak/HDD/data_science/fnp_resources/data/task1')\n",
    "for i, (train_df, test_df) in enumerate(zip(train_dfs, test_dfs)):\n",
    "    train_df, val_df = train_test_split(train_df, \n",
    "                                        test_size=0.1, \n",
    "                                        stratify=train_df.Gold,\n",
    "                                        random_state=42)\n",
    "    iteration_dir = data_root_dir / str('iteration_{}').format(i+1)\n",
    "    if not os.path.exists(iteration_dir):\n",
    "        os.mkdir(iteration_dir)\n",
    "        train_df.to_csv(Path(iteration_dir / 'train.csv'), index=False)\n",
    "        val_df.to_csv(Path(iteration_dir / 'val.csv'), index=False)\n",
    "        test_df.to_csv(Path(iteration_dir / 'test.csv'), index=False)\n",
    "    else:\n",
    "        raise Exception('Iteration dir already exists. Delete the directory first.')"
   ]
  }
 ],
 "metadata": {
  "kernelspec": {
   "display_name": "Python fnp",
   "language": "python",
   "name": "fnp"
  },
  "language_info": {
   "codemirror_mode": {
    "name": "ipython",
    "version": 3
   },
   "file_extension": ".py",
   "mimetype": "text/x-python",
   "name": "python",
   "nbconvert_exporter": "python",
   "pygments_lexer": "ipython3",
   "version": "3.6.7"
  }
 },
 "nbformat": 4,
 "nbformat_minor": 4
}
