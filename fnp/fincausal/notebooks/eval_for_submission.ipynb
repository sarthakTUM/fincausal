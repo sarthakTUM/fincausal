{
 "cells": [
  {
   "cell_type": "code",
   "execution_count": 1,
   "metadata": {},
   "outputs": [],
   "source": [
    "import pandas as pd\n",
    "from pathlib import Path\n",
    "import numpy as np\n",
    "import uuid\n",
    "import os"
   ]
  },
  {
   "cell_type": "code",
   "execution_count": 2,
   "metadata": {},
   "outputs": [],
   "source": [
    "fincausal_task1_eval_path = Path('/media/sarthak/HDD/data_science/fnp_resources/data/task1/v2/eval.csv')"
   ]
  },
  {
   "cell_type": "code",
   "execution_count": 4,
   "metadata": {},
   "outputs": [
    {
     "name": "stderr",
     "output_type": "stream",
     "text": [
      "/media/sarthak/HDD/Anaconda/envs/fnp/lib/python3.6/site-packages/ipykernel_launcher.py:1: ParserWarning: Falling back to the 'python' engine because the 'c' engine does not support regex separators (separators > 1 char and different from '\\s+' are interpreted as regex); you can avoid this warning by specifying engine='python'.\n",
      "  \"\"\"Entry point for launching an IPython kernel.\n"
     ]
    }
   ],
   "source": [
    "fincausal_task1_eval = pd.read_csv(fincausal_task1_eval_path, sep='; ')"
   ]
  },
  {
   "cell_type": "code",
   "execution_count": 5,
   "metadata": {},
   "outputs": [
    {
     "data": {
      "text/html": [
       "<div>\n",
       "<style scoped>\n",
       "    .dataframe tbody tr th:only-of-type {\n",
       "        vertical-align: middle;\n",
       "    }\n",
       "\n",
       "    .dataframe tbody tr th {\n",
       "        vertical-align: top;\n",
       "    }\n",
       "\n",
       "    .dataframe thead th {\n",
       "        text-align: right;\n",
       "    }\n",
       "</style>\n",
       "<table border=\"1\" class=\"dataframe\">\n",
       "  <thead>\n",
       "    <tr style=\"text-align: right;\">\n",
       "      <th></th>\n",
       "      <th>Index</th>\n",
       "      <th>Text</th>\n",
       "    </tr>\n",
       "  </thead>\n",
       "  <tbody>\n",
       "    <tr>\n",
       "      <th>0</th>\n",
       "      <td>1.00001</td>\n",
       "      <td>Earn $25 per hour as an independent contractor!</td>\n",
       "    </tr>\n",
       "    <tr>\n",
       "      <th>1</th>\n",
       "      <td>1.00002</td>\n",
       "      <td>Write and update curriculum for The Income Tax...</td>\n",
       "    </tr>\n",
       "    <tr>\n",
       "      <th>2</th>\n",
       "      <td>1.00003</td>\n",
       "      <td>Function:  Write, update and enhance ITS curri...</td>\n",
       "    </tr>\n",
       "    <tr>\n",
       "      <th>3</th>\n",
       "      <td>2.00001</td>\n",
       "      <td>September 13, 2019 Congress Speaker's Office D...</td>\n",
       "    </tr>\n",
       "    <tr>\n",
       "      <th>4</th>\n",
       "      <td>2.00002</td>\n",
       "      <td>While the Speaker's office disclaimed the leak...</td>\n",
       "    </tr>\n",
       "  </tbody>\n",
       "</table>\n",
       "</div>"
      ],
      "text/plain": [
       "     Index                                               Text\n",
       "0  1.00001    Earn $25 per hour as an independent contractor!\n",
       "1  1.00002  Write and update curriculum for The Income Tax...\n",
       "2  1.00003  Function:  Write, update and enhance ITS curri...\n",
       "3  2.00001  September 13, 2019 Congress Speaker's Office D...\n",
       "4  2.00002  While the Speaker's office disclaimed the leak..."
      ]
     },
     "execution_count": 5,
     "metadata": {},
     "output_type": "execute_result"
    }
   ],
   "source": [
    "fincausal_task1_eval.head()"
   ]
  },
  {
   "cell_type": "code",
   "execution_count": 6,
   "metadata": {},
   "outputs": [
    {
     "name": "stdout",
     "output_type": "stream",
     "text": [
      "(7386, 2)\n"
     ]
    }
   ],
   "source": [
    "print(fincausal_task1_eval.shape)"
   ]
  },
  {
   "cell_type": "markdown",
   "metadata": {},
   "source": [
    "There were whitexpaces in column name when using sep=';', which is now removed. We must save them with whitespaces removed to avoid coding the logic in package code"
   ]
  },
  {
   "cell_type": "code",
   "execution_count": 7,
   "metadata": {},
   "outputs": [
    {
     "data": {
      "text/plain": [
       "Index    0\n",
       "Text     0\n",
       "dtype: int64"
      ]
     },
     "execution_count": 7,
     "metadata": {},
     "output_type": "execute_result"
    }
   ],
   "source": [
    "# NAs eval\n",
    "fincausal_task1_eval.isna().sum()"
   ]
  },
  {
   "cell_type": "markdown",
   "metadata": {},
   "source": [
    "There are some NAs in the dataset"
   ]
  },
  {
   "cell_type": "code",
   "execution_count": 8,
   "metadata": {},
   "outputs": [
    {
     "name": "stdout",
     "output_type": "stream",
     "text": [
      "how many? 0\n"
     ]
    }
   ],
   "source": [
    "# empty sentences eval?\n",
    "empty_sections = fincausal_task1_eval.loc[(fincausal_task1_eval.Text == \" \") | (fincausal_task1_eval.Text == \"\")]\n",
    "print('how many? {}'.format(len(empty_sections)))"
   ]
  },
  {
   "cell_type": "markdown",
   "metadata": {},
   "source": [
    "There is 1 empty text in trial data and 3 in practice data. All of them have 0 labels. We keep them becaue they are probable instances during the inference time. However, we remove them from training the model as they can disturb the training process, instead just return 0 when they arrive during inference time\n",
    "\n",
    "UPDATE: There are no empty text sections"
   ]
  },
  {
   "cell_type": "code",
   "execution_count": 9,
   "metadata": {},
   "outputs": [],
   "source": [
    "fincausal_task1_eval['unique_id'] = [str(uuid.uuid4()) for _ in range(len(fincausal_task1_eval))]"
   ]
  },
  {
   "cell_type": "code",
   "execution_count": 11,
   "metadata": {},
   "outputs": [
    {
     "data": {
      "text/plain": [
       "(7386, 3)"
      ]
     },
     "execution_count": 11,
     "metadata": {},
     "output_type": "execute_result"
    }
   ],
   "source": [
    "fincausal_task1_eval.shape"
   ]
  },
  {
   "cell_type": "code",
   "execution_count": 12,
   "metadata": {},
   "outputs": [
    {
     "data": {
      "text/html": [
       "<div>\n",
       "<style scoped>\n",
       "    .dataframe tbody tr th:only-of-type {\n",
       "        vertical-align: middle;\n",
       "    }\n",
       "\n",
       "    .dataframe tbody tr th {\n",
       "        vertical-align: top;\n",
       "    }\n",
       "\n",
       "    .dataframe thead th {\n",
       "        text-align: right;\n",
       "    }\n",
       "</style>\n",
       "<table border=\"1\" class=\"dataframe\">\n",
       "  <thead>\n",
       "    <tr style=\"text-align: right;\">\n",
       "      <th></th>\n",
       "      <th>Index</th>\n",
       "      <th>Text</th>\n",
       "      <th>unique_id</th>\n",
       "    </tr>\n",
       "  </thead>\n",
       "  <tbody>\n",
       "    <tr>\n",
       "      <th>0</th>\n",
       "      <td>1.00001</td>\n",
       "      <td>Earn $25 per hour as an independent contractor!</td>\n",
       "      <td>82e9b20d-a78e-4fe0-b621-c0601113be66</td>\n",
       "    </tr>\n",
       "    <tr>\n",
       "      <th>1</th>\n",
       "      <td>1.00002</td>\n",
       "      <td>Write and update curriculum for The Income Tax...</td>\n",
       "      <td>30ac6e7b-1ed4-4be6-8fb7-84aeb3203f6c</td>\n",
       "    </tr>\n",
       "    <tr>\n",
       "      <th>2</th>\n",
       "      <td>1.00003</td>\n",
       "      <td>Function:  Write, update and enhance ITS curri...</td>\n",
       "      <td>77abe20b-2b61-4905-bf93-a2a86809df6c</td>\n",
       "    </tr>\n",
       "    <tr>\n",
       "      <th>3</th>\n",
       "      <td>2.00001</td>\n",
       "      <td>September 13, 2019 Congress Speaker's Office D...</td>\n",
       "      <td>89866e6a-8397-4926-8e01-a9b286b2cf83</td>\n",
       "    </tr>\n",
       "    <tr>\n",
       "      <th>4</th>\n",
       "      <td>2.00002</td>\n",
       "      <td>While the Speaker's office disclaimed the leak...</td>\n",
       "      <td>64b52667-aaa9-4b01-b434-97316bd5e877</td>\n",
       "    </tr>\n",
       "  </tbody>\n",
       "</table>\n",
       "</div>"
      ],
      "text/plain": [
       "     Index                                               Text  \\\n",
       "0  1.00001    Earn $25 per hour as an independent contractor!   \n",
       "1  1.00002  Write and update curriculum for The Income Tax...   \n",
       "2  1.00003  Function:  Write, update and enhance ITS curri...   \n",
       "3  2.00001  September 13, 2019 Congress Speaker's Office D...   \n",
       "4  2.00002  While the Speaker's office disclaimed the leak...   \n",
       "\n",
       "                              unique_id  \n",
       "0  82e9b20d-a78e-4fe0-b621-c0601113be66  \n",
       "1  30ac6e7b-1ed4-4be6-8fb7-84aeb3203f6c  \n",
       "2  77abe20b-2b61-4905-bf93-a2a86809df6c  \n",
       "3  89866e6a-8397-4926-8e01-a9b286b2cf83  \n",
       "4  64b52667-aaa9-4b01-b434-97316bd5e877  "
      ]
     },
     "execution_count": 12,
     "metadata": {},
     "output_type": "execute_result"
    }
   ],
   "source": [
    "fincausal_task1_eval.head()"
   ]
  },
  {
   "cell_type": "code",
   "execution_count": 13,
   "metadata": {},
   "outputs": [],
   "source": [
    "fincausal_task1_eval.to_csv('/media/sarthak/HDD/data_science/fnp_resources/data/task1/all_combined/eval.csv', index=False)"
   ]
  }
 ],
 "metadata": {
  "kernelspec": {
   "display_name": "Python fnp",
   "language": "python",
   "name": "fnp"
  },
  "language_info": {
   "codemirror_mode": {
    "name": "ipython",
    "version": 3
   },
   "file_extension": ".py",
   "mimetype": "text/x-python",
   "name": "python",
   "nbconvert_exporter": "python",
   "pygments_lexer": "ipython3",
   "version": "3.6.7"
  }
 },
 "nbformat": 4,
 "nbformat_minor": 4
}
