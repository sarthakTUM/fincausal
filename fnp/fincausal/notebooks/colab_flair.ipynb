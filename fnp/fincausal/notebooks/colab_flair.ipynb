{
  "nbformat": 4,
  "nbformat_minor": 0,
  "metadata": {
    "colab": {
      "name": "flair",
      "provenance": [],
      "collapsed_sections": [],
      "toc_visible": true
    },
    "kernelspec": {
      "name": "python3",
      "display_name": "Python 3"
    },
    "accelerator": "GPU",
    "widgets": {
      "application/vnd.jupyter.widget-state+json": {
        "ed66f323272d4f5cb4d8d4b48000e7b2": {
          "model_module": "@jupyter-widgets/controls",
          "model_name": "HBoxModel",
          "state": {
            "_view_name": "HBoxView",
            "_dom_classes": [],
            "_model_name": "HBoxModel",
            "_view_module": "@jupyter-widgets/controls",
            "_model_module_version": "1.5.0",
            "_view_count": null,
            "_view_module_version": "1.5.0",
            "box_style": "",
            "layout": "IPY_MODEL_be13684702b641f7875f7db67afd4774",
            "_model_module": "@jupyter-widgets/controls",
            "children": [
              "IPY_MODEL_f64cf8e868c64692ae0e3ba05c2552c8",
              "IPY_MODEL_c4ed504917414ceb8b88203554334da8"
            ]
          }
        },
        "be13684702b641f7875f7db67afd4774": {
          "model_module": "@jupyter-widgets/base",
          "model_name": "LayoutModel",
          "state": {
            "_view_name": "LayoutView",
            "grid_template_rows": null,
            "right": null,
            "justify_content": null,
            "_view_module": "@jupyter-widgets/base",
            "overflow": null,
            "_model_module_version": "1.2.0",
            "_view_count": null,
            "flex_flow": null,
            "width": null,
            "min_width": null,
            "border": null,
            "align_items": null,
            "bottom": null,
            "_model_module": "@jupyter-widgets/base",
            "top": null,
            "grid_column": null,
            "overflow_y": null,
            "overflow_x": null,
            "grid_auto_flow": null,
            "grid_area": null,
            "grid_template_columns": null,
            "flex": null,
            "_model_name": "LayoutModel",
            "justify_items": null,
            "grid_row": null,
            "max_height": null,
            "align_content": null,
            "visibility": null,
            "align_self": null,
            "height": null,
            "min_height": null,
            "padding": null,
            "grid_auto_rows": null,
            "grid_gap": null,
            "max_width": null,
            "order": null,
            "_view_module_version": "1.2.0",
            "grid_template_areas": null,
            "object_position": null,
            "object_fit": null,
            "grid_auto_columns": null,
            "margin": null,
            "display": null,
            "left": null
          }
        },
        "f64cf8e868c64692ae0e3ba05c2552c8": {
          "model_module": "@jupyter-widgets/controls",
          "model_name": "FloatProgressModel",
          "state": {
            "_view_name": "ProgressView",
            "style": "IPY_MODEL_39ec5574d7814815853ec598c5ddc89d",
            "_dom_classes": [],
            "description": "Downloading: 100%",
            "_model_name": "FloatProgressModel",
            "bar_style": "success",
            "max": 442,
            "_view_module": "@jupyter-widgets/controls",
            "_model_module_version": "1.5.0",
            "value": 442,
            "_view_count": null,
            "_view_module_version": "1.5.0",
            "orientation": "horizontal",
            "min": 0,
            "description_tooltip": null,
            "_model_module": "@jupyter-widgets/controls",
            "layout": "IPY_MODEL_36ea71e812614a8e9dd4f4744fc1f479"
          }
        },
        "c4ed504917414ceb8b88203554334da8": {
          "model_module": "@jupyter-widgets/controls",
          "model_name": "HTMLModel",
          "state": {
            "_view_name": "HTMLView",
            "style": "IPY_MODEL_f9cfe5cd68d749488fa597cb57821d5a",
            "_dom_classes": [],
            "description": "",
            "_model_name": "HTMLModel",
            "placeholder": "​",
            "_view_module": "@jupyter-widgets/controls",
            "_model_module_version": "1.5.0",
            "value": " 442/442 [00:01&lt;00:00, 287B/s]",
            "_view_count": null,
            "_view_module_version": "1.5.0",
            "description_tooltip": null,
            "_model_module": "@jupyter-widgets/controls",
            "layout": "IPY_MODEL_19e4a01b03c5482c826afa546f7cfc9c"
          }
        },
        "39ec5574d7814815853ec598c5ddc89d": {
          "model_module": "@jupyter-widgets/controls",
          "model_name": "ProgressStyleModel",
          "state": {
            "_view_name": "StyleView",
            "_model_name": "ProgressStyleModel",
            "description_width": "initial",
            "_view_module": "@jupyter-widgets/base",
            "_model_module_version": "1.5.0",
            "_view_count": null,
            "_view_module_version": "1.2.0",
            "bar_color": null,
            "_model_module": "@jupyter-widgets/controls"
          }
        },
        "36ea71e812614a8e9dd4f4744fc1f479": {
          "model_module": "@jupyter-widgets/base",
          "model_name": "LayoutModel",
          "state": {
            "_view_name": "LayoutView",
            "grid_template_rows": null,
            "right": null,
            "justify_content": null,
            "_view_module": "@jupyter-widgets/base",
            "overflow": null,
            "_model_module_version": "1.2.0",
            "_view_count": null,
            "flex_flow": null,
            "width": null,
            "min_width": null,
            "border": null,
            "align_items": null,
            "bottom": null,
            "_model_module": "@jupyter-widgets/base",
            "top": null,
            "grid_column": null,
            "overflow_y": null,
            "overflow_x": null,
            "grid_auto_flow": null,
            "grid_area": null,
            "grid_template_columns": null,
            "flex": null,
            "_model_name": "LayoutModel",
            "justify_items": null,
            "grid_row": null,
            "max_height": null,
            "align_content": null,
            "visibility": null,
            "align_self": null,
            "height": null,
            "min_height": null,
            "padding": null,
            "grid_auto_rows": null,
            "grid_gap": null,
            "max_width": null,
            "order": null,
            "_view_module_version": "1.2.0",
            "grid_template_areas": null,
            "object_position": null,
            "object_fit": null,
            "grid_auto_columns": null,
            "margin": null,
            "display": null,
            "left": null
          }
        },
        "f9cfe5cd68d749488fa597cb57821d5a": {
          "model_module": "@jupyter-widgets/controls",
          "model_name": "DescriptionStyleModel",
          "state": {
            "_view_name": "StyleView",
            "_model_name": "DescriptionStyleModel",
            "description_width": "",
            "_view_module": "@jupyter-widgets/base",
            "_model_module_version": "1.5.0",
            "_view_count": null,
            "_view_module_version": "1.2.0",
            "_model_module": "@jupyter-widgets/controls"
          }
        },
        "19e4a01b03c5482c826afa546f7cfc9c": {
          "model_module": "@jupyter-widgets/base",
          "model_name": "LayoutModel",
          "state": {
            "_view_name": "LayoutView",
            "grid_template_rows": null,
            "right": null,
            "justify_content": null,
            "_view_module": "@jupyter-widgets/base",
            "overflow": null,
            "_model_module_version": "1.2.0",
            "_view_count": null,
            "flex_flow": null,
            "width": null,
            "min_width": null,
            "border": null,
            "align_items": null,
            "bottom": null,
            "_model_module": "@jupyter-widgets/base",
            "top": null,
            "grid_column": null,
            "overflow_y": null,
            "overflow_x": null,
            "grid_auto_flow": null,
            "grid_area": null,
            "grid_template_columns": null,
            "flex": null,
            "_model_name": "LayoutModel",
            "justify_items": null,
            "grid_row": null,
            "max_height": null,
            "align_content": null,
            "visibility": null,
            "align_self": null,
            "height": null,
            "min_height": null,
            "padding": null,
            "grid_auto_rows": null,
            "grid_gap": null,
            "max_width": null,
            "order": null,
            "_view_module_version": "1.2.0",
            "grid_template_areas": null,
            "object_position": null,
            "object_fit": null,
            "grid_auto_columns": null,
            "margin": null,
            "display": null,
            "left": null
          }
        },
        "13f4b2534e8e4761bf5b95865907a24b": {
          "model_module": "@jupyter-widgets/controls",
          "model_name": "HBoxModel",
          "state": {
            "_view_name": "HBoxView",
            "_dom_classes": [],
            "_model_name": "HBoxModel",
            "_view_module": "@jupyter-widgets/controls",
            "_model_module_version": "1.5.0",
            "_view_count": null,
            "_view_module_version": "1.5.0",
            "box_style": "",
            "layout": "IPY_MODEL_695c3dcf6bb8405a8cfb8c27becb9753",
            "_model_module": "@jupyter-widgets/controls",
            "children": [
              "IPY_MODEL_e3632b47236747bda560eeab33bdf1b5",
              "IPY_MODEL_fc72f71764e74b6b9ed67a4929860b79"
            ]
          }
        },
        "695c3dcf6bb8405a8cfb8c27becb9753": {
          "model_module": "@jupyter-widgets/base",
          "model_name": "LayoutModel",
          "state": {
            "_view_name": "LayoutView",
            "grid_template_rows": null,
            "right": null,
            "justify_content": null,
            "_view_module": "@jupyter-widgets/base",
            "overflow": null,
            "_model_module_version": "1.2.0",
            "_view_count": null,
            "flex_flow": null,
            "width": null,
            "min_width": null,
            "border": null,
            "align_items": null,
            "bottom": null,
            "_model_module": "@jupyter-widgets/base",
            "top": null,
            "grid_column": null,
            "overflow_y": null,
            "overflow_x": null,
            "grid_auto_flow": null,
            "grid_area": null,
            "grid_template_columns": null,
            "flex": null,
            "_model_name": "LayoutModel",
            "justify_items": null,
            "grid_row": null,
            "max_height": null,
            "align_content": null,
            "visibility": null,
            "align_self": null,
            "height": null,
            "min_height": null,
            "padding": null,
            "grid_auto_rows": null,
            "grid_gap": null,
            "max_width": null,
            "order": null,
            "_view_module_version": "1.2.0",
            "grid_template_areas": null,
            "object_position": null,
            "object_fit": null,
            "grid_auto_columns": null,
            "margin": null,
            "display": null,
            "left": null
          }
        },
        "e3632b47236747bda560eeab33bdf1b5": {
          "model_module": "@jupyter-widgets/controls",
          "model_name": "FloatProgressModel",
          "state": {
            "_view_name": "ProgressView",
            "style": "IPY_MODEL_04c15ecabb714cf0b25c92127e62b24e",
            "_dom_classes": [],
            "description": "Downloading: 100%",
            "_model_name": "FloatProgressModel",
            "bar_style": "success",
            "max": 231508,
            "_view_module": "@jupyter-widgets/controls",
            "_model_module_version": "1.5.0",
            "value": 231508,
            "_view_count": null,
            "_view_module_version": "1.5.0",
            "orientation": "horizontal",
            "min": 0,
            "description_tooltip": null,
            "_model_module": "@jupyter-widgets/controls",
            "layout": "IPY_MODEL_b8c4c8081e904654bb6b31e958aeb07c"
          }
        },
        "fc72f71764e74b6b9ed67a4929860b79": {
          "model_module": "@jupyter-widgets/controls",
          "model_name": "HTMLModel",
          "state": {
            "_view_name": "HTMLView",
            "style": "IPY_MODEL_5860f1de298f4f21bfad24f273eafee6",
            "_dom_classes": [],
            "description": "",
            "_model_name": "HTMLModel",
            "placeholder": "​",
            "_view_module": "@jupyter-widgets/controls",
            "_model_module_version": "1.5.0",
            "value": " 232k/232k [00:00&lt;00:00, 301kB/s]",
            "_view_count": null,
            "_view_module_version": "1.5.0",
            "description_tooltip": null,
            "_model_module": "@jupyter-widgets/controls",
            "layout": "IPY_MODEL_5ebd849d64674d169341b94f3bbeb30b"
          }
        },
        "04c15ecabb714cf0b25c92127e62b24e": {
          "model_module": "@jupyter-widgets/controls",
          "model_name": "ProgressStyleModel",
          "state": {
            "_view_name": "StyleView",
            "_model_name": "ProgressStyleModel",
            "description_width": "initial",
            "_view_module": "@jupyter-widgets/base",
            "_model_module_version": "1.5.0",
            "_view_count": null,
            "_view_module_version": "1.2.0",
            "bar_color": null,
            "_model_module": "@jupyter-widgets/controls"
          }
        },
        "b8c4c8081e904654bb6b31e958aeb07c": {
          "model_module": "@jupyter-widgets/base",
          "model_name": "LayoutModel",
          "state": {
            "_view_name": "LayoutView",
            "grid_template_rows": null,
            "right": null,
            "justify_content": null,
            "_view_module": "@jupyter-widgets/base",
            "overflow": null,
            "_model_module_version": "1.2.0",
            "_view_count": null,
            "flex_flow": null,
            "width": null,
            "min_width": null,
            "border": null,
            "align_items": null,
            "bottom": null,
            "_model_module": "@jupyter-widgets/base",
            "top": null,
            "grid_column": null,
            "overflow_y": null,
            "overflow_x": null,
            "grid_auto_flow": null,
            "grid_area": null,
            "grid_template_columns": null,
            "flex": null,
            "_model_name": "LayoutModel",
            "justify_items": null,
            "grid_row": null,
            "max_height": null,
            "align_content": null,
            "visibility": null,
            "align_self": null,
            "height": null,
            "min_height": null,
            "padding": null,
            "grid_auto_rows": null,
            "grid_gap": null,
            "max_width": null,
            "order": null,
            "_view_module_version": "1.2.0",
            "grid_template_areas": null,
            "object_position": null,
            "object_fit": null,
            "grid_auto_columns": null,
            "margin": null,
            "display": null,
            "left": null
          }
        },
        "5860f1de298f4f21bfad24f273eafee6": {
          "model_module": "@jupyter-widgets/controls",
          "model_name": "DescriptionStyleModel",
          "state": {
            "_view_name": "StyleView",
            "_model_name": "DescriptionStyleModel",
            "description_width": "",
            "_view_module": "@jupyter-widgets/base",
            "_model_module_version": "1.5.0",
            "_view_count": null,
            "_view_module_version": "1.2.0",
            "_model_module": "@jupyter-widgets/controls"
          }
        },
        "5ebd849d64674d169341b94f3bbeb30b": {
          "model_module": "@jupyter-widgets/base",
          "model_name": "LayoutModel",
          "state": {
            "_view_name": "LayoutView",
            "grid_template_rows": null,
            "right": null,
            "justify_content": null,
            "_view_module": "@jupyter-widgets/base",
            "overflow": null,
            "_model_module_version": "1.2.0",
            "_view_count": null,
            "flex_flow": null,
            "width": null,
            "min_width": null,
            "border": null,
            "align_items": null,
            "bottom": null,
            "_model_module": "@jupyter-widgets/base",
            "top": null,
            "grid_column": null,
            "overflow_y": null,
            "overflow_x": null,
            "grid_auto_flow": null,
            "grid_area": null,
            "grid_template_columns": null,
            "flex": null,
            "_model_name": "LayoutModel",
            "justify_items": null,
            "grid_row": null,
            "max_height": null,
            "align_content": null,
            "visibility": null,
            "align_self": null,
            "height": null,
            "min_height": null,
            "padding": null,
            "grid_auto_rows": null,
            "grid_gap": null,
            "max_width": null,
            "order": null,
            "_view_module_version": "1.2.0",
            "grid_template_areas": null,
            "object_position": null,
            "object_fit": null,
            "grid_auto_columns": null,
            "margin": null,
            "display": null,
            "left": null
          }
        },
        "9b6cc3f1dc4e49ef85c4a4c150031127": {
          "model_module": "@jupyter-widgets/controls",
          "model_name": "HBoxModel",
          "state": {
            "_view_name": "HBoxView",
            "_dom_classes": [],
            "_model_name": "HBoxModel",
            "_view_module": "@jupyter-widgets/controls",
            "_model_module_version": "1.5.0",
            "_view_count": null,
            "_view_module_version": "1.5.0",
            "box_style": "",
            "layout": "IPY_MODEL_b0320e0caedc4de0b0aeffe18593892e",
            "_model_module": "@jupyter-widgets/controls",
            "children": [
              "IPY_MODEL_c98c66e8f5e94b97ba948ef528cd0408",
              "IPY_MODEL_a64315e044404a1984d017c234d186c3"
            ]
          }
        },
        "b0320e0caedc4de0b0aeffe18593892e": {
          "model_module": "@jupyter-widgets/base",
          "model_name": "LayoutModel",
          "state": {
            "_view_name": "LayoutView",
            "grid_template_rows": null,
            "right": null,
            "justify_content": null,
            "_view_module": "@jupyter-widgets/base",
            "overflow": null,
            "_model_module_version": "1.2.0",
            "_view_count": null,
            "flex_flow": null,
            "width": null,
            "min_width": null,
            "border": null,
            "align_items": null,
            "bottom": null,
            "_model_module": "@jupyter-widgets/base",
            "top": null,
            "grid_column": null,
            "overflow_y": null,
            "overflow_x": null,
            "grid_auto_flow": null,
            "grid_area": null,
            "grid_template_columns": null,
            "flex": null,
            "_model_name": "LayoutModel",
            "justify_items": null,
            "grid_row": null,
            "max_height": null,
            "align_content": null,
            "visibility": null,
            "align_self": null,
            "height": null,
            "min_height": null,
            "padding": null,
            "grid_auto_rows": null,
            "grid_gap": null,
            "max_width": null,
            "order": null,
            "_view_module_version": "1.2.0",
            "grid_template_areas": null,
            "object_position": null,
            "object_fit": null,
            "grid_auto_columns": null,
            "margin": null,
            "display": null,
            "left": null
          }
        },
        "c98c66e8f5e94b97ba948ef528cd0408": {
          "model_module": "@jupyter-widgets/controls",
          "model_name": "FloatProgressModel",
          "state": {
            "_view_name": "ProgressView",
            "style": "IPY_MODEL_9d2f2a8b6275493db9838ae801669869",
            "_dom_classes": [],
            "description": "Downloading: 100%",
            "_model_name": "FloatProgressModel",
            "bar_style": "success",
            "max": 267967963,
            "_view_module": "@jupyter-widgets/controls",
            "_model_module_version": "1.5.0",
            "value": 267967963,
            "_view_count": null,
            "_view_module_version": "1.5.0",
            "orientation": "horizontal",
            "min": 0,
            "description_tooltip": null,
            "_model_module": "@jupyter-widgets/controls",
            "layout": "IPY_MODEL_64e4c94e9ad24413aca0f2534ca9ccbf"
          }
        },
        "a64315e044404a1984d017c234d186c3": {
          "model_module": "@jupyter-widgets/controls",
          "model_name": "HTMLModel",
          "state": {
            "_view_name": "HTMLView",
            "style": "IPY_MODEL_23d34054df2242dd9e542ae8ab5c9468",
            "_dom_classes": [],
            "description": "",
            "_model_name": "HTMLModel",
            "placeholder": "​",
            "_view_module": "@jupyter-widgets/controls",
            "_model_module_version": "1.5.0",
            "value": " 268M/268M [00:05&lt;00:00, 45.3MB/s]",
            "_view_count": null,
            "_view_module_version": "1.5.0",
            "description_tooltip": null,
            "_model_module": "@jupyter-widgets/controls",
            "layout": "IPY_MODEL_40d2ce81889d4c30bfff6f366c4175a7"
          }
        },
        "9d2f2a8b6275493db9838ae801669869": {
          "model_module": "@jupyter-widgets/controls",
          "model_name": "ProgressStyleModel",
          "state": {
            "_view_name": "StyleView",
            "_model_name": "ProgressStyleModel",
            "description_width": "initial",
            "_view_module": "@jupyter-widgets/base",
            "_model_module_version": "1.5.0",
            "_view_count": null,
            "_view_module_version": "1.2.0",
            "bar_color": null,
            "_model_module": "@jupyter-widgets/controls"
          }
        },
        "64e4c94e9ad24413aca0f2534ca9ccbf": {
          "model_module": "@jupyter-widgets/base",
          "model_name": "LayoutModel",
          "state": {
            "_view_name": "LayoutView",
            "grid_template_rows": null,
            "right": null,
            "justify_content": null,
            "_view_module": "@jupyter-widgets/base",
            "overflow": null,
            "_model_module_version": "1.2.0",
            "_view_count": null,
            "flex_flow": null,
            "width": null,
            "min_width": null,
            "border": null,
            "align_items": null,
            "bottom": null,
            "_model_module": "@jupyter-widgets/base",
            "top": null,
            "grid_column": null,
            "overflow_y": null,
            "overflow_x": null,
            "grid_auto_flow": null,
            "grid_area": null,
            "grid_template_columns": null,
            "flex": null,
            "_model_name": "LayoutModel",
            "justify_items": null,
            "grid_row": null,
            "max_height": null,
            "align_content": null,
            "visibility": null,
            "align_self": null,
            "height": null,
            "min_height": null,
            "padding": null,
            "grid_auto_rows": null,
            "grid_gap": null,
            "max_width": null,
            "order": null,
            "_view_module_version": "1.2.0",
            "grid_template_areas": null,
            "object_position": null,
            "object_fit": null,
            "grid_auto_columns": null,
            "margin": null,
            "display": null,
            "left": null
          }
        },
        "23d34054df2242dd9e542ae8ab5c9468": {
          "model_module": "@jupyter-widgets/controls",
          "model_name": "DescriptionStyleModel",
          "state": {
            "_view_name": "StyleView",
            "_model_name": "DescriptionStyleModel",
            "description_width": "",
            "_view_module": "@jupyter-widgets/base",
            "_model_module_version": "1.5.0",
            "_view_count": null,
            "_view_module_version": "1.2.0",
            "_model_module": "@jupyter-widgets/controls"
          }
        },
        "40d2ce81889d4c30bfff6f366c4175a7": {
          "model_module": "@jupyter-widgets/base",
          "model_name": "LayoutModel",
          "state": {
            "_view_name": "LayoutView",
            "grid_template_rows": null,
            "right": null,
            "justify_content": null,
            "_view_module": "@jupyter-widgets/base",
            "overflow": null,
            "_model_module_version": "1.2.0",
            "_view_count": null,
            "flex_flow": null,
            "width": null,
            "min_width": null,
            "border": null,
            "align_items": null,
            "bottom": null,
            "_model_module": "@jupyter-widgets/base",
            "top": null,
            "grid_column": null,
            "overflow_y": null,
            "overflow_x": null,
            "grid_auto_flow": null,
            "grid_area": null,
            "grid_template_columns": null,
            "flex": null,
            "_model_name": "LayoutModel",
            "justify_items": null,
            "grid_row": null,
            "max_height": null,
            "align_content": null,
            "visibility": null,
            "align_self": null,
            "height": null,
            "min_height": null,
            "padding": null,
            "grid_auto_rows": null,
            "grid_gap": null,
            "max_width": null,
            "order": null,
            "_view_module_version": "1.2.0",
            "grid_template_areas": null,
            "object_position": null,
            "object_fit": null,
            "grid_auto_columns": null,
            "margin": null,
            "display": null,
            "left": null
          }
        }
      }
    }
  },
  "cells": [
    {
      "cell_type": "code",
      "metadata": {
        "id": "KeXh-5Y1uT8j",
        "colab_type": "code",
        "colab": {
          "base_uri": "https://localhost:8080/",
          "height": 1000
        },
        "outputId": "0917e3f7-cebe-4805-98ac-5cb1819bc4a3"
      },
      "source": [
        "!pip install flair"
      ],
      "execution_count": 1,
      "outputs": [
        {
          "output_type": "stream",
          "text": [
            "Collecting flair\n",
            "\u001b[?25l  Downloading https://files.pythonhosted.org/packages/f1/0e/38d173e7a5b595e108c7d7a31f7b4d88fb93192f3b12a78998ff500c5203/flair-0.5-py3-none-any.whl (334kB)\n",
            "\r\u001b[K     |█                               | 10kB 8.1MB/s eta 0:00:01\r\u001b[K     |██                              | 20kB 1.7MB/s eta 0:00:01\r\u001b[K     |███                             | 30kB 2.2MB/s eta 0:00:01\r\u001b[K     |████                            | 40kB 2.4MB/s eta 0:00:01\r\u001b[K     |█████                           | 51kB 2.0MB/s eta 0:00:01\r\u001b[K     |█████▉                          | 61kB 2.2MB/s eta 0:00:01\r\u001b[K     |██████▉                         | 71kB 2.4MB/s eta 0:00:01\r\u001b[K     |███████▉                        | 81kB 2.6MB/s eta 0:00:01\r\u001b[K     |████████▉                       | 92kB 2.8MB/s eta 0:00:01\r\u001b[K     |█████████▉                      | 102kB 2.7MB/s eta 0:00:01\r\u001b[K     |██████████▊                     | 112kB 2.7MB/s eta 0:00:01\r\u001b[K     |███████████▊                    | 122kB 2.7MB/s eta 0:00:01\r\u001b[K     |████████████▊                   | 133kB 2.7MB/s eta 0:00:01\r\u001b[K     |█████████████▊                  | 143kB 2.7MB/s eta 0:00:01\r\u001b[K     |██████████████▊                 | 153kB 2.7MB/s eta 0:00:01\r\u001b[K     |███████████████▋                | 163kB 2.7MB/s eta 0:00:01\r\u001b[K     |████████████████▋               | 174kB 2.7MB/s eta 0:00:01\r\u001b[K     |█████████████████▋              | 184kB 2.7MB/s eta 0:00:01\r\u001b[K     |██████████████████▋             | 194kB 2.7MB/s eta 0:00:01\r\u001b[K     |███████████████████▋            | 204kB 2.7MB/s eta 0:00:01\r\u001b[K     |████████████████████▌           | 215kB 2.7MB/s eta 0:00:01\r\u001b[K     |█████████████████████▌          | 225kB 2.7MB/s eta 0:00:01\r\u001b[K     |██████████████████████▌         | 235kB 2.7MB/s eta 0:00:01\r\u001b[K     |███████████████████████▌        | 245kB 2.7MB/s eta 0:00:01\r\u001b[K     |████████████████████████▌       | 256kB 2.7MB/s eta 0:00:01\r\u001b[K     |█████████████████████████▍      | 266kB 2.7MB/s eta 0:00:01\r\u001b[K     |██████████████████████████▍     | 276kB 2.7MB/s eta 0:00:01\r\u001b[K     |███████████████████████████▍    | 286kB 2.7MB/s eta 0:00:01\r\u001b[K     |████████████████████████████▍   | 296kB 2.7MB/s eta 0:00:01\r\u001b[K     |█████████████████████████████▍  | 307kB 2.7MB/s eta 0:00:01\r\u001b[K     |██████████████████████████████▎ | 317kB 2.7MB/s eta 0:00:01\r\u001b[K     |███████████████████████████████▎| 327kB 2.7MB/s eta 0:00:01\r\u001b[K     |████████████████████████████████| 337kB 2.7MB/s \n",
            "\u001b[?25hRequirement already satisfied: python-dateutil>=2.6.1 in /usr/local/lib/python3.6/dist-packages (from flair) (2.8.1)\n",
            "Collecting langdetect\n",
            "\u001b[?25l  Downloading https://files.pythonhosted.org/packages/56/a3/8407c1e62d5980188b4acc45ef3d94b933d14a2ebc9ef3505f22cf772570/langdetect-1.0.8.tar.gz (981kB)\n",
            "\u001b[K     |████████████████████████████████| 983kB 6.5MB/s \n",
            "\u001b[?25hRequirement already satisfied: scikit-learn>=0.21.3 in /usr/local/lib/python3.6/dist-packages (from flair) (0.22.2.post1)\n",
            "Collecting deprecated>=1.2.4\n",
            "  Downloading https://files.pythonhosted.org/packages/76/a1/05d7f62f956d77b23a640efc650f80ce24483aa2f85a09c03fb64f49e879/Deprecated-1.2.10-py2.py3-none-any.whl\n",
            "Requirement already satisfied: regex in /usr/local/lib/python3.6/dist-packages (from flair) (2019.12.20)\n",
            "Requirement already satisfied: tabulate in /usr/local/lib/python3.6/dist-packages (from flair) (0.8.7)\n",
            "Requirement already satisfied: torch>=1.1.0 in /usr/local/lib/python3.6/dist-packages (from flair) (1.5.0+cu101)\n",
            "Requirement already satisfied: matplotlib>=2.2.3 in /usr/local/lib/python3.6/dist-packages (from flair) (3.2.1)\n",
            "Requirement already satisfied: gensim>=3.4.0 in /usr/local/lib/python3.6/dist-packages (from flair) (3.6.0)\n",
            "Requirement already satisfied: tqdm>=4.26.0 in /usr/local/lib/python3.6/dist-packages (from flair) (4.41.1)\n",
            "Requirement already satisfied: hyperopt>=0.1.1 in /usr/local/lib/python3.6/dist-packages (from flair) (0.1.2)\n",
            "Collecting mpld3==0.3\n",
            "\u001b[?25l  Downloading https://files.pythonhosted.org/packages/91/95/a52d3a83d0a29ba0d6898f6727e9858fe7a43f6c2ce81a5fe7e05f0f4912/mpld3-0.3.tar.gz (788kB)\n",
            "\u001b[K     |████████████████████████████████| 798kB 15.6MB/s \n",
            "\u001b[?25hCollecting transformers>=2.10.0\n",
            "\u001b[?25l  Downloading https://files.pythonhosted.org/packages/48/35/ad2c5b1b8f99feaaf9d7cdadaeef261f098c6e1a6a2935d4d07662a6b780/transformers-2.11.0-py3-none-any.whl (674kB)\n",
            "\u001b[K     |████████████████████████████████| 675kB 19.1MB/s \n",
            "\u001b[?25hCollecting bpemb>=0.2.9\n",
            "  Downloading https://files.pythonhosted.org/packages/bc/70/468a9652095b370f797ed37ff77e742b11565c6fd79eaeca5f2e50b164a7/bpemb-0.3.0-py3-none-any.whl\n",
            "Collecting sqlitedict>=1.6.0\n",
            "  Downloading https://files.pythonhosted.org/packages/0f/1c/c757b93147a219cf1e25cef7e1ad9b595b7f802159493c45ce116521caff/sqlitedict-1.6.0.tar.gz\n",
            "Collecting pytest>=5.3.2\n",
            "\u001b[?25l  Downloading https://files.pythonhosted.org/packages/9f/f3/0a83558da436a081344aa6c8b85ea5b5f05071214106036ce341b7769b0b/pytest-5.4.3-py3-none-any.whl (248kB)\n",
            "\u001b[K     |████████████████████████████████| 256kB 16.5MB/s \n",
            "\u001b[?25hCollecting segtok>=1.5.7\n",
            "  Downloading https://files.pythonhosted.org/packages/41/08/582dab5f4b1d5ca23bc6927b4bb977c8ff7f3a87a3b98844ef833e2f5623/segtok-1.5.10.tar.gz\n",
            "Requirement already satisfied: six>=1.5 in /usr/local/lib/python3.6/dist-packages (from python-dateutil>=2.6.1->flair) (1.12.0)\n",
            "Requirement already satisfied: numpy>=1.11.0 in /usr/local/lib/python3.6/dist-packages (from scikit-learn>=0.21.3->flair) (1.18.5)\n",
            "Requirement already satisfied: joblib>=0.11 in /usr/local/lib/python3.6/dist-packages (from scikit-learn>=0.21.3->flair) (0.15.1)\n",
            "Requirement already satisfied: scipy>=0.17.0 in /usr/local/lib/python3.6/dist-packages (from scikit-learn>=0.21.3->flair) (1.4.1)\n",
            "Requirement already satisfied: wrapt<2,>=1.10 in /usr/local/lib/python3.6/dist-packages (from deprecated>=1.2.4->flair) (1.12.1)\n",
            "Requirement already satisfied: future in /usr/local/lib/python3.6/dist-packages (from torch>=1.1.0->flair) (0.16.0)\n",
            "Requirement already satisfied: pyparsing!=2.0.4,!=2.1.2,!=2.1.6,>=2.0.1 in /usr/local/lib/python3.6/dist-packages (from matplotlib>=2.2.3->flair) (2.4.7)\n",
            "Requirement already satisfied: kiwisolver>=1.0.1 in /usr/local/lib/python3.6/dist-packages (from matplotlib>=2.2.3->flair) (1.2.0)\n",
            "Requirement already satisfied: cycler>=0.10 in /usr/local/lib/python3.6/dist-packages (from matplotlib>=2.2.3->flair) (0.10.0)\n",
            "Requirement already satisfied: smart-open>=1.2.1 in /usr/local/lib/python3.6/dist-packages (from gensim>=3.4.0->flair) (2.0.0)\n",
            "Requirement already satisfied: networkx in /usr/local/lib/python3.6/dist-packages (from hyperopt>=0.1.1->flair) (2.4)\n",
            "Requirement already satisfied: pymongo in /usr/local/lib/python3.6/dist-packages (from hyperopt>=0.1.1->flair) (3.10.1)\n",
            "Requirement already satisfied: dataclasses; python_version < \"3.7\" in /usr/local/lib/python3.6/dist-packages (from transformers>=2.10.0->flair) (0.7)\n",
            "Collecting sacremoses\n",
            "\u001b[?25l  Downloading https://files.pythonhosted.org/packages/7d/34/09d19aff26edcc8eb2a01bed8e98f13a1537005d31e95233fd48216eed10/sacremoses-0.0.43.tar.gz (883kB)\n",
            "\u001b[K     |████████████████████████████████| 890kB 22.1MB/s \n",
            "\u001b[?25hCollecting sentencepiece\n",
            "\u001b[?25l  Downloading https://files.pythonhosted.org/packages/d4/a4/d0a884c4300004a78cca907a6ff9a5e9fe4f090f5d95ab341c53d28cbc58/sentencepiece-0.1.91-cp36-cp36m-manylinux1_x86_64.whl (1.1MB)\n",
            "\u001b[K     |████████████████████████████████| 1.1MB 29.5MB/s \n",
            "\u001b[?25hCollecting tokenizers==0.7.0\n",
            "\u001b[?25l  Downloading https://files.pythonhosted.org/packages/14/e5/a26eb4716523808bb0a799fcfdceb6ebf77a18169d9591b2f46a9adb87d9/tokenizers-0.7.0-cp36-cp36m-manylinux1_x86_64.whl (3.8MB)\n",
            "\u001b[K     |████████████████████████████████| 3.8MB 41.9MB/s \n",
            "\u001b[?25hRequirement already satisfied: requests in /usr/local/lib/python3.6/dist-packages (from transformers>=2.10.0->flair) (2.23.0)\n",
            "Requirement already satisfied: filelock in /usr/local/lib/python3.6/dist-packages (from transformers>=2.10.0->flair) (3.0.12)\n",
            "Requirement already satisfied: packaging in /usr/local/lib/python3.6/dist-packages (from transformers>=2.10.0->flair) (20.4)\n",
            "Collecting pluggy<1.0,>=0.12\n",
            "  Downloading https://files.pythonhosted.org/packages/a0/28/85c7aa31b80d150b772fbe4a229487bc6644da9ccb7e427dd8cc60cb8a62/pluggy-0.13.1-py2.py3-none-any.whl\n",
            "Requirement already satisfied: importlib-metadata>=0.12; python_version < \"3.8\" in /usr/local/lib/python3.6/dist-packages (from pytest>=5.3.2->flair) (1.6.1)\n",
            "Requirement already satisfied: attrs>=17.4.0 in /usr/local/lib/python3.6/dist-packages (from pytest>=5.3.2->flair) (19.3.0)\n",
            "Requirement already satisfied: py>=1.5.0 in /usr/local/lib/python3.6/dist-packages (from pytest>=5.3.2->flair) (1.8.1)\n",
            "Requirement already satisfied: wcwidth in /usr/local/lib/python3.6/dist-packages (from pytest>=5.3.2->flair) (0.2.4)\n",
            "Requirement already satisfied: more-itertools>=4.0.0 in /usr/local/lib/python3.6/dist-packages (from pytest>=5.3.2->flair) (8.4.0)\n",
            "Requirement already satisfied: boto in /usr/local/lib/python3.6/dist-packages (from smart-open>=1.2.1->gensim>=3.4.0->flair) (2.49.0)\n",
            "Requirement already satisfied: boto3 in /usr/local/lib/python3.6/dist-packages (from smart-open>=1.2.1->gensim>=3.4.0->flair) (1.14.2)\n",
            "Requirement already satisfied: decorator>=4.3.0 in /usr/local/lib/python3.6/dist-packages (from networkx->hyperopt>=0.1.1->flair) (4.4.2)\n",
            "Requirement already satisfied: click in /usr/local/lib/python3.6/dist-packages (from sacremoses->transformers>=2.10.0->flair) (7.1.2)\n",
            "Requirement already satisfied: certifi>=2017.4.17 in /usr/local/lib/python3.6/dist-packages (from requests->transformers>=2.10.0->flair) (2020.4.5.2)\n",
            "Requirement already satisfied: chardet<4,>=3.0.2 in /usr/local/lib/python3.6/dist-packages (from requests->transformers>=2.10.0->flair) (3.0.4)\n",
            "Requirement already satisfied: urllib3!=1.25.0,!=1.25.1,<1.26,>=1.21.1 in /usr/local/lib/python3.6/dist-packages (from requests->transformers>=2.10.0->flair) (1.24.3)\n",
            "Requirement already satisfied: idna<3,>=2.5 in /usr/local/lib/python3.6/dist-packages (from requests->transformers>=2.10.0->flair) (2.9)\n",
            "Requirement already satisfied: zipp>=0.5 in /usr/local/lib/python3.6/dist-packages (from importlib-metadata>=0.12; python_version < \"3.8\"->pytest>=5.3.2->flair) (3.1.0)\n",
            "Requirement already satisfied: s3transfer<0.4.0,>=0.3.0 in /usr/local/lib/python3.6/dist-packages (from boto3->smart-open>=1.2.1->gensim>=3.4.0->flair) (0.3.3)\n",
            "Requirement already satisfied: jmespath<1.0.0,>=0.7.1 in /usr/local/lib/python3.6/dist-packages (from boto3->smart-open>=1.2.1->gensim>=3.4.0->flair) (0.10.0)\n",
            "Requirement already satisfied: botocore<1.18.0,>=1.17.2 in /usr/local/lib/python3.6/dist-packages (from boto3->smart-open>=1.2.1->gensim>=3.4.0->flair) (1.17.2)\n",
            "Requirement already satisfied: docutils<0.16,>=0.10 in /usr/local/lib/python3.6/dist-packages (from botocore<1.18.0,>=1.17.2->boto3->smart-open>=1.2.1->gensim>=3.4.0->flair) (0.15.2)\n",
            "Building wheels for collected packages: langdetect, mpld3, sqlitedict, segtok, sacremoses\n",
            "  Building wheel for langdetect (setup.py) ... \u001b[?25l\u001b[?25hdone\n",
            "  Created wheel for langdetect: filename=langdetect-1.0.8-cp36-none-any.whl size=993193 sha256=08643e218232baf9ece0dea7d6f2b74c56cde6ca53118ef8093c824255cde0e2\n",
            "  Stored in directory: /root/.cache/pip/wheels/8d/b3/aa/6d99de9f3841d7d3d40a60ea06e6d669e8e5012e6c8b947a57\n",
            "  Building wheel for mpld3 (setup.py) ... \u001b[?25l\u001b[?25hdone\n",
            "  Created wheel for mpld3: filename=mpld3-0.3-cp36-none-any.whl size=116679 sha256=5c5b1db4d370e80610981f0e5908768b862706513e244fbd19232508aaaeefc0\n",
            "  Stored in directory: /root/.cache/pip/wheels/c0/47/fb/8a64f89aecfe0059830479308ad42d62e898a3e3cefdf6ba28\n",
            "  Building wheel for sqlitedict (setup.py) ... \u001b[?25l\u001b[?25hdone\n",
            "  Created wheel for sqlitedict: filename=sqlitedict-1.6.0-cp36-none-any.whl size=14689 sha256=a16436d5064ccd95115e450b87f4f968ed892703f716813bfbae7aea22e23f6d\n",
            "  Stored in directory: /root/.cache/pip/wheels/bd/57/d3/907c3ee02d35e66f674ad0106e61f06eeeb98f6ee66a6cc3fe\n",
            "  Building wheel for segtok (setup.py) ... \u001b[?25l\u001b[?25hdone\n",
            "  Created wheel for segtok: filename=segtok-1.5.10-cp36-none-any.whl size=25020 sha256=70396adaf4f798101cf1256d05a8cecc7d58f10b02716e45f22035ca4c4bf307\n",
            "  Stored in directory: /root/.cache/pip/wheels/b4/39/f6/9ca1c5cabde964d728023b5751c3a206a5c8cc40252321fb6b\n",
            "  Building wheel for sacremoses (setup.py) ... \u001b[?25l\u001b[?25hdone\n",
            "  Created wheel for sacremoses: filename=sacremoses-0.0.43-cp36-none-any.whl size=893260 sha256=47f3b75cd0f814cf9e176f014b6f1ee6eec6e903232dfcb798a88a6870433998\n",
            "  Stored in directory: /root/.cache/pip/wheels/29/3c/fd/7ce5c3f0666dab31a50123635e6fb5e19ceb42ce38d4e58f45\n",
            "Successfully built langdetect mpld3 sqlitedict segtok sacremoses\n",
            "\u001b[31mERROR: datascience 0.10.6 has requirement folium==0.2.1, but you'll have folium 0.8.3 which is incompatible.\u001b[0m\n",
            "Installing collected packages: langdetect, deprecated, mpld3, sacremoses, sentencepiece, tokenizers, transformers, bpemb, sqlitedict, pluggy, pytest, segtok, flair\n",
            "  Found existing installation: pluggy 0.7.1\n",
            "    Uninstalling pluggy-0.7.1:\n",
            "      Successfully uninstalled pluggy-0.7.1\n",
            "  Found existing installation: pytest 3.6.4\n",
            "    Uninstalling pytest-3.6.4:\n",
            "      Successfully uninstalled pytest-3.6.4\n",
            "Successfully installed bpemb-0.3.0 deprecated-1.2.10 flair-0.5 langdetect-1.0.8 mpld3-0.3 pluggy-0.13.1 pytest-5.4.3 sacremoses-0.0.43 segtok-1.5.10 sentencepiece-0.1.91 sqlitedict-1.6.0 tokenizers-0.7.0 transformers-2.11.0\n"
          ],
          "name": "stdout"
        }
      ]
    },
    {
      "cell_type": "code",
      "metadata": {
        "id": "Mq5tqVjyudPL",
        "colab_type": "code",
        "colab": {}
      },
      "source": [
        "import pandas as pd"
      ],
      "execution_count": 2,
      "outputs": []
    },
    {
      "cell_type": "code",
      "metadata": {
        "id": "r0SDrR5LwNBx",
        "colab_type": "code",
        "colab": {
          "base_uri": "https://localhost:8080/",
          "height": 204
        },
        "outputId": "8786d193-5c9b-40e4-de23-52f77bfee98c"
      },
      "source": [
        "dev = pd.read_csv('/content/dev.csv')\n",
        "train = pd.read_csv('/content/train.csv')\n",
        "test = pd.read_csv('/content/test.csv')\n",
        "train.head()"
      ],
      "execution_count": 36,
      "outputs": [
        {
          "output_type": "execute_result",
          "data": {
            "text/html": [
              "<div>\n",
              "<style scoped>\n",
              "    .dataframe tbody tr th:only-of-type {\n",
              "        vertical-align: middle;\n",
              "    }\n",
              "\n",
              "    .dataframe tbody tr th {\n",
              "        vertical-align: top;\n",
              "    }\n",
              "\n",
              "    .dataframe thead th {\n",
              "        text-align: right;\n",
              "    }\n",
              "</style>\n",
              "<table border=\"1\" class=\"dataframe\">\n",
              "  <thead>\n",
              "    <tr style=\"text-align: right;\">\n",
              "      <th></th>\n",
              "      <th>Index</th>\n",
              "      <th>Text</th>\n",
              "      <th>Gold</th>\n",
              "      <th>unique_id</th>\n",
              "    </tr>\n",
              "  </thead>\n",
              "  <tbody>\n",
              "    <tr>\n",
              "      <th>0</th>\n",
              "      <td>121.00003</td>\n",
              "      <td>The new funding comes from venture capital fir...</td>\n",
              "      <td>0</td>\n",
              "      <td>5d268d74-215b-49c2-a045-033d0b409eb4</td>\n",
              "    </tr>\n",
              "    <tr>\n",
              "      <th>1</th>\n",
              "      <td>238.00078</td>\n",
              "      <td>Finally, the actors reveal their true identity...</td>\n",
              "      <td>0</td>\n",
              "      <td>0173005b-de6a-42aa-830e-575d1dbc844b</td>\n",
              "    </tr>\n",
              "    <tr>\n",
              "      <th>2</th>\n",
              "      <td>262.00064</td>\n",
              "      <td>Tell me, will it be successful?</td>\n",
              "      <td>0</td>\n",
              "      <td>c557e356-651f-4827-8c4e-47ffe1efddb9</td>\n",
              "    </tr>\n",
              "    <tr>\n",
              "      <th>3</th>\n",
              "      <td>221.00017</td>\n",
              "      <td>Will private insurance be eliminated?, Warren ...</td>\n",
              "      <td>0</td>\n",
              "      <td>c6393017-b7b3-4edc-958e-78af7a709da6</td>\n",
              "    </tr>\n",
              "    <tr>\n",
              "      <th>4</th>\n",
              "      <td>326.00022</td>\n",
              "      <td>● Rebooting AI: Building Artificial Intelligen...</td>\n",
              "      <td>0</td>\n",
              "      <td>840890ec-2b7c-4564-a773-0485a51c2440</td>\n",
              "    </tr>\n",
              "  </tbody>\n",
              "</table>\n",
              "</div>"
            ],
            "text/plain": [
              "       Index  ...                             unique_id\n",
              "0  121.00003  ...  5d268d74-215b-49c2-a045-033d0b409eb4\n",
              "1  238.00078  ...  0173005b-de6a-42aa-830e-575d1dbc844b\n",
              "2  262.00064  ...  c557e356-651f-4827-8c4e-47ffe1efddb9\n",
              "3  221.00017  ...  c6393017-b7b3-4edc-958e-78af7a709da6\n",
              "4  326.00022  ...  840890ec-2b7c-4564-a773-0485a51c2440\n",
              "\n",
              "[5 rows x 4 columns]"
            ]
          },
          "metadata": {
            "tags": []
          },
          "execution_count": 36
        }
      ]
    },
    {
      "cell_type": "code",
      "metadata": {
        "id": "OOifUMyxwgBB",
        "colab_type": "code",
        "colab": {}
      },
      "source": [
        "dev = dev[['Text', 'Gold']].rename(columns={'Text':'text', 'Gold':'label'})\n",
        "train = train[['Text', 'Gold']].rename(columns={'Text':'text', 'Gold':'label'})\n",
        "test = test[['Text', 'Gold']].rename(columns={'Text':'text', 'Gold':'label'})"
      ],
      "execution_count": 17,
      "outputs": []
    },
    {
      "cell_type": "code",
      "metadata": {
        "id": "wRA-E7vWw7iI",
        "colab_type": "code",
        "colab": {
          "base_uri": "https://localhost:8080/",
          "height": 204
        },
        "outputId": "bd4337ab-ddba-4712-e81e-497bb7894c5b"
      },
      "source": [
        "dev.head()"
      ],
      "execution_count": 18,
      "outputs": [
        {
          "output_type": "execute_result",
          "data": {
            "text/html": [
              "<div>\n",
              "<style scoped>\n",
              "    .dataframe tbody tr th:only-of-type {\n",
              "        vertical-align: middle;\n",
              "    }\n",
              "\n",
              "    .dataframe tbody tr th {\n",
              "        vertical-align: top;\n",
              "    }\n",
              "\n",
              "    .dataframe thead th {\n",
              "        text-align: right;\n",
              "    }\n",
              "</style>\n",
              "<table border=\"1\" class=\"dataframe\">\n",
              "  <thead>\n",
              "    <tr style=\"text-align: right;\">\n",
              "      <th></th>\n",
              "      <th>text</th>\n",
              "      <th>label</th>\n",
              "    </tr>\n",
              "  </thead>\n",
              "  <tbody>\n",
              "    <tr>\n",
              "      <th>0</th>\n",
              "      <td>China faces certain downward pressure due to s...</td>\n",
              "      <td>0</td>\n",
              "    </tr>\n",
              "    <tr>\n",
              "      <th>1</th>\n",
              "      <td>The high of 1565.15 was recorded on October 9,...</td>\n",
              "      <td>0</td>\n",
              "    </tr>\n",
              "    <tr>\n",
              "      <th>2</th>\n",
              "      <td>I don't want to make anyone an enemy but I do ...</td>\n",
              "      <td>0</td>\n",
              "    </tr>\n",
              "    <tr>\n",
              "      <th>3</th>\n",
              "      <td>Select Bancorp (NASDAQ:SLCT) last posted its q...</td>\n",
              "      <td>0</td>\n",
              "    </tr>\n",
              "    <tr>\n",
              "      <th>4</th>\n",
              "      <td>The Dow Jones now stands once again at the thr...</td>\n",
              "      <td>0</td>\n",
              "    </tr>\n",
              "  </tbody>\n",
              "</table>\n",
              "</div>"
            ],
            "text/plain": [
              "                                                text  label\n",
              "0  China faces certain downward pressure due to s...      0\n",
              "1  The high of 1565.15 was recorded on October 9,...      0\n",
              "2  I don't want to make anyone an enemy but I do ...      0\n",
              "3  Select Bancorp (NASDAQ:SLCT) last posted its q...      0\n",
              "4  The Dow Jones now stands once again at the thr...      0"
            ]
          },
          "metadata": {
            "tags": []
          },
          "execution_count": 18
        }
      ]
    },
    {
      "cell_type": "code",
      "metadata": {
        "id": "Vdf6Uc6mwusQ",
        "colab_type": "code",
        "colab": {}
      },
      "source": [
        "dev['label'] = '__label__' + dev['label'].astype(str)\n",
        "train['label'] = '__label__' + train['label'].astype(str)\n",
        "test['label'] = '__label__' + test['label'].astype(str)"
      ],
      "execution_count": 19,
      "outputs": []
    },
    {
      "cell_type": "code",
      "metadata": {
        "id": "r9JGuFnXx6vd",
        "colab_type": "code",
        "colab": {
          "base_uri": "https://localhost:8080/",
          "height": 204
        },
        "outputId": "d14520f2-1f1d-4d28-e41d-6924fabebc8a"
      },
      "source": [
        "dev.head()"
      ],
      "execution_count": 20,
      "outputs": [
        {
          "output_type": "execute_result",
          "data": {
            "text/html": [
              "<div>\n",
              "<style scoped>\n",
              "    .dataframe tbody tr th:only-of-type {\n",
              "        vertical-align: middle;\n",
              "    }\n",
              "\n",
              "    .dataframe tbody tr th {\n",
              "        vertical-align: top;\n",
              "    }\n",
              "\n",
              "    .dataframe thead th {\n",
              "        text-align: right;\n",
              "    }\n",
              "</style>\n",
              "<table border=\"1\" class=\"dataframe\">\n",
              "  <thead>\n",
              "    <tr style=\"text-align: right;\">\n",
              "      <th></th>\n",
              "      <th>text</th>\n",
              "      <th>label</th>\n",
              "    </tr>\n",
              "  </thead>\n",
              "  <tbody>\n",
              "    <tr>\n",
              "      <th>0</th>\n",
              "      <td>China faces certain downward pressure due to s...</td>\n",
              "      <td>__label__0</td>\n",
              "    </tr>\n",
              "    <tr>\n",
              "      <th>1</th>\n",
              "      <td>The high of 1565.15 was recorded on October 9,...</td>\n",
              "      <td>__label__0</td>\n",
              "    </tr>\n",
              "    <tr>\n",
              "      <th>2</th>\n",
              "      <td>I don't want to make anyone an enemy but I do ...</td>\n",
              "      <td>__label__0</td>\n",
              "    </tr>\n",
              "    <tr>\n",
              "      <th>3</th>\n",
              "      <td>Select Bancorp (NASDAQ:SLCT) last posted its q...</td>\n",
              "      <td>__label__0</td>\n",
              "    </tr>\n",
              "    <tr>\n",
              "      <th>4</th>\n",
              "      <td>The Dow Jones now stands once again at the thr...</td>\n",
              "      <td>__label__0</td>\n",
              "    </tr>\n",
              "  </tbody>\n",
              "</table>\n",
              "</div>"
            ],
            "text/plain": [
              "                                                text       label\n",
              "0  China faces certain downward pressure due to s...  __label__0\n",
              "1  The high of 1565.15 was recorded on October 9,...  __label__0\n",
              "2  I don't want to make anyone an enemy but I do ...  __label__0\n",
              "3  Select Bancorp (NASDAQ:SLCT) last posted its q...  __label__0\n",
              "4  The Dow Jones now stands once again at the thr...  __label__0"
            ]
          },
          "metadata": {
            "tags": []
          },
          "execution_count": 20
        }
      ]
    },
    {
      "cell_type": "code",
      "metadata": {
        "id": "ypll2_YY0I2-",
        "colab_type": "code",
        "colab": {}
      },
      "source": [
        "cols = dev.columns.tolist()\n",
        "cols = cols[-1:] + cols[:-1]\n",
        "dev = dev[cols]\n",
        "train = train[cols]\n",
        "test = test[cols]"
      ],
      "execution_count": 21,
      "outputs": []
    },
    {
      "cell_type": "code",
      "metadata": {
        "id": "W-b-fmv20Lho",
        "colab_type": "code",
        "colab": {
          "base_uri": "https://localhost:8080/",
          "height": 204
        },
        "outputId": "a5297364-935e-487c-c99a-2feba6396f5b"
      },
      "source": [
        "dev.head()"
      ],
      "execution_count": 22,
      "outputs": [
        {
          "output_type": "execute_result",
          "data": {
            "text/html": [
              "<div>\n",
              "<style scoped>\n",
              "    .dataframe tbody tr th:only-of-type {\n",
              "        vertical-align: middle;\n",
              "    }\n",
              "\n",
              "    .dataframe tbody tr th {\n",
              "        vertical-align: top;\n",
              "    }\n",
              "\n",
              "    .dataframe thead th {\n",
              "        text-align: right;\n",
              "    }\n",
              "</style>\n",
              "<table border=\"1\" class=\"dataframe\">\n",
              "  <thead>\n",
              "    <tr style=\"text-align: right;\">\n",
              "      <th></th>\n",
              "      <th>label</th>\n",
              "      <th>text</th>\n",
              "    </tr>\n",
              "  </thead>\n",
              "  <tbody>\n",
              "    <tr>\n",
              "      <th>0</th>\n",
              "      <td>__label__0</td>\n",
              "      <td>China faces certain downward pressure due to s...</td>\n",
              "    </tr>\n",
              "    <tr>\n",
              "      <th>1</th>\n",
              "      <td>__label__0</td>\n",
              "      <td>The high of 1565.15 was recorded on October 9,...</td>\n",
              "    </tr>\n",
              "    <tr>\n",
              "      <th>2</th>\n",
              "      <td>__label__0</td>\n",
              "      <td>I don't want to make anyone an enemy but I do ...</td>\n",
              "    </tr>\n",
              "    <tr>\n",
              "      <th>3</th>\n",
              "      <td>__label__0</td>\n",
              "      <td>Select Bancorp (NASDAQ:SLCT) last posted its q...</td>\n",
              "    </tr>\n",
              "    <tr>\n",
              "      <th>4</th>\n",
              "      <td>__label__0</td>\n",
              "      <td>The Dow Jones now stands once again at the thr...</td>\n",
              "    </tr>\n",
              "  </tbody>\n",
              "</table>\n",
              "</div>"
            ],
            "text/plain": [
              "        label                                               text\n",
              "0  __label__0  China faces certain downward pressure due to s...\n",
              "1  __label__0  The high of 1565.15 was recorded on October 9,...\n",
              "2  __label__0  I don't want to make anyone an enemy but I do ...\n",
              "3  __label__0  Select Bancorp (NASDAQ:SLCT) last posted its q...\n",
              "4  __label__0  The Dow Jones now stands once again at the thr..."
            ]
          },
          "metadata": {
            "tags": []
          },
          "execution_count": 22
        }
      ]
    },
    {
      "cell_type": "code",
      "metadata": {
        "id": "wq7EAk3ax2f1",
        "colab_type": "code",
        "colab": {}
      },
      "source": [
        "dev.to_csv('dev_flair.csv', sep='\\t', index = False, header = False)\n",
        "test.to_csv('test_flair.csv', sep='\\t', index = False, header = False)\n",
        "train.to_csv('train_flair.csv', sep='\\t', index = False, header = False)"
      ],
      "execution_count": 23,
      "outputs": []
    },
    {
      "cell_type": "code",
      "metadata": {
        "id": "tIVRwthkxait",
        "colab_type": "code",
        "colab": {}
      },
      "source": [
        "from torch.optim.adam import Adam\n",
        "from flair.data import Corpus\n",
        "from flair.datasets import TREC_6\n",
        "from flair.embeddings import TransformerDocumentEmbeddings\n",
        "from flair.models import TextClassifier\n",
        "from flair.trainers import ModelTrainer\n",
        "from flair.data import Corpus\n",
        "from flair.datasets import CSVClassificationCorpus"
      ],
      "execution_count": 34,
      "outputs": []
    },
    {
      "cell_type": "code",
      "metadata": {
        "id": "ShwTT5fXxbwx",
        "colab_type": "code",
        "colab": {}
      },
      "source": [
        "data_folder = '/content'"
      ],
      "execution_count": 37,
      "outputs": []
    },
    {
      "cell_type": "code",
      "metadata": {
        "id": "7uhAsA6i1dBM",
        "colab_type": "code",
        "colab": {}
      },
      "source": [
        "column_name_map = {1: \"text\", 2: \"label_causal\"}"
      ],
      "execution_count": 38,
      "outputs": []
    },
    {
      "cell_type": "code",
      "metadata": {
        "id": "CnVlNGoL29_G",
        "colab_type": "code",
        "colab": {
          "base_uri": "https://localhost:8080/",
          "height": 85
        },
        "outputId": "4b197d77-b448-4358-a60e-f7c9524dd54b"
      },
      "source": [
        "# load corpus containing training, test and dev data and if CSV has a header, you can skip it\n",
        "corpus: Corpus = CSVClassificationCorpus(data_folder,\n",
        "                                         column_name_map,\n",
        "                                         skip_header=True,\n",
        "                                         delimiter=',',    # tab-separated files\n",
        ") "
      ],
      "execution_count": 40,
      "outputs": [
        {
          "output_type": "stream",
          "text": [
            "2020-06-21 21:52:02,071 Reading data from /content\n",
            "2020-06-21 21:52:02,073 Train: /content/train.csv\n",
            "2020-06-21 21:52:02,075 Dev: /content/dev.csv\n",
            "2020-06-21 21:52:02,077 Test: /content/test.csv\n"
          ],
          "name": "stdout"
        }
      ]
    },
    {
      "cell_type": "code",
      "metadata": {
        "id": "Ikz4OKgu3msH",
        "colab_type": "code",
        "colab": {
          "base_uri": "https://localhost:8080/",
          "height": 1000,
          "referenced_widgets": [
            "ed66f323272d4f5cb4d8d4b48000e7b2",
            "be13684702b641f7875f7db67afd4774",
            "f64cf8e868c64692ae0e3ba05c2552c8",
            "c4ed504917414ceb8b88203554334da8",
            "39ec5574d7814815853ec598c5ddc89d",
            "36ea71e812614a8e9dd4f4744fc1f479",
            "f9cfe5cd68d749488fa597cb57821d5a",
            "19e4a01b03c5482c826afa546f7cfc9c",
            "13f4b2534e8e4761bf5b95865907a24b",
            "695c3dcf6bb8405a8cfb8c27becb9753",
            "e3632b47236747bda560eeab33bdf1b5",
            "fc72f71764e74b6b9ed67a4929860b79",
            "04c15ecabb714cf0b25c92127e62b24e",
            "b8c4c8081e904654bb6b31e958aeb07c",
            "5860f1de298f4f21bfad24f273eafee6",
            "5ebd849d64674d169341b94f3bbeb30b",
            "9b6cc3f1dc4e49ef85c4a4c150031127",
            "b0320e0caedc4de0b0aeffe18593892e",
            "c98c66e8f5e94b97ba948ef528cd0408",
            "a64315e044404a1984d017c234d186c3",
            "9d2f2a8b6275493db9838ae801669869",
            "64e4c94e9ad24413aca0f2534ca9ccbf",
            "23d34054df2242dd9e542ae8ab5c9468",
            "40d2ce81889d4c30bfff6f366c4175a7"
          ]
        },
        "outputId": "08c66773-a739-4bc3-f006-ad42c45c0891"
      },
      "source": [
        "# 2. create the label dictionary\n",
        "label_dict = corpus.make_label_dictionary()\n",
        "\n",
        "# 3. initialize transformer document embeddings (many models are available)\n",
        "document_embeddings = TransformerDocumentEmbeddings('distilbert-base-uncased', fine_tune=True)\n",
        "\n",
        "# 4. create the text classifier\n",
        "classifier = TextClassifier(document_embeddings, label_dictionary=label_dict)\n",
        "\n",
        "# 5. initialize the text classifier trainer with Adam optimizer\n",
        "trainer = ModelTrainer(classifier, corpus, optimizer=Adam)\n",
        "\n",
        "# 6. start the training\n",
        "trainer.train('/content/fincausal_classifier_95_1',\n",
        "              learning_rate=3e-5, # use very small learning rate\n",
        "              mini_batch_size=16,\n",
        "              mini_batch_chunk_size=4, # optionally set this if transformer is too much for your machine\n",
        "              max_epochs=5, # terminate after 5 epochs\n",
        "              )"
      ],
      "execution_count": 41,
      "outputs": [
        {
          "output_type": "stream",
          "text": [
            "2020-06-21 21:53:25,286 Computing label dictionary. Progress:\n"
          ],
          "name": "stdout"
        },
        {
          "output_type": "stream",
          "text": [
            "100%|██████████| 20069/20069 [00:25<00:00, 792.21it/s]"
          ],
          "name": "stderr"
        },
        {
          "output_type": "stream",
          "text": [
            "2020-06-21 21:53:50,857 [b'0', b'1']\n"
          ],
          "name": "stdout"
        },
        {
          "output_type": "stream",
          "text": [
            "\n"
          ],
          "name": "stderr"
        },
        {
          "output_type": "display_data",
          "data": {
            "application/vnd.jupyter.widget-view+json": {
              "model_id": "ed66f323272d4f5cb4d8d4b48000e7b2",
              "version_minor": 0,
              "version_major": 2
            },
            "text/plain": [
              "HBox(children=(FloatProgress(value=0.0, description='Downloading', max=442.0, style=ProgressStyle(description_…"
            ]
          },
          "metadata": {
            "tags": []
          }
        },
        {
          "output_type": "stream",
          "text": [
            "\n"
          ],
          "name": "stdout"
        },
        {
          "output_type": "display_data",
          "data": {
            "application/vnd.jupyter.widget-view+json": {
              "model_id": "13f4b2534e8e4761bf5b95865907a24b",
              "version_minor": 0,
              "version_major": 2
            },
            "text/plain": [
              "HBox(children=(FloatProgress(value=0.0, description='Downloading', max=231508.0, style=ProgressStyle(descripti…"
            ]
          },
          "metadata": {
            "tags": []
          }
        },
        {
          "output_type": "stream",
          "text": [
            "\n"
          ],
          "name": "stdout"
        },
        {
          "output_type": "display_data",
          "data": {
            "application/vnd.jupyter.widget-view+json": {
              "model_id": "9b6cc3f1dc4e49ef85c4a4c150031127",
              "version_minor": 0,
              "version_major": 2
            },
            "text/plain": [
              "HBox(children=(FloatProgress(value=0.0, description='Downloading', max=267967963.0, style=ProgressStyle(descri…"
            ]
          },
          "metadata": {
            "tags": []
          }
        },
        {
          "output_type": "stream",
          "text": [
            "\n",
            "2020-06-21 21:54:02,631 ----------------------------------------------------------------------------------------------------\n",
            "2020-06-21 21:54:02,634 Model: \"TextClassifier(\n",
            "  (document_embeddings): TransformerDocumentEmbeddings(\n",
            "    (model): DistilBertModel(\n",
            "      (embeddings): Embeddings(\n",
            "        (word_embeddings): Embedding(30522, 768, padding_idx=0)\n",
            "        (position_embeddings): Embedding(512, 768)\n",
            "        (LayerNorm): LayerNorm((768,), eps=1e-12, elementwise_affine=True)\n",
            "        (dropout): Dropout(p=0.1, inplace=False)\n",
            "      )\n",
            "      (transformer): Transformer(\n",
            "        (layer): ModuleList(\n",
            "          (0): TransformerBlock(\n",
            "            (attention): MultiHeadSelfAttention(\n",
            "              (dropout): Dropout(p=0.1, inplace=False)\n",
            "              (q_lin): Linear(in_features=768, out_features=768, bias=True)\n",
            "              (k_lin): Linear(in_features=768, out_features=768, bias=True)\n",
            "              (v_lin): Linear(in_features=768, out_features=768, bias=True)\n",
            "              (out_lin): Linear(in_features=768, out_features=768, bias=True)\n",
            "            )\n",
            "            (sa_layer_norm): LayerNorm((768,), eps=1e-12, elementwise_affine=True)\n",
            "            (ffn): FFN(\n",
            "              (dropout): Dropout(p=0.1, inplace=False)\n",
            "              (lin1): Linear(in_features=768, out_features=3072, bias=True)\n",
            "              (lin2): Linear(in_features=3072, out_features=768, bias=True)\n",
            "            )\n",
            "            (output_layer_norm): LayerNorm((768,), eps=1e-12, elementwise_affine=True)\n",
            "          )\n",
            "          (1): TransformerBlock(\n",
            "            (attention): MultiHeadSelfAttention(\n",
            "              (dropout): Dropout(p=0.1, inplace=False)\n",
            "              (q_lin): Linear(in_features=768, out_features=768, bias=True)\n",
            "              (k_lin): Linear(in_features=768, out_features=768, bias=True)\n",
            "              (v_lin): Linear(in_features=768, out_features=768, bias=True)\n",
            "              (out_lin): Linear(in_features=768, out_features=768, bias=True)\n",
            "            )\n",
            "            (sa_layer_norm): LayerNorm((768,), eps=1e-12, elementwise_affine=True)\n",
            "            (ffn): FFN(\n",
            "              (dropout): Dropout(p=0.1, inplace=False)\n",
            "              (lin1): Linear(in_features=768, out_features=3072, bias=True)\n",
            "              (lin2): Linear(in_features=3072, out_features=768, bias=True)\n",
            "            )\n",
            "            (output_layer_norm): LayerNorm((768,), eps=1e-12, elementwise_affine=True)\n",
            "          )\n",
            "          (2): TransformerBlock(\n",
            "            (attention): MultiHeadSelfAttention(\n",
            "              (dropout): Dropout(p=0.1, inplace=False)\n",
            "              (q_lin): Linear(in_features=768, out_features=768, bias=True)\n",
            "              (k_lin): Linear(in_features=768, out_features=768, bias=True)\n",
            "              (v_lin): Linear(in_features=768, out_features=768, bias=True)\n",
            "              (out_lin): Linear(in_features=768, out_features=768, bias=True)\n",
            "            )\n",
            "            (sa_layer_norm): LayerNorm((768,), eps=1e-12, elementwise_affine=True)\n",
            "            (ffn): FFN(\n",
            "              (dropout): Dropout(p=0.1, inplace=False)\n",
            "              (lin1): Linear(in_features=768, out_features=3072, bias=True)\n",
            "              (lin2): Linear(in_features=3072, out_features=768, bias=True)\n",
            "            )\n",
            "            (output_layer_norm): LayerNorm((768,), eps=1e-12, elementwise_affine=True)\n",
            "          )\n",
            "          (3): TransformerBlock(\n",
            "            (attention): MultiHeadSelfAttention(\n",
            "              (dropout): Dropout(p=0.1, inplace=False)\n",
            "              (q_lin): Linear(in_features=768, out_features=768, bias=True)\n",
            "              (k_lin): Linear(in_features=768, out_features=768, bias=True)\n",
            "              (v_lin): Linear(in_features=768, out_features=768, bias=True)\n",
            "              (out_lin): Linear(in_features=768, out_features=768, bias=True)\n",
            "            )\n",
            "            (sa_layer_norm): LayerNorm((768,), eps=1e-12, elementwise_affine=True)\n",
            "            (ffn): FFN(\n",
            "              (dropout): Dropout(p=0.1, inplace=False)\n",
            "              (lin1): Linear(in_features=768, out_features=3072, bias=True)\n",
            "              (lin2): Linear(in_features=3072, out_features=768, bias=True)\n",
            "            )\n",
            "            (output_layer_norm): LayerNorm((768,), eps=1e-12, elementwise_affine=True)\n",
            "          )\n",
            "          (4): TransformerBlock(\n",
            "            (attention): MultiHeadSelfAttention(\n",
            "              (dropout): Dropout(p=0.1, inplace=False)\n",
            "              (q_lin): Linear(in_features=768, out_features=768, bias=True)\n",
            "              (k_lin): Linear(in_features=768, out_features=768, bias=True)\n",
            "              (v_lin): Linear(in_features=768, out_features=768, bias=True)\n",
            "              (out_lin): Linear(in_features=768, out_features=768, bias=True)\n",
            "            )\n",
            "            (sa_layer_norm): LayerNorm((768,), eps=1e-12, elementwise_affine=True)\n",
            "            (ffn): FFN(\n",
            "              (dropout): Dropout(p=0.1, inplace=False)\n",
            "              (lin1): Linear(in_features=768, out_features=3072, bias=True)\n",
            "              (lin2): Linear(in_features=3072, out_features=768, bias=True)\n",
            "            )\n",
            "            (output_layer_norm): LayerNorm((768,), eps=1e-12, elementwise_affine=True)\n",
            "          )\n",
            "          (5): TransformerBlock(\n",
            "            (attention): MultiHeadSelfAttention(\n",
            "              (dropout): Dropout(p=0.1, inplace=False)\n",
            "              (q_lin): Linear(in_features=768, out_features=768, bias=True)\n",
            "              (k_lin): Linear(in_features=768, out_features=768, bias=True)\n",
            "              (v_lin): Linear(in_features=768, out_features=768, bias=True)\n",
            "              (out_lin): Linear(in_features=768, out_features=768, bias=True)\n",
            "            )\n",
            "            (sa_layer_norm): LayerNorm((768,), eps=1e-12, elementwise_affine=True)\n",
            "            (ffn): FFN(\n",
            "              (dropout): Dropout(p=0.1, inplace=False)\n",
            "              (lin1): Linear(in_features=768, out_features=3072, bias=True)\n",
            "              (lin2): Linear(in_features=3072, out_features=768, bias=True)\n",
            "            )\n",
            "            (output_layer_norm): LayerNorm((768,), eps=1e-12, elementwise_affine=True)\n",
            "          )\n",
            "        )\n",
            "      )\n",
            "    )\n",
            "  )\n",
            "  (decoder): Linear(in_features=768, out_features=2, bias=True)\n",
            "  (loss_function): CrossEntropyLoss()\n",
            "  (beta): 1.0\n",
            "  (weights): None\n",
            "  (weight_tensor) None\n",
            ")\"\n",
            "2020-06-21 21:54:02,636 ----------------------------------------------------------------------------------------------------\n",
            "2020-06-21 21:54:02,637 Corpus: \"Corpus: 17863 train + 1985 dev + 2206 test sentences\"\n",
            "2020-06-21 21:54:02,638 ----------------------------------------------------------------------------------------------------\n",
            "2020-06-21 21:54:02,639 Parameters:\n",
            "2020-06-21 21:54:02,642  - learning_rate: \"3e-05\"\n",
            "2020-06-21 21:54:02,650  - mini_batch_size: \"16\"\n",
            "2020-06-21 21:54:02,651  - patience: \"3\"\n",
            "2020-06-21 21:54:02,653  - anneal_factor: \"0.5\"\n",
            "2020-06-21 21:54:02,655  - max_epochs: \"5\"\n",
            "2020-06-21 21:54:02,656  - shuffle: \"True\"\n",
            "2020-06-21 21:54:02,658  - train_with_dev: \"False\"\n",
            "2020-06-21 21:54:02,660  - batch_growth_annealing: \"False\"\n",
            "2020-06-21 21:54:02,662 ----------------------------------------------------------------------------------------------------\n",
            "2020-06-21 21:54:02,665 Model training base path: \"/content/fincausal_classifier_95_1\"\n",
            "2020-06-21 21:54:02,667 ----------------------------------------------------------------------------------------------------\n",
            "2020-06-21 21:54:02,668 Device: cuda:0\n",
            "2020-06-21 21:54:02,670 ----------------------------------------------------------------------------------------------------\n",
            "2020-06-21 21:54:02,671 Embeddings storage mode: cpu\n",
            "2020-06-21 21:54:02,673 ----------------------------------------------------------------------------------------------------\n",
            "2020-06-21 21:55:04,556 epoch 1 - iter 111/1117 - loss 0.21303272 - samples/sec: 29.40\n",
            "2020-06-21 21:56:06,043 epoch 1 - iter 222/1117 - loss 0.19455485 - samples/sec: 29.49\n",
            "2020-06-21 21:57:06,268 epoch 1 - iter 333/1117 - loss 0.16262009 - samples/sec: 29.73\n",
            "2020-06-21 21:58:06,998 epoch 1 - iter 444/1117 - loss 0.15508308 - samples/sec: 29.86\n",
            "2020-06-21 21:59:07,898 epoch 1 - iter 555/1117 - loss 0.15147461 - samples/sec: 29.77\n",
            "2020-06-21 22:00:08,373 epoch 1 - iter 666/1117 - loss 0.15048146 - samples/sec: 29.97\n",
            "2020-06-21 22:01:08,441 epoch 1 - iter 777/1117 - loss 0.14631676 - samples/sec: 29.81\n",
            "2020-06-21 22:02:09,404 epoch 1 - iter 888/1117 - loss 0.14648012 - samples/sec: 29.76\n",
            "2020-06-21 22:03:10,086 epoch 1 - iter 999/1117 - loss 0.14467777 - samples/sec: 29.91\n",
            "2020-06-21 22:04:09,871 epoch 1 - iter 1110/1117 - loss 0.13715945 - samples/sec: 29.94\n",
            "2020-06-21 22:04:13,512 ----------------------------------------------------------------------------------------------------\n",
            "2020-06-21 22:04:13,513 EPOCH 1 done: loss 0.1374 - lr 0.0000300\n",
            "2020-06-21 22:04:36,653 DEV : loss 0.11636637151241302 - score 0.9496\n",
            "2020-06-21 22:04:39,260 BAD EPOCHS (no improvement): 0\n",
            "saving best model\n",
            "2020-06-21 22:04:39,876 ----------------------------------------------------------------------------------------------------\n",
            "2020-06-21 22:05:41,498 epoch 2 - iter 111/1117 - loss 0.09627537 - samples/sec: 29.52\n",
            "2020-06-21 22:06:41,526 epoch 2 - iter 222/1117 - loss 0.06524828 - samples/sec: 29.82\n",
            "2020-06-21 22:07:41,836 epoch 2 - iter 333/1117 - loss 0.06748933 - samples/sec: 30.07\n",
            "2020-06-21 22:08:42,497 epoch 2 - iter 444/1117 - loss 0.06679152 - samples/sec: 29.90\n",
            "2020-06-21 22:09:43,215 epoch 2 - iter 555/1117 - loss 0.06532594 - samples/sec: 29.86\n",
            "2020-06-21 22:10:43,137 epoch 2 - iter 666/1117 - loss 0.06257286 - samples/sec: 29.89\n",
            "2020-06-21 22:11:43,878 epoch 2 - iter 777/1117 - loss 0.06282665 - samples/sec: 29.87\n",
            "2020-06-21 22:12:44,232 epoch 2 - iter 888/1117 - loss 0.06247758 - samples/sec: 30.03\n",
            "2020-06-21 22:13:45,269 epoch 2 - iter 999/1117 - loss 0.06581099 - samples/sec: 29.73\n",
            "2020-06-21 22:14:45,157 epoch 2 - iter 1110/1117 - loss 0.06841880 - samples/sec: 29.88\n",
            "2020-06-21 22:14:48,854 ----------------------------------------------------------------------------------------------------\n",
            "2020-06-21 22:14:48,856 EPOCH 2 done: loss 0.0680 - lr 0.0000300\n",
            "2020-06-21 22:15:12,181 DEV : loss 0.10893271118402481 - score 0.9678\n",
            "2020-06-21 22:15:14,843 BAD EPOCHS (no improvement): 0\n",
            "saving best model\n",
            "2020-06-21 22:15:15,447 ----------------------------------------------------------------------------------------------------\n",
            "2020-06-21 22:16:17,169 epoch 3 - iter 111/1117 - loss 0.02542358 - samples/sec: 29.53\n",
            "2020-06-21 22:17:17,001 epoch 3 - iter 222/1117 - loss 0.01414332 - samples/sec: 29.93\n",
            "2020-06-21 22:18:17,922 epoch 3 - iter 333/1117 - loss 0.01665871 - samples/sec: 29.78\n",
            "2020-06-21 22:19:18,747 epoch 3 - iter 444/1117 - loss 0.02034636 - samples/sec: 29.82\n",
            "2020-06-21 22:20:18,411 epoch 3 - iter 555/1117 - loss 0.02705181 - samples/sec: 30.00\n",
            "2020-06-21 22:21:18,986 epoch 3 - iter 666/1117 - loss 0.02586021 - samples/sec: 29.94\n",
            "2020-06-21 22:22:19,423 epoch 3 - iter 777/1117 - loss 0.03243630 - samples/sec: 30.01\n",
            "2020-06-21 22:23:19,849 epoch 3 - iter 888/1117 - loss 0.03540540 - samples/sec: 29.99\n",
            "2020-06-21 22:24:20,160 epoch 3 - iter 999/1117 - loss 0.03633877 - samples/sec: 29.69\n",
            "2020-06-21 22:25:20,879 epoch 3 - iter 1110/1117 - loss 0.03669870 - samples/sec: 29.88\n",
            "2020-06-21 22:25:24,549 ----------------------------------------------------------------------------------------------------\n",
            "2020-06-21 22:25:24,550 EPOCH 3 done: loss 0.0365 - lr 0.0000300\n",
            "2020-06-21 22:25:46,883 DEV : loss 0.1486188918352127 - score 0.9642\n",
            "2020-06-21 22:25:50,272 BAD EPOCHS (no improvement): 1\n",
            "2020-06-21 22:25:50,273 ----------------------------------------------------------------------------------------------------\n",
            "2020-06-21 22:26:51,563 epoch 4 - iter 111/1117 - loss 0.00447204 - samples/sec: 29.35\n",
            "2020-06-21 22:27:52,309 epoch 4 - iter 222/1117 - loss 0.00244966 - samples/sec: 29.86\n",
            "2020-06-21 22:28:53,182 epoch 4 - iter 333/1117 - loss 0.00622006 - samples/sec: 29.82\n",
            "2020-06-21 22:29:52,930 epoch 4 - iter 444/1117 - loss 0.00899524 - samples/sec: 29.97\n",
            "2020-06-21 22:30:53,323 epoch 4 - iter 555/1117 - loss 0.01615102 - samples/sec: 30.06\n",
            "2020-06-21 22:31:53,895 epoch 4 - iter 666/1117 - loss 0.01362718 - samples/sec: 29.95\n",
            "2020-06-21 22:32:54,739 epoch 4 - iter 777/1117 - loss 0.01175057 - samples/sec: 29.80\n",
            "2020-06-21 22:33:54,480 epoch 4 - iter 888/1117 - loss 0.01538619 - samples/sec: 29.98\n",
            "2020-06-21 22:34:55,227 epoch 4 - iter 999/1117 - loss 0.01751211 - samples/sec: 29.86\n",
            "2020-06-21 22:35:56,381 epoch 4 - iter 1110/1117 - loss 0.01950052 - samples/sec: 29.65\n",
            "2020-06-21 22:36:00,072 ----------------------------------------------------------------------------------------------------\n",
            "2020-06-21 22:36:00,074 EPOCH 4 done: loss 0.0194 - lr 0.0000300\n",
            "2020-06-21 22:36:22,063 DEV : loss 0.22140933573246002 - score 0.9567\n",
            "2020-06-21 22:36:24,643 BAD EPOCHS (no improvement): 2\n",
            "2020-06-21 22:36:24,644 ----------------------------------------------------------------------------------------------------\n",
            "2020-06-21 22:37:25,980 epoch 5 - iter 111/1117 - loss 0.00857287 - samples/sec: 29.72\n",
            "2020-06-21 22:38:26,786 epoch 5 - iter 222/1117 - loss 0.00946901 - samples/sec: 29.85\n",
            "2020-06-21 22:39:27,010 epoch 5 - iter 333/1117 - loss 0.01350495 - samples/sec: 30.11\n",
            "2020-06-21 22:40:27,312 epoch 5 - iter 444/1117 - loss 0.01231781 - samples/sec: 29.68\n",
            "2020-06-21 22:41:28,932 epoch 5 - iter 555/1117 - loss 0.01108811 - samples/sec: 29.43\n",
            "2020-06-21 22:42:29,633 epoch 5 - iter 666/1117 - loss 0.01273697 - samples/sec: 29.86\n",
            "2020-06-21 22:43:30,210 epoch 5 - iter 777/1117 - loss 0.01530824 - samples/sec: 29.94\n",
            "2020-06-21 22:44:30,070 epoch 5 - iter 888/1117 - loss 0.01398723 - samples/sec: 29.93\n",
            "2020-06-21 22:45:30,763 epoch 5 - iter 999/1117 - loss 0.01473130 - samples/sec: 29.90\n",
            "2020-06-21 22:46:31,251 epoch 5 - iter 1110/1117 - loss 0.01430998 - samples/sec: 30.01\n",
            "2020-06-21 22:46:34,964 ----------------------------------------------------------------------------------------------------\n",
            "2020-06-21 22:46:34,965 EPOCH 5 done: loss 0.0142 - lr 0.0000300\n",
            "2020-06-21 22:46:56,806 DEV : loss 0.2202185094356537 - score 0.9657\n",
            "2020-06-21 22:46:59,349 BAD EPOCHS (no improvement): 3\n",
            "2020-06-21 22:46:59,888 ----------------------------------------------------------------------------------------------------\n",
            "2020-06-21 22:46:59,889 Testing using best model ...\n",
            "2020-06-21 22:46:59,892 loading file /content/fincausal_classifier_95_1/best-model.pt\n",
            "2020-06-21 22:47:26,932 0.956482320942883\t0.956482320942883\t0.956482320942883\n",
            "2020-06-21 22:47:26,933 \n",
            "MICRO_AVG: acc 0.956482320942883 - f1-score 0.956482320942883\n",
            "MACRO_AVG: acc 0.956482320942883 - f1-score 0.7994796105032326\n",
            "0          tp: 2031 - fp: 79 - fn: 17 - tn: 79 - precision: 0.9626 - recall: 0.9917 - accuracy: 0.9565 - f1-score: 0.9769\n",
            "1          tp: 79 - fp: 17 - fn: 79 - tn: 2031 - precision: 0.8229 - recall: 0.5000 - accuracy: 0.9565 - f1-score: 0.6220\n",
            "2020-06-21 22:47:26,939 ----------------------------------------------------------------------------------------------------\n"
          ],
          "name": "stdout"
        },
        {
          "output_type": "execute_result",
          "data": {
            "text/plain": [
              "{'dev_loss_history': [0.11636637151241302,\n",
              "  0.10893271118402481,\n",
              "  0.1486188918352127,\n",
              "  0.22140933573246002,\n",
              "  0.2202185094356537],\n",
              " 'dev_score_history': [0.9496221662468514,\n",
              "  0.9677581863979848,\n",
              "  0.9642317380352645,\n",
              "  0.9566750629722922,\n",
              "  0.9657430730478589],\n",
              " 'test_score': 0.956482320942883,\n",
              " 'train_loss_history': [0.1374068212100941,\n",
              "  0.0680471262077475,\n",
              "  0.03647703042860336,\n",
              "  0.019386799739850493,\n",
              "  0.014220951884869387]}"
            ]
          },
          "metadata": {
            "tags": []
          },
          "execution_count": 41
        }
      ]
    },
    {
      "cell_type": "code",
      "metadata": {
        "id": "QNyclUi9E0tH",
        "colab_type": "code",
        "colab": {}
      },
      "source": [
        "from flair.models import TextClassifier\n",
        "from flair.data import Sentence"
      ],
      "execution_count": 42,
      "outputs": []
    },
    {
      "cell_type": "code",
      "metadata": {
        "id": "uCOUoSJdE4ck",
        "colab_type": "code",
        "colab": {
          "base_uri": "https://localhost:8080/",
          "height": 34
        },
        "outputId": "bed68f5a-aa1d-4c99-c650-b56e5f7fe032"
      },
      "source": [
        "classifier = TextClassifier.load('/content/drive/My Drive/fincausal_classifier_95_1/best-model.pt')"
      ],
      "execution_count": 44,
      "outputs": [
        {
          "output_type": "stream",
          "text": [
            "2020-06-21 22:56:33,950 loading file /content/drive/My Drive/fincausal_classifier_95_1/best-model.pt\n"
          ],
          "name": "stdout"
        }
      ]
    },
    {
      "cell_type": "code",
      "metadata": {
        "id": "yk34v9eoGRVD",
        "colab_type": "code",
        "colab": {}
      },
      "source": [
        "def flair_predict(text: str):\n",
        "  text = Sentence(text)\n",
        "  classifier.predict(text)\n",
        "  return text.labels[0].value"
      ],
      "execution_count": 65,
      "outputs": []
    },
    {
      "cell_type": "code",
      "metadata": {
        "id": "8Ag-KztxIgqy",
        "colab_type": "code",
        "colab": {
          "base_uri": "https://localhost:8080/",
          "height": 204
        },
        "outputId": "029c2175-228d-4507-ec66-a031e9f4ba1f"
      },
      "source": [
        "test['preds'] = test.Text.apply(flair_predict)\n",
        "test.head()"
      ],
      "execution_count": 66,
      "outputs": [
        {
          "output_type": "execute_result",
          "data": {
            "text/html": [
              "<div>\n",
              "<style scoped>\n",
              "    .dataframe tbody tr th:only-of-type {\n",
              "        vertical-align: middle;\n",
              "    }\n",
              "\n",
              "    .dataframe tbody tr th {\n",
              "        vertical-align: top;\n",
              "    }\n",
              "\n",
              "    .dataframe thead th {\n",
              "        text-align: right;\n",
              "    }\n",
              "</style>\n",
              "<table border=\"1\" class=\"dataframe\">\n",
              "  <thead>\n",
              "    <tr style=\"text-align: right;\">\n",
              "      <th></th>\n",
              "      <th>Index</th>\n",
              "      <th>Text</th>\n",
              "      <th>Gold</th>\n",
              "      <th>unique_id</th>\n",
              "      <th>preds</th>\n",
              "    </tr>\n",
              "  </thead>\n",
              "  <tbody>\n",
              "    <tr>\n",
              "      <th>0</th>\n",
              "      <td>352.00039</td>\n",
              "      <td>One bit of advice Orton had for young finance ...</td>\n",
              "      <td>0</td>\n",
              "      <td>f56182ea-5095-4934-889c-f18c1a26134c</td>\n",
              "      <td>0</td>\n",
              "    </tr>\n",
              "    <tr>\n",
              "      <th>1</th>\n",
              "      <td>8.00001</td>\n",
              "      <td>President Muhammadu Buhari has disclosed that ...</td>\n",
              "      <td>1</td>\n",
              "      <td>06cc12f1-1df2-43ef-898a-85ebb29bdede</td>\n",
              "      <td>0</td>\n",
              "    </tr>\n",
              "    <tr>\n",
              "      <th>2</th>\n",
              "      <td>53.00010</td>\n",
              "      <td>Advent of compressed exhaust systems based on ...</td>\n",
              "      <td>0</td>\n",
              "      <td>a2705c77-271b-4870-b948-8b688657f39c</td>\n",
              "      <td>0</td>\n",
              "    </tr>\n",
              "    <tr>\n",
              "      <th>3</th>\n",
              "      <td>533.00022</td>\n",
              "      <td>Catholic leaders have also suggested the UK go...</td>\n",
              "      <td>0</td>\n",
              "      <td>7966c427-9695-4e2f-a098-a5d385d6e0c4</td>\n",
              "      <td>0</td>\n",
              "    </tr>\n",
              "    <tr>\n",
              "      <th>4</th>\n",
              "      <td>316.00040</td>\n",
              "      <td>(NasdaqGS:CME) is 66. A company with a value o...</td>\n",
              "      <td>0</td>\n",
              "      <td>14e3e218-9f6b-4949-96c7-62ca68598d55</td>\n",
              "      <td>0</td>\n",
              "    </tr>\n",
              "  </tbody>\n",
              "</table>\n",
              "</div>"
            ],
            "text/plain": [
              "       Index  ... preds\n",
              "0  352.00039  ...     0\n",
              "1    8.00001  ...     0\n",
              "2   53.00010  ...     0\n",
              "3  533.00022  ...     0\n",
              "4  316.00040  ...     0\n",
              "\n",
              "[5 rows x 5 columns]"
            ]
          },
          "metadata": {
            "tags": []
          },
          "execution_count": 66
        }
      ]
    },
    {
      "cell_type": "code",
      "metadata": {
        "id": "lJLFjaVZJDbh",
        "colab_type": "code",
        "colab": {}
      },
      "source": [
        "test['Gold'] = test['Gold'].astype(int)\n",
        "test['preds'] = test['preds'].astype(int)"
      ],
      "execution_count": 70,
      "outputs": []
    },
    {
      "cell_type": "code",
      "metadata": {
        "id": "tcd35AGeIu3T",
        "colab_type": "code",
        "colab": {
          "base_uri": "https://localhost:8080/",
          "height": 34
        },
        "outputId": "fae180f5-9f26-415a-bde4-430d488aa807"
      },
      "source": [
        "test.preds.unique()"
      ],
      "execution_count": 71,
      "outputs": [
        {
          "output_type": "execute_result",
          "data": {
            "text/plain": [
              "array([0, 1])"
            ]
          },
          "metadata": {
            "tags": []
          },
          "execution_count": 71
        }
      ]
    },
    {
      "cell_type": "code",
      "metadata": {
        "id": "6b3ff-eDIxO3",
        "colab_type": "code",
        "colab": {}
      },
      "source": [
        "from sklearn.metrics import f1_score"
      ],
      "execution_count": 68,
      "outputs": []
    },
    {
      "cell_type": "code",
      "metadata": {
        "id": "hiJ99JK3I7LH",
        "colab_type": "code",
        "colab": {
          "base_uri": "https://localhost:8080/",
          "height": 34
        },
        "outputId": "e7fb490e-2892-4ea6-f74a-5bec2b17e3dc"
      },
      "source": [
        "f1_score(test['Gold'], test['preds'], average='weighted')"
      ],
      "execution_count": 72,
      "outputs": [
        {
          "output_type": "execute_result",
          "data": {
            "text/plain": [
              "0.9514955545252303"
            ]
          },
          "metadata": {
            "tags": []
          },
          "execution_count": 72
        }
      ]
    },
    {
      "cell_type": "markdown",
      "metadata": {
        "id": "qbSlOi7zuxoY",
        "colab_type": "text"
      },
      "source": [
        "# New section"
      ]
    }
  ]
}