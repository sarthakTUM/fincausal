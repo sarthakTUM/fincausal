{
 "cells": [
  {
   "cell_type": "code",
   "execution_count": 1,
   "metadata": {},
   "outputs": [],
   "source": [
    "import pandas as pd\n",
    "from pathlib import Path\n",
    "import uuid"
   ]
  },
  {
   "cell_type": "code",
   "execution_count": 2,
   "metadata": {},
   "outputs": [],
   "source": [
    "fincausal_task1_train_path = Path('/media/sarthak/HDD/data_science/fnp_resources/data/task1/train_on_trial_and_test_on_practice/train.csv')\n",
    "causaly_all_data_path = Path('/media/sarthak/HDD/data_science/fnp_resources/data/extra/causaly.csv')"
   ]
  },
  {
   "cell_type": "code",
   "execution_count": 3,
   "metadata": {},
   "outputs": [
    {
     "data": {
      "text/html": [
       "<div>\n",
       "<style scoped>\n",
       "    .dataframe tbody tr th:only-of-type {\n",
       "        vertical-align: middle;\n",
       "    }\n",
       "\n",
       "    .dataframe tbody tr th {\n",
       "        vertical-align: top;\n",
       "    }\n",
       "\n",
       "    .dataframe thead th {\n",
       "        text-align: right;\n",
       "    }\n",
       "</style>\n",
       "<table border=\"1\" class=\"dataframe\">\n",
       "  <thead>\n",
       "    <tr style=\"text-align: right;\">\n",
       "      <th></th>\n",
       "      <th>sentence</th>\n",
       "      <th>causal</th>\n",
       "    </tr>\n",
       "  </thead>\n",
       "  <tbody>\n",
       "    <tr>\n",
       "      <th>0</th>\n",
       "      <td>Results indicated that boys with ADHD , relati...</td>\n",
       "      <td>1</td>\n",
       "    </tr>\n",
       "    <tr>\n",
       "      <th>1</th>\n",
       "      <td>Ticagrelor appears to provide higher value for...</td>\n",
       "      <td>0</td>\n",
       "    </tr>\n",
       "    <tr>\n",
       "      <th>2</th>\n",
       "      <td>Whatever the mechanism , active smoking is an ...</td>\n",
       "      <td>1</td>\n",
       "    </tr>\n",
       "    <tr>\n",
       "      <th>3</th>\n",
       "      <td>In this study , we examined whether use of an ...</td>\n",
       "      <td>0</td>\n",
       "    </tr>\n",
       "    <tr>\n",
       "      <th>4</th>\n",
       "      <td>Using causal inference testing , we searched c...</td>\n",
       "      <td>0</td>\n",
       "    </tr>\n",
       "  </tbody>\n",
       "</table>\n",
       "</div>"
      ],
      "text/plain": [
       "                                            sentence  causal\n",
       "0  Results indicated that boys with ADHD , relati...       1\n",
       "1  Ticagrelor appears to provide higher value for...       0\n",
       "2  Whatever the mechanism , active smoking is an ...       1\n",
       "3  In this study , we examined whether use of an ...       0\n",
       "4  Using causal inference testing , we searched c...       0"
      ]
     },
     "execution_count": 3,
     "metadata": {},
     "output_type": "execute_result"
    }
   ],
   "source": [
    "causaly_df = pd.read_csv(causaly_all_data_path)\n",
    "causaly_df.head()"
   ]
  },
  {
   "cell_type": "code",
   "execution_count": 4,
   "metadata": {},
   "outputs": [
    {
     "data": {
      "text/plain": [
       "(2000, 2)"
      ]
     },
     "execution_count": 4,
     "metadata": {},
     "output_type": "execute_result"
    }
   ],
   "source": [
    "causaly_df.shape"
   ]
  },
  {
   "cell_type": "code",
   "execution_count": 5,
   "metadata": {},
   "outputs": [
    {
     "data": {
      "text/html": [
       "<div>\n",
       "<style scoped>\n",
       "    .dataframe tbody tr th:only-of-type {\n",
       "        vertical-align: middle;\n",
       "    }\n",
       "\n",
       "    .dataframe tbody tr th {\n",
       "        vertical-align: top;\n",
       "    }\n",
       "\n",
       "    .dataframe thead th {\n",
       "        text-align: right;\n",
       "    }\n",
       "</style>\n",
       "<table border=\"1\" class=\"dataframe\">\n",
       "  <thead>\n",
       "    <tr style=\"text-align: right;\">\n",
       "      <th></th>\n",
       "      <th>Index</th>\n",
       "      <th>Text</th>\n",
       "      <th>Gold</th>\n",
       "      <th>unique_id</th>\n",
       "    </tr>\n",
       "  </thead>\n",
       "  <tbody>\n",
       "    <tr>\n",
       "      <th>0</th>\n",
       "      <td>115.00001</td>\n",
       "      <td>Seeking Alpha  ETF Analysis  |  About: Global...</td>\n",
       "      <td>0</td>\n",
       "      <td>59aabda8-b867-43eb-bb6d-c9ba59fb8025</td>\n",
       "    </tr>\n",
       "    <tr>\n",
       "      <th>1</th>\n",
       "      <td>330.00001</td>\n",
       "      <td>Options for clients concerned about how IHT l...</td>\n",
       "      <td>0</td>\n",
       "      <td>90866e7b-1440-4d65-a333-17389c1a3705</td>\n",
       "    </tr>\n",
       "    <tr>\n",
       "      <th>2</th>\n",
       "      <td>315.00016</td>\n",
       "      <td>Cackley said that figure indicates loan servi...</td>\n",
       "      <td>0</td>\n",
       "      <td>dbbd03a4-2b62-4f99-bc0b-597a64f2ce60</td>\n",
       "    </tr>\n",
       "    <tr>\n",
       "      <th>3</th>\n",
       "      <td>184.00007</td>\n",
       "      <td>A taxpayer has normally been required to file...</td>\n",
       "      <td>0</td>\n",
       "      <td>72440cd6-7729-4337-b476-3d0b29eec078</td>\n",
       "    </tr>\n",
       "    <tr>\n",
       "      <th>4</th>\n",
       "      <td>241.00002</td>\n",
       "      <td>I was excited to listen…and thanks to Paula f...</td>\n",
       "      <td>0</td>\n",
       "      <td>ed17a935-0095-4b3b-99f6-9798c32d5b68</td>\n",
       "    </tr>\n",
       "  </tbody>\n",
       "</table>\n",
       "</div>"
      ],
      "text/plain": [
       "       Index                                               Text  Gold  \\\n",
       "0  115.00001   Seeking Alpha  ETF Analysis  |  About: Global...     0   \n",
       "1  330.00001   Options for clients concerned about how IHT l...     0   \n",
       "2  315.00016   Cackley said that figure indicates loan servi...     0   \n",
       "3  184.00007   A taxpayer has normally been required to file...     0   \n",
       "4  241.00002   I was excited to listen…and thanks to Paula f...     0   \n",
       "\n",
       "                              unique_id  \n",
       "0  59aabda8-b867-43eb-bb6d-c9ba59fb8025  \n",
       "1  90866e7b-1440-4d65-a333-17389c1a3705  \n",
       "2  dbbd03a4-2b62-4f99-bc0b-597a64f2ce60  \n",
       "3  72440cd6-7729-4337-b476-3d0b29eec078  \n",
       "4  ed17a935-0095-4b3b-99f6-9798c32d5b68  "
      ]
     },
     "execution_count": 5,
     "metadata": {},
     "output_type": "execute_result"
    }
   ],
   "source": [
    "fincausal_task1_train_df = pd.read_csv(fincausal_task1_train_path)\n",
    "fincausal_task1_train_df.head()"
   ]
  },
  {
   "cell_type": "code",
   "execution_count": 6,
   "metadata": {},
   "outputs": [
    {
     "data": {
      "text/html": [
       "<div>\n",
       "<style scoped>\n",
       "    .dataframe tbody tr th:only-of-type {\n",
       "        vertical-align: middle;\n",
       "    }\n",
       "\n",
       "    .dataframe tbody tr th {\n",
       "        vertical-align: top;\n",
       "    }\n",
       "\n",
       "    .dataframe thead th {\n",
       "        text-align: right;\n",
       "    }\n",
       "</style>\n",
       "<table border=\"1\" class=\"dataframe\">\n",
       "  <thead>\n",
       "    <tr style=\"text-align: right;\">\n",
       "      <th></th>\n",
       "      <th>Index</th>\n",
       "      <th>Text</th>\n",
       "      <th>Gold</th>\n",
       "      <th>unique_id</th>\n",
       "    </tr>\n",
       "  </thead>\n",
       "  <tbody>\n",
       "    <tr>\n",
       "      <th>0</th>\n",
       "      <td>None</td>\n",
       "      <td>Results indicated that boys with ADHD , relati...</td>\n",
       "      <td>1</td>\n",
       "      <td>3eeb82eb-4cad-44e0-bf56-3b96bc3a7e3d</td>\n",
       "    </tr>\n",
       "    <tr>\n",
       "      <th>1</th>\n",
       "      <td>None</td>\n",
       "      <td>Ticagrelor appears to provide higher value for...</td>\n",
       "      <td>0</td>\n",
       "      <td>8039361e-0f53-4d0d-95d6-360dda5331d2</td>\n",
       "    </tr>\n",
       "    <tr>\n",
       "      <th>2</th>\n",
       "      <td>None</td>\n",
       "      <td>Whatever the mechanism , active smoking is an ...</td>\n",
       "      <td>1</td>\n",
       "      <td>db9ffc00-2adf-45d6-b896-a5398e7a9784</td>\n",
       "    </tr>\n",
       "    <tr>\n",
       "      <th>3</th>\n",
       "      <td>None</td>\n",
       "      <td>In this study , we examined whether use of an ...</td>\n",
       "      <td>0</td>\n",
       "      <td>7029f05f-1338-4885-8f82-4233d214d5b5</td>\n",
       "    </tr>\n",
       "    <tr>\n",
       "      <th>4</th>\n",
       "      <td>None</td>\n",
       "      <td>Using causal inference testing , we searched c...</td>\n",
       "      <td>0</td>\n",
       "      <td>3c309a96-20a8-4861-8b38-4ab2cb319e29</td>\n",
       "    </tr>\n",
       "  </tbody>\n",
       "</table>\n",
       "</div>"
      ],
      "text/plain": [
       "  Index                                               Text  Gold  \\\n",
       "0  None  Results indicated that boys with ADHD , relati...     1   \n",
       "1  None  Ticagrelor appears to provide higher value for...     0   \n",
       "2  None  Whatever the mechanism , active smoking is an ...     1   \n",
       "3  None  In this study , we examined whether use of an ...     0   \n",
       "4  None  Using causal inference testing , we searched c...     0   \n",
       "\n",
       "                              unique_id  \n",
       "0  3eeb82eb-4cad-44e0-bf56-3b96bc3a7e3d  \n",
       "1  8039361e-0f53-4d0d-95d6-360dda5331d2  \n",
       "2  db9ffc00-2adf-45d6-b896-a5398e7a9784  \n",
       "3  7029f05f-1338-4885-8f82-4233d214d5b5  \n",
       "4  3c309a96-20a8-4861-8b38-4ab2cb319e29  "
      ]
     },
     "execution_count": 6,
     "metadata": {},
     "output_type": "execute_result"
    }
   ],
   "source": [
    "causaly_df = pd.DataFrame({\n",
    "    'Index': None,\n",
    "    'Text': causaly_df.sentence,\n",
    "    'Gold': causaly_df.causal,\n",
    "    'unique_id': [str(uuid.uuid4()) for _ in range(len(causaly_df))]\n",
    "})\n",
    "causaly_df.head()"
   ]
  },
  {
   "cell_type": "code",
   "execution_count": 7,
   "metadata": {},
   "outputs": [
    {
     "data": {
      "text/plain": [
       "(8902, 4)"
      ]
     },
     "execution_count": 7,
     "metadata": {},
     "output_type": "execute_result"
    }
   ],
   "source": [
    "merged_df = pd.concat([fincausal_task1_train_df, causaly_df])\n",
    "merged_df.shape"
   ]
  },
  {
   "cell_type": "code",
   "execution_count": 8,
   "metadata": {},
   "outputs": [
    {
     "data": {
      "text/html": [
       "<div>\n",
       "<style scoped>\n",
       "    .dataframe tbody tr th:only-of-type {\n",
       "        vertical-align: middle;\n",
       "    }\n",
       "\n",
       "    .dataframe tbody tr th {\n",
       "        vertical-align: top;\n",
       "    }\n",
       "\n",
       "    .dataframe thead th {\n",
       "        text-align: right;\n",
       "    }\n",
       "</style>\n",
       "<table border=\"1\" class=\"dataframe\">\n",
       "  <thead>\n",
       "    <tr style=\"text-align: right;\">\n",
       "      <th></th>\n",
       "      <th>Index</th>\n",
       "      <th>Text</th>\n",
       "      <th>Gold</th>\n",
       "      <th>unique_id</th>\n",
       "    </tr>\n",
       "  </thead>\n",
       "  <tbody>\n",
       "    <tr>\n",
       "      <th>0</th>\n",
       "      <td>115</td>\n",
       "      <td>Seeking Alpha  ETF Analysis  |  About: Global...</td>\n",
       "      <td>0</td>\n",
       "      <td>59aabda8-b867-43eb-bb6d-c9ba59fb8025</td>\n",
       "    </tr>\n",
       "    <tr>\n",
       "      <th>1</th>\n",
       "      <td>330</td>\n",
       "      <td>Options for clients concerned about how IHT l...</td>\n",
       "      <td>0</td>\n",
       "      <td>90866e7b-1440-4d65-a333-17389c1a3705</td>\n",
       "    </tr>\n",
       "    <tr>\n",
       "      <th>2</th>\n",
       "      <td>315</td>\n",
       "      <td>Cackley said that figure indicates loan servi...</td>\n",
       "      <td>0</td>\n",
       "      <td>dbbd03a4-2b62-4f99-bc0b-597a64f2ce60</td>\n",
       "    </tr>\n",
       "    <tr>\n",
       "      <th>3</th>\n",
       "      <td>184</td>\n",
       "      <td>A taxpayer has normally been required to file...</td>\n",
       "      <td>0</td>\n",
       "      <td>72440cd6-7729-4337-b476-3d0b29eec078</td>\n",
       "    </tr>\n",
       "    <tr>\n",
       "      <th>4</th>\n",
       "      <td>241</td>\n",
       "      <td>I was excited to listen…and thanks to Paula f...</td>\n",
       "      <td>0</td>\n",
       "      <td>ed17a935-0095-4b3b-99f6-9798c32d5b68</td>\n",
       "    </tr>\n",
       "  </tbody>\n",
       "</table>\n",
       "</div>"
      ],
      "text/plain": [
       "  Index                                               Text  Gold  \\\n",
       "0   115   Seeking Alpha  ETF Analysis  |  About: Global...     0   \n",
       "1   330   Options for clients concerned about how IHT l...     0   \n",
       "2   315   Cackley said that figure indicates loan servi...     0   \n",
       "3   184   A taxpayer has normally been required to file...     0   \n",
       "4   241   I was excited to listen…and thanks to Paula f...     0   \n",
       "\n",
       "                              unique_id  \n",
       "0  59aabda8-b867-43eb-bb6d-c9ba59fb8025  \n",
       "1  90866e7b-1440-4d65-a333-17389c1a3705  \n",
       "2  dbbd03a4-2b62-4f99-bc0b-597a64f2ce60  \n",
       "3  72440cd6-7729-4337-b476-3d0b29eec078  \n",
       "4  ed17a935-0095-4b3b-99f6-9798c32d5b68  "
      ]
     },
     "execution_count": 8,
     "metadata": {},
     "output_type": "execute_result"
    }
   ],
   "source": [
    "merged_df.head()"
   ]
  },
  {
   "cell_type": "code",
   "execution_count": 9,
   "metadata": {},
   "outputs": [
    {
     "data": {
      "text/plain": [
       "0    0.823523\n",
       "1    0.176477\n",
       "Name: Gold, dtype: float64"
      ]
     },
     "execution_count": 9,
     "metadata": {},
     "output_type": "execute_result"
    }
   ],
   "source": [
    "merged_df.Gold.value_counts() / len(merged_df)"
   ]
  },
  {
   "cell_type": "code",
   "execution_count": 10,
   "metadata": {},
   "outputs": [],
   "source": [
    "merged_df.to_csv('/media/sarthak/HDD/data_science/fnp_resources/data/task1/train_on_trial_and_test_on_practice/train_with_causaly_imbalanced.csv', index=False)"
   ]
  }
 ],
 "metadata": {
  "kernelspec": {
   "display_name": "Python fnp",
   "language": "python",
   "name": "fnp"
  },
  "language_info": {
   "codemirror_mode": {
    "name": "ipython",
    "version": 3
   },
   "file_extension": ".py",
   "mimetype": "text/x-python",
   "name": "python",
   "nbconvert_exporter": "python",
   "pygments_lexer": "ipython3",
   "version": "3.6.7"
  }
 },
 "nbformat": 4,
 "nbformat_minor": 4
}
