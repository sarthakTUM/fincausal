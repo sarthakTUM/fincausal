{
 "cells": [
  {
   "cell_type": "code",
   "execution_count": 2,
   "metadata": {},
   "outputs": [],
   "source": [
    "import pandas as pd\n",
    "from pathlib import Path\n",
    "import uuid"
   ]
  },
  {
   "cell_type": "code",
   "execution_count": 3,
   "metadata": {},
   "outputs": [],
   "source": [
    "fincausal_task1_train_path = Path('/media/sarthak/HDD/data_science/fnp_resources/data/task1/trial/train.csv')\n",
    "causaly_all_data_path = Path('/media/sarthak/HDD/data_science/fnp_resources/data/extra/causaly.csv')"
   ]
  },
  {
   "cell_type": "code",
   "execution_count": 4,
   "metadata": {},
   "outputs": [
    {
     "data": {
      "text/html": [
       "<div>\n",
       "<style scoped>\n",
       "    .dataframe tbody tr th:only-of-type {\n",
       "        vertical-align: middle;\n",
       "    }\n",
       "\n",
       "    .dataframe tbody tr th {\n",
       "        vertical-align: top;\n",
       "    }\n",
       "\n",
       "    .dataframe thead th {\n",
       "        text-align: right;\n",
       "    }\n",
       "</style>\n",
       "<table border=\"1\" class=\"dataframe\">\n",
       "  <thead>\n",
       "    <tr style=\"text-align: right;\">\n",
       "      <th></th>\n",
       "      <th>sentence</th>\n",
       "      <th>causal</th>\n",
       "    </tr>\n",
       "  </thead>\n",
       "  <tbody>\n",
       "    <tr>\n",
       "      <th>0</th>\n",
       "      <td>Results indicated that boys with ADHD , relati...</td>\n",
       "      <td>1</td>\n",
       "    </tr>\n",
       "    <tr>\n",
       "      <th>1</th>\n",
       "      <td>Ticagrelor appears to provide higher value for...</td>\n",
       "      <td>0</td>\n",
       "    </tr>\n",
       "    <tr>\n",
       "      <th>2</th>\n",
       "      <td>Whatever the mechanism , active smoking is an ...</td>\n",
       "      <td>1</td>\n",
       "    </tr>\n",
       "    <tr>\n",
       "      <th>3</th>\n",
       "      <td>In this study , we examined whether use of an ...</td>\n",
       "      <td>0</td>\n",
       "    </tr>\n",
       "    <tr>\n",
       "      <th>4</th>\n",
       "      <td>Using causal inference testing , we searched c...</td>\n",
       "      <td>0</td>\n",
       "    </tr>\n",
       "  </tbody>\n",
       "</table>\n",
       "</div>"
      ],
      "text/plain": [
       "                                            sentence  causal\n",
       "0  Results indicated that boys with ADHD , relati...       1\n",
       "1  Ticagrelor appears to provide higher value for...       0\n",
       "2  Whatever the mechanism , active smoking is an ...       1\n",
       "3  In this study , we examined whether use of an ...       0\n",
       "4  Using causal inference testing , we searched c...       0"
      ]
     },
     "execution_count": 4,
     "metadata": {},
     "output_type": "execute_result"
    }
   ],
   "source": [
    "causaly_df = pd.read_csv(causaly_all_data_path)\n",
    "causaly_df.head()"
   ]
  },
  {
   "cell_type": "code",
   "execution_count": 5,
   "metadata": {},
   "outputs": [
    {
     "data": {
      "text/plain": [
       "(2000, 2)"
      ]
     },
     "execution_count": 5,
     "metadata": {},
     "output_type": "execute_result"
    }
   ],
   "source": [
    "causaly_df.shape"
   ]
  },
  {
   "cell_type": "code",
   "execution_count": 6,
   "metadata": {},
   "outputs": [
    {
     "data": {
      "text/html": [
       "<div>\n",
       "<style scoped>\n",
       "    .dataframe tbody tr th:only-of-type {\n",
       "        vertical-align: middle;\n",
       "    }\n",
       "\n",
       "    .dataframe tbody tr th {\n",
       "        vertical-align: top;\n",
       "    }\n",
       "\n",
       "    .dataframe thead th {\n",
       "        text-align: right;\n",
       "    }\n",
       "</style>\n",
       "<table border=\"1\" class=\"dataframe\">\n",
       "  <thead>\n",
       "    <tr style=\"text-align: right;\">\n",
       "      <th></th>\n",
       "      <th>Index</th>\n",
       "      <th>Gold</th>\n",
       "      <th>Text</th>\n",
       "      <th>unique_id</th>\n",
       "    </tr>\n",
       "  </thead>\n",
       "  <tbody>\n",
       "    <tr>\n",
       "      <th>0</th>\n",
       "      <td>3135</td>\n",
       "      <td>0</td>\n",
       "      <td>We have the highest child poverty rate of almo...</td>\n",
       "      <td>b51542ef-e583-4551-aa90-9475f60bf65a</td>\n",
       "    </tr>\n",
       "    <tr>\n",
       "      <th>1</th>\n",
       "      <td>4340</td>\n",
       "      <td>0</td>\n",
       "      <td>Price is nearly everything - and nearly every ...</td>\n",
       "      <td>f05532da-f6f8-4287-9f11-9a4c7b9ef786</td>\n",
       "    </tr>\n",
       "    <tr>\n",
       "      <th>2</th>\n",
       "      <td>1312</td>\n",
       "      <td>0</td>\n",
       "      <td>We do not write articles to promote products. ...</td>\n",
       "      <td>a6f3230a-4908-4715-b7e7-4355414e7347</td>\n",
       "    </tr>\n",
       "    <tr>\n",
       "      <th>3</th>\n",
       "      <td>4936</td>\n",
       "      <td>0</td>\n",
       "      <td>They were now theoretically worth north of a $...</td>\n",
       "      <td>c65800bc-5629-4ac9-9e80-5543bf786a51</td>\n",
       "    </tr>\n",
       "    <tr>\n",
       "      <th>4</th>\n",
       "      <td>1093</td>\n",
       "      <td>0</td>\n",
       "      <td>The solution  Susan explains she wishes to inv...</td>\n",
       "      <td>a7b1153c-d802-4cb6-9e22-1208734ed909</td>\n",
       "    </tr>\n",
       "  </tbody>\n",
       "</table>\n",
       "</div>"
      ],
      "text/plain": [
       "   Index  Gold                                               Text  \\\n",
       "0   3135     0  We have the highest child poverty rate of almo...   \n",
       "1   4340     0  Price is nearly everything - and nearly every ...   \n",
       "2   1312     0  We do not write articles to promote products. ...   \n",
       "3   4936     0  They were now theoretically worth north of a $...   \n",
       "4   1093     0  The solution  Susan explains she wishes to inv...   \n",
       "\n",
       "                              unique_id  \n",
       "0  b51542ef-e583-4551-aa90-9475f60bf65a  \n",
       "1  f05532da-f6f8-4287-9f11-9a4c7b9ef786  \n",
       "2  a6f3230a-4908-4715-b7e7-4355414e7347  \n",
       "3  c65800bc-5629-4ac9-9e80-5543bf786a51  \n",
       "4  a7b1153c-d802-4cb6-9e22-1208734ed909  "
      ]
     },
     "execution_count": 6,
     "metadata": {},
     "output_type": "execute_result"
    }
   ],
   "source": [
    "fincausal_task1_train_df = pd.read_csv(fincausal_task1_train_path)\n",
    "fincausal_task1_train_df.head()"
   ]
  },
  {
   "cell_type": "code",
   "execution_count": 8,
   "metadata": {},
   "outputs": [
    {
     "data": {
      "text/html": [
       "<div>\n",
       "<style scoped>\n",
       "    .dataframe tbody tr th:only-of-type {\n",
       "        vertical-align: middle;\n",
       "    }\n",
       "\n",
       "    .dataframe tbody tr th {\n",
       "        vertical-align: top;\n",
       "    }\n",
       "\n",
       "    .dataframe thead th {\n",
       "        text-align: right;\n",
       "    }\n",
       "</style>\n",
       "<table border=\"1\" class=\"dataframe\">\n",
       "  <thead>\n",
       "    <tr style=\"text-align: right;\">\n",
       "      <th></th>\n",
       "      <th>Index</th>\n",
       "      <th>Text</th>\n",
       "      <th>Gold</th>\n",
       "      <th>unique_id</th>\n",
       "    </tr>\n",
       "  </thead>\n",
       "  <tbody>\n",
       "    <tr>\n",
       "      <th>0</th>\n",
       "      <td>None</td>\n",
       "      <td>Results indicated that boys with ADHD , relati...</td>\n",
       "      <td>1</td>\n",
       "      <td>47f8884a-b30a-4a89-b683-68cb5a60ba40</td>\n",
       "    </tr>\n",
       "    <tr>\n",
       "      <th>1</th>\n",
       "      <td>None</td>\n",
       "      <td>Ticagrelor appears to provide higher value for...</td>\n",
       "      <td>0</td>\n",
       "      <td>d5d7b2bd-18c2-4a7c-902d-2e7307d4c2b9</td>\n",
       "    </tr>\n",
       "    <tr>\n",
       "      <th>2</th>\n",
       "      <td>None</td>\n",
       "      <td>Whatever the mechanism , active smoking is an ...</td>\n",
       "      <td>1</td>\n",
       "      <td>c1b7c733-7306-49eb-ab94-eb4dee4aa580</td>\n",
       "    </tr>\n",
       "    <tr>\n",
       "      <th>3</th>\n",
       "      <td>None</td>\n",
       "      <td>In this study , we examined whether use of an ...</td>\n",
       "      <td>0</td>\n",
       "      <td>46a93483-2d42-4545-8785-c5439a17ace9</td>\n",
       "    </tr>\n",
       "    <tr>\n",
       "      <th>4</th>\n",
       "      <td>None</td>\n",
       "      <td>Using causal inference testing , we searched c...</td>\n",
       "      <td>0</td>\n",
       "      <td>333dc134-33ff-44de-8fff-f1682aa8e955</td>\n",
       "    </tr>\n",
       "  </tbody>\n",
       "</table>\n",
       "</div>"
      ],
      "text/plain": [
       "  Index                                               Text  Gold  \\\n",
       "0  None  Results indicated that boys with ADHD , relati...     1   \n",
       "1  None  Ticagrelor appears to provide higher value for...     0   \n",
       "2  None  Whatever the mechanism , active smoking is an ...     1   \n",
       "3  None  In this study , we examined whether use of an ...     0   \n",
       "4  None  Using causal inference testing , we searched c...     0   \n",
       "\n",
       "                              unique_id  \n",
       "0  47f8884a-b30a-4a89-b683-68cb5a60ba40  \n",
       "1  d5d7b2bd-18c2-4a7c-902d-2e7307d4c2b9  \n",
       "2  c1b7c733-7306-49eb-ab94-eb4dee4aa580  \n",
       "3  46a93483-2d42-4545-8785-c5439a17ace9  \n",
       "4  333dc134-33ff-44de-8fff-f1682aa8e955  "
      ]
     },
     "execution_count": 8,
     "metadata": {},
     "output_type": "execute_result"
    }
   ],
   "source": [
    "causaly_df = pd.DataFrame({\n",
    "    'Index': None,\n",
    "    'Text': causaly_df.sentence,\n",
    "    'Gold': causaly_df.causal,\n",
    "    'unique_id': [str(uuid.uuid4()) for _ in range(len(causaly_df))]\n",
    "})\n",
    "causaly_df.head()"
   ]
  },
  {
   "cell_type": "code",
   "execution_count": 9,
   "metadata": {},
   "outputs": [
    {
     "data": {
      "text/plain": [
       "(6227, 4)"
      ]
     },
     "execution_count": 9,
     "metadata": {},
     "output_type": "execute_result"
    }
   ],
   "source": [
    "merged_df = pd.concat([fincausal_task1_train_df, causaly_df])\n",
    "merged_df.shape"
   ]
  },
  {
   "cell_type": "code",
   "execution_count": 10,
   "metadata": {},
   "outputs": [
    {
     "data": {
      "text/html": [
       "<div>\n",
       "<style scoped>\n",
       "    .dataframe tbody tr th:only-of-type {\n",
       "        vertical-align: middle;\n",
       "    }\n",
       "\n",
       "    .dataframe tbody tr th {\n",
       "        vertical-align: top;\n",
       "    }\n",
       "\n",
       "    .dataframe thead th {\n",
       "        text-align: right;\n",
       "    }\n",
       "</style>\n",
       "<table border=\"1\" class=\"dataframe\">\n",
       "  <thead>\n",
       "    <tr style=\"text-align: right;\">\n",
       "      <th></th>\n",
       "      <th>Index</th>\n",
       "      <th>Gold</th>\n",
       "      <th>Text</th>\n",
       "      <th>unique_id</th>\n",
       "    </tr>\n",
       "  </thead>\n",
       "  <tbody>\n",
       "    <tr>\n",
       "      <th>0</th>\n",
       "      <td>3135</td>\n",
       "      <td>0</td>\n",
       "      <td>We have the highest child poverty rate of almo...</td>\n",
       "      <td>b51542ef-e583-4551-aa90-9475f60bf65a</td>\n",
       "    </tr>\n",
       "    <tr>\n",
       "      <th>1</th>\n",
       "      <td>4340</td>\n",
       "      <td>0</td>\n",
       "      <td>Price is nearly everything - and nearly every ...</td>\n",
       "      <td>f05532da-f6f8-4287-9f11-9a4c7b9ef786</td>\n",
       "    </tr>\n",
       "    <tr>\n",
       "      <th>2</th>\n",
       "      <td>1312</td>\n",
       "      <td>0</td>\n",
       "      <td>We do not write articles to promote products. ...</td>\n",
       "      <td>a6f3230a-4908-4715-b7e7-4355414e7347</td>\n",
       "    </tr>\n",
       "    <tr>\n",
       "      <th>3</th>\n",
       "      <td>4936</td>\n",
       "      <td>0</td>\n",
       "      <td>They were now theoretically worth north of a $...</td>\n",
       "      <td>c65800bc-5629-4ac9-9e80-5543bf786a51</td>\n",
       "    </tr>\n",
       "    <tr>\n",
       "      <th>4</th>\n",
       "      <td>1093</td>\n",
       "      <td>0</td>\n",
       "      <td>The solution  Susan explains she wishes to inv...</td>\n",
       "      <td>a7b1153c-d802-4cb6-9e22-1208734ed909</td>\n",
       "    </tr>\n",
       "  </tbody>\n",
       "</table>\n",
       "</div>"
      ],
      "text/plain": [
       "  Index  Gold                                               Text  \\\n",
       "0  3135     0  We have the highest child poverty rate of almo...   \n",
       "1  4340     0  Price is nearly everything - and nearly every ...   \n",
       "2  1312     0  We do not write articles to promote products. ...   \n",
       "3  4936     0  They were now theoretically worth north of a $...   \n",
       "4  1093     0  The solution  Susan explains she wishes to inv...   \n",
       "\n",
       "                              unique_id  \n",
       "0  b51542ef-e583-4551-aa90-9475f60bf65a  \n",
       "1  f05532da-f6f8-4287-9f11-9a4c7b9ef786  \n",
       "2  a6f3230a-4908-4715-b7e7-4355414e7347  \n",
       "3  c65800bc-5629-4ac9-9e80-5543bf786a51  \n",
       "4  a7b1153c-d802-4cb6-9e22-1208734ed909  "
      ]
     },
     "execution_count": 10,
     "metadata": {},
     "output_type": "execute_result"
    }
   ],
   "source": [
    "merged_df.head()"
   ]
  },
  {
   "cell_type": "code",
   "execution_count": 11,
   "metadata": {},
   "outputs": [
    {
     "data": {
      "text/plain": [
       "0    0.771318\n",
       "1    0.228682\n",
       "Name: Gold, dtype: float64"
      ]
     },
     "execution_count": 11,
     "metadata": {},
     "output_type": "execute_result"
    }
   ],
   "source": [
    "merged_df.Gold.value_counts() / len(merged_df)"
   ]
  },
  {
   "cell_type": "code",
   "execution_count": 12,
   "metadata": {},
   "outputs": [],
   "source": [
    "merged_df.to_csv('/media/sarthak/HDD/data_science/fnp_resources/data/task1/trial/train_with_causaly_all.csv', index=False)"
   ]
  }
 ],
 "metadata": {
  "kernelspec": {
   "display_name": "Python fnp",
   "language": "python",
   "name": "fnp"
  },
  "language_info": {
   "codemirror_mode": {
    "name": "ipython",
    "version": 3
   },
   "file_extension": ".py",
   "mimetype": "text/x-python",
   "name": "python",
   "nbconvert_exporter": "python",
   "pygments_lexer": "ipython3",
   "version": "3.6.7"
  }
 },
 "nbformat": 4,
 "nbformat_minor": 4
}
