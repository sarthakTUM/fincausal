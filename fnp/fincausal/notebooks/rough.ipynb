{
 "cells": [
  {
   "cell_type": "code",
   "execution_count": 9,
   "metadata": {},
   "outputs": [],
   "source": [
    "import pandas as pd\n",
    "from imblearn.over_sampling import RandomOverSampler\n",
    "import numpy as np"
   ]
  },
  {
   "cell_type": "code",
   "execution_count": 2,
   "metadata": {},
   "outputs": [
    {
     "data": {
      "text/html": [
       "<div>\n",
       "<style scoped>\n",
       "    .dataframe tbody tr th:only-of-type {\n",
       "        vertical-align: middle;\n",
       "    }\n",
       "\n",
       "    .dataframe tbody tr th {\n",
       "        vertical-align: top;\n",
       "    }\n",
       "\n",
       "    .dataframe thead th {\n",
       "        text-align: right;\n",
       "    }\n",
       "</style>\n",
       "<table border=\"1\" class=\"dataframe\">\n",
       "  <thead>\n",
       "    <tr style=\"text-align: right;\">\n",
       "      <th></th>\n",
       "      <th>text</th>\n",
       "      <th>label</th>\n",
       "    </tr>\n",
       "  </thead>\n",
       "  <tbody>\n",
       "    <tr>\n",
       "      <th>0</th>\n",
       "      <td>I m good</td>\n",
       "      <td>0</td>\n",
       "    </tr>\n",
       "    <tr>\n",
       "      <th>1</th>\n",
       "      <td>hey</td>\n",
       "      <td>0</td>\n",
       "    </tr>\n",
       "    <tr>\n",
       "      <th>2</th>\n",
       "      <td>how are you</td>\n",
       "      <td>1</td>\n",
       "    </tr>\n",
       "  </tbody>\n",
       "</table>\n",
       "</div>"
      ],
      "text/plain": [
       "          text  label\n",
       "0     I m good      0\n",
       "1          hey      0\n",
       "2  how are you      1"
      ]
     },
     "execution_count": 2,
     "metadata": {},
     "output_type": "execute_result"
    }
   ],
   "source": [
    "test_df = pd.DataFrame({\n",
    "    'text': ['I m good', 'hey', 'how are you'],\n",
    "    'label': [0, 0, 1]\n",
    "})\n",
    "test_df.head()"
   ]
  },
  {
   "cell_type": "code",
   "execution_count": 13,
   "metadata": {},
   "outputs": [],
   "source": [
    "ros = RandomOverSampler(random_state=42)"
   ]
  },
  {
   "cell_type": "code",
   "execution_count": 25,
   "metadata": {},
   "outputs": [],
   "source": [
    "    x, y = ros.fit_resample(test_df['text'].values[..., np.newaxis], test_df['label'])"
   ]
  },
  {
   "cell_type": "code",
   "execution_count": 29,
   "metadata": {},
   "outputs": [
    {
     "data": {
      "text/plain": [
       "(4,)"
      ]
     },
     "execution_count": 29,
     "metadata": {},
     "output_type": "execute_result"
    }
   ],
   "source": [
    "x.flatten().shape"
   ]
  },
  {
   "cell_type": "code",
   "execution_count": 30,
   "metadata": {},
   "outputs": [
    {
     "data": {
      "text/html": [
       "<div>\n",
       "<style scoped>\n",
       "    .dataframe tbody tr th:only-of-type {\n",
       "        vertical-align: middle;\n",
       "    }\n",
       "\n",
       "    .dataframe tbody tr th {\n",
       "        vertical-align: top;\n",
       "    }\n",
       "\n",
       "    .dataframe thead th {\n",
       "        text-align: right;\n",
       "    }\n",
       "</style>\n",
       "<table border=\"1\" class=\"dataframe\">\n",
       "  <thead>\n",
       "    <tr style=\"text-align: right;\">\n",
       "      <th></th>\n",
       "      <th>text</th>\n",
       "      <th>label</th>\n",
       "    </tr>\n",
       "  </thead>\n",
       "  <tbody>\n",
       "    <tr>\n",
       "      <th>0</th>\n",
       "      <td>I m good</td>\n",
       "      <td>0</td>\n",
       "    </tr>\n",
       "    <tr>\n",
       "      <th>1</th>\n",
       "      <td>hey</td>\n",
       "      <td>0</td>\n",
       "    </tr>\n",
       "    <tr>\n",
       "      <th>2</th>\n",
       "      <td>how are you</td>\n",
       "      <td>1</td>\n",
       "    </tr>\n",
       "    <tr>\n",
       "      <th>3</th>\n",
       "      <td>how are you</td>\n",
       "      <td>1</td>\n",
       "    </tr>\n",
       "  </tbody>\n",
       "</table>\n",
       "</div>"
      ],
      "text/plain": [
       "          text  label\n",
       "0     I m good      0\n",
       "1          hey      0\n",
       "2  how are you      1\n",
       "3  how are you      1"
      ]
     },
     "execution_count": 30,
     "metadata": {},
     "output_type": "execute_result"
    }
   ],
   "source": [
    "test_df = pd.DataFrame({\n",
    "    'text': x.flatten(),\n",
    "    'label': y\n",
    "})\n",
    "test_df.head()"
   ]
  },
  {
   "cell_type": "code",
   "execution_count": 3,
   "metadata": {},
   "outputs": [],
   "source": [
    "import pandas as pd\n",
    "from pathlib import Path"
   ]
  },
  {
   "cell_type": "code",
   "execution_count": 8,
   "metadata": {},
   "outputs": [
    {
     "name": "stderr",
     "output_type": "stream",
     "text": [
      "/media/sarthak/HDD/Anaconda/envs/fnp/lib/python3.6/site-packages/ipykernel_launcher.py:1: ParserWarning: Falling back to the 'python' engine because the 'c' engine does not support regex separators (separators > 1 char and different from '\\s+' are interpreted as regex); you can avoid this warning by specifying engine='python'.\n",
      "  \"\"\"Entry point for launching an IPython kernel.\n"
     ]
    }
   ],
   "source": [
    "prac = pd.read_csv(Path('/media/sarthak/HDD/data_science/fnp_resources/fincasual-2020-master/data/practice/task1.csv'), sep='; ' )\n",
    "train = pd.read_csv(Path('/media/sarthak/HDD/data_science/fnp_resources/fincasual-2020-master/data/train.csv'))"
   ]
  },
  {
   "cell_type": "code",
   "execution_count": 9,
   "metadata": {},
   "outputs": [
    {
     "data": {
      "text/html": [
       "<div>\n",
       "<style scoped>\n",
       "    .dataframe tbody tr th:only-of-type {\n",
       "        vertical-align: middle;\n",
       "    }\n",
       "\n",
       "    .dataframe tbody tr th {\n",
       "        vertical-align: top;\n",
       "    }\n",
       "\n",
       "    .dataframe thead th {\n",
       "        text-align: right;\n",
       "    }\n",
       "</style>\n",
       "<table border=\"1\" class=\"dataframe\">\n",
       "  <thead>\n",
       "    <tr style=\"text-align: right;\">\n",
       "      <th></th>\n",
       "      <th>index</th>\n",
       "      <th>text</th>\n",
       "      <th>gold</th>\n",
       "    </tr>\n",
       "  </thead>\n",
       "  <tbody>\n",
       "    <tr>\n",
       "      <th>0</th>\n",
       "      <td>294.00028</td>\n",
       "      <td>If it makes sense for the answer to be shared...</td>\n",
       "      <td>0</td>\n",
       "    </tr>\n",
       "    <tr>\n",
       "      <th>1</th>\n",
       "      <td>262.00009</td>\n",
       "      <td>This tends to reduce your future returns.</td>\n",
       "      <td>0</td>\n",
       "    </tr>\n",
       "    <tr>\n",
       "      <th>2</th>\n",
       "      <td>147.00013</td>\n",
       "      <td>This is taxable to the extent that exceeds £4...</td>\n",
       "      <td>0</td>\n",
       "    </tr>\n",
       "    <tr>\n",
       "      <th>3</th>\n",
       "      <td>380.00021</td>\n",
       "      <td>The LGIM segment provides index fund manageme...</td>\n",
       "      <td>0</td>\n",
       "    </tr>\n",
       "    <tr>\n",
       "      <th>4</th>\n",
       "      <td>218.00209</td>\n",
       "      <td>experimenting with a new form of content woul...</td>\n",
       "      <td>0</td>\n",
       "    </tr>\n",
       "  </tbody>\n",
       "</table>\n",
       "</div>"
      ],
      "text/plain": [
       "       index                                               text  gold\n",
       "0  294.00028   If it makes sense for the answer to be shared...     0\n",
       "1  262.00009          This tends to reduce your future returns.     0\n",
       "2  147.00013   This is taxable to the extent that exceeds £4...     0\n",
       "3  380.00021   The LGIM segment provides index fund manageme...     0\n",
       "4  218.00209   experimenting with a new form of content woul...     0"
      ]
     },
     "execution_count": 9,
     "metadata": {},
     "output_type": "execute_result"
    }
   ],
   "source": [
    "train.head()"
   ]
  },
  {
   "cell_type": "code",
   "execution_count": 10,
   "metadata": {},
   "outputs": [
    {
     "data": {
      "text/html": [
       "<div>\n",
       "<style scoped>\n",
       "    .dataframe tbody tr th:only-of-type {\n",
       "        vertical-align: middle;\n",
       "    }\n",
       "\n",
       "    .dataframe tbody tr th {\n",
       "        vertical-align: top;\n",
       "    }\n",
       "\n",
       "    .dataframe thead th {\n",
       "        text-align: right;\n",
       "    }\n",
       "</style>\n",
       "<table border=\"1\" class=\"dataframe\">\n",
       "  <thead>\n",
       "    <tr style=\"text-align: right;\">\n",
       "      <th></th>\n",
       "      <th>Index</th>\n",
       "      <th>Text</th>\n",
       "      <th>Gold</th>\n",
       "    </tr>\n",
       "  </thead>\n",
       "  <tbody>\n",
       "    <tr>\n",
       "      <th>0</th>\n",
       "      <td>1.00001</td>\n",
       "      <td>Florida raking in billions as Americans abando...</td>\n",
       "      <td>0</td>\n",
       "    </tr>\n",
       "    <tr>\n",
       "      <th>1</th>\n",
       "      <td>1.00002</td>\n",
       "      <td>Recently, changes to the U.S. tax code have en...</td>\n",
       "      <td>0</td>\n",
       "    </tr>\n",
       "    <tr>\n",
       "      <th>2</th>\n",
       "      <td>1.00003</td>\n",
       "      <td>MORE FROM FOXBUSINESS.COM... As it turns out, ...</td>\n",
       "      <td>0</td>\n",
       "    </tr>\n",
       "    <tr>\n",
       "      <th>3</th>\n",
       "      <td>1.00004</td>\n",
       "      <td>According to a new study from LendingTree, whi...</td>\n",
       "      <td>0</td>\n",
       "    </tr>\n",
       "    <tr>\n",
       "      <th>4</th>\n",
       "      <td>1.00005</td>\n",
       "      <td>The Sunshine State drew in a net influx of abo...</td>\n",
       "      <td>1</td>\n",
       "    </tr>\n",
       "  </tbody>\n",
       "</table>\n",
       "</div>"
      ],
      "text/plain": [
       "     Index                                               Text  Gold\n",
       "0  1.00001  Florida raking in billions as Americans abando...     0\n",
       "1  1.00002  Recently, changes to the U.S. tax code have en...     0\n",
       "2  1.00003  MORE FROM FOXBUSINESS.COM... As it turns out, ...     0\n",
       "3  1.00004  According to a new study from LendingTree, whi...     0\n",
       "4  1.00005  The Sunshine State drew in a net influx of abo...     1"
      ]
     },
     "execution_count": 10,
     "metadata": {},
     "output_type": "execute_result"
    }
   ],
   "source": [
    "prac.head()"
   ]
  },
  {
   "cell_type": "code",
   "execution_count": 11,
   "metadata": {},
   "outputs": [
    {
     "data": {
      "text/plain": [
       "(18749, 3)"
      ]
     },
     "execution_count": 11,
     "metadata": {},
     "output_type": "execute_result"
    }
   ],
   "source": [
    "train.shape"
   ]
  },
  {
   "cell_type": "code",
   "execution_count": 12,
   "metadata": {},
   "outputs": [
    {
     "data": {
      "text/plain": [
       "(13478, 3)"
      ]
     },
     "execution_count": 12,
     "metadata": {},
     "output_type": "execute_result"
    }
   ],
   "source": [
    "prac.shape"
   ]
  },
  {
   "cell_type": "code",
   "execution_count": 15,
   "metadata": {},
   "outputs": [
    {
     "data": {
      "text/html": [
       "<div>\n",
       "<style scoped>\n",
       "    .dataframe tbody tr th:only-of-type {\n",
       "        vertical-align: middle;\n",
       "    }\n",
       "\n",
       "    .dataframe tbody tr th {\n",
       "        vertical-align: top;\n",
       "    }\n",
       "\n",
       "    .dataframe thead th {\n",
       "        text-align: right;\n",
       "    }\n",
       "</style>\n",
       "<table border=\"1\" class=\"dataframe\">\n",
       "  <thead>\n",
       "    <tr style=\"text-align: right;\">\n",
       "      <th></th>\n",
       "      <th>index</th>\n",
       "      <th>text</th>\n",
       "      <th>gold</th>\n",
       "      <th>Index</th>\n",
       "      <th>Text</th>\n",
       "      <th>Gold</th>\n",
       "    </tr>\n",
       "  </thead>\n",
       "  <tbody>\n",
       "    <tr>\n",
       "      <th>0</th>\n",
       "      <td>262.00009</td>\n",
       "      <td>This tends to reduce your future returns.</td>\n",
       "      <td>0</td>\n",
       "      <td>262.00009</td>\n",
       "      <td>Among a certain crowd - mostly online, and mos...</td>\n",
       "      <td>0</td>\n",
       "    </tr>\n",
       "    <tr>\n",
       "      <th>1</th>\n",
       "      <td>147.00013</td>\n",
       "      <td>This is taxable to the extent that exceeds £4...</td>\n",
       "      <td>0</td>\n",
       "      <td>147.00013</td>\n",
       "      <td>This is taxable to the extent that exceeds £40...</td>\n",
       "      <td>0</td>\n",
       "    </tr>\n",
       "    <tr>\n",
       "      <th>2</th>\n",
       "      <td>380.00021</td>\n",
       "      <td>The LGIM segment provides index fund manageme...</td>\n",
       "      <td>0</td>\n",
       "      <td>380.00021</td>\n",
       "      <td>The LGIM segment provides index fund managemen...</td>\n",
       "      <td>0</td>\n",
       "    </tr>\n",
       "    <tr>\n",
       "      <th>3</th>\n",
       "      <td>40.00009</td>\n",
       "      <td>In addition to our San Diego headquarters, Bi...</td>\n",
       "      <td>0</td>\n",
       "      <td>40.00009</td>\n",
       "      <td>In addition to our San Diego headquarters, Bio...</td>\n",
       "      <td>0</td>\n",
       "    </tr>\n",
       "    <tr>\n",
       "      <th>4</th>\n",
       "      <td>40.00009</td>\n",
       "      <td>Musk's Compensation Package approved sharehol...</td>\n",
       "      <td>0</td>\n",
       "      <td>40.00009</td>\n",
       "      <td>In addition to our San Diego headquarters, Bio...</td>\n",
       "      <td>0</td>\n",
       "    </tr>\n",
       "    <tr>\n",
       "      <th>...</th>\n",
       "      <td>...</td>\n",
       "      <td>...</td>\n",
       "      <td>...</td>\n",
       "      <td>...</td>\n",
       "      <td>...</td>\n",
       "      <td>...</td>\n",
       "    </tr>\n",
       "    <tr>\n",
       "      <th>11606</th>\n",
       "      <td>132.00037</td>\n",
       "      <td>Growth potential analysis  3.4.1. By product ...</td>\n",
       "      <td>0</td>\n",
       "      <td>132.00037</td>\n",
       "      <td>Growth potential analysis  3.4.1. By product  ...</td>\n",
       "      <td>0</td>\n",
       "    </tr>\n",
       "    <tr>\n",
       "      <th>11607</th>\n",
       "      <td>416.00016</td>\n",
       "      <td>To make matters worse, there is no internatio...</td>\n",
       "      <td>0</td>\n",
       "      <td>416.00016</td>\n",
       "      <td>To make matters worse, there is no internation...</td>\n",
       "      <td>0</td>\n",
       "    </tr>\n",
       "    <tr>\n",
       "      <th>11608</th>\n",
       "      <td>91.00010</td>\n",
       "      <td>The Colorado DOR pegged the number of affecte...</td>\n",
       "      <td>0</td>\n",
       "      <td>91.00010</td>\n",
       "      <td>The Colorado DOR pegged the number of affected...</td>\n",
       "      <td>0</td>\n",
       "    </tr>\n",
       "    <tr>\n",
       "      <th>11609</th>\n",
       "      <td>430.00007</td>\n",
       "      <td>The board said Mr Smith was an executive dire...</td>\n",
       "      <td>0</td>\n",
       "      <td>430.00007</td>\n",
       "      <td>The board said Mr Smith was an executive direc...</td>\n",
       "      <td>0</td>\n",
       "    </tr>\n",
       "    <tr>\n",
       "      <th>11610</th>\n",
       "      <td>270.00017</td>\n",
       "      <td>Luminus Management LLC bought a new stake in ...</td>\n",
       "      <td>0</td>\n",
       "      <td>270.00017</td>\n",
       "      <td>Luminus Management LLC bought a new stake in R...</td>\n",
       "      <td>0</td>\n",
       "    </tr>\n",
       "  </tbody>\n",
       "</table>\n",
       "<p>11611 rows × 6 columns</p>\n",
       "</div>"
      ],
      "text/plain": [
       "           index                                               text  gold  \\\n",
       "0      262.00009          This tends to reduce your future returns.     0   \n",
       "1      147.00013   This is taxable to the extent that exceeds £4...     0   \n",
       "2      380.00021   The LGIM segment provides index fund manageme...     0   \n",
       "3       40.00009   In addition to our San Diego headquarters, Bi...     0   \n",
       "4       40.00009   Musk's Compensation Package approved sharehol...     0   \n",
       "...          ...                                                ...   ...   \n",
       "11606  132.00037   Growth potential analysis  3.4.1. By product ...     0   \n",
       "11607  416.00016   To make matters worse, there is no internatio...     0   \n",
       "11608   91.00010   The Colorado DOR pegged the number of affecte...     0   \n",
       "11609  430.00007   The board said Mr Smith was an executive dire...     0   \n",
       "11610  270.00017   Luminus Management LLC bought a new stake in ...     0   \n",
       "\n",
       "           Index                                               Text  Gold  \n",
       "0      262.00009  Among a certain crowd - mostly online, and mos...     0  \n",
       "1      147.00013  This is taxable to the extent that exceeds £40...     0  \n",
       "2      380.00021  The LGIM segment provides index fund managemen...     0  \n",
       "3       40.00009  In addition to our San Diego headquarters, Bio...     0  \n",
       "4       40.00009  In addition to our San Diego headquarters, Bio...     0  \n",
       "...          ...                                                ...   ...  \n",
       "11606  132.00037  Growth potential analysis  3.4.1. By product  ...     0  \n",
       "11607  416.00016  To make matters worse, there is no internation...     0  \n",
       "11608   91.00010  The Colorado DOR pegged the number of affected...     0  \n",
       "11609  430.00007  The board said Mr Smith was an executive direc...     0  \n",
       "11610  270.00017  Luminus Management LLC bought a new stake in R...     0  \n",
       "\n",
       "[11611 rows x 6 columns]"
      ]
     },
     "execution_count": 15,
     "metadata": {},
     "output_type": "execute_result"
    }
   ],
   "source": [
    "pd.merge(train, prac, left_on='index', right_on='Index')"
   ]
  },
  {
   "cell_type": "code",
   "execution_count": 38,
   "metadata": {},
   "outputs": [],
   "source": [
    "# val_preds = pd.read_csv(Path('/media/sarthak/HDD/data_science/fnp_resources/fincausal_t1_models/124_1/val_preds.csv'))\n",
    "test_preds = pd.read_csv(Path('/media/sarthak/HDD/data_science/fnp_resources/fincausal_t1_models/105_2/test_preds_n.csv'))\n",
    "eval_preds = pd.read_csv(Path('/media/sarthak/HDD/data_science/fnp_resources/fincausal_t1_models/105_2/eval_preds_n.csv'))"
   ]
  },
  {
   "cell_type": "code",
   "execution_count": 39,
   "metadata": {},
   "outputs": [],
   "source": [
    "\"\"\"\n",
    "val_preds.rename(columns={\n",
    "    'index':'Index',\n",
    "    'text': 'Text',\n",
    "    'gold': 'Gold',\n",
    "    'preds':'Prediction'}, inplace=True)\"\"\"\n",
    "test_preds.rename(columns={\n",
    "    'index':'Index',\n",
    "    'text': 'Text',\n",
    "    'gold': 'Gold',\n",
    "    'preds':'Prediction'}, inplace=True)\n",
    "eval_preds.rename(columns={\n",
    "    'index':'Index',\n",
    "    'text': 'Text',\n",
    "    'gold': 'Gold',\n",
    "    'preds':'Prediction'}, inplace=True)"
   ]
  },
  {
   "cell_type": "code",
   "execution_count": 31,
   "metadata": {},
   "outputs": [],
   "source": [
    "val_preds_path = Path('/media/sarthak/HDD/data_science/fnp_resources/fincausal_t1_models/124_1/output/best_model/inference_dev')\n",
    "val_preds.to_csv(val_preds_path / 'predictions.csv', index=False)"
   ]
  },
  {
   "cell_type": "code",
   "execution_count": 41,
   "metadata": {},
   "outputs": [],
   "source": [
    "test_preds_path = Path('/media/sarthak/HDD/data_science/fnp_resources/fincausal_t1_models/105_2/output/best_model/inference')\n",
    "test_preds_path.mkdir(parents=True)\n",
    "test_preds.to_csv(test_preds_path / 'predictions.csv', index=False)"
   ]
  },
  {
   "cell_type": "code",
   "execution_count": 43,
   "metadata": {},
   "outputs": [],
   "source": [
    "eval_preds_path = Path('/media/sarthak/HDD/data_science/fnp_resources/fincausal_t1_models/105_2/output/best_model/inference_eval')\n",
    "eval_preds_path.mkdir(parents=True)\n",
    "eval_preds.to_csv(eval_preds_path / 'predictions.csv', index=False)"
   ]
  },
  {
   "cell_type": "code",
   "execution_count": 4,
   "metadata": {},
   "outputs": [],
   "source": [
    "from sklearn.utils.class_weight import compute_class_weight\n",
    "import numpy as np"
   ]
  },
  {
   "cell_type": "code",
   "execution_count": 6,
   "metadata": {},
   "outputs": [],
   "source": [
    "y = [0, 1, 1, 0, 0, 0]"
   ]
  },
  {
   "cell_type": "code",
   "execution_count": 7,
   "metadata": {},
   "outputs": [
    {
     "name": "stderr",
     "output_type": "stream",
     "text": [
      "/media/sarthak/HDD/Anaconda/envs/fnp/lib/python3.6/site-packages/sklearn/utils/validation.py:71: FutureWarning: Pass classes=[0 1], y=[0, 1, 1, 0, 0, 0] as keyword args. From version 0.25 passing these as positional arguments will result in an error\n",
      "  FutureWarning)\n"
     ]
    },
    {
     "data": {
      "text/plain": [
       "array([0.75, 1.5 ])"
      ]
     },
     "execution_count": 7,
     "metadata": {},
     "output_type": "execute_result"
    }
   ],
   "source": [
    "compute_class_weight('balanced', np.unique(y), y)"
   ]
  },
  {
   "cell_type": "code",
   "execution_count": 10,
   "metadata": {},
   "outputs": [
    {
     "data": {
      "text/plain": [
       "0.75"
      ]
     },
     "execution_count": 10,
     "metadata": {},
     "output_type": "execute_result"
    }
   ],
   "source": [
    "6/(2*4) (N)/(c*)"
   ]
  },
  {
   "cell_type": "code",
   "execution_count": null,
   "metadata": {},
   "outputs": [],
   "source": []
  }
 ],
 "metadata": {
  "kernelspec": {
   "display_name": "Python fnp",
   "language": "python",
   "name": "fnp"
  },
  "language_info": {
   "codemirror_mode": {
    "name": "ipython",
    "version": 3
   },
   "file_extension": ".py",
   "mimetype": "text/x-python",
   "name": "python",
   "nbconvert_exporter": "python",
   "pygments_lexer": "ipython3",
   "version": "3.6.7"
  }
 },
 "nbformat": 4,
 "nbformat_minor": 4
}
