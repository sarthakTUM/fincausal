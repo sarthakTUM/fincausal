{
 "cells": [
  {
   "cell_type": "code",
   "execution_count": 1,
   "metadata": {},
   "outputs": [],
   "source": [
    "import pandas as pd\n",
    "from pathlib import Path\n",
    "import uuid"
   ]
  },
  {
   "cell_type": "code",
   "execution_count": 2,
   "metadata": {},
   "outputs": [],
   "source": [
    "fincausal_task1_train_path = Path('/media/sarthak/HDD/data_science/fnp_resources/data/task1/iteration_3/train.csv')\n",
    "ade_all_data_path = Path('/media/sarthak/HDD/data_science/fnp_resources/data/extra/ade.csv')"
   ]
  },
  {
   "cell_type": "code",
   "execution_count": 3,
   "metadata": {},
   "outputs": [
    {
     "data": {
      "text/html": [
       "<div>\n",
       "<style scoped>\n",
       "    .dataframe tbody tr th:only-of-type {\n",
       "        vertical-align: middle;\n",
       "    }\n",
       "\n",
       "    .dataframe tbody tr th {\n",
       "        vertical-align: top;\n",
       "    }\n",
       "\n",
       "    .dataframe thead th {\n",
       "        text-align: right;\n",
       "    }\n",
       "</style>\n",
       "<table border=\"1\" class=\"dataframe\">\n",
       "  <thead>\n",
       "    <tr style=\"text-align: right;\">\n",
       "      <th></th>\n",
       "      <th>sentences</th>\n",
       "      <th>causal</th>\n",
       "    </tr>\n",
       "  </thead>\n",
       "  <tbody>\n",
       "    <tr>\n",
       "      <th>0</th>\n",
       "      <td>At 1 year of age cardiovascular and renal func...</td>\n",
       "      <td>0</td>\n",
       "    </tr>\n",
       "    <tr>\n",
       "      <th>1</th>\n",
       "      <td>Chlorambucil-induced chromosome damage to huma...</td>\n",
       "      <td>1</td>\n",
       "    </tr>\n",
       "    <tr>\n",
       "      <th>2</th>\n",
       "      <td>Gingival hemorrhage, myelodysplastic syndromes...</td>\n",
       "      <td>0</td>\n",
       "    </tr>\n",
       "    <tr>\n",
       "      <th>3</th>\n",
       "      <td>The development of safer and more effective me...</td>\n",
       "      <td>0</td>\n",
       "    </tr>\n",
       "    <tr>\n",
       "      <th>4</th>\n",
       "      <td>Molluscum contagiosum is a common viral skin i...</td>\n",
       "      <td>0</td>\n",
       "    </tr>\n",
       "  </tbody>\n",
       "</table>\n",
       "</div>"
      ],
      "text/plain": [
       "                                           sentences  causal\n",
       "0  At 1 year of age cardiovascular and renal func...       0\n",
       "1  Chlorambucil-induced chromosome damage to huma...       1\n",
       "2  Gingival hemorrhage, myelodysplastic syndromes...       0\n",
       "3  The development of safer and more effective me...       0\n",
       "4  Molluscum contagiosum is a common viral skin i...       0"
      ]
     },
     "execution_count": 3,
     "metadata": {},
     "output_type": "execute_result"
    }
   ],
   "source": [
    "ade_df = pd.read_csv(ade_all_data_path)\n",
    "ade_df.head()"
   ]
  },
  {
   "cell_type": "code",
   "execution_count": 4,
   "metadata": {},
   "outputs": [
    {
     "data": {
      "text/plain": [
       "(20896, 2)"
      ]
     },
     "execution_count": 4,
     "metadata": {},
     "output_type": "execute_result"
    }
   ],
   "source": [
    "ade_df.shape"
   ]
  },
  {
   "cell_type": "code",
   "execution_count": 5,
   "metadata": {},
   "outputs": [
    {
     "data": {
      "text/html": [
       "<div>\n",
       "<style scoped>\n",
       "    .dataframe tbody tr th:only-of-type {\n",
       "        vertical-align: middle;\n",
       "    }\n",
       "\n",
       "    .dataframe tbody tr th {\n",
       "        vertical-align: top;\n",
       "    }\n",
       "\n",
       "    .dataframe thead th {\n",
       "        text-align: right;\n",
       "    }\n",
       "</style>\n",
       "<table border=\"1\" class=\"dataframe\">\n",
       "  <thead>\n",
       "    <tr style=\"text-align: right;\">\n",
       "      <th></th>\n",
       "      <th>Index</th>\n",
       "      <th>Text</th>\n",
       "      <th>Gold</th>\n",
       "      <th>unique_id</th>\n",
       "    </tr>\n",
       "  </thead>\n",
       "  <tbody>\n",
       "    <tr>\n",
       "      <th>0</th>\n",
       "      <td>81.00009</td>\n",
       "      <td>Look at which clients are delivering increasi...</td>\n",
       "      <td>0</td>\n",
       "      <td>849c40bc-8fce-433b-8dc8-6af727480679</td>\n",
       "    </tr>\n",
       "    <tr>\n",
       "      <th>1</th>\n",
       "      <td>357.00082</td>\n",
       "      <td>From foundation modules that introduce asset ...</td>\n",
       "      <td>0</td>\n",
       "      <td>694a6824-613c-4978-9e17-a45b77e2b485</td>\n",
       "    </tr>\n",
       "    <tr>\n",
       "      <th>2</th>\n",
       "      <td>471.00003</td>\n",
       "      <td>The law firm Kessler Topaz Meltzer &amp; Check LL...</td>\n",
       "      <td>0</td>\n",
       "      <td>661e6bf7-ffbf-4581-acff-8c246ecac51a</td>\n",
       "    </tr>\n",
       "    <tr>\n",
       "      <th>3</th>\n",
       "      <td>145.00017</td>\n",
       "      <td>(Source: EnWave Signs First Royalty-Bearing L...</td>\n",
       "      <td>0</td>\n",
       "      <td>be74b33e-8cdd-407b-a408-3ce4c65e32b3</td>\n",
       "    </tr>\n",
       "    <tr>\n",
       "      <th>4</th>\n",
       "      <td>48.00012</td>\n",
       "      <td>The Midwest, where Buffett is from, has a his...</td>\n",
       "      <td>0</td>\n",
       "      <td>a363e188-0393-433b-a86c-94d268eb473c</td>\n",
       "    </tr>\n",
       "  </tbody>\n",
       "</table>\n",
       "</div>"
      ],
      "text/plain": [
       "       Index                                               Text  Gold  \\\n",
       "0   81.00009   Look at which clients are delivering increasi...     0   \n",
       "1  357.00082   From foundation modules that introduce asset ...     0   \n",
       "2  471.00003   The law firm Kessler Topaz Meltzer & Check LL...     0   \n",
       "3  145.00017   (Source: EnWave Signs First Royalty-Bearing L...     0   \n",
       "4   48.00012   The Midwest, where Buffett is from, has a his...     0   \n",
       "\n",
       "                              unique_id  \n",
       "0  849c40bc-8fce-433b-8dc8-6af727480679  \n",
       "1  694a6824-613c-4978-9e17-a45b77e2b485  \n",
       "2  661e6bf7-ffbf-4581-acff-8c246ecac51a  \n",
       "3  be74b33e-8cdd-407b-a408-3ce4c65e32b3  \n",
       "4  a363e188-0393-433b-a86c-94d268eb473c  "
      ]
     },
     "execution_count": 5,
     "metadata": {},
     "output_type": "execute_result"
    }
   ],
   "source": [
    "fincausal_task1_train_df = pd.read_csv(fincausal_task1_train_path)\n",
    "fincausal_task1_train_df.head()"
   ]
  },
  {
   "cell_type": "code",
   "execution_count": 6,
   "metadata": {},
   "outputs": [
    {
     "data": {
      "text/plain": [
       "(15575, 4)"
      ]
     },
     "execution_count": 6,
     "metadata": {},
     "output_type": "execute_result"
    }
   ],
   "source": [
    "fincausal_task1_train_df.shape"
   ]
  },
  {
   "cell_type": "code",
   "execution_count": 7,
   "metadata": {},
   "outputs": [
    {
     "data": {
      "text/plain": [
       "0    0.927897\n",
       "1    0.072103\n",
       "Name: Gold, dtype: float64"
      ]
     },
     "execution_count": 7,
     "metadata": {},
     "output_type": "execute_result"
    }
   ],
   "source": [
    "# what's the distribution of label?\n",
    "causal_distribution = fincausal_task1_train_df.Gold.value_counts() / len(fincausal_task1_train_df)\n",
    "causal_distribution"
   ]
  },
  {
   "cell_type": "code",
   "execution_count": 8,
   "metadata": {},
   "outputs": [
    {
     "data": {
      "text/plain": [
       "0    0.927942\n",
       "1    0.072058\n",
       "Name: causal, dtype: float64"
      ]
     },
     "execution_count": 8,
     "metadata": {},
     "output_type": "execute_result"
    }
   ],
   "source": [
    "# how many causal can I take from semeval?\n",
    "ade_noncausal = ade_df.loc[ade_df.causal == 0]\n",
    "ade_causal = ade_df.loc[ade_df.causal == 1]\n",
    "\n",
    "ade_causal_resampled = ade_causal.sample(n=int((causal_distribution[1]*100*len(ade_noncausal))/(100-(causal_distribution[1]*100))))\n",
    "\n",
    "ade_resampled = pd.concat([ade_noncausal, ade_causal_resampled])\n",
    "ade_resampled.causal.value_counts() / len(ade_resampled)"
   ]
  },
  {
   "cell_type": "code",
   "execution_count": 9,
   "metadata": {},
   "outputs": [
    {
     "data": {
      "text/html": [
       "<div>\n",
       "<style scoped>\n",
       "    .dataframe tbody tr th:only-of-type {\n",
       "        vertical-align: middle;\n",
       "    }\n",
       "\n",
       "    .dataframe tbody tr th {\n",
       "        vertical-align: top;\n",
       "    }\n",
       "\n",
       "    .dataframe thead th {\n",
       "        text-align: right;\n",
       "    }\n",
       "</style>\n",
       "<table border=\"1\" class=\"dataframe\">\n",
       "  <thead>\n",
       "    <tr style=\"text-align: right;\">\n",
       "      <th></th>\n",
       "      <th>Index</th>\n",
       "      <th>Text</th>\n",
       "      <th>Gold</th>\n",
       "      <th>unique_id</th>\n",
       "    </tr>\n",
       "  </thead>\n",
       "  <tbody>\n",
       "    <tr>\n",
       "      <th>0</th>\n",
       "      <td>None</td>\n",
       "      <td>At 1 year of age cardiovascular and renal func...</td>\n",
       "      <td>0</td>\n",
       "      <td>2ef59217-514a-45b0-bfa4-184e1d825304</td>\n",
       "    </tr>\n",
       "    <tr>\n",
       "      <th>2</th>\n",
       "      <td>None</td>\n",
       "      <td>Gingival hemorrhage, myelodysplastic syndromes...</td>\n",
       "      <td>0</td>\n",
       "      <td>edc2314d-79aa-440e-a130-cb05ef93026f</td>\n",
       "    </tr>\n",
       "    <tr>\n",
       "      <th>3</th>\n",
       "      <td>None</td>\n",
       "      <td>The development of safer and more effective me...</td>\n",
       "      <td>0</td>\n",
       "      <td>e939a328-dbc8-4e48-89bd-6fb683dcc9b3</td>\n",
       "    </tr>\n",
       "    <tr>\n",
       "      <th>4</th>\n",
       "      <td>None</td>\n",
       "      <td>Molluscum contagiosum is a common viral skin i...</td>\n",
       "      <td>0</td>\n",
       "      <td>1ca36e6b-3209-411f-a88a-93c1b0a6a035</td>\n",
       "    </tr>\n",
       "    <tr>\n",
       "      <th>5</th>\n",
       "      <td>None</td>\n",
       "      <td>Diagnosis requires CT scan and direct aspirati...</td>\n",
       "      <td>0</td>\n",
       "      <td>01cace37-c195-44a5-8f4b-e3c803cc6aa0</td>\n",
       "    </tr>\n",
       "  </tbody>\n",
       "</table>\n",
       "</div>"
      ],
      "text/plain": [
       "  Index                                               Text  Gold  \\\n",
       "0  None  At 1 year of age cardiovascular and renal func...     0   \n",
       "2  None  Gingival hemorrhage, myelodysplastic syndromes...     0   \n",
       "3  None  The development of safer and more effective me...     0   \n",
       "4  None  Molluscum contagiosum is a common viral skin i...     0   \n",
       "5  None  Diagnosis requires CT scan and direct aspirati...     0   \n",
       "\n",
       "                              unique_id  \n",
       "0  2ef59217-514a-45b0-bfa4-184e1d825304  \n",
       "2  edc2314d-79aa-440e-a130-cb05ef93026f  \n",
       "3  e939a328-dbc8-4e48-89bd-6fb683dcc9b3  \n",
       "4  1ca36e6b-3209-411f-a88a-93c1b0a6a035  \n",
       "5  01cace37-c195-44a5-8f4b-e3c803cc6aa0  "
      ]
     },
     "execution_count": 9,
     "metadata": {},
     "output_type": "execute_result"
    }
   ],
   "source": [
    "# combine both the datasets\n",
    "ade_resampled_formatted_df = pd.DataFrame({\n",
    "    'Index': None,\n",
    "    'Text': ade_resampled.sentences,\n",
    "    'Gold': ade_resampled.causal,\n",
    "    'unique_id': [str(uuid.uuid4()) for _ in range(len(ade_resampled))]\n",
    "})\n",
    "ade_resampled_formatted_df.head()"
   ]
  },
  {
   "cell_type": "code",
   "execution_count": 10,
   "metadata": {},
   "outputs": [
    {
     "data": {
      "text/plain": [
       "0    0.927942\n",
       "1    0.072058\n",
       "Name: Gold, dtype: float64"
      ]
     },
     "execution_count": 10,
     "metadata": {},
     "output_type": "execute_result"
    }
   ],
   "source": [
    "ade_resampled_formatted_df.Gold.value_counts() / len(ade_resampled_formatted_df)"
   ]
  },
  {
   "cell_type": "code",
   "execution_count": 11,
   "metadata": {},
   "outputs": [
    {
     "data": {
      "text/plain": [
       "(33491, 4)"
      ]
     },
     "execution_count": 11,
     "metadata": {},
     "output_type": "execute_result"
    }
   ],
   "source": [
    "fincausal_task1_train_combined_ade = pd.concat([fincausal_task1_train_df, ade_resampled_formatted_df])\n",
    "fincausal_task1_train_combined_ade.shape"
   ]
  },
  {
   "cell_type": "code",
   "execution_count": 12,
   "metadata": {},
   "outputs": [
    {
     "data": {
      "text/plain": [
       "0    0.927921\n",
       "1    0.072079\n",
       "Name: Gold, dtype: float64"
      ]
     },
     "execution_count": 12,
     "metadata": {},
     "output_type": "execute_result"
    }
   ],
   "source": [
    "fincausal_task1_train_combined_ade.Gold.value_counts() / len(fincausal_task1_train_combined_ade)"
   ]
  },
  {
   "cell_type": "code",
   "execution_count": 13,
   "metadata": {},
   "outputs": [],
   "source": [
    "fincausal_task1_train_combined_ade.to_csv('/media/sarthak/HDD/data_science/fnp_resources/data/task1/iteration_3_with_ade/train_with_ade.csv', index=False)"
   ]
  }
 ],
 "metadata": {
  "kernelspec": {
   "display_name": "Python fnp",
   "language": "python",
   "name": "fnp"
  },
  "language_info": {
   "codemirror_mode": {
    "name": "ipython",
    "version": 3
   },
   "file_extension": ".py",
   "mimetype": "text/x-python",
   "name": "python",
   "nbconvert_exporter": "python",
   "pygments_lexer": "ipython3",
   "version": "3.6.7"
  }
 },
 "nbformat": 4,
 "nbformat_minor": 4
}
