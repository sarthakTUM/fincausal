{
 "cells": [
  {
   "cell_type": "code",
   "execution_count": 1,
   "metadata": {},
   "outputs": [],
   "source": [
    "import pandas as pd\n",
    "import numpy as np\n",
    "from pathlib import Path\n",
    "from collections import Counter"
   ]
  },
  {
   "cell_type": "markdown",
   "metadata": {},
   "source": [
    "# Data"
   ]
  },
  {
   "cell_type": "code",
   "execution_count": 8,
   "metadata": {},
   "outputs": [
    {
     "name": "stderr",
     "output_type": "stream",
     "text": [
      "/media/sarthak/HDD/Anaconda/envs/fnp/lib/python3.6/site-packages/ipykernel_launcher.py:4: ParserWarning: Falling back to the 'python' engine because the 'c' engine does not support regex separators (separators > 1 char and different from '\\s+' are interpreted as regex); you can avoid this warning by specifying engine='python'.\n",
      "  after removing the cwd from sys.path.\n",
      "/media/sarthak/HDD/Anaconda/envs/fnp/lib/python3.6/site-packages/ipykernel_launcher.py:5: ParserWarning: Falling back to the 'python' engine because the 'c' engine does not support regex separators (separators > 1 char and different from '\\s+' are interpreted as regex); you can avoid this warning by specifying engine='python'.\n",
      "  \"\"\"\n",
      "/media/sarthak/HDD/Anaconda/envs/fnp/lib/python3.6/site-packages/ipykernel_launcher.py:6: ParserWarning: Falling back to the 'python' engine because the 'c' engine does not support regex separators (separators > 1 char and different from '\\s+' are interpreted as regex); you can avoid this warning by specifying engine='python'.\n",
      "  \n"
     ]
    }
   ],
   "source": [
    "semeval = pd.read_csv('/media/sarthak/HDD/data_science/fnp_resources/data/extra/semeval.csv')\n",
    "ade = pd.read_csv('/media/sarthak/HDD/data_science/fnp_resources/data/extra/ade.csv')\n",
    "causaly = pd.read_csv('/media/sarthak/HDD/data_science/fnp_resources/data/extra/causaly.csv')\n",
    "task_eval = pd.read_csv('/media/sarthak/HDD/data_science/fnp_resources/data/task1/v2/eval.csv', sep='; ')\n",
    "task_prac = pd.read_csv('/media/sarthak/HDD/data_science/fnp_resources/data/task1/v2/practice.csv', sep='; ')\n",
    "task_trial = pd.read_csv('/media/sarthak/HDD/data_science/fnp_resources/data/task1/v2/trial.csv', sep='; ')"
   ]
  },
  {
   "cell_type": "code",
   "execution_count": 9,
   "metadata": {},
   "outputs": [
    {
     "data": {
      "text/plain": [
       "(Counter({0: 9386, 1: 1331}),\n",
       " Counter({0: 16625, 1: 4271}),\n",
       " Counter({1: 1113, 0: 887}))"
      ]
     },
     "execution_count": 9,
     "metadata": {},
     "output_type": "execute_result"
    }
   ],
   "source": [
    "Counter(semeval.causal), Counter(ade.causal),  Counter(causaly.causal)"
   ]
  },
  {
   "cell_type": "code",
   "execution_count": 10,
   "metadata": {},
   "outputs": [
    {
     "data": {
      "text/html": [
       "<div>\n",
       "<style scoped>\n",
       "    .dataframe tbody tr th:only-of-type {\n",
       "        vertical-align: middle;\n",
       "    }\n",
       "\n",
       "    .dataframe tbody tr th {\n",
       "        vertical-align: top;\n",
       "    }\n",
       "\n",
       "    .dataframe thead th {\n",
       "        text-align: right;\n",
       "    }\n",
       "</style>\n",
       "<table border=\"1\" class=\"dataframe\">\n",
       "  <thead>\n",
       "    <tr style=\"text-align: right;\">\n",
       "      <th></th>\n",
       "      <th>Index</th>\n",
       "      <th>Text</th>\n",
       "      <th>Gold</th>\n",
       "    </tr>\n",
       "  </thead>\n",
       "  <tbody>\n",
       "    <tr>\n",
       "      <th>0</th>\n",
       "      <td>1.00001</td>\n",
       "      <td>Florida raking in billions as Americans abando...</td>\n",
       "      <td>0</td>\n",
       "    </tr>\n",
       "    <tr>\n",
       "      <th>1</th>\n",
       "      <td>1.00002</td>\n",
       "      <td>Recently, changes to the U.S. tax code have en...</td>\n",
       "      <td>0</td>\n",
       "    </tr>\n",
       "    <tr>\n",
       "      <th>2</th>\n",
       "      <td>1.00003</td>\n",
       "      <td>MORE FROM FOXBUSINESS.COM... As it turns out, ...</td>\n",
       "      <td>0</td>\n",
       "    </tr>\n",
       "    <tr>\n",
       "      <th>3</th>\n",
       "      <td>1.00004</td>\n",
       "      <td>According to a new study from LendingTree, whi...</td>\n",
       "      <td>0</td>\n",
       "    </tr>\n",
       "    <tr>\n",
       "      <th>4</th>\n",
       "      <td>1.00005</td>\n",
       "      <td>The Sunshine State drew in a net influx of abo...</td>\n",
       "      <td>1</td>\n",
       "    </tr>\n",
       "    <tr>\n",
       "      <th>...</th>\n",
       "      <td>...</td>\n",
       "      <td>...</td>\n",
       "      <td>...</td>\n",
       "    </tr>\n",
       "    <tr>\n",
       "      <th>8575</th>\n",
       "      <td>370.00021</td>\n",
       "      <td>That's correct.</td>\n",
       "      <td>0</td>\n",
       "    </tr>\n",
       "    <tr>\n",
       "      <th>8576</th>\n",
       "      <td>370.00022</td>\n",
       "      <td>Fining a company - which in effect just fines ...</td>\n",
       "      <td>0</td>\n",
       "    </tr>\n",
       "    <tr>\n",
       "      <th>8577</th>\n",
       "      <td>370.00023</td>\n",
       "      <td>It was securing the bribe.</td>\n",
       "      <td>0</td>\n",
       "    </tr>\n",
       "    <tr>\n",
       "      <th>8578</th>\n",
       "      <td>370.00024</td>\n",
       "      <td>Disrupting Democracy: When Big Tech Takes Over...</td>\n",
       "      <td>0</td>\n",
       "    </tr>\n",
       "    <tr>\n",
       "      <th>8579</th>\n",
       "      <td>370.00025</td>\n",
       "      <td>Google Is Like Facebook - but a Lot Smarter  M...</td>\n",
       "      <td>0</td>\n",
       "    </tr>\n",
       "  </tbody>\n",
       "</table>\n",
       "<p>22058 rows × 3 columns</p>\n",
       "</div>"
      ],
      "text/plain": [
       "          Index                                               Text  Gold\n",
       "0       1.00001  Florida raking in billions as Americans abando...     0\n",
       "1       1.00002  Recently, changes to the U.S. tax code have en...     0\n",
       "2       1.00003  MORE FROM FOXBUSINESS.COM... As it turns out, ...     0\n",
       "3       1.00004  According to a new study from LendingTree, whi...     0\n",
       "4       1.00005  The Sunshine State drew in a net influx of abo...     1\n",
       "...         ...                                                ...   ...\n",
       "8575  370.00021                                    That's correct.     0\n",
       "8576  370.00022  Fining a company - which in effect just fines ...     0\n",
       "8577  370.00023                         It was securing the bribe.     0\n",
       "8578  370.00024  Disrupting Democracy: When Big Tech Takes Over...     0\n",
       "8579  370.00025  Google Is Like Facebook - but a Lot Smarter  M...     0\n",
       "\n",
       "[22058 rows x 3 columns]"
      ]
     },
     "execution_count": 10,
     "metadata": {},
     "output_type": "execute_result"
    }
   ],
   "source": [
    "task = pd.concat([task_prac, task_trial])\n",
    "task"
   ]
  },
  {
   "cell_type": "code",
   "execution_count": 11,
   "metadata": {},
   "outputs": [
    {
     "data": {
      "text/plain": [
       "Counter({0: 20479, 1: 1579})"
      ]
     },
     "execution_count": 11,
     "metadata": {},
     "output_type": "execute_result"
    }
   ],
   "source": [
    "Counter(task.Gold)"
   ]
  },
  {
   "cell_type": "code",
   "execution_count": 24,
   "metadata": {},
   "outputs": [
    {
     "data": {
      "text/plain": [
       "'When John places $100 in a safe deposit box with Bank One he does not relinquish his claim over the $100.'"
      ]
     },
     "execution_count": 24,
     "metadata": {},
     "output_type": "execute_result"
    }
   ],
   "source": [
    "task.loc[task.Gold==1]['Text'].iloc[456]"
   ]
  },
  {
   "cell_type": "code",
   "execution_count": 45,
   "metadata": {},
   "outputs": [
    {
     "data": {
      "text/html": [
       "<div>\n",
       "<style scoped>\n",
       "    .dataframe tbody tr th:only-of-type {\n",
       "        vertical-align: middle;\n",
       "    }\n",
       "\n",
       "    .dataframe tbody tr th {\n",
       "        vertical-align: top;\n",
       "    }\n",
       "\n",
       "    .dataframe thead th {\n",
       "        text-align: right;\n",
       "    }\n",
       "</style>\n",
       "<table border=\"1\" class=\"dataframe\">\n",
       "  <thead>\n",
       "    <tr style=\"text-align: right;\">\n",
       "      <th></th>\n",
       "      <th>sentence</th>\n",
       "      <th>relation</th>\n",
       "      <th>causal</th>\n",
       "    </tr>\n",
       "  </thead>\n",
       "  <tbody>\n",
       "    <tr>\n",
       "      <th>0</th>\n",
       "      <td>The system as described above has its greatest...</td>\n",
       "      <td>Component-Whole</td>\n",
       "      <td>0</td>\n",
       "    </tr>\n",
       "    <tr>\n",
       "      <th>1</th>\n",
       "      <td>The child was carefully wrapped and bound into...</td>\n",
       "      <td>Other</td>\n",
       "      <td>0</td>\n",
       "    </tr>\n",
       "    <tr>\n",
       "      <th>2</th>\n",
       "      <td>The author of a keygen uses a disassembler to ...</td>\n",
       "      <td>Instrument-Agency</td>\n",
       "      <td>0</td>\n",
       "    </tr>\n",
       "    <tr>\n",
       "      <th>3</th>\n",
       "      <td>A misty ridge uprises from the surge.</td>\n",
       "      <td>Other</td>\n",
       "      <td>0</td>\n",
       "    </tr>\n",
       "    <tr>\n",
       "      <th>4</th>\n",
       "      <td>The student association is the voice of the un...</td>\n",
       "      <td>Member-Collection</td>\n",
       "      <td>0</td>\n",
       "    </tr>\n",
       "    <tr>\n",
       "      <th>...</th>\n",
       "      <td>...</td>\n",
       "      <td>...</td>\n",
       "      <td>...</td>\n",
       "    </tr>\n",
       "    <tr>\n",
       "      <th>10712</th>\n",
       "      <td>After seating all the idols, which itself take...</td>\n",
       "      <td>Instrument-Agency</td>\n",
       "      <td>0</td>\n",
       "    </tr>\n",
       "    <tr>\n",
       "      <th>10713</th>\n",
       "      <td>The minister attributed the slow production of...</td>\n",
       "      <td>Product-Producer</td>\n",
       "      <td>0</td>\n",
       "    </tr>\n",
       "    <tr>\n",
       "      <th>10714</th>\n",
       "      <td>The umbrella frame is provided with a movable ...</td>\n",
       "      <td>Component-Whole</td>\n",
       "      <td>0</td>\n",
       "    </tr>\n",
       "    <tr>\n",
       "      <th>10715</th>\n",
       "      <td>Manos: The Hands of Fate is a low-budget horro...</td>\n",
       "      <td>Product-Producer</td>\n",
       "      <td>0</td>\n",
       "    </tr>\n",
       "    <tr>\n",
       "      <th>10716</th>\n",
       "      <td>A few days before the service, Tom Burris had ...</td>\n",
       "      <td>Entity-Destination</td>\n",
       "      <td>0</td>\n",
       "    </tr>\n",
       "  </tbody>\n",
       "</table>\n",
       "<p>10717 rows × 3 columns</p>\n",
       "</div>"
      ],
      "text/plain": [
       "                                                sentence            relation  \\\n",
       "0      The system as described above has its greatest...     Component-Whole   \n",
       "1      The child was carefully wrapped and bound into...               Other   \n",
       "2      The author of a keygen uses a disassembler to ...   Instrument-Agency   \n",
       "3                  A misty ridge uprises from the surge.               Other   \n",
       "4      The student association is the voice of the un...   Member-Collection   \n",
       "...                                                  ...                 ...   \n",
       "10712  After seating all the idols, which itself take...   Instrument-Agency   \n",
       "10713  The minister attributed the slow production of...    Product-Producer   \n",
       "10714  The umbrella frame is provided with a movable ...     Component-Whole   \n",
       "10715  Manos: The Hands of Fate is a low-budget horro...    Product-Producer   \n",
       "10716  A few days before the service, Tom Burris had ...  Entity-Destination   \n",
       "\n",
       "       causal  \n",
       "0           0  \n",
       "1           0  \n",
       "2           0  \n",
       "3           0  \n",
       "4           0  \n",
       "...       ...  \n",
       "10712       0  \n",
       "10713       0  \n",
       "10714       0  \n",
       "10715       0  \n",
       "10716       0  \n",
       "\n",
       "[10717 rows x 3 columns]"
      ]
     },
     "execution_count": 45,
     "metadata": {},
     "output_type": "execute_result"
    }
   ],
   "source": [
    "semeval"
   ]
  },
  {
   "cell_type": "code",
   "execution_count": 54,
   "metadata": {},
   "outputs": [
    {
     "data": {
      "text/plain": [
       "'The burst has been caused by water hammer pressure.'"
      ]
     },
     "execution_count": 54,
     "metadata": {},
     "output_type": "execute_result"
    }
   ],
   "source": [
    "semeval.loc[semeval.causal==1]['sentence'].iloc[1]"
   ]
  },
  {
   "cell_type": "code",
   "execution_count": 56,
   "metadata": {},
   "outputs": [
    {
     "data": {
      "text/html": [
       "<div>\n",
       "<style scoped>\n",
       "    .dataframe tbody tr th:only-of-type {\n",
       "        vertical-align: middle;\n",
       "    }\n",
       "\n",
       "    .dataframe tbody tr th {\n",
       "        vertical-align: top;\n",
       "    }\n",
       "\n",
       "    .dataframe thead th {\n",
       "        text-align: right;\n",
       "    }\n",
       "</style>\n",
       "<table border=\"1\" class=\"dataframe\">\n",
       "  <thead>\n",
       "    <tr style=\"text-align: right;\">\n",
       "      <th></th>\n",
       "      <th>sentences</th>\n",
       "      <th>causal</th>\n",
       "    </tr>\n",
       "  </thead>\n",
       "  <tbody>\n",
       "    <tr>\n",
       "      <th>0</th>\n",
       "      <td>At 1 year of age cardiovascular and renal func...</td>\n",
       "      <td>0</td>\n",
       "    </tr>\n",
       "    <tr>\n",
       "      <th>1</th>\n",
       "      <td>Chlorambucil-induced chromosome damage to huma...</td>\n",
       "      <td>1</td>\n",
       "    </tr>\n",
       "    <tr>\n",
       "      <th>2</th>\n",
       "      <td>Gingival hemorrhage, myelodysplastic syndromes...</td>\n",
       "      <td>0</td>\n",
       "    </tr>\n",
       "    <tr>\n",
       "      <th>3</th>\n",
       "      <td>The development of safer and more effective me...</td>\n",
       "      <td>0</td>\n",
       "    </tr>\n",
       "    <tr>\n",
       "      <th>4</th>\n",
       "      <td>Molluscum contagiosum is a common viral skin i...</td>\n",
       "      <td>0</td>\n",
       "    </tr>\n",
       "    <tr>\n",
       "      <th>...</th>\n",
       "      <td>...</td>\n",
       "      <td>...</td>\n",
       "    </tr>\n",
       "    <tr>\n",
       "      <th>20891</th>\n",
       "      <td>Brain hemorrhage is a feared complication of e...</td>\n",
       "      <td>0</td>\n",
       "    </tr>\n",
       "    <tr>\n",
       "      <th>20892</th>\n",
       "      <td>Though the voluntary recall was in effect, the...</td>\n",
       "      <td>0</td>\n",
       "    </tr>\n",
       "    <tr>\n",
       "      <th>20893</th>\n",
       "      <td>Dramatic clinical improvement occurred in 2 pa...</td>\n",
       "      <td>0</td>\n",
       "    </tr>\n",
       "    <tr>\n",
       "      <th>20894</th>\n",
       "      <td>This case illustrates an unusual adverse effec...</td>\n",
       "      <td>0</td>\n",
       "    </tr>\n",
       "    <tr>\n",
       "      <th>20895</th>\n",
       "      <td>Biopsies from skin of normal appearance from 1...</td>\n",
       "      <td>0</td>\n",
       "    </tr>\n",
       "  </tbody>\n",
       "</table>\n",
       "<p>20896 rows × 2 columns</p>\n",
       "</div>"
      ],
      "text/plain": [
       "                                               sentences  causal\n",
       "0      At 1 year of age cardiovascular and renal func...       0\n",
       "1      Chlorambucil-induced chromosome damage to huma...       1\n",
       "2      Gingival hemorrhage, myelodysplastic syndromes...       0\n",
       "3      The development of safer and more effective me...       0\n",
       "4      Molluscum contagiosum is a common viral skin i...       0\n",
       "...                                                  ...     ...\n",
       "20891  Brain hemorrhage is a feared complication of e...       0\n",
       "20892  Though the voluntary recall was in effect, the...       0\n",
       "20893  Dramatic clinical improvement occurred in 2 pa...       0\n",
       "20894  This case illustrates an unusual adverse effec...       0\n",
       "20895  Biopsies from skin of normal appearance from 1...       0\n",
       "\n",
       "[20896 rows x 2 columns]"
      ]
     },
     "execution_count": 56,
     "metadata": {},
     "output_type": "execute_result"
    }
   ],
   "source": [
    "ade"
   ]
  },
  {
   "cell_type": "code",
   "execution_count": 70,
   "metadata": {},
   "outputs": [
    {
     "data": {
      "text/plain": [
       "'Pirmenol hydrochloride-induced QT prolongation and T wave inversion on electrocardiogram during treatment for symptomatic atrial fibrillation.'"
      ]
     },
     "execution_count": 70,
     "metadata": {},
     "output_type": "execute_result"
    }
   ],
   "source": [
    "ade.loc[ade.causal==1]['sentences'].iloc[111]"
   ]
  },
  {
   "cell_type": "code",
   "execution_count": 71,
   "metadata": {},
   "outputs": [
    {
     "data": {
      "text/html": [
       "<div>\n",
       "<style scoped>\n",
       "    .dataframe tbody tr th:only-of-type {\n",
       "        vertical-align: middle;\n",
       "    }\n",
       "\n",
       "    .dataframe tbody tr th {\n",
       "        vertical-align: top;\n",
       "    }\n",
       "\n",
       "    .dataframe thead th {\n",
       "        text-align: right;\n",
       "    }\n",
       "</style>\n",
       "<table border=\"1\" class=\"dataframe\">\n",
       "  <thead>\n",
       "    <tr style=\"text-align: right;\">\n",
       "      <th></th>\n",
       "      <th>sentence</th>\n",
       "      <th>causal</th>\n",
       "    </tr>\n",
       "  </thead>\n",
       "  <tbody>\n",
       "    <tr>\n",
       "      <th>0</th>\n",
       "      <td>Results indicated that boys with ADHD , relati...</td>\n",
       "      <td>1</td>\n",
       "    </tr>\n",
       "    <tr>\n",
       "      <th>1</th>\n",
       "      <td>Ticagrelor appears to provide higher value for...</td>\n",
       "      <td>0</td>\n",
       "    </tr>\n",
       "    <tr>\n",
       "      <th>2</th>\n",
       "      <td>Whatever the mechanism , active smoking is an ...</td>\n",
       "      <td>1</td>\n",
       "    </tr>\n",
       "    <tr>\n",
       "      <th>3</th>\n",
       "      <td>In this study , we examined whether use of an ...</td>\n",
       "      <td>0</td>\n",
       "    </tr>\n",
       "    <tr>\n",
       "      <th>4</th>\n",
       "      <td>Using causal inference testing , we searched c...</td>\n",
       "      <td>0</td>\n",
       "    </tr>\n",
       "    <tr>\n",
       "      <th>...</th>\n",
       "      <td>...</td>\n",
       "      <td>...</td>\n",
       "    </tr>\n",
       "    <tr>\n",
       "      <th>1995</th>\n",
       "      <td>The obstacle of getting older men to undergo c...</td>\n",
       "      <td>1</td>\n",
       "    </tr>\n",
       "    <tr>\n",
       "      <th>1996</th>\n",
       "      <td>It could also clearly detect differences in SD...</td>\n",
       "      <td>0</td>\n",
       "    </tr>\n",
       "    <tr>\n",
       "      <th>1997</th>\n",
       "      <td>These results in part explain the impairment o...</td>\n",
       "      <td>0</td>\n",
       "    </tr>\n",
       "    <tr>\n",
       "      <th>1998</th>\n",
       "      <td>Modern research makes frequent use of animal m...</td>\n",
       "      <td>0</td>\n",
       "    </tr>\n",
       "    <tr>\n",
       "      <th>1999</th>\n",
       "      <td>Vaccination rates for influenza , pneumococcus...</td>\n",
       "      <td>0</td>\n",
       "    </tr>\n",
       "  </tbody>\n",
       "</table>\n",
       "<p>2000 rows × 2 columns</p>\n",
       "</div>"
      ],
      "text/plain": [
       "                                               sentence  causal\n",
       "0     Results indicated that boys with ADHD , relati...       1\n",
       "1     Ticagrelor appears to provide higher value for...       0\n",
       "2     Whatever the mechanism , active smoking is an ...       1\n",
       "3     In this study , we examined whether use of an ...       0\n",
       "4     Using causal inference testing , we searched c...       0\n",
       "...                                                 ...     ...\n",
       "1995  The obstacle of getting older men to undergo c...       1\n",
       "1996  It could also clearly detect differences in SD...       0\n",
       "1997  These results in part explain the impairment o...       0\n",
       "1998  Modern research makes frequent use of animal m...       0\n",
       "1999  Vaccination rates for influenza , pneumococcus...       0\n",
       "\n",
       "[2000 rows x 2 columns]"
      ]
     },
     "execution_count": 71,
     "metadata": {},
     "output_type": "execute_result"
    }
   ],
   "source": [
    "causaly"
   ]
  },
  {
   "cell_type": "code",
   "execution_count": 92,
   "metadata": {},
   "outputs": [
    {
     "data": {
      "text/plain": [
       "\"The obstacle of getting older men to undergo circumcision may also be associated with working schedules that may disclose one 's circumcision status .\""
      ]
     },
     "execution_count": 92,
     "metadata": {},
     "output_type": "execute_result"
    }
   ],
   "source": [
    "causaly.loc[causaly.causal==1]['sentence'].iloc[-1]"
   ]
  },
  {
   "cell_type": "markdown",
   "metadata": {},
   "source": [
    "# BBU"
   ]
  },
  {
   "cell_type": "code",
   "execution_count": 4,
   "metadata": {},
   "outputs": [],
   "source": [
    "from sklearn import metrics"
   ]
  },
  {
   "cell_type": "code",
   "execution_count": 5,
   "metadata": {},
   "outputs": [
    {
     "data": {
      "text/html": [
       "<div>\n",
       "<style scoped>\n",
       "    .dataframe tbody tr th:only-of-type {\n",
       "        vertical-align: middle;\n",
       "    }\n",
       "\n",
       "    .dataframe tbody tr th {\n",
       "        vertical-align: top;\n",
       "    }\n",
       "\n",
       "    .dataframe thead th {\n",
       "        text-align: right;\n",
       "    }\n",
       "</style>\n",
       "<table border=\"1\" class=\"dataframe\">\n",
       "  <thead>\n",
       "    <tr style=\"text-align: right;\">\n",
       "      <th></th>\n",
       "      <th>index</th>\n",
       "      <th>text</th>\n",
       "      <th>gold</th>\n",
       "      <th>unique_id</th>\n",
       "      <th>preds</th>\n",
       "    </tr>\n",
       "  </thead>\n",
       "  <tbody>\n",
       "    <tr>\n",
       "      <th>0</th>\n",
       "      <td>352.00039</td>\n",
       "      <td>One bit of advice Orton had for young finance ...</td>\n",
       "      <td>0</td>\n",
       "      <td>f56182ea-5095-4934-889c-f18c1a26134c</td>\n",
       "      <td>0</td>\n",
       "    </tr>\n",
       "    <tr>\n",
       "      <th>1</th>\n",
       "      <td>8.00001</td>\n",
       "      <td>President Muhammadu Buhari has disclosed that ...</td>\n",
       "      <td>1</td>\n",
       "      <td>06cc12f1-1df2-43ef-898a-85ebb29bdede</td>\n",
       "      <td>0</td>\n",
       "    </tr>\n",
       "    <tr>\n",
       "      <th>2</th>\n",
       "      <td>53.00010</td>\n",
       "      <td>Advent of compressed exhaust systems based on ...</td>\n",
       "      <td>0</td>\n",
       "      <td>a2705c77-271b-4870-b948-8b688657f39c</td>\n",
       "      <td>0</td>\n",
       "    </tr>\n",
       "    <tr>\n",
       "      <th>3</th>\n",
       "      <td>533.00022</td>\n",
       "      <td>Catholic leaders have also suggested the UK go...</td>\n",
       "      <td>0</td>\n",
       "      <td>7966c427-9695-4e2f-a098-a5d385d6e0c4</td>\n",
       "      <td>0</td>\n",
       "    </tr>\n",
       "    <tr>\n",
       "      <th>4</th>\n",
       "      <td>316.00040</td>\n",
       "      <td>(NasdaqGS:CME) is 66. A company with a value o...</td>\n",
       "      <td>0</td>\n",
       "      <td>14e3e218-9f6b-4949-96c7-62ca68598d55</td>\n",
       "      <td>0</td>\n",
       "    </tr>\n",
       "  </tbody>\n",
       "</table>\n",
       "</div>"
      ],
      "text/plain": [
       "       index                                               text  gold  \\\n",
       "0  352.00039  One bit of advice Orton had for young finance ...     0   \n",
       "1    8.00001  President Muhammadu Buhari has disclosed that ...     1   \n",
       "2   53.00010  Advent of compressed exhaust systems based on ...     0   \n",
       "3  533.00022  Catholic leaders have also suggested the UK go...     0   \n",
       "4  316.00040  (NasdaqGS:CME) is 66. A company with a value o...     0   \n",
       "\n",
       "                              unique_id  preds  \n",
       "0  f56182ea-5095-4934-889c-f18c1a26134c      0  \n",
       "1  06cc12f1-1df2-43ef-898a-85ebb29bdede      0  \n",
       "2  a2705c77-271b-4870-b948-8b688657f39c      0  \n",
       "3  7966c427-9695-4e2f-a098-a5d385d6e0c4      0  \n",
       "4  14e3e218-9f6b-4949-96c7-62ca68598d55      0  "
      ]
     },
     "execution_count": 5,
     "metadata": {},
     "output_type": "execute_result"
    }
   ],
   "source": [
    "test = pd.read_csv('/media/sarthak/HDD/data_science/fnp_resources/data/task1/all_combined/test.csv')\n",
    "bbu = pd.read_csv('/media/sarthak/HDD/data_science/fnp_resources/fincausal_t1_models/124_1/test_preds.csv')\n",
    "bbu.head()"
   ]
  },
  {
   "cell_type": "code",
   "execution_count": 6,
   "metadata": {},
   "outputs": [
    {
     "data": {
      "text/html": [
       "<div>\n",
       "<style scoped>\n",
       "    .dataframe tbody tr th:only-of-type {\n",
       "        vertical-align: middle;\n",
       "    }\n",
       "\n",
       "    .dataframe tbody tr th {\n",
       "        vertical-align: top;\n",
       "    }\n",
       "\n",
       "    .dataframe thead th {\n",
       "        text-align: right;\n",
       "    }\n",
       "</style>\n",
       "<table border=\"1\" class=\"dataframe\">\n",
       "  <thead>\n",
       "    <tr style=\"text-align: right;\">\n",
       "      <th></th>\n",
       "      <th>Index</th>\n",
       "      <th>Text</th>\n",
       "      <th>Gold</th>\n",
       "      <th>unique_id</th>\n",
       "    </tr>\n",
       "  </thead>\n",
       "  <tbody>\n",
       "    <tr>\n",
       "      <th>0</th>\n",
       "      <td>352.00039</td>\n",
       "      <td>One bit of advice Orton had for young finance ...</td>\n",
       "      <td>0</td>\n",
       "      <td>f56182ea-5095-4934-889c-f18c1a26134c</td>\n",
       "    </tr>\n",
       "    <tr>\n",
       "      <th>1</th>\n",
       "      <td>8.00001</td>\n",
       "      <td>President Muhammadu Buhari has disclosed that ...</td>\n",
       "      <td>1</td>\n",
       "      <td>06cc12f1-1df2-43ef-898a-85ebb29bdede</td>\n",
       "    </tr>\n",
       "    <tr>\n",
       "      <th>2</th>\n",
       "      <td>53.00010</td>\n",
       "      <td>Advent of compressed exhaust systems based on ...</td>\n",
       "      <td>0</td>\n",
       "      <td>a2705c77-271b-4870-b948-8b688657f39c</td>\n",
       "    </tr>\n",
       "    <tr>\n",
       "      <th>3</th>\n",
       "      <td>533.00022</td>\n",
       "      <td>Catholic leaders have also suggested the UK go...</td>\n",
       "      <td>0</td>\n",
       "      <td>7966c427-9695-4e2f-a098-a5d385d6e0c4</td>\n",
       "    </tr>\n",
       "    <tr>\n",
       "      <th>4</th>\n",
       "      <td>316.00040</td>\n",
       "      <td>(NasdaqGS:CME) is 66. A company with a value o...</td>\n",
       "      <td>0</td>\n",
       "      <td>14e3e218-9f6b-4949-96c7-62ca68598d55</td>\n",
       "    </tr>\n",
       "  </tbody>\n",
       "</table>\n",
       "</div>"
      ],
      "text/plain": [
       "       Index                                               Text  Gold  \\\n",
       "0  352.00039  One bit of advice Orton had for young finance ...     0   \n",
       "1    8.00001  President Muhammadu Buhari has disclosed that ...     1   \n",
       "2   53.00010  Advent of compressed exhaust systems based on ...     0   \n",
       "3  533.00022  Catholic leaders have also suggested the UK go...     0   \n",
       "4  316.00040  (NasdaqGS:CME) is 66. A company with a value o...     0   \n",
       "\n",
       "                              unique_id  \n",
       "0  f56182ea-5095-4934-889c-f18c1a26134c  \n",
       "1  06cc12f1-1df2-43ef-898a-85ebb29bdede  \n",
       "2  a2705c77-271b-4870-b948-8b688657f39c  \n",
       "3  7966c427-9695-4e2f-a098-a5d385d6e0c4  \n",
       "4  14e3e218-9f6b-4949-96c7-62ca68598d55  "
      ]
     },
     "execution_count": 6,
     "metadata": {},
     "output_type": "execute_result"
    }
   ],
   "source": [
    "test.head()"
   ]
  },
  {
   "cell_type": "code",
   "execution_count": 7,
   "metadata": {},
   "outputs": [
    {
     "data": {
      "text/plain": [
       "(0.9595894423782227, 0.9605621033544878, 0.9600272562096548, None)"
      ]
     },
     "execution_count": 7,
     "metadata": {},
     "output_type": "execute_result"
    }
   ],
   "source": [
    "metrics.precision_recall_fscore_support(bbu['gold'],bbu['preds'],beta=1.0,average='weighted')"
   ]
  },
  {
   "cell_type": "code",
   "execution_count": null,
   "metadata": {},
   "outputs": [],
   "source": []
  }
 ],
 "metadata": {
  "kernelspec": {
   "display_name": "Python fnp",
   "language": "python",
   "name": "fnp"
  },
  "language_info": {
   "codemirror_mode": {
    "name": "ipython",
    "version": 3
   },
   "file_extension": ".py",
   "mimetype": "text/x-python",
   "name": "python",
   "nbconvert_exporter": "python",
   "pygments_lexer": "ipython3",
   "version": "3.6.7"
  }
 },
 "nbformat": 4,
 "nbformat_minor": 4
}
