{
 "cells": [
  {
   "cell_type": "code",
   "execution_count": 1,
   "metadata": {},
   "outputs": [],
   "source": [
    "import pandas as pd\n",
    "from pathlib import Path\n",
    "import uuid"
   ]
  },
  {
   "cell_type": "code",
   "execution_count": 2,
   "metadata": {},
   "outputs": [],
   "source": [
    "fincausal_path = Path('/media/sarthak/HDD/data_science/fnp_resources/data/task1/train_on_trial_and_test_on_practice/train.csv')\n",
    "semeval_path = Path('/media/sarthak/HDD/data_science/fnp_resources/data/extra/semeval.csv')"
   ]
  },
  {
   "cell_type": "code",
   "execution_count": 3,
   "metadata": {},
   "outputs": [],
   "source": [
    "fincausal_df = pd.read_csv(fincausal_path)\n",
    "semeval_df = pd.read_csv(semeval_path)"
   ]
  },
  {
   "cell_type": "code",
   "execution_count": 6,
   "metadata": {},
   "outputs": [
    {
     "data": {
      "text/html": [
       "<div>\n",
       "<style scoped>\n",
       "    .dataframe tbody tr th:only-of-type {\n",
       "        vertical-align: middle;\n",
       "    }\n",
       "\n",
       "    .dataframe tbody tr th {\n",
       "        vertical-align: top;\n",
       "    }\n",
       "\n",
       "    .dataframe thead th {\n",
       "        text-align: right;\n",
       "    }\n",
       "</style>\n",
       "<table border=\"1\" class=\"dataframe\">\n",
       "  <thead>\n",
       "    <tr style=\"text-align: right;\">\n",
       "      <th></th>\n",
       "      <th>Index</th>\n",
       "      <th>Text</th>\n",
       "      <th>Gold</th>\n",
       "      <th>unique_id</th>\n",
       "    </tr>\n",
       "  </thead>\n",
       "  <tbody>\n",
       "    <tr>\n",
       "      <th>0</th>\n",
       "      <td>None</td>\n",
       "      <td>The system as described above has its greatest...</td>\n",
       "      <td>0</td>\n",
       "      <td>0efae4b5-125b-4ed7-b92b-73a7e34fd353</td>\n",
       "    </tr>\n",
       "    <tr>\n",
       "      <th>1</th>\n",
       "      <td>None</td>\n",
       "      <td>The child was carefully wrapped and bound into...</td>\n",
       "      <td>0</td>\n",
       "      <td>df7adf4c-1a26-447e-b5cf-015c2a3b3a05</td>\n",
       "    </tr>\n",
       "    <tr>\n",
       "      <th>2</th>\n",
       "      <td>None</td>\n",
       "      <td>The author of a keygen uses a disassembler to ...</td>\n",
       "      <td>0</td>\n",
       "      <td>c5a9cea9-65e6-4bd5-bd76-f074c8ad8d91</td>\n",
       "    </tr>\n",
       "    <tr>\n",
       "      <th>3</th>\n",
       "      <td>None</td>\n",
       "      <td>A misty ridge uprises from the surge.</td>\n",
       "      <td>0</td>\n",
       "      <td>25a529a4-54c5-47c8-bdc6-219120da009f</td>\n",
       "    </tr>\n",
       "    <tr>\n",
       "      <th>4</th>\n",
       "      <td>None</td>\n",
       "      <td>The student association is the voice of the un...</td>\n",
       "      <td>0</td>\n",
       "      <td>bf7f4fdd-2c7b-474d-b513-396c2a8eaed6</td>\n",
       "    </tr>\n",
       "  </tbody>\n",
       "</table>\n",
       "</div>"
      ],
      "text/plain": [
       "  Index                                               Text  Gold  \\\n",
       "0  None  The system as described above has its greatest...     0   \n",
       "1  None  The child was carefully wrapped and bound into...     0   \n",
       "2  None  The author of a keygen uses a disassembler to ...     0   \n",
       "3  None              A misty ridge uprises from the surge.     0   \n",
       "4  None  The student association is the voice of the un...     0   \n",
       "\n",
       "                              unique_id  \n",
       "0  0efae4b5-125b-4ed7-b92b-73a7e34fd353  \n",
       "1  df7adf4c-1a26-447e-b5cf-015c2a3b3a05  \n",
       "2  c5a9cea9-65e6-4bd5-bd76-f074c8ad8d91  \n",
       "3  25a529a4-54c5-47c8-bdc6-219120da009f  \n",
       "4  bf7f4fdd-2c7b-474d-b513-396c2a8eaed6  "
      ]
     },
     "execution_count": 6,
     "metadata": {},
     "output_type": "execute_result"
    }
   ],
   "source": [
    "semeval_df = pd.DataFrame({\n",
    "    'Index': None,\n",
    "    'Text': semeval_df.sentence,\n",
    "    'Gold': semeval_df.causal,\n",
    "    'unique_id': [str(uuid.uuid4()) for _ in range(len(semeval_df))]\n",
    "})\n",
    "semeval_df.head()"
   ]
  },
  {
   "cell_type": "code",
   "execution_count": 7,
   "metadata": {},
   "outputs": [
    {
     "data": {
      "text/plain": [
       "(17619, 4)"
      ]
     },
     "execution_count": 7,
     "metadata": {},
     "output_type": "execute_result"
    }
   ],
   "source": [
    "merged_df = pd.concat([fincausal_df, semeval_df])\n",
    "merged_df.shape"
   ]
  },
  {
   "cell_type": "code",
   "execution_count": 8,
   "metadata": {},
   "outputs": [
    {
     "data": {
      "text/html": [
       "<div>\n",
       "<style scoped>\n",
       "    .dataframe tbody tr th:only-of-type {\n",
       "        vertical-align: middle;\n",
       "    }\n",
       "\n",
       "    .dataframe tbody tr th {\n",
       "        vertical-align: top;\n",
       "    }\n",
       "\n",
       "    .dataframe thead th {\n",
       "        text-align: right;\n",
       "    }\n",
       "</style>\n",
       "<table border=\"1\" class=\"dataframe\">\n",
       "  <thead>\n",
       "    <tr style=\"text-align: right;\">\n",
       "      <th></th>\n",
       "      <th>Index</th>\n",
       "      <th>Text</th>\n",
       "      <th>Gold</th>\n",
       "      <th>unique_id</th>\n",
       "    </tr>\n",
       "  </thead>\n",
       "  <tbody>\n",
       "    <tr>\n",
       "      <th>0</th>\n",
       "      <td>115</td>\n",
       "      <td>Seeking Alpha  ETF Analysis  |  About: Global...</td>\n",
       "      <td>0</td>\n",
       "      <td>59aabda8-b867-43eb-bb6d-c9ba59fb8025</td>\n",
       "    </tr>\n",
       "    <tr>\n",
       "      <th>1</th>\n",
       "      <td>330</td>\n",
       "      <td>Options for clients concerned about how IHT l...</td>\n",
       "      <td>0</td>\n",
       "      <td>90866e7b-1440-4d65-a333-17389c1a3705</td>\n",
       "    </tr>\n",
       "    <tr>\n",
       "      <th>2</th>\n",
       "      <td>315</td>\n",
       "      <td>Cackley said that figure indicates loan servi...</td>\n",
       "      <td>0</td>\n",
       "      <td>dbbd03a4-2b62-4f99-bc0b-597a64f2ce60</td>\n",
       "    </tr>\n",
       "    <tr>\n",
       "      <th>3</th>\n",
       "      <td>184</td>\n",
       "      <td>A taxpayer has normally been required to file...</td>\n",
       "      <td>0</td>\n",
       "      <td>72440cd6-7729-4337-b476-3d0b29eec078</td>\n",
       "    </tr>\n",
       "    <tr>\n",
       "      <th>4</th>\n",
       "      <td>241</td>\n",
       "      <td>I was excited to listen…and thanks to Paula f...</td>\n",
       "      <td>0</td>\n",
       "      <td>ed17a935-0095-4b3b-99f6-9798c32d5b68</td>\n",
       "    </tr>\n",
       "  </tbody>\n",
       "</table>\n",
       "</div>"
      ],
      "text/plain": [
       "  Index                                               Text  Gold  \\\n",
       "0   115   Seeking Alpha  ETF Analysis  |  About: Global...     0   \n",
       "1   330   Options for clients concerned about how IHT l...     0   \n",
       "2   315   Cackley said that figure indicates loan servi...     0   \n",
       "3   184   A taxpayer has normally been required to file...     0   \n",
       "4   241   I was excited to listen…and thanks to Paula f...     0   \n",
       "\n",
       "                              unique_id  \n",
       "0  59aabda8-b867-43eb-bb6d-c9ba59fb8025  \n",
       "1  90866e7b-1440-4d65-a333-17389c1a3705  \n",
       "2  dbbd03a4-2b62-4f99-bc0b-597a64f2ce60  \n",
       "3  72440cd6-7729-4337-b476-3d0b29eec078  \n",
       "4  ed17a935-0095-4b3b-99f6-9798c32d5b68  "
      ]
     },
     "execution_count": 8,
     "metadata": {},
     "output_type": "execute_result"
    }
   ],
   "source": [
    "merged_df.head()"
   ]
  },
  {
   "cell_type": "code",
   "execution_count": 9,
   "metadata": {},
   "outputs": [
    {
     "data": {
      "text/plain": [
       "0    0.898462\n",
       "1    0.101538\n",
       "Name: Gold, dtype: float64"
      ]
     },
     "execution_count": 9,
     "metadata": {},
     "output_type": "execute_result"
    }
   ],
   "source": [
    "merged_df.Gold.value_counts() / len(merged_df)"
   ]
  },
  {
   "cell_type": "code",
   "execution_count": 10,
   "metadata": {},
   "outputs": [],
   "source": [
    "merged_df = merged_df.sample(frac=1)"
   ]
  },
  {
   "cell_type": "code",
   "execution_count": 11,
   "metadata": {},
   "outputs": [
    {
     "data": {
      "text/html": [
       "<div>\n",
       "<style scoped>\n",
       "    .dataframe tbody tr th:only-of-type {\n",
       "        vertical-align: middle;\n",
       "    }\n",
       "\n",
       "    .dataframe tbody tr th {\n",
       "        vertical-align: top;\n",
       "    }\n",
       "\n",
       "    .dataframe thead th {\n",
       "        text-align: right;\n",
       "    }\n",
       "</style>\n",
       "<table border=\"1\" class=\"dataframe\">\n",
       "  <thead>\n",
       "    <tr style=\"text-align: right;\">\n",
       "      <th></th>\n",
       "      <th>Index</th>\n",
       "      <th>Text</th>\n",
       "      <th>Gold</th>\n",
       "      <th>unique_id</th>\n",
       "    </tr>\n",
       "  </thead>\n",
       "  <tbody>\n",
       "    <tr>\n",
       "      <th>8112</th>\n",
       "      <td>None</td>\n",
       "      <td>The stories are narrated through dance.</td>\n",
       "      <td>0</td>\n",
       "      <td>5cfdc367-e1cb-45e2-bc4b-818ffb3be7d7</td>\n",
       "    </tr>\n",
       "    <tr>\n",
       "      <th>6237</th>\n",
       "      <td>None</td>\n",
       "      <td>His friend accidently poured water into the ga...</td>\n",
       "      <td>0</td>\n",
       "      <td>567ffa78-f991-4761-85a7-48087fbdfcd1</td>\n",
       "    </tr>\n",
       "    <tr>\n",
       "      <th>9265</th>\n",
       "      <td>None</td>\n",
       "      <td>The water evaporated from the evaporators is c...</td>\n",
       "      <td>0</td>\n",
       "      <td>ed497146-fca3-49f9-85ec-634d12f9f868</td>\n",
       "    </tr>\n",
       "    <tr>\n",
       "      <th>9782</th>\n",
       "      <td>None</td>\n",
       "      <td>With a blow of the whistle, the locomotive dep...</td>\n",
       "      <td>0</td>\n",
       "      <td>938a10e8-e591-41f8-b7e2-1673e8b17db9</td>\n",
       "    </tr>\n",
       "    <tr>\n",
       "      <th>775</th>\n",
       "      <td>211</td>\n",
       "      <td>The firm has promised to accept payment only ...</td>\n",
       "      <td>0</td>\n",
       "      <td>31ae2625-5f1b-4665-b290-09207295481c</td>\n",
       "    </tr>\n",
       "  </tbody>\n",
       "</table>\n",
       "</div>"
      ],
      "text/plain": [
       "     Index                                               Text  Gold  \\\n",
       "8112  None            The stories are narrated through dance.     0   \n",
       "6237  None  His friend accidently poured water into the ga...     0   \n",
       "9265  None  The water evaporated from the evaporators is c...     0   \n",
       "9782  None  With a blow of the whistle, the locomotive dep...     0   \n",
       "775    211   The firm has promised to accept payment only ...     0   \n",
       "\n",
       "                                 unique_id  \n",
       "8112  5cfdc367-e1cb-45e2-bc4b-818ffb3be7d7  \n",
       "6237  567ffa78-f991-4761-85a7-48087fbdfcd1  \n",
       "9265  ed497146-fca3-49f9-85ec-634d12f9f868  \n",
       "9782  938a10e8-e591-41f8-b7e2-1673e8b17db9  \n",
       "775   31ae2625-5f1b-4665-b290-09207295481c  "
      ]
     },
     "execution_count": 11,
     "metadata": {},
     "output_type": "execute_result"
    }
   ],
   "source": [
    "merged_df.head()"
   ]
  },
  {
   "cell_type": "code",
   "execution_count": 12,
   "metadata": {},
   "outputs": [],
   "source": [
    "merged_df.to_csv('/media/sarthak/HDD/data_science/fnp_resources/data/task1/all_combined/train_with_semeval_all.csv', index=False)"
   ]
  }
 ],
 "metadata": {
  "kernelspec": {
   "display_name": "Python fnp",
   "language": "python",
   "name": "fnp"
  },
  "language_info": {
   "codemirror_mode": {
    "name": "ipython",
    "version": 3
   },
   "file_extension": ".py",
   "mimetype": "text/x-python",
   "name": "python",
   "nbconvert_exporter": "python",
   "pygments_lexer": "ipython3",
   "version": "3.6.7"
  }
 },
 "nbformat": 4,
 "nbformat_minor": 4
}
