{
 "cells": [
  {
   "cell_type": "code",
   "execution_count": 1,
   "metadata": {},
   "outputs": [],
   "source": [
    "import pandas as pd\n",
    "from pathlib import Path\n",
    "import numpy as np\n",
    "from typing import Any"
   ]
  },
  {
   "cell_type": "code",
   "execution_count": 2,
   "metadata": {},
   "outputs": [
    {
     "name": "stdout",
     "output_type": "stream",
     "text": [
      "shape of data: (7721, 4)\n"
     ]
    },
    {
     "data": {
      "text/html": [
       "<div>\n",
       "<style scoped>\n",
       "    .dataframe tbody tr th:only-of-type {\n",
       "        vertical-align: middle;\n",
       "    }\n",
       "\n",
       "    .dataframe tbody tr th {\n",
       "        vertical-align: top;\n",
       "    }\n",
       "\n",
       "    .dataframe thead th {\n",
       "        text-align: right;\n",
       "    }\n",
       "</style>\n",
       "<table border=\"1\" class=\"dataframe\">\n",
       "  <thead>\n",
       "    <tr style=\"text-align: right;\">\n",
       "      <th></th>\n",
       "      <th>Index</th>\n",
       "      <th>Text</th>\n",
       "      <th>Gold</th>\n",
       "      <th>unique_id</th>\n",
       "    </tr>\n",
       "  </thead>\n",
       "  <tbody>\n",
       "    <tr>\n",
       "      <th>0</th>\n",
       "      <td>149.00013</td>\n",
       "      <td>International Monetary Systems Company Profile...</td>\n",
       "      <td>0</td>\n",
       "      <td>c3ac1fe6-03f3-4c3a-a629-fece251ba910</td>\n",
       "    </tr>\n",
       "    <tr>\n",
       "      <th>1</th>\n",
       "      <td>16.00004</td>\n",
       "      <td>Investment Governance for Fiduciaries, our new...</td>\n",
       "      <td>0</td>\n",
       "      <td>21b03c65-a763-4530-93fe-274329159fe4</td>\n",
       "    </tr>\n",
       "    <tr>\n",
       "      <th>2</th>\n",
       "      <td>123.00020</td>\n",
       "      <td>In other words, whatever emerges over that tim...</td>\n",
       "      <td>0</td>\n",
       "      <td>0a23192c-c361-48af-a32d-6451fc9a0cf9</td>\n",
       "    </tr>\n",
       "    <tr>\n",
       "      <th>3</th>\n",
       "      <td>37.00015</td>\n",
       "      <td>Beijing Meddling  With a focus on divesting fr...</td>\n",
       "      <td>0</td>\n",
       "      <td>59d14846-7cab-4e56-9694-38d42b190239</td>\n",
       "    </tr>\n",
       "    <tr>\n",
       "      <th>4</th>\n",
       "      <td>26.00008</td>\n",
       "      <td>It would probably be a leader in cutting-edge ...</td>\n",
       "      <td>0</td>\n",
       "      <td>70a20d4c-d155-498b-a189-e1d5df3102f3</td>\n",
       "    </tr>\n",
       "  </tbody>\n",
       "</table>\n",
       "</div>"
      ],
      "text/plain": [
       "       Index                                               Text  Gold  \\\n",
       "0  149.00013  International Monetary Systems Company Profile...     0   \n",
       "1   16.00004  Investment Governance for Fiduciaries, our new...     0   \n",
       "2  123.00020  In other words, whatever emerges over that tim...     0   \n",
       "3   37.00015  Beijing Meddling  With a focus on divesting fr...     0   \n",
       "4   26.00008  It would probably be a leader in cutting-edge ...     0   \n",
       "\n",
       "                              unique_id  \n",
       "0  c3ac1fe6-03f3-4c3a-a629-fece251ba910  \n",
       "1  21b03c65-a763-4530-93fe-274329159fe4  \n",
       "2  0a23192c-c361-48af-a32d-6451fc9a0cf9  \n",
       "3  59d14846-7cab-4e56-9694-38d42b190239  \n",
       "4  70a20d4c-d155-498b-a189-e1d5df3102f3  "
      ]
     },
     "execution_count": 2,
     "metadata": {},
     "output_type": "execute_result"
    }
   ],
   "source": [
    "train_path = Path('/media/sarthak/HDD/data_science/fnp_resources/data/task1/train_on_trial_test_on_practice_v2/train.csv')\n",
    "train_df = pd.read_csv(train_path)\n",
    "print('shape of data: {}'.format(train_df.shape))\n",
    "train_df.head()"
   ]
  },
  {
   "cell_type": "code",
   "execution_count": 3,
   "metadata": {},
   "outputs": [],
   "source": [
    "def binary_under_sampling(df: pd.DataFrame, label_column: str, majority_label: Any, undersampling_frac: float):\n",
    "    \n",
    "    assert undersampling_frac <= 1.0 and undersampling_frac >=0\n",
    "    \n",
    "    # undersamples the majority class\n",
    "    majority_df = df.loc[df[label_column] == majority_label]\n",
    "    minority_df = df.loc[df[label_column] != majority_label]\n",
    "    size_minority = minority_df.shape[0]\n",
    "    size_majority = int(undersampling_frac * size_minority)\n",
    "    majority_df = majority_df.sample(n=size_majority)\n",
    "    return pd.concat([minority_df, majority_df]).sample(frac=1.0)"
   ]
  },
  {
   "cell_type": "code",
   "execution_count": 4,
   "metadata": {},
   "outputs": [
    {
     "name": "stdout",
     "output_type": "stream",
     "text": [
      "shape of data: (1024, 4)\n",
      "label distribution: 1    512\n",
      "0    512\n",
      "Name: Gold, dtype: int64\n"
     ]
    },
    {
     "data": {
      "text/html": [
       "<div>\n",
       "<style scoped>\n",
       "    .dataframe tbody tr th:only-of-type {\n",
       "        vertical-align: middle;\n",
       "    }\n",
       "\n",
       "    .dataframe tbody tr th {\n",
       "        vertical-align: top;\n",
       "    }\n",
       "\n",
       "    .dataframe thead th {\n",
       "        text-align: right;\n",
       "    }\n",
       "</style>\n",
       "<table border=\"1\" class=\"dataframe\">\n",
       "  <thead>\n",
       "    <tr style=\"text-align: right;\">\n",
       "      <th></th>\n",
       "      <th>Index</th>\n",
       "      <th>Text</th>\n",
       "      <th>Gold</th>\n",
       "      <th>unique_id</th>\n",
       "    </tr>\n",
       "  </thead>\n",
       "  <tbody>\n",
       "    <tr>\n",
       "      <th>5421</th>\n",
       "      <td>232.00014</td>\n",
       "      <td>Moors &amp; Cabot Inc. boosted its position in sha...</td>\n",
       "      <td>1</td>\n",
       "      <td>a650d2ff-c207-48b1-a4a3-aed8d04e5c8d</td>\n",
       "    </tr>\n",
       "    <tr>\n",
       "      <th>2668</th>\n",
       "      <td>345.00025</td>\n",
       "      <td>It is used mainly but not exclusively by defin...</td>\n",
       "      <td>0</td>\n",
       "      <td>6159a3bf-2b11-4dfd-b676-a4bdf08b4e94</td>\n",
       "    </tr>\n",
       "    <tr>\n",
       "      <th>2839</th>\n",
       "      <td>61.00007</td>\n",
       "      <td>NCR is headquartered in Atlanta, Georgia, with...</td>\n",
       "      <td>0</td>\n",
       "      <td>656dac30-8605-4ba7-9a34-3768d269c6ac</td>\n",
       "    </tr>\n",
       "    <tr>\n",
       "      <th>2926</th>\n",
       "      <td>9.00052</td>\n",
       "      <td>Things got worse when the Wall came down. GDP ...</td>\n",
       "      <td>1</td>\n",
       "      <td>235e3d68-afb8-4bf5-8df4-f9116ed53b27</td>\n",
       "    </tr>\n",
       "    <tr>\n",
       "      <th>341</th>\n",
       "      <td>86.00003</td>\n",
       "      <td>She lowered effective corporate tax further fo...</td>\n",
       "      <td>1</td>\n",
       "      <td>db0bf285-5533-40f3-bf43-d8c73066a7a6</td>\n",
       "    </tr>\n",
       "  </tbody>\n",
       "</table>\n",
       "</div>"
      ],
      "text/plain": [
       "          Index                                               Text  Gold  \\\n",
       "5421  232.00014  Moors & Cabot Inc. boosted its position in sha...     1   \n",
       "2668  345.00025  It is used mainly but not exclusively by defin...     0   \n",
       "2839   61.00007  NCR is headquartered in Atlanta, Georgia, with...     0   \n",
       "2926    9.00052  Things got worse when the Wall came down. GDP ...     1   \n",
       "341    86.00003  She lowered effective corporate tax further fo...     1   \n",
       "\n",
       "                                 unique_id  \n",
       "5421  a650d2ff-c207-48b1-a4a3-aed8d04e5c8d  \n",
       "2668  6159a3bf-2b11-4dfd-b676-a4bdf08b4e94  \n",
       "2839  656dac30-8605-4ba7-9a34-3768d269c6ac  \n",
       "2926  235e3d68-afb8-4bf5-8df4-f9116ed53b27  \n",
       "341   db0bf285-5533-40f3-bf43-d8c73066a7a6  "
      ]
     },
     "execution_count": 4,
     "metadata": {},
     "output_type": "execute_result"
    }
   ],
   "source": [
    "sampled_df = binary_under_sampling(df=train_df, label_column='Gold', majority_label=0, undersampling_frac=1.0)\n",
    "print('shape of data: {}'.format(sampled_df.shape))\n",
    "print('label distribution: {}'.format(sampled_df.Gold.value_counts()))\n",
    "sampled_df.head()"
   ]
  },
  {
   "cell_type": "code",
   "execution_count": 5,
   "metadata": {},
   "outputs": [],
   "source": [
    "sampled_df.to_csv(Path('/media/sarthak/HDD/data_science/fnp_resources/data/task1/train_on_trial_test_on_practice_v2/train_5050.csv'), index=False)"
   ]
  }
 ],
 "metadata": {
  "kernelspec": {
   "display_name": "Python fnp",
   "language": "python",
   "name": "fnp"
  },
  "language_info": {
   "codemirror_mode": {
    "name": "ipython",
    "version": 3
   },
   "file_extension": ".py",
   "mimetype": "text/x-python",
   "name": "python",
   "nbconvert_exporter": "python",
   "pygments_lexer": "ipython3",
   "version": "3.6.7"
  }
 },
 "nbformat": 4,
 "nbformat_minor": 4
}
