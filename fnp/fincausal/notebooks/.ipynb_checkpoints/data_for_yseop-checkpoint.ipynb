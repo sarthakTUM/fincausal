{
 "cells": [
  {
   "cell_type": "code",
   "execution_count": 22,
   "metadata": {},
   "outputs": [],
   "source": [
    "import pandas as pd\n",
    "import numpy as np\n",
    "from pathlib import Path\n",
    "from sklearn.preprocessing import LabelEncoder"
   ]
  },
  {
   "cell_type": "code",
   "execution_count": 23,
   "metadata": {},
   "outputs": [],
   "source": [
    "train_file_path = Path('/media/sarthak/HDD/data_science/fnp_resources/data/task1/train_on_practice_test_on_trial_v2/train.csv')\n",
    "dev_file_path = Path('/media/sarthak/HDD/data_science/fnp_resources/data/task1/train_on_practice_test_on_trial_v2/dev.csv')\n",
    "test_file_path = Path('/media/sarthak/HDD/data_science/fnp_resources/data/task1/train_on_practice_test_on_trial_v2/test.csv')\n",
    "\n",
    "train_out_file_path = Path('/media/sarthak/HDD/data_science/fnp_resources/data/task1/train_on_practice_test_on_trial_v2/train_yseop.tsv')\n",
    "dev_out_file_path = Path('/media/sarthak/HDD/data_science/fnp_resources/data/task1/train_on_practice_test_on_trial_v2/dev_yseop.tsv')\n",
    "test_out_file_path = Path('/media/sarthak/HDD/data_science/fnp_resources/data/task1/train_on_practice_test_on_trial_v2/test_yseop.tsv')"
   ]
  },
  {
   "cell_type": "code",
   "execution_count": 24,
   "metadata": {},
   "outputs": [],
   "source": [
    "train_df = pd.read_csv(train_file_path)\n",
    "dev_df = pd.read_csv(dev_file_path)\n",
    "test_df = pd.read_csv(test_file_path)\n"
   ]
  },
  {
   "cell_type": "code",
   "execution_count": 29,
   "metadata": {},
   "outputs": [],
   "source": [
    "def yseop_train(in_df: pd.DataFrame) -> pd.DataFrame:\n",
    "    le = LabelEncoder()\n",
    "    df_bert = pd.DataFrame({'id': np.arange(len(in_df)),\n",
    "                            'label': le.fit_transform(in_df['Gold']),\n",
    "                            'alpha': ['a'] * in_df.shape[0],\n",
    "                            'text': in_df['Text']})\n",
    "    return df_bert\n",
    "\n",
    "def yseop_test(test_df: pd.DataFrame) -> pd.DataFrame:\n",
    "    df_bert_test = pd.DataFrame({'id': np.arange(len(test_df)),\n",
    "                                 'text': test_df['Text'],\n",
    "                                 'label': test_df['Gold']})\n",
    "    return df_bert_test\n",
    "\n",
    "def save_yseop(df: pd.DataFrame, out_path: Path):\n",
    "    df.to_csv(out_path,\n",
    "              sep='\\t', \n",
    "              index=False, \n",
    "              header=False)"
   ]
  },
  {
   "cell_type": "code",
   "execution_count": 28,
   "metadata": {},
   "outputs": [],
   "source": [
    "train_yseop = yseop_train(train_df)\n",
    "dev_yseop = yseop_train(dev_df)\n",
    "test_yseop = yseop_test(test_df)"
   ]
  },
  {
   "cell_type": "code",
   "execution_count": 30,
   "metadata": {},
   "outputs": [],
   "source": [
    "save_yseop(train_yseop, train_out_file_path)\n",
    "save_yseop(dev_yseop, dev_out_file_path)\n",
    "save_yseop(test_yseop, test_out_file_path)"
   ]
  }
 ],
 "metadata": {
  "kernelspec": {
   "display_name": "Python fnp",
   "language": "python",
   "name": "fnp"
  },
  "language_info": {
   "codemirror_mode": {
    "name": "ipython",
    "version": 3
   },
   "file_extension": ".py",
   "mimetype": "text/x-python",
   "name": "python",
   "nbconvert_exporter": "python",
   "pygments_lexer": "ipython3",
   "version": "3.6.7"
  }
 },
 "nbformat": 4,
 "nbformat_minor": 4
}
