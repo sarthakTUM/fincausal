{
 "cells": [
  {
   "cell_type": "code",
   "execution_count": 1,
   "metadata": {},
   "outputs": [],
   "source": [
    "from pathlib import Path\n",
    "import pandas as pd\n",
    "from sklearn.model_selection import train_test_split"
   ]
  },
  {
   "cell_type": "code",
   "execution_count": 2,
   "metadata": {},
   "outputs": [],
   "source": [
    "# 1. specify a file to read\n",
    "fincausal_task1_file_path = Path('/media/sarthak/HDD/data_science/fnp/resources/fnp2020-fincausal-task1.csv')"
   ]
  },
  {
   "cell_type": "code",
   "execution_count": 11,
   "metadata": {},
   "outputs": [
    {
     "data": {
      "text/plain": [
       "(8690, 3)"
      ]
     },
     "execution_count": 11,
     "metadata": {},
     "output_type": "execute_result"
    }
   ],
   "source": [
    "fincausal_task1_trial_data = pd.read_csv(fincausal_task1_file_path, sep=';')\n",
    "fincausal_task1_trial_data.shape"
   ]
  },
  {
   "cell_type": "code",
   "execution_count": 12,
   "metadata": {},
   "outputs": [
    {
     "data": {
      "text/plain": [
       "Index    0\n",
       " Text    0\n",
       " Gold    0\n",
       "dtype: int64"
      ]
     },
     "execution_count": 12,
     "metadata": {},
     "output_type": "execute_result"
    }
   ],
   "source": [
    "fincausal_task1_trial_data.isna().sum()"
   ]
  },
  {
   "cell_type": "code",
   "execution_count": 15,
   "metadata": {},
   "outputs": [
    {
     "data": {
      "text/plain": [
       "Index(['Index', ' Text', ' Gold'], dtype='object')"
      ]
     },
     "execution_count": 15,
     "metadata": {},
     "output_type": "execute_result"
    }
   ],
   "source": [
    "fincausal_task1_trial_data.columns"
   ]
  },
  {
   "cell_type": "code",
   "execution_count": 16,
   "metadata": {},
   "outputs": [],
   "source": [
    "fincausal_task1_trial_data.columns = [col.strip() for col in fincausal_task1_trial_data.columns]"
   ]
  },
  {
   "cell_type": "code",
   "execution_count": 18,
   "metadata": {},
   "outputs": [
    {
     "data": {
      "text/plain": [
       "Index(['Index', 'Text', 'Gold'], dtype='object')"
      ]
     },
     "execution_count": 18,
     "metadata": {},
     "output_type": "execute_result"
    }
   ],
   "source": [
    "fincausal_task1_trial_data.columns"
   ]
  },
  {
   "cell_type": "code",
   "execution_count": 19,
   "metadata": {},
   "outputs": [],
   "source": [
    "labels = fincausal_task1_trial_data.Gold"
   ]
  },
  {
   "cell_type": "code",
   "execution_count": 20,
   "metadata": {},
   "outputs": [],
   "source": [
    "fincausal_task1_train, fincausal_task1_test = train_test_split(fincausal_task1_trial_data, \n",
    "                                                               stratify = labels,\n",
    "                                                               random_state=42, \n",
    "                                                               test_size=0.2)"
   ]
  },
  {
   "cell_type": "code",
   "execution_count": 21,
   "metadata": {},
   "outputs": [],
   "source": [
    "fincausal_task1_train, fincausal_task1_val = train_test_split(fincausal_task1_train,\n",
    "                                                              stratify = fincausal_task1_train.Gold,\n",
    "                                                              random_state=42, \n",
    "                                                              test_size=0.2)"
   ]
  },
  {
   "cell_type": "code",
   "execution_count": 22,
   "metadata": {},
   "outputs": [
    {
     "data": {
      "text/plain": [
       "((5561, 3), (1391, 3), (1738, 3))"
      ]
     },
     "execution_count": 22,
     "metadata": {},
     "output_type": "execute_result"
    }
   ],
   "source": [
    "fincausal_task1_train.shape, fincausal_task1_val.shape, fincausal_task1_test.shape"
   ]
  },
  {
   "cell_type": "code",
   "execution_count": 23,
   "metadata": {},
   "outputs": [
    {
     "data": {
      "text/plain": [
       "(0    5183\n",
       " 1     378\n",
       " Name: Gold, dtype: int64,\n",
       " 0    1297\n",
       " 1      94\n",
       " Name: Gold, dtype: int64,\n",
       " 0    1620\n",
       " 1     118\n",
       " Name: Gold, dtype: int64)"
      ]
     },
     "execution_count": 23,
     "metadata": {},
     "output_type": "execute_result"
    }
   ],
   "source": [
    "fincausal_task1_train['Gold'].value_counts(), fincausal_task1_val['Gold'].value_counts(), fincausal_task1_test['Gold'].value_counts()"
   ]
  },
  {
   "cell_type": "code",
   "execution_count": 24,
   "metadata": {},
   "outputs": [],
   "source": [
    "fincausal_task1_train.to_csv('/media/sarthak/HDD/data_science/fnp/resources/fnp2020-fincausal-task1-train.csv', sep=';', index=False)\n",
    "fincausal_task1_val.to_csv('/media/sarthak/HDD/data_science/fnp/resources/fnp2020-fincausal-task1-val.csv', sep=';', index=False)\n",
    "fincausal_task1_test.to_csv('/media/sarthak/HDD/data_science/fnp/resources/fnp2020-fincausal-task1-test.csv', sep=';', index=False)"
   ]
  }
 ],
 "metadata": {
  "kernelspec": {
   "display_name": "Python fnp",
   "language": "python",
   "name": "fnp"
  },
  "language_info": {
   "codemirror_mode": {
    "name": "ipython",
    "version": 3
   },
   "file_extension": ".py",
   "mimetype": "text/x-python",
   "name": "python",
   "nbconvert_exporter": "python",
   "pygments_lexer": "ipython3",
   "version": "3.6.7"
  }
 },
 "nbformat": 4,
 "nbformat_minor": 4
}
