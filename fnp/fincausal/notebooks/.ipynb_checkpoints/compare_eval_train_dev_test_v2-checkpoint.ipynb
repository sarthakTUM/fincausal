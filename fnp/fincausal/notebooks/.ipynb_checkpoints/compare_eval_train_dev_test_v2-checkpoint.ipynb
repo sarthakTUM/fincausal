{
 "cells": [
  {
   "cell_type": "code",
   "execution_count": 3,
   "metadata": {},
   "outputs": [],
   "source": [
    "%matplotlib inline"
   ]
  },
  {
   "cell_type": "code",
   "execution_count": 4,
   "metadata": {},
   "outputs": [],
   "source": [
    "import pandas as pd\n",
    "from pathlib import Path\n",
    "import numpy as np\n",
    "import uuid\n",
    "import os\n",
    "import matplotlib.pyplot as plt"
   ]
  },
  {
   "cell_type": "code",
   "execution_count": 5,
   "metadata": {},
   "outputs": [],
   "source": [
    "fincausal_task1_eval_path = Path('/media/sarthak/HDD/data_science/fnp_resources/data/task1/v2/eval.csv')\n",
    "fincausal_task1_train_path = Path('/media/sarthak/HDD/data_science/fnp_resources/data/task1/all_combined/train.csv')\n",
    "fincausal_task1_dev_path = Path('/media/sarthak/HDD/data_science/fnp_resources/data/task1/all_combined/dev.csv')\n",
    "fincausal_task1_test_path = Path('/media/sarthak/HDD/data_science/fnp_resources/data/task1/all_combined/test.csv')"
   ]
  },
  {
   "cell_type": "code",
   "execution_count": 9,
   "metadata": {},
   "outputs": [
    {
     "name": "stderr",
     "output_type": "stream",
     "text": [
      "/media/sarthak/HDD/Anaconda/envs/fnp/lib/python3.6/site-packages/ipykernel_launcher.py:1: ParserWarning: Falling back to the 'python' engine because the 'c' engine does not support regex separators (separators > 1 char and different from '\\s+' are interpreted as regex); you can avoid this warning by specifying engine='python'.\n",
      "  \"\"\"Entry point for launching an IPython kernel.\n"
     ]
    }
   ],
   "source": [
    "fincausal_task1_eval = pd.read_csv(fincausal_task1_eval_path, sep='; ')\n",
    "fincausal_task1_train = pd.read_csv(fincausal_task1_train_path)\n",
    "fincausal_task1_dev = pd.read_csv(fincausal_task1_dev_path)\n",
    "fincausal_task1_test = pd.read_csv(fincausal_task1_test_path)"
   ]
  },
  {
   "cell_type": "code",
   "execution_count": 12,
   "metadata": {},
   "outputs": [],
   "source": [
    "fincausal_task1_eval['txt_length'] = fincausal_task1_eval['Text'].apply(lambda txt: len(txt))\n",
    "fincausal_task1_train['txt_length'] = fincausal_task1_train['Text'].apply(lambda txt: len(txt))\n",
    "fincausal_task1_dev['txt_length'] = fincausal_task1_dev['Text'].apply(lambda txt: len(txt))\n",
    "fincausal_task1_test['txt_length'] = fincausal_task1_test['Text'].apply(lambda txt: len(txt))"
   ]
  },
  {
   "cell_type": "code",
   "execution_count": 18,
   "metadata": {},
   "outputs": [
    {
     "data": {
      "text/plain": [
       "<matplotlib.axes._subplots.AxesSubplot at 0x7f8a1e075978>"
      ]
     },
     "execution_count": 18,
     "metadata": {},
     "output_type": "execute_result"
    },
    {
     "data": {
      "image/png": "[encoded data removed]",
      "text/plain": [
       "<Figure size 432x288 with 1 Axes>"
      ]
     },
     "metadata": {
      "needs_background": "light"
     },
     "output_type": "display_data"
    }
   ],
   "source": [
    "lengths = pd.DataFrame({\n",
    "    'eval': fincausal_task1_eval.txt_length,\n",
    "    'train': fincausal_task1_train.txt_length,\n",
    "    'dev': fincausal_task1_dev.txt_length,\n",
    "    'test': fincausal_task1_test.txt_length,\n",
    "})\n",
    "lengths.boxplot(sym='')"
   ]
  }
 ],
 "metadata": {
  "kernelspec": {
   "display_name": "Python fnp",
   "language": "python",
   "name": "fnp"
  },
  "language_info": {
   "codemirror_mode": {
    "name": "ipython",
    "version": 3
   },
   "file_extension": ".py",
   "mimetype": "text/x-python",
   "name": "python",
   "nbconvert_exporter": "python",
   "pygments_lexer": "ipython3",
   "version": "3.6.7"
  }
 },
 "nbformat": 4,
 "nbformat_minor": 4
}
