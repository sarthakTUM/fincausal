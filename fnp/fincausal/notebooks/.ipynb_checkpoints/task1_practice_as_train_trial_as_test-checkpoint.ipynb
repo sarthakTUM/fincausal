{
 "cells": [
  {
   "cell_type": "code",
   "execution_count": 18,
   "metadata": {},
   "outputs": [],
   "source": [
    "import pandas as pd\n",
    "from pathlib import Path\n",
    "import numpy as np\n",
    "import uuid\n",
    "import os\n",
    "from sklearn.model_selection import train_test_split"
   ]
  },
  {
   "cell_type": "code",
   "execution_count": 19,
   "metadata": {},
   "outputs": [],
   "source": [
    "fincausal_task1_trial_path = Path('/media/sarthak/HDD/data_science/fnp_resources/data/task1/v2/trial.csv')\n",
    "fincausal_task1_practice_path = Path('/media/sarthak/HDD/data_science/fnp_resources/data/task1/v2/practice.csv')"
   ]
  },
  {
   "cell_type": "code",
   "execution_count": 22,
   "metadata": {},
   "outputs": [
    {
     "name": "stderr",
     "output_type": "stream",
     "text": [
      "/media/sarthak/HDD/Anaconda/envs/fnp/lib/python3.6/site-packages/ipykernel_launcher.py:1: ParserWarning: Falling back to the 'python' engine because the 'c' engine does not support regex separators (separators > 1 char and different from '\\s+' are interpreted as regex); you can avoid this warning by specifying engine='python'.\n",
      "  \"\"\"Entry point for launching an IPython kernel.\n",
      "/media/sarthak/HDD/Anaconda/envs/fnp/lib/python3.6/site-packages/ipykernel_launcher.py:2: ParserWarning: Falling back to the 'python' engine because the 'c' engine does not support regex separators (separators > 1 char and different from '\\s+' are interpreted as regex); you can avoid this warning by specifying engine='python'.\n",
      "  \n"
     ]
    }
   ],
   "source": [
    "fincausal_task1_trial = pd.read_csv(fincausal_task1_trial_path, sep='; ', dtype={'Index': str})\n",
    "fincausal_task1_practice = pd.read_csv(fincausal_task1_practice_path, sep='; ')"
   ]
  },
  {
   "cell_type": "code",
   "execution_count": 5,
   "metadata": {},
   "outputs": [
    {
     "data": {
      "text/plain": [
       "Index    0\n",
       "Text     3\n",
       "Gold     0\n",
       "dtype: int64"
      ]
     },
     "execution_count": 5,
     "metadata": {},
     "output_type": "execute_result"
    }
   ],
   "source": [
    "# NAs practice\n",
    "fincausal_task1_practice.isna().sum()"
   ]
  },
  {
   "cell_type": "code",
   "execution_count": 6,
   "metadata": {},
   "outputs": [
    {
     "data": {
      "text/plain": [
       "Index    0\n",
       "Text     1\n",
       "Gold     0\n",
       "dtype: int64"
      ]
     },
     "execution_count": 6,
     "metadata": {},
     "output_type": "execute_result"
    }
   ],
   "source": [
    "fincausal_task1_trial.isna().sum()"
   ]
  },
  {
   "cell_type": "code",
   "execution_count": 7,
   "metadata": {},
   "outputs": [],
   "source": [
    "fincausal_task1_trial = fincausal_task1_trial.loc[~fincausal_task1_trial.Text.isna()]\n",
    "fincausal_task1_practice = fincausal_task1_practice.loc[~fincausal_task1_practice.Text.isna()]"
   ]
  },
  {
   "cell_type": "code",
   "execution_count": 9,
   "metadata": {},
   "outputs": [],
   "source": [
    "# split trial in train and dev\n",
    "train, dev = train_test_split(fincausal_task1_practice,\n",
    "                              stratify = fincausal_task1_practice.Gold,\n",
    "                              random_state=42, \n",
    "                              test_size=0.2)"
   ]
  },
  {
   "cell_type": "code",
   "execution_count": 10,
   "metadata": {},
   "outputs": [
    {
     "name": "stdout",
     "output_type": "stream",
     "text": [
      "shape trial train: (10780, 3), shape trial dev: (2695, 3)\n"
     ]
    }
   ],
   "source": [
    "print('shape trial train: {}, shape trial dev: {}'.format(train.shape, dev.shape))"
   ]
  },
  {
   "cell_type": "markdown",
   "metadata": {},
   "source": [
    "There are no NAs in the dataset"
   ]
  },
  {
   "cell_type": "code",
   "execution_count": 11,
   "metadata": {},
   "outputs": [
    {
     "name": "stderr",
     "output_type": "stream",
     "text": [
      "/media/sarthak/HDD/Anaconda/envs/fnp/lib/python3.6/site-packages/ipykernel_launcher.py:1: SettingWithCopyWarning: \n",
      "A value is trying to be set on a copy of a slice from a DataFrame.\n",
      "Try using .loc[row_indexer,col_indexer] = value instead\n",
      "\n",
      "See the caveats in the documentation: https://pandas.pydata.org/pandas-docs/stable/user_guide/indexing.html#returning-a-view-versus-a-copy\n",
      "  \"\"\"Entry point for launching an IPython kernel.\n",
      "/media/sarthak/HDD/Anaconda/envs/fnp/lib/python3.6/site-packages/ipykernel_launcher.py:2: SettingWithCopyWarning: \n",
      "A value is trying to be set on a copy of a slice from a DataFrame.\n",
      "Try using .loc[row_indexer,col_indexer] = value instead\n",
      "\n",
      "See the caveats in the documentation: https://pandas.pydata.org/pandas-docs/stable/user_guide/indexing.html#returning-a-view-versus-a-copy\n",
      "  \n"
     ]
    }
   ],
   "source": [
    "train['unique_id'] = [str(uuid.uuid4()) for _ in range(len(train))]\n",
    "dev['unique_id'] = [str(uuid.uuid4()) for _ in range(len(dev))]\n",
    "fincausal_task1_trial['unique_id'] = [str(uuid.uuid4()) for _ in range(len(fincausal_task1_trial))]"
   ]
  },
  {
   "cell_type": "code",
   "execution_count": 14,
   "metadata": {},
   "outputs": [],
   "source": [
    "train.to_csv(Path('/media/sarthak/HDD/data_science/fnp_resources/data/task1/train_on_practice_test_on_trial_v2/train.csv'), index=False)\n",
    "dev.to_csv(Path('/media/sarthak/HDD/data_science/fnp_resources/data/task1/train_on_practice_test_on_trial_v2/dev.csv'), index=False)\n",
    "fincausal_task1_trial.to_csv(Path('/media/sarthak/HDD/data_science/fnp_resources/data/task1/train_on_practice_test_on_trial_v2/test.csv'), index=False)"
   ]
  },
  {
   "cell_type": "markdown",
   "metadata": {},
   "source": [
    "# train+dev"
   ]
  },
  {
   "cell_type": "code",
   "execution_count": 15,
   "metadata": {},
   "outputs": [
    {
     "data": {
      "text/html": [
       "<div>\n",
       "<style scoped>\n",
       "    .dataframe tbody tr th:only-of-type {\n",
       "        vertical-align: middle;\n",
       "    }\n",
       "\n",
       "    .dataframe tbody tr th {\n",
       "        vertical-align: top;\n",
       "    }\n",
       "\n",
       "    .dataframe thead th {\n",
       "        text-align: right;\n",
       "    }\n",
       "</style>\n",
       "<table border=\"1\" class=\"dataframe\">\n",
       "  <thead>\n",
       "    <tr style=\"text-align: right;\">\n",
       "      <th></th>\n",
       "      <th>Index</th>\n",
       "      <th>Text</th>\n",
       "      <th>Gold</th>\n",
       "      <th>unique_id</th>\n",
       "    </tr>\n",
       "  </thead>\n",
       "  <tbody>\n",
       "    <tr>\n",
       "      <th>714</th>\n",
       "      <td>36.00012</td>\n",
       "      <td>And our advertising partners will have access ...</td>\n",
       "      <td>0</td>\n",
       "      <td>a89a1473-05ae-4e3c-87df-a41e229071db</td>\n",
       "    </tr>\n",
       "    <tr>\n",
       "      <th>10548</th>\n",
       "      <td>468.00008</td>\n",
       "      <td>In most cases, we cannot really predict the pr...</td>\n",
       "      <td>0</td>\n",
       "      <td>a5ba5769-595f-4d9d-9c38-21c07281e75d</td>\n",
       "    </tr>\n",
       "    <tr>\n",
       "      <th>3147</th>\n",
       "      <td>151.00003</td>\n",
       "      <td>On the competitive side is, Valeritas Holdings...</td>\n",
       "      <td>0</td>\n",
       "      <td>f766ab9b-1332-4c06-9433-0992029d49e7</td>\n",
       "    </tr>\n",
       "    <tr>\n",
       "      <th>10039</th>\n",
       "      <td>441.00006</td>\n",
       "      <td>The firm has a market cap of $455.18 million, ...</td>\n",
       "      <td>0</td>\n",
       "      <td>33d9704b-a90d-4917-b2e9-3c7021fedd4e</td>\n",
       "    </tr>\n",
       "    <tr>\n",
       "      <th>2751</th>\n",
       "      <td>132.00119</td>\n",
       "      <td>COMTEX_352784348/2606/2019-09-20T12:40:35</td>\n",
       "      <td>0</td>\n",
       "      <td>09119334-3265-4917-bf91-054d1c20f28c</td>\n",
       "    </tr>\n",
       "  </tbody>\n",
       "</table>\n",
       "</div>"
      ],
      "text/plain": [
       "           Index                                               Text  Gold  \\\n",
       "714     36.00012  And our advertising partners will have access ...     0   \n",
       "10548  468.00008  In most cases, we cannot really predict the pr...     0   \n",
       "3147   151.00003  On the competitive side is, Valeritas Holdings...     0   \n",
       "10039  441.00006  The firm has a market cap of $455.18 million, ...     0   \n",
       "2751   132.00119          COMTEX_352784348/2606/2019-09-20T12:40:35     0   \n",
       "\n",
       "                                  unique_id  \n",
       "714    a89a1473-05ae-4e3c-87df-a41e229071db  \n",
       "10548  a5ba5769-595f-4d9d-9c38-21c07281e75d  \n",
       "3147   f766ab9b-1332-4c06-9433-0992029d49e7  \n",
       "10039  33d9704b-a90d-4917-b2e9-3c7021fedd4e  \n",
       "2751   09119334-3265-4917-bf91-054d1c20f28c  "
      ]
     },
     "execution_count": 15,
     "metadata": {},
     "output_type": "execute_result"
    }
   ],
   "source": [
    "train_dev = pd.concat([train, dev])\n",
    "train_dev.head(\n",
    ")"
   ]
  },
  {
   "cell_type": "code",
   "execution_count": 16,
   "metadata": {},
   "outputs": [
    {
     "data": {
      "text/plain": [
       "(13475, 4)"
      ]
     },
     "execution_count": 16,
     "metadata": {},
     "output_type": "execute_result"
    }
   ],
   "source": [
    "train_dev.shape"
   ]
  },
  {
   "cell_type": "code",
   "execution_count": 17,
   "metadata": {},
   "outputs": [],
   "source": [
    "train_dev.to_csv(Path('/media/sarthak/HDD/data_science/fnp_resources/data/task1/train_on_practice_test_on_trial_v2/train_dev.csv'), index=False)"
   ]
  }
 ],
 "metadata": {
  "kernelspec": {
   "display_name": "Python fnp",
   "language": "python",
   "name": "fnp"
  },
  "language_info": {
   "codemirror_mode": {
    "name": "ipython",
    "version": 3
   },
   "file_extension": ".py",
   "mimetype": "text/x-python",
   "name": "python",
   "nbconvert_exporter": "python",
   "pygments_lexer": "ipython3",
   "version": "3.6.7"
  }
 },
 "nbformat": 4,
 "nbformat_minor": 4
}
