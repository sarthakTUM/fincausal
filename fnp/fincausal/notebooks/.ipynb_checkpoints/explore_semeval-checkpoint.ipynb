{
 "cells": [
  {
   "cell_type": "code",
   "execution_count": 1,
   "metadata": {},
   "outputs": [],
   "source": [
    "import pandas as pd\n",
    "import numpy as np\n",
    "import json\n",
    "import os\n",
    "from pathlib import Path\n",
    "import re\n",
    "import csv"
   ]
  },
  {
   "cell_type": "code",
   "execution_count": 2,
   "metadata": {},
   "outputs": [],
   "source": [
    "semeval_data_train_path = Path('/media/sarthak/HDD/data_science/fnp_resources/data/SemEval2010_task8_all_data/SemEval2010_task8_training/TRAIN_FILE.TXT')\n",
    "semeval_data_test_path = Path('/media/sarthak/HDD/data_science/fnp_resources/data/SemEval2010_task8_all_data/SemEval2010_task8_testing_keys/TEST_FILE_FULL.TXT')"
   ]
  },
  {
   "cell_type": "code",
   "execution_count": 3,
   "metadata": {},
   "outputs": [],
   "source": [
    "def read_semeval(path: Path):\n",
    "    records = []\n",
    "    with open(path) as f:\n",
    "        record = []\n",
    "        count = 0\n",
    "        for line in f.readlines():\n",
    "            line = line.strip()\n",
    "            if not line:\n",
    "                # new record\n",
    "                records.append(record)\n",
    "                record = []\n",
    "                count = 0\n",
    "            else:\n",
    "                if count == 0:\n",
    "                    processed_line = line.split('\\t\"')[1][:-1]\n",
    "                    processed_line = processed_line.replace(\"<e1>\", \"\")\n",
    "                    processed_line = processed_line.replace('</e1>', \"\")\n",
    "                    processed_line = processed_line.replace('<e2>', \"\")\n",
    "                    processed_line = processed_line.replace('</e2>', \"\")\n",
    "                    record.append(processed_line)\n",
    "                    count += 1\n",
    "                elif count == 1:\n",
    "                    record.append(line.split('(')[0])\n",
    "                    count += 1\n",
    "                    \n",
    "    return records"
   ]
  },
  {
   "cell_type": "code",
   "execution_count": 4,
   "metadata": {},
   "outputs": [],
   "source": [
    "train = read_semeval(semeval_data_train_path)\n",
    "test = read_semeval(semeval_data_test_path)"
   ]
  },
  {
   "cell_type": "code",
   "execution_count": 6,
   "metadata": {},
   "outputs": [],
   "source": [
    "train_df = pd.DataFrame(train, columns=['sentence', 'relation'])\n",
    "test_df = pd.DataFrame(test, columns=['sentence', 'relation'])\n",
    "\n",
    "train_df['causal'] = train_df.relation.apply(lambda x: 1 if x == 'Cause-Effect' else 0)\n",
    "test_df['causal'] = test_df.relation.apply(lambda x: 1 if x == 'Cause-Effect' else 0)"
   ]
  },
  {
   "cell_type": "code",
   "execution_count": 13,
   "metadata": {},
   "outputs": [
    {
     "data": {
      "text/plain": [
       "(10717, 3)"
      ]
     },
     "execution_count": 13,
     "metadata": {},
     "output_type": "execute_result"
    }
   ],
   "source": [
    "all_df = pd.concat([train_df, test_df], ignore_index=True)\n",
    "all_df.shape"
   ]
  },
  {
   "cell_type": "code",
   "execution_count": 15,
   "metadata": {},
   "outputs": [
    {
     "data": {
      "text/plain": [
       "0    0.875805\n",
       "1    0.124195\n",
       "Name: causal, dtype: float64"
      ]
     },
     "execution_count": 15,
     "metadata": {},
     "output_type": "execute_result"
    }
   ],
   "source": [
    "all_df.causal.value_counts() / len(all_df)"
   ]
  },
  {
   "cell_type": "code",
   "execution_count": 11,
   "metadata": {},
   "outputs": [
    {
     "data": {
      "text/plain": [
       "0    6997\n",
       "1    1003\n",
       "Name: causal, dtype: int64"
      ]
     },
     "execution_count": 11,
     "metadata": {},
     "output_type": "execute_result"
    }
   ],
   "source": [
    "train_df.causal.value_counts()"
   ]
  },
  {
   "cell_type": "code",
   "execution_count": 12,
   "metadata": {},
   "outputs": [
    {
     "data": {
      "text/plain": [
       "0    2389\n",
       "1     328\n",
       "Name: causal, dtype: int64"
      ]
     },
     "execution_count": 12,
     "metadata": {},
     "output_type": "execute_result"
    }
   ],
   "source": [
    "test_df.causal.value_counts() "
   ]
  }
 ],
 "metadata": {
  "kernelspec": {
   "display_name": "Python fnp",
   "language": "python",
   "name": "fnp"
  },
  "language_info": {
   "codemirror_mode": {
    "name": "ipython",
    "version": 3
   },
   "file_extension": ".py",
   "mimetype": "text/x-python",
   "name": "python",
   "nbconvert_exporter": "python",
   "pygments_lexer": "ipython3",
   "version": "3.6.7"
  }
 },
 "nbformat": 4,
 "nbformat_minor": 4
}
