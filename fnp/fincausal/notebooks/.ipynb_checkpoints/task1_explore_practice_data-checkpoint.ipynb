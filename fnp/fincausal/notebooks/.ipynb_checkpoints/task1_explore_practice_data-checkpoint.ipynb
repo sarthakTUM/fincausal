{
 "cells": [
  {
   "cell_type": "code",
   "execution_count": 2,
   "metadata": {},
   "outputs": [],
   "source": [
    "import pandas as pd\n",
    "from pathlib import Path\n",
    "import numpy as np\n",
    "import uuid\n",
    "import os"
   ]
  },
  {
   "cell_type": "code",
   "execution_count": 3,
   "metadata": {},
   "outputs": [],
   "source": [
    "fincausal_task1_practice_path = Path('/media/sarthak/HDD/data_science/fnp_resources/data/task1/fnp2020-fincausal2-task1.csv')"
   ]
  },
  {
   "cell_type": "code",
   "execution_count": 4,
   "metadata": {},
   "outputs": [],
   "source": [
    "fincausal_task1_practice = pd.read_csv(fincausal_task1_practice_path, sep=';')"
   ]
  },
  {
   "cell_type": "code",
   "execution_count": 5,
   "metadata": {},
   "outputs": [],
   "source": [
    "fincausal_task1_practice.columns = [col.strip() for col in fincausal_task1_practice.columns]"
   ]
  },
  {
   "cell_type": "code",
   "execution_count": 6,
   "metadata": {},
   "outputs": [
    {
     "data": {
      "text/html": [
       "<div>\n",
       "<style scoped>\n",
       "    .dataframe tbody tr th:only-of-type {\n",
       "        vertical-align: middle;\n",
       "    }\n",
       "\n",
       "    .dataframe tbody tr th {\n",
       "        vertical-align: top;\n",
       "    }\n",
       "\n",
       "    .dataframe thead th {\n",
       "        text-align: right;\n",
       "    }\n",
       "</style>\n",
       "<table border=\"1\" class=\"dataframe\">\n",
       "  <thead>\n",
       "    <tr style=\"text-align: right;\">\n",
       "      <th></th>\n",
       "      <th>Index</th>\n",
       "      <th>Text</th>\n",
       "      <th>Gold</th>\n",
       "    </tr>\n",
       "  </thead>\n",
       "  <tbody>\n",
       "    <tr>\n",
       "      <th>0</th>\n",
       "      <td>1.00001</td>\n",
       "      <td>Florida raking in billions as Americans aband...</td>\n",
       "      <td>0</td>\n",
       "    </tr>\n",
       "    <tr>\n",
       "      <th>1</th>\n",
       "      <td>1.00002</td>\n",
       "      <td>Recently, changes to the U.S. tax code have e...</td>\n",
       "      <td>0</td>\n",
       "    </tr>\n",
       "    <tr>\n",
       "      <th>2</th>\n",
       "      <td>1.00003</td>\n",
       "      <td>MORE FROM FOXBUSINESS.COM... As it turns out,...</td>\n",
       "      <td>0</td>\n",
       "    </tr>\n",
       "    <tr>\n",
       "      <th>3</th>\n",
       "      <td>1.00004</td>\n",
       "      <td>According to a new study from LendingTree, wh...</td>\n",
       "      <td>0</td>\n",
       "    </tr>\n",
       "    <tr>\n",
       "      <th>4</th>\n",
       "      <td>1.00005</td>\n",
       "      <td>The Sunshine State drew in a net influx of ab...</td>\n",
       "      <td>1</td>\n",
       "    </tr>\n",
       "  </tbody>\n",
       "</table>\n",
       "</div>"
      ],
      "text/plain": [
       "     Index                                               Text  Gold\n",
       "0  1.00001   Florida raking in billions as Americans aband...     0\n",
       "1  1.00002   Recently, changes to the U.S. tax code have e...     0\n",
       "2  1.00003   MORE FROM FOXBUSINESS.COM... As it turns out,...     0\n",
       "3  1.00004   According to a new study from LendingTree, wh...     0\n",
       "4  1.00005   The Sunshine State drew in a net influx of ab...     1"
      ]
     },
     "execution_count": 6,
     "metadata": {},
     "output_type": "execute_result"
    }
   ],
   "source": [
    "fincausal_task1_practice.head()"
   ]
  },
  {
   "cell_type": "code",
   "execution_count": 7,
   "metadata": {},
   "outputs": [
    {
     "data": {
      "text/plain": [
       "Index    0\n",
       "Text     0\n",
       "Gold     0\n",
       "dtype: int64"
      ]
     },
     "execution_count": 7,
     "metadata": {},
     "output_type": "execute_result"
    }
   ],
   "source": [
    "# NAs practice\n",
    "fincausal_task1_practice.isna().sum()"
   ]
  },
  {
   "cell_type": "markdown",
   "metadata": {},
   "source": [
    "There are no NAs in the dataset"
   ]
  },
  {
   "cell_type": "code",
   "execution_count": 8,
   "metadata": {},
   "outputs": [
    {
     "name": "stdout",
     "output_type": "stream",
     "text": [
      "how many? 3\n",
      "label distribution for them: 0    3\n",
      "Name: Gold, dtype: int64\n"
     ]
    }
   ],
   "source": [
    "# empty sentences practice?\n",
    "empty_sections_practice = fincausal_task1_practice.loc[(fincausal_task1_practice.Text == \" \") | (fincausal_task1_practice.Text == \"\")]\n",
    "print('how many? {}'.format(len(empty_sections_practice)))\n",
    "print('label distribution for them: {}'.format(empty_sections_practice.Gold.value_counts()))"
   ]
  },
  {
   "cell_type": "code",
   "execution_count": 10,
   "metadata": {},
   "outputs": [
    {
     "name": "stdout",
     "output_type": "stream",
     "text": [
      "label distribution of practice: 0    0.923968\n",
      "1    0.076032\n",
      "Name: Gold, dtype: float64\n"
     ]
    }
   ],
   "source": [
    "# label distributions in both the sets? - both have roughly same distribution\n",
    "fincausal_task1_practice_label_distribution = fincausal_task1_practice.Gold.value_counts()\n",
    "\n",
    "print('label distribution of practice: {}'.format(fincausal_task1_practice_label_distribution / len(fincausal_task1_practice)))"
   ]
  },
  {
   "cell_type": "code",
   "execution_count": 12,
   "metadata": {},
   "outputs": [],
   "source": [
    "fincausal_task1_practice['unique_id'] = [str(uuid.uuid4()) for _ in range(len(fincausal_task1_practice))]"
   ]
  },
  {
   "cell_type": "code",
   "execution_count": 13,
   "metadata": {},
   "outputs": [],
   "source": [
    "fincausal_task1_practice.to_csv(Path('/media/sarthak/HDD/data_science/fnp_resources/data/task1/practice/all.csv'), index=False)"
   ]
  }
 ],
 "metadata": {
  "kernelspec": {
   "display_name": "Python fnp",
   "language": "python",
   "name": "fnp"
  },
  "language_info": {
   "codemirror_mode": {
    "name": "ipython",
    "version": 3
   },
   "file_extension": ".py",
   "mimetype": "text/x-python",
   "name": "python",
   "nbconvert_exporter": "python",
   "pygments_lexer": "ipython3",
   "version": "3.6.7"
  }
 },
 "nbformat": 4,
 "nbformat_minor": 4
}
