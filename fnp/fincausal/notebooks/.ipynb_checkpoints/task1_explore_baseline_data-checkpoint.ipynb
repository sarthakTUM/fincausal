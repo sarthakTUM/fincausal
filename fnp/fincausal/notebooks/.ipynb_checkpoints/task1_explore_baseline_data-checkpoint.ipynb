{
 "cells": [
  {
   "cell_type": "code",
   "execution_count": 1,
   "metadata": {},
   "outputs": [],
   "source": [
    "import pandas as pd\n",
    "from pathlib import Path\n",
    "import numpy as np\n",
    "import uuid\n",
    "import os\n",
    "import re"
   ]
  },
  {
   "cell_type": "code",
   "execution_count": 2,
   "metadata": {},
   "outputs": [],
   "source": [
    "fincausal_task1_trial_train_path = Path('/media/sarthak/HDD/data_science/fnp_resources/data/YseopLab-develop/FNP_2020_FinCausal/baseline/task1/data/train.tsv')\n",
    "fincausal_task1_trial_dev_path = Path('/media/sarthak/HDD/data_science/fnp_resources/data/YseopLab-develop/FNP_2020_FinCausal/baseline/task1/data/dev.tsv')\n",
    "fincausal_task1_trial_test_path = Path('/media/sarthak/HDD/data_science/fnp_resources/data/YseopLab-develop/FNP_2020_FinCausal/baseline/task1/data/test.tsv')"
   ]
  },
  {
   "cell_type": "code",
   "execution_count": 3,
   "metadata": {},
   "outputs": [],
   "source": [
    "fincausal_task1_trial_train = pd.read_csv(fincausal_task1_trial_train_path, sep='\\t', header=None)\n",
    "fincausal_task1_trial_dev = pd.read_csv(fincausal_task1_trial_dev_path, sep='\\t', header=None)\n",
    "fincausal_task1_trial_test = pd.read_csv(fincausal_task1_trial_test_path, sep='\\t', header=None)"
   ]
  },
  {
   "cell_type": "code",
   "execution_count": 4,
   "metadata": {},
   "outputs": [],
   "source": [
    "fincausal_task1_trial_train.columns = ['Index', 'Gold', 'A', 'Text']\n",
    "fincausal_task1_trial_dev.columns = ['Index', 'Gold', 'A', 'Text']\n",
    "fincausal_task1_trial_test.columns = ['Index', 'Text', 'Gold']"
   ]
  },
  {
   "cell_type": "code",
   "execution_count": 5,
   "metadata": {},
   "outputs": [
    {
     "data": {
      "text/html": [
       "<div>\n",
       "<style scoped>\n",
       "    .dataframe tbody tr th:only-of-type {\n",
       "        vertical-align: middle;\n",
       "    }\n",
       "\n",
       "    .dataframe tbody tr th {\n",
       "        vertical-align: top;\n",
       "    }\n",
       "\n",
       "    .dataframe thead th {\n",
       "        text-align: right;\n",
       "    }\n",
       "</style>\n",
       "<table border=\"1\" class=\"dataframe\">\n",
       "  <thead>\n",
       "    <tr style=\"text-align: right;\">\n",
       "      <th></th>\n",
       "      <th>Index</th>\n",
       "      <th>Gold</th>\n",
       "      <th>A</th>\n",
       "      <th>Text</th>\n",
       "    </tr>\n",
       "  </thead>\n",
       "  <tbody>\n",
       "    <tr>\n",
       "      <th>0</th>\n",
       "      <td>3135</td>\n",
       "      <td>0</td>\n",
       "      <td>a</td>\n",
       "      <td>We have the highest child poverty rate of almo...</td>\n",
       "    </tr>\n",
       "    <tr>\n",
       "      <th>1</th>\n",
       "      <td>4340</td>\n",
       "      <td>0</td>\n",
       "      <td>a</td>\n",
       "      <td>Price is nearly everything - and nearly every ...</td>\n",
       "    </tr>\n",
       "    <tr>\n",
       "      <th>2</th>\n",
       "      <td>1312</td>\n",
       "      <td>0</td>\n",
       "      <td>a</td>\n",
       "      <td>We do not write articles to promote products. ...</td>\n",
       "    </tr>\n",
       "    <tr>\n",
       "      <th>3</th>\n",
       "      <td>4936</td>\n",
       "      <td>0</td>\n",
       "      <td>a</td>\n",
       "      <td>They were now theoretically worth north of a $...</td>\n",
       "    </tr>\n",
       "    <tr>\n",
       "      <th>4</th>\n",
       "      <td>1093</td>\n",
       "      <td>0</td>\n",
       "      <td>a</td>\n",
       "      <td>The solution  Susan explains she wishes to inv...</td>\n",
       "    </tr>\n",
       "  </tbody>\n",
       "</table>\n",
       "</div>"
      ],
      "text/plain": [
       "   Index  Gold  A                                               Text\n",
       "0   3135     0  a  We have the highest child poverty rate of almo...\n",
       "1   4340     0  a  Price is nearly everything - and nearly every ...\n",
       "2   1312     0  a  We do not write articles to promote products. ...\n",
       "3   4936     0  a  They were now theoretically worth north of a $...\n",
       "4   1093     0  a  The solution  Susan explains she wishes to inv..."
      ]
     },
     "execution_count": 5,
     "metadata": {},
     "output_type": "execute_result"
    }
   ],
   "source": [
    "fincausal_task1_trial_train.head()"
   ]
  },
  {
   "cell_type": "code",
   "execution_count": 6,
   "metadata": {},
   "outputs": [
    {
     "data": {
      "text/html": [
       "<div>\n",
       "<style scoped>\n",
       "    .dataframe tbody tr th:only-of-type {\n",
       "        vertical-align: middle;\n",
       "    }\n",
       "\n",
       "    .dataframe tbody tr th {\n",
       "        vertical-align: top;\n",
       "    }\n",
       "\n",
       "    .dataframe thead th {\n",
       "        text-align: right;\n",
       "    }\n",
       "</style>\n",
       "<table border=\"1\" class=\"dataframe\">\n",
       "  <thead>\n",
       "    <tr style=\"text-align: right;\">\n",
       "      <th></th>\n",
       "      <th>Index</th>\n",
       "      <th>Gold</th>\n",
       "      <th>A</th>\n",
       "      <th>Text</th>\n",
       "    </tr>\n",
       "  </thead>\n",
       "  <tbody>\n",
       "    <tr>\n",
       "      <th>0</th>\n",
       "      <td>2674</td>\n",
       "      <td>0</td>\n",
       "      <td>a</td>\n",
       "      <td>An image of high-grade visible gold mineraliza...</td>\n",
       "    </tr>\n",
       "    <tr>\n",
       "      <th>1</th>\n",
       "      <td>1253</td>\n",
       "      <td>0</td>\n",
       "      <td>a</td>\n",
       "      <td>Chelsea Overton</td>\n",
       "    </tr>\n",
       "    <tr>\n",
       "      <th>2</th>\n",
       "      <td>5547</td>\n",
       "      <td>0</td>\n",
       "      <td>a</td>\n",
       "      <td>Since then, the company has expanded to 528 lo...</td>\n",
       "    </tr>\n",
       "    <tr>\n",
       "      <th>3</th>\n",
       "      <td>5286</td>\n",
       "      <td>0</td>\n",
       "      <td>a</td>\n",
       "      <td>Those individuals that already have an account...</td>\n",
       "    </tr>\n",
       "    <tr>\n",
       "      <th>4</th>\n",
       "      <td>1385</td>\n",
       "      <td>0</td>\n",
       "      <td>a</td>\n",
       "      <td>The Norwegian government halted the transfer o...</td>\n",
       "    </tr>\n",
       "  </tbody>\n",
       "</table>\n",
       "</div>"
      ],
      "text/plain": [
       "   Index  Gold  A                                               Text\n",
       "0   2674     0  a  An image of high-grade visible gold mineraliza...\n",
       "1   1253     0  a                                    Chelsea Overton\n",
       "2   5547     0  a  Since then, the company has expanded to 528 lo...\n",
       "3   5286     0  a  Those individuals that already have an account...\n",
       "4   1385     0  a  The Norwegian government halted the transfer o..."
      ]
     },
     "execution_count": 6,
     "metadata": {},
     "output_type": "execute_result"
    }
   ],
   "source": [
    "fincausal_task1_trial_dev.head()"
   ]
  },
  {
   "cell_type": "code",
   "execution_count": 7,
   "metadata": {},
   "outputs": [
    {
     "data": {
      "text/html": [
       "<div>\n",
       "<style scoped>\n",
       "    .dataframe tbody tr th:only-of-type {\n",
       "        vertical-align: middle;\n",
       "    }\n",
       "\n",
       "    .dataframe tbody tr th {\n",
       "        vertical-align: top;\n",
       "    }\n",
       "\n",
       "    .dataframe thead th {\n",
       "        text-align: right;\n",
       "    }\n",
       "</style>\n",
       "<table border=\"1\" class=\"dataframe\">\n",
       "  <thead>\n",
       "    <tr style=\"text-align: right;\">\n",
       "      <th></th>\n",
       "      <th>Index</th>\n",
       "      <th>Text</th>\n",
       "      <th>Gold</th>\n",
       "    </tr>\n",
       "  </thead>\n",
       "  <tbody>\n",
       "    <tr>\n",
       "      <th>0</th>\n",
       "      <td>0</td>\n",
       "      <td>On average, sell-side analysts forecast that C...</td>\n",
       "      <td>0</td>\n",
       "    </tr>\n",
       "    <tr>\n",
       "      <th>1</th>\n",
       "      <td>1</td>\n",
       "      <td>If an individual has years of low earnings or ...</td>\n",
       "      <td>0</td>\n",
       "    </tr>\n",
       "    <tr>\n",
       "      <th>2</th>\n",
       "      <td>2</td>\n",
       "      <td>That means sticking to a budget.</td>\n",
       "      <td>0</td>\n",
       "    </tr>\n",
       "    <tr>\n",
       "      <th>3</th>\n",
       "      <td>3</td>\n",
       "      <td>In terms of vistas and backdrops, within a thr...</td>\n",
       "      <td>0</td>\n",
       "    </tr>\n",
       "    <tr>\n",
       "      <th>4</th>\n",
       "      <td>4</td>\n",
       "      <td>The S&amp;P/TSX Venture Composite Index is a broad...</td>\n",
       "      <td>0</td>\n",
       "    </tr>\n",
       "  </tbody>\n",
       "</table>\n",
       "</div>"
      ],
      "text/plain": [
       "   Index                                               Text  Gold\n",
       "0      0  On average, sell-side analysts forecast that C...     0\n",
       "1      1  If an individual has years of low earnings or ...     0\n",
       "2      2                   That means sticking to a budget.     0\n",
       "3      3  In terms of vistas and backdrops, within a thr...     0\n",
       "4      4  The S&P/TSX Venture Composite Index is a broad...     0"
      ]
     },
     "execution_count": 7,
     "metadata": {},
     "output_type": "execute_result"
    }
   ],
   "source": [
    "fincausal_task1_trial_test.head()"
   ]
  },
  {
   "cell_type": "markdown",
   "metadata": {},
   "source": [
    "There is a new column with 'a' in train and dev, what are the unique values?"
   ]
  },
  {
   "cell_type": "code",
   "execution_count": 8,
   "metadata": {},
   "outputs": [
    {
     "data": {
      "text/plain": [
       "(a    4227\n",
       " Name: A, dtype: int64,\n",
       " a    1812\n",
       " Name: A, dtype: int64)"
      ]
     },
     "execution_count": 8,
     "metadata": {},
     "output_type": "execute_result"
    }
   ],
   "source": [
    "fincausal_task1_trial_train.A.value_counts(), fincausal_task1_trial_dev.A.value_counts()"
   ]
  },
  {
   "cell_type": "markdown",
   "metadata": {},
   "source": [
    "Useless column, drop it"
   ]
  },
  {
   "cell_type": "code",
   "execution_count": 9,
   "metadata": {},
   "outputs": [],
   "source": [
    "fincausal_task1_trial_train.drop('A', inplace=True, axis=1)\n",
    "fincausal_task1_trial_dev.drop('A', inplace=True, axis=1)"
   ]
  },
  {
   "cell_type": "code",
   "execution_count": 10,
   "metadata": {},
   "outputs": [
    {
     "data": {
      "text/html": [
       "<div>\n",
       "<style scoped>\n",
       "    .dataframe tbody tr th:only-of-type {\n",
       "        vertical-align: middle;\n",
       "    }\n",
       "\n",
       "    .dataframe tbody tr th {\n",
       "        vertical-align: top;\n",
       "    }\n",
       "\n",
       "    .dataframe thead th {\n",
       "        text-align: right;\n",
       "    }\n",
       "</style>\n",
       "<table border=\"1\" class=\"dataframe\">\n",
       "  <thead>\n",
       "    <tr style=\"text-align: right;\">\n",
       "      <th></th>\n",
       "      <th>Index</th>\n",
       "      <th>Gold</th>\n",
       "      <th>Text</th>\n",
       "    </tr>\n",
       "  </thead>\n",
       "  <tbody>\n",
       "    <tr>\n",
       "      <th>0</th>\n",
       "      <td>3135</td>\n",
       "      <td>0</td>\n",
       "      <td>We have the highest child poverty rate of almo...</td>\n",
       "    </tr>\n",
       "    <tr>\n",
       "      <th>1</th>\n",
       "      <td>4340</td>\n",
       "      <td>0</td>\n",
       "      <td>Price is nearly everything - and nearly every ...</td>\n",
       "    </tr>\n",
       "    <tr>\n",
       "      <th>2</th>\n",
       "      <td>1312</td>\n",
       "      <td>0</td>\n",
       "      <td>We do not write articles to promote products. ...</td>\n",
       "    </tr>\n",
       "    <tr>\n",
       "      <th>3</th>\n",
       "      <td>4936</td>\n",
       "      <td>0</td>\n",
       "      <td>They were now theoretically worth north of a $...</td>\n",
       "    </tr>\n",
       "    <tr>\n",
       "      <th>4</th>\n",
       "      <td>1093</td>\n",
       "      <td>0</td>\n",
       "      <td>The solution  Susan explains she wishes to inv...</td>\n",
       "    </tr>\n",
       "  </tbody>\n",
       "</table>\n",
       "</div>"
      ],
      "text/plain": [
       "   Index  Gold                                               Text\n",
       "0   3135     0  We have the highest child poverty rate of almo...\n",
       "1   4340     0  Price is nearly everything - and nearly every ...\n",
       "2   1312     0  We do not write articles to promote products. ...\n",
       "3   4936     0  They were now theoretically worth north of a $...\n",
       "4   1093     0  The solution  Susan explains she wishes to inv..."
      ]
     },
     "execution_count": 10,
     "metadata": {},
     "output_type": "execute_result"
    }
   ],
   "source": [
    "# check if dropped\n",
    "fincausal_task1_trial_train.head()"
   ]
  },
  {
   "cell_type": "code",
   "execution_count": 11,
   "metadata": {},
   "outputs": [
    {
     "data": {
      "text/plain": [
       "Index    0\n",
       "Gold     0\n",
       "Text     0\n",
       "dtype: int64"
      ]
     },
     "execution_count": 11,
     "metadata": {},
     "output_type": "execute_result"
    }
   ],
   "source": [
    "# NAs train\n",
    "fincausal_task1_trial_train.isna().sum()"
   ]
  },
  {
   "cell_type": "code",
   "execution_count": 12,
   "metadata": {},
   "outputs": [
    {
     "data": {
      "text/plain": [
       "Index    0\n",
       "Gold     0\n",
       "Text     1\n",
       "dtype: int64"
      ]
     },
     "execution_count": 12,
     "metadata": {},
     "output_type": "execute_result"
    }
   ],
   "source": [
    "# NAs dev\n",
    "fincausal_task1_trial_dev.isna().sum()"
   ]
  },
  {
   "cell_type": "code",
   "execution_count": 13,
   "metadata": {},
   "outputs": [
    {
     "data": {
      "text/html": [
       "<div>\n",
       "<style scoped>\n",
       "    .dataframe tbody tr th:only-of-type {\n",
       "        vertical-align: middle;\n",
       "    }\n",
       "\n",
       "    .dataframe tbody tr th {\n",
       "        vertical-align: top;\n",
       "    }\n",
       "\n",
       "    .dataframe thead th {\n",
       "        text-align: right;\n",
       "    }\n",
       "</style>\n",
       "<table border=\"1\" class=\"dataframe\">\n",
       "  <thead>\n",
       "    <tr style=\"text-align: right;\">\n",
       "      <th></th>\n",
       "      <th>Index</th>\n",
       "      <th>Gold</th>\n",
       "      <th>Text</th>\n",
       "    </tr>\n",
       "  </thead>\n",
       "  <tbody>\n",
       "    <tr>\n",
       "      <th>680</th>\n",
       "      <td>4709</td>\n",
       "      <td>0</td>\n",
       "      <td>NaN</td>\n",
       "    </tr>\n",
       "  </tbody>\n",
       "</table>\n",
       "</div>"
      ],
      "text/plain": [
       "     Index  Gold Text\n",
       "680   4709     0  NaN"
      ]
     },
     "execution_count": 13,
     "metadata": {},
     "output_type": "execute_result"
    }
   ],
   "source": [
    "# example of NA in dex\n",
    "fincausal_task1_trial_dev.loc[fincausal_task1_trial_dev.Text.isna()]"
   ]
  },
  {
   "cell_type": "code",
   "execution_count": 14,
   "metadata": {},
   "outputs": [
    {
     "data": {
      "text/plain": [
       "(1811, 3)"
      ]
     },
     "execution_count": 14,
     "metadata": {},
     "output_type": "execute_result"
    }
   ],
   "source": [
    "# remove NA\n",
    "fincausal_task1_trial_dev = fincausal_task1_trial_dev.loc[~fincausal_task1_trial_dev.Text.isna()]\n",
    "fincausal_task1_trial_dev.shape"
   ]
  },
  {
   "cell_type": "code",
   "execution_count": 15,
   "metadata": {},
   "outputs": [
    {
     "data": {
      "text/plain": [
       "Index    0\n",
       "Text     0\n",
       "Gold     0\n",
       "dtype: int64"
      ]
     },
     "execution_count": 15,
     "metadata": {},
     "output_type": "execute_result"
    }
   ],
   "source": [
    "# NAs dev\n",
    "fincausal_task1_trial_test.isna().sum()"
   ]
  },
  {
   "cell_type": "markdown",
   "metadata": {},
   "source": [
    "There is 1 NaN in dev set"
   ]
  },
  {
   "cell_type": "code",
   "execution_count": 16,
   "metadata": {},
   "outputs": [
    {
     "name": "stdout",
     "output_type": "stream",
     "text": [
      "how many? 0\n",
      "label distribution for them: Series([], Name: Gold, dtype: int64)\n"
     ]
    }
   ],
   "source": [
    "# empty sentences train?\n",
    "empty_sections_train = fincausal_task1_trial_train.loc[(fincausal_task1_trial_train.Text == \" \") | (fincausal_task1_trial_train.Text == \"\")]\n",
    "print('how many? {}'.format(len(empty_sections_train)))\n",
    "print('label distribution for them: {}'.format(empty_sections_train.Gold.value_counts()))"
   ]
  },
  {
   "cell_type": "code",
   "execution_count": 17,
   "metadata": {},
   "outputs": [
    {
     "name": "stdout",
     "output_type": "stream",
     "text": [
      "how many? 0\n",
      "label distribution for them: Series([], Name: Gold, dtype: int64)\n"
     ]
    }
   ],
   "source": [
    "# empty sentences dev?\n",
    "empty_sections_dev = fincausal_task1_trial_dev.loc[(fincausal_task1_trial_dev.Text == \" \") | (fincausal_task1_trial_dev.Text == \"\")]\n",
    "print('how many? {}'.format(len(empty_sections_dev)))\n",
    "print('label distribution for them: {}'.format(empty_sections_dev.Gold.value_counts()))"
   ]
  },
  {
   "cell_type": "code",
   "execution_count": 18,
   "metadata": {},
   "outputs": [
    {
     "name": "stdout",
     "output_type": "stream",
     "text": [
      "how many? 0\n",
      "label distribution for them: Series([], Name: Gold, dtype: int64)\n"
     ]
    }
   ],
   "source": [
    "# empty sentences test?\n",
    "empty_sections_test = fincausal_task1_trial_test.loc[(fincausal_task1_trial_test.Text == \" \") | (fincausal_task1_trial_test.Text == \"\")]\n",
    "print('how many? {}'.format(len(empty_sections_test)))\n",
    "print('label distribution for them: {}'.format(empty_sections_test.Gold.value_counts()))"
   ]
  },
  {
   "cell_type": "markdown",
   "metadata": {},
   "source": [
    "There are no empty sentences"
   ]
  },
  {
   "cell_type": "code",
   "execution_count": 19,
   "metadata": {},
   "outputs": [
    {
     "name": "stdout",
     "output_type": "stream",
     "text": [
      "label distribution of train: 0    0.926425\n",
      "1    0.073575\n",
      "Name: Gold, dtype: float64\n",
      "label distribution of dev: 0    0.942021\n",
      "1    0.057979\n",
      "Name: Gold, dtype: float64\n",
      "label distribution of test: 0    0.940518\n",
      "1    0.059482\n",
      "Name: Gold, dtype: float64\n"
     ]
    }
   ],
   "source": [
    "# label distributions\n",
    "fincausal_task1_trial_train_label_distribution = fincausal_task1_trial_train.Gold.value_counts()\n",
    "fincausal_task1_trial_dev_label_distribution = fincausal_task1_trial_dev.Gold.value_counts()\n",
    "fincausal_task1_trial_test_label_distribution = fincausal_task1_trial_test.Gold.value_counts()\n",
    "\n",
    "print('label distribution of train: {}'.format(fincausal_task1_trial_train_label_distribution/len(fincausal_task1_trial_train)))\n",
    "print('label distribution of dev: {}'.format(fincausal_task1_trial_dev_label_distribution/len(fincausal_task1_trial_dev)))\n",
    "print('label distribution of test: {}'.format(fincausal_task1_trial_test_label_distribution/len(fincausal_task1_trial_test)))"
   ]
  },
  {
   "cell_type": "code",
   "execution_count": 20,
   "metadata": {},
   "outputs": [
    {
     "data": {
      "text/plain": [
       "32"
      ]
     },
     "execution_count": 20,
     "metadata": {},
     "output_type": "execute_result"
    }
   ],
   "source": [
    "# do they have any EXACTLY same texts?\n",
    "len(list(set(fincausal_task1_trial_train.Text).intersection(set(fincausal_task1_trial_dev.Text))))"
   ]
  },
  {
   "cell_type": "markdown",
   "metadata": {},
   "source": [
    "There are 32exactly same texts between practice and trial, and we keep them"
   ]
  },
  {
   "cell_type": "code",
   "execution_count": 21,
   "metadata": {},
   "outputs": [
    {
     "name": "stdout",
     "output_type": "stream",
     "text": [
      "are all same texts having same labels?: False\n"
     ]
    },
    {
     "data": {
      "text/html": [
       "<div>\n",
       "<style scoped>\n",
       "    .dataframe tbody tr th:only-of-type {\n",
       "        vertical-align: middle;\n",
       "    }\n",
       "\n",
       "    .dataframe tbody tr th {\n",
       "        vertical-align: top;\n",
       "    }\n",
       "\n",
       "    .dataframe thead th {\n",
       "        text-align: right;\n",
       "    }\n",
       "</style>\n",
       "<table border=\"1\" class=\"dataframe\">\n",
       "  <thead>\n",
       "    <tr style=\"text-align: right;\">\n",
       "      <th></th>\n",
       "      <th>Index_train</th>\n",
       "      <th>Gold_train</th>\n",
       "      <th>Text</th>\n",
       "      <th>Index_dev</th>\n",
       "      <th>Gold_dev</th>\n",
       "    </tr>\n",
       "  </thead>\n",
       "  <tbody>\n",
       "    <tr>\n",
       "      <th>12</th>\n",
       "      <td>4898</td>\n",
       "      <td>0</td>\n",
       "      <td>The risk of missing its fiscal deficit target ...</td>\n",
       "      <td>4395</td>\n",
       "      <td>1</td>\n",
       "    </tr>\n",
       "    <tr>\n",
       "      <th>38</th>\n",
       "      <td>1131</td>\n",
       "      <td>0</td>\n",
       "      <td>Electric vehicle manufacturers, components for...</td>\n",
       "      <td>1988</td>\n",
       "      <td>1</td>\n",
       "    </tr>\n",
       "  </tbody>\n",
       "</table>\n",
       "</div>"
      ],
      "text/plain": [
       "    Index_train  Gold_train  \\\n",
       "12         4898           0   \n",
       "38         1131           0   \n",
       "\n",
       "                                                 Text  Index_dev  Gold_dev  \n",
       "12  The risk of missing its fiscal deficit target ...       4395         1  \n",
       "38  Electric vehicle manufacturers, components for...       1988         1  "
      ]
     },
     "execution_count": 21,
     "metadata": {},
     "output_type": "execute_result"
    }
   ],
   "source": [
    "# are the labels for the equal texts same?\n",
    "merged_inner_train_dev = pd.merge(left=fincausal_task1_trial_train, \n",
    "                        right=fincausal_task1_trial_dev, \n",
    "                        left_on='Text', \n",
    "                        right_on='Text',\n",
    "                        suffixes=('_train', '_dev'))\n",
    "merged_inner_train_dev.head()\n",
    "print('are all same texts having same labels?: {}'.format(merged_inner_train_dev.Gold_train.equals(merged_inner_train_dev.Gold_dev)))\n",
    "      # what rows are there which have different labels for same text?\n",
    "merged_inner_train_dev.loc[merged_inner_train_dev.Gold_train != merged_inner_train_dev.Gold_dev][['Index_train', 'Gold_train', 'Text', 'Index_dev', 'Gold_dev']]"
   ]
  },
  {
   "cell_type": "code",
   "execution_count": 22,
   "metadata": {},
   "outputs": [
    {
     "name": "stdout",
     "output_type": "stream",
     "text": [
      "are all same texts having same labels?: True\n"
     ]
    },
    {
     "data": {
      "text/html": [
       "<div>\n",
       "<style scoped>\n",
       "    .dataframe tbody tr th:only-of-type {\n",
       "        vertical-align: middle;\n",
       "    }\n",
       "\n",
       "    .dataframe tbody tr th {\n",
       "        vertical-align: top;\n",
       "    }\n",
       "\n",
       "    .dataframe thead th {\n",
       "        text-align: right;\n",
       "    }\n",
       "</style>\n",
       "<table border=\"1\" class=\"dataframe\">\n",
       "  <thead>\n",
       "    <tr style=\"text-align: right;\">\n",
       "      <th></th>\n",
       "      <th>Index_train</th>\n",
       "      <th>Gold_train</th>\n",
       "      <th>Text</th>\n",
       "      <th>Index_test</th>\n",
       "      <th>Gold_test</th>\n",
       "    </tr>\n",
       "  </thead>\n",
       "  <tbody>\n",
       "  </tbody>\n",
       "</table>\n",
       "</div>"
      ],
      "text/plain": [
       "Empty DataFrame\n",
       "Columns: [Index_train, Gold_train, Text, Index_test, Gold_test]\n",
       "Index: []"
      ]
     },
     "execution_count": 22,
     "metadata": {},
     "output_type": "execute_result"
    }
   ],
   "source": [
    "# are the labels for the equal texts same?\n",
    "merged_inner_train_test = pd.merge(left=fincausal_task1_trial_train, \n",
    "                        right=fincausal_task1_trial_test, \n",
    "                        left_on='Text', \n",
    "                        right_on='Text',\n",
    "                        suffixes=('_train', '_test'))\n",
    "merged_inner_train_test.head()\n",
    "print('are all same texts having same labels?: {}'.format(merged_inner_train_test.Gold_train.equals(merged_inner_train_test.Gold_test)))\n",
    "      # what rows are there which have different labels for same text?\n",
    "merged_inner_train_test.loc[merged_inner_train_test.Gold_train != merged_inner_train_test.Gold_test]"
   ]
  },
  {
   "cell_type": "code",
   "execution_count": 23,
   "metadata": {},
   "outputs": [
    {
     "name": "stdout",
     "output_type": "stream",
     "text": [
      "are all same texts having same labels?: True\n"
     ]
    },
    {
     "data": {
      "text/html": [
       "<div>\n",
       "<style scoped>\n",
       "    .dataframe tbody tr th:only-of-type {\n",
       "        vertical-align: middle;\n",
       "    }\n",
       "\n",
       "    .dataframe tbody tr th {\n",
       "        vertical-align: top;\n",
       "    }\n",
       "\n",
       "    .dataframe thead th {\n",
       "        text-align: right;\n",
       "    }\n",
       "</style>\n",
       "<table border=\"1\" class=\"dataframe\">\n",
       "  <thead>\n",
       "    <tr style=\"text-align: right;\">\n",
       "      <th></th>\n",
       "      <th>Index_dev</th>\n",
       "      <th>Gold_dev</th>\n",
       "      <th>Text</th>\n",
       "      <th>Index_test</th>\n",
       "      <th>Gold_test</th>\n",
       "    </tr>\n",
       "  </thead>\n",
       "  <tbody>\n",
       "  </tbody>\n",
       "</table>\n",
       "</div>"
      ],
      "text/plain": [
       "Empty DataFrame\n",
       "Columns: [Index_dev, Gold_dev, Text, Index_test, Gold_test]\n",
       "Index: []"
      ]
     },
     "execution_count": 23,
     "metadata": {},
     "output_type": "execute_result"
    }
   ],
   "source": [
    "# are the labels for the equal texts same?\n",
    "merged_inner_dev_test = pd.merge(left=fincausal_task1_trial_dev, \n",
    "                        right=fincausal_task1_trial_test, \n",
    "                        left_on='Text', \n",
    "                        right_on='Text',\n",
    "                        suffixes=('_dev', '_test'))\n",
    "merged_inner_dev_test.head()\n",
    "print('are all same texts having same labels?: {}'.format(merged_inner_dev_test.Gold_dev.equals(merged_inner_dev_test.Gold_test)))\n",
    "      # what rows are there which have different labels for same text?\n",
    "merged_inner_dev_test.loc[merged_inner_dev_test.Gold_dev != merged_inner_dev_test.Gold_test]"
   ]
  },
  {
   "cell_type": "code",
   "execution_count": 24,
   "metadata": {},
   "outputs": [],
   "source": [
    "# add unique ID columns\n",
    "fincausal_task1_trial_train['unique_id'] = [str(uuid.uuid4()) for _ in range(len(fincausal_task1_trial_train))]\n",
    "fincausal_task1_trial_dev['unique_id'] = [str(uuid.uuid4()) for _ in range(len(fincausal_task1_trial_dev))]\n",
    "fincausal_task1_trial_test['unique_id'] = [str(uuid.uuid4()) for _ in range(len(fincausal_task1_trial_test))]"
   ]
  },
  {
   "cell_type": "code",
   "execution_count": 25,
   "metadata": {},
   "outputs": [],
   "source": [
    "# write to csv\n",
    "fincausal_task1_trial_train.to_csv('/media/sarthak/HDD/data_science/fnp_resources/data/task1/trial/train.csv', index=False)\n",
    "fincausal_task1_trial_dev.to_csv('/media/sarthak/HDD/data_science/fnp_resources/data/task1/trial/dev.csv', index=False)\n",
    "fincausal_task1_trial_test.to_csv('/media/sarthak/HDD/data_science/fnp_resources/data/task1/trial/test.csv', index=False)"
   ]
  },
  {
   "cell_type": "markdown",
   "metadata": {},
   "source": [
    "Above are the 2 rows which have same texts but different golds, we must remove them."
   ]
  },
  {
   "cell_type": "markdown",
   "metadata": {},
   "source": [
    "# Is the new data same as the previous trial data?"
   ]
  },
  {
   "cell_type": "code",
   "execution_count": 26,
   "metadata": {},
   "outputs": [
    {
     "name": "stderr",
     "output_type": "stream",
     "text": [
      "/media/sarthak/HDD/Anaconda/envs/fnp/lib/python3.6/site-packages/ipykernel_launcher.py:2: ParserWarning: Falling back to the 'python' engine because the 'c' engine does not support regex separators (separators > 1 char and different from '\\s+' are interpreted as regex); you can avoid this warning by specifying engine='python'.\n",
      "  \n"
     ]
    },
    {
     "data": {
      "text/html": [
       "<div>\n",
       "<style scoped>\n",
       "    .dataframe tbody tr th:only-of-type {\n",
       "        vertical-align: middle;\n",
       "    }\n",
       "\n",
       "    .dataframe tbody tr th {\n",
       "        vertical-align: top;\n",
       "    }\n",
       "\n",
       "    .dataframe thead th {\n",
       "        text-align: right;\n",
       "    }\n",
       "</style>\n",
       "<table border=\"1\" class=\"dataframe\">\n",
       "  <thead>\n",
       "    <tr style=\"text-align: right;\">\n",
       "      <th></th>\n",
       "      <th>Index</th>\n",
       "      <th>Text</th>\n",
       "      <th>Gold</th>\n",
       "    </tr>\n",
       "  </thead>\n",
       "  <tbody>\n",
       "    <tr>\n",
       "      <th>0</th>\n",
       "      <td>1.00001</td>\n",
       "      <td>Third Democratic presidential debate  Septembe...</td>\n",
       "      <td>0</td>\n",
       "    </tr>\n",
       "    <tr>\n",
       "      <th>1</th>\n",
       "      <td>1.00002</td>\n",
       "      <td>On the policy front, Bernie Sanders claimed hi...</td>\n",
       "      <td>0</td>\n",
       "    </tr>\n",
       "    <tr>\n",
       "      <th>2</th>\n",
       "      <td>1.00003</td>\n",
       "      <td>Joe Biden misrepresented recent history when h...</td>\n",
       "      <td>0</td>\n",
       "    </tr>\n",
       "    <tr>\n",
       "      <th>3</th>\n",
       "      <td>1.00004</td>\n",
       "      <td>Here's a look at some of the assertions in the...</td>\n",
       "      <td>0</td>\n",
       "    </tr>\n",
       "    <tr>\n",
       "      <th>4</th>\n",
       "      <td>1.00005</td>\n",
       "      <td>It killed 22 people, and injured many more, we...</td>\n",
       "      <td>0</td>\n",
       "    </tr>\n",
       "  </tbody>\n",
       "</table>\n",
       "</div>"
      ],
      "text/plain": [
       "     Index                                               Text  Gold\n",
       "0  1.00001  Third Democratic presidential debate  Septembe...     0\n",
       "1  1.00002  On the policy front, Bernie Sanders claimed hi...     0\n",
       "2  1.00003  Joe Biden misrepresented recent history when h...     0\n",
       "3  1.00004  Here's a look at some of the assertions in the...     0\n",
       "4  1.00005  It killed 22 people, and injured many more, we...     0"
      ]
     },
     "execution_count": 26,
     "metadata": {},
     "output_type": "execute_result"
    }
   ],
   "source": [
    "fincausal_task1_trial_data_path = Path('/media/sarthak/HDD/data_science/fnp_resources/data/TRIAL/fnp2020-fincausal-task1.csv')\n",
    "fincausal_task1_trial_data = pd.read_csv(fincausal_task1_trial_data_path, sep='; ')\n",
    "fincausal_task1_trial_data.head()"
   ]
  },
  {
   "cell_type": "code",
   "execution_count": 27,
   "metadata": {},
   "outputs": [
    {
     "data": {
      "text/html": [
       "<div>\n",
       "<style scoped>\n",
       "    .dataframe tbody tr th:only-of-type {\n",
       "        vertical-align: middle;\n",
       "    }\n",
       "\n",
       "    .dataframe tbody tr th {\n",
       "        vertical-align: top;\n",
       "    }\n",
       "\n",
       "    .dataframe thead th {\n",
       "        text-align: right;\n",
       "    }\n",
       "</style>\n",
       "<table border=\"1\" class=\"dataframe\">\n",
       "  <thead>\n",
       "    <tr style=\"text-align: right;\">\n",
       "      <th></th>\n",
       "      <th>Index</th>\n",
       "      <th>Gold</th>\n",
       "      <th>Text</th>\n",
       "      <th>unique_id</th>\n",
       "    </tr>\n",
       "  </thead>\n",
       "  <tbody>\n",
       "    <tr>\n",
       "      <th>0</th>\n",
       "      <td>3135</td>\n",
       "      <td>0</td>\n",
       "      <td>We have the highest child poverty rate of almo...</td>\n",
       "      <td>654a5d70-ad24-42b4-8794-1cc46c9d5010</td>\n",
       "    </tr>\n",
       "    <tr>\n",
       "      <th>1</th>\n",
       "      <td>4340</td>\n",
       "      <td>0</td>\n",
       "      <td>Price is nearly everything - and nearly every ...</td>\n",
       "      <td>bd49babc-c7e1-49ad-9524-88b2a2a23258</td>\n",
       "    </tr>\n",
       "    <tr>\n",
       "      <th>2</th>\n",
       "      <td>1312</td>\n",
       "      <td>0</td>\n",
       "      <td>We do not write articles to promote products. ...</td>\n",
       "      <td>686a18a6-30a7-4fbb-8c90-9d057ccb7631</td>\n",
       "    </tr>\n",
       "    <tr>\n",
       "      <th>3</th>\n",
       "      <td>4936</td>\n",
       "      <td>0</td>\n",
       "      <td>They were now theoretically worth north of a $...</td>\n",
       "      <td>cbfd1e29-38dd-4574-9182-c9719b620730</td>\n",
       "    </tr>\n",
       "    <tr>\n",
       "      <th>4</th>\n",
       "      <td>1093</td>\n",
       "      <td>0</td>\n",
       "      <td>The solution  Susan explains she wishes to inv...</td>\n",
       "      <td>4c69fe8b-7c3e-4454-ae9f-c9fff78573df</td>\n",
       "    </tr>\n",
       "  </tbody>\n",
       "</table>\n",
       "</div>"
      ],
      "text/plain": [
       "   Index  Gold                                               Text  \\\n",
       "0   3135     0  We have the highest child poverty rate of almo...   \n",
       "1   4340     0  Price is nearly everything - and nearly every ...   \n",
       "2   1312     0  We do not write articles to promote products. ...   \n",
       "3   4936     0  They were now theoretically worth north of a $...   \n",
       "4   1093     0  The solution  Susan explains she wishes to inv...   \n",
       "\n",
       "                              unique_id  \n",
       "0  654a5d70-ad24-42b4-8794-1cc46c9d5010  \n",
       "1  bd49babc-c7e1-49ad-9524-88b2a2a23258  \n",
       "2  686a18a6-30a7-4fbb-8c90-9d057ccb7631  \n",
       "3  cbfd1e29-38dd-4574-9182-c9719b620730  \n",
       "4  4c69fe8b-7c3e-4454-ae9f-c9fff78573df  "
      ]
     },
     "execution_count": 27,
     "metadata": {},
     "output_type": "execute_result"
    }
   ],
   "source": [
    "fincausal_task1_new_data_combined = pd.concat([fincausal_task1_trial_train, fincausal_task1_trial_dev, fincausal_task1_trial_test])\n",
    "fincausal_task1_new_data_combined.head()"
   ]
  },
  {
   "cell_type": "code",
   "execution_count": 28,
   "metadata": {},
   "outputs": [
    {
     "data": {
      "text/plain": [
       "((8628, 3), (8627, 4))"
      ]
     },
     "execution_count": 28,
     "metadata": {},
     "output_type": "execute_result"
    }
   ],
   "source": [
    "# check shapes\n",
    "fincausal_task1_trial_data.shape, fincausal_task1_new_data_combined.shape"
   ]
  },
  {
   "cell_type": "code",
   "execution_count": 29,
   "metadata": {},
   "outputs": [
    {
     "data": {
      "text/plain": [
       "(0    0.933936\n",
       " 1    0.066064\n",
       " Name: Gold, dtype: float64,\n",
       " 0    0.933928\n",
       " 1    0.066072\n",
       " Name: Gold, dtype: float64)"
      ]
     },
     "execution_count": 29,
     "metadata": {},
     "output_type": "execute_result"
    }
   ],
   "source": [
    "# label distribution\n",
    "fincausal_task1_trial_data.Gold.value_counts() / len(fincausal_task1_trial_data), fincausal_task1_new_data_combined.Gold.value_counts() / len(fincausal_task1_new_data_combined)"
   ]
  },
  {
   "cell_type": "code",
   "execution_count": 30,
   "metadata": {},
   "outputs": [
    {
     "name": "stdout",
     "output_type": "stream",
     "text": [
      "(8987, 6) (8628, 3) (8627, 4)\n"
     ]
    }
   ],
   "source": [
    "# check if labels are same?\n",
    "all_data_combined = pd.merge(left=fincausal_task1_trial_data.loc[~fincausal_task1_trial_data.Text.isna()], \n",
    "                        right=fincausal_task1_new_data_combined.loc[~fincausal_task1_new_data_combined.Text.isna()], \n",
    "                        left_on='Text', \n",
    "                        right_on='Text',\n",
    "                        how='left',\n",
    "                        suffixes=('_old', '_new'))\n",
    "print(all_data_combined.shape, fincausal_task1_trial_data.shape, fincausal_task1_new_data_combined.shape)\n",
    "# assert all_data_combined.shape[0] == fincausal_task1_trial_data.shape[0]\n",
    "# assert fincausal_task1_trial_data.shape[0] == fincausal_task1_new_data_combined.shape[0]"
   ]
  },
  {
   "cell_type": "markdown",
   "metadata": {},
   "source": [
    "# Numerics?"
   ]
  },
  {
   "cell_type": "code",
   "execution_count": 31,
   "metadata": {},
   "outputs": [],
   "source": [
    "fincausal_task1_trial_train['contains_numeric'] = fincausal_task1_trial_train['Text'].apply(lambda text: any(char.isdigit() for char in text))"
   ]
  },
  {
   "cell_type": "code",
   "execution_count": 32,
   "metadata": {},
   "outputs": [
    {
     "data": {
      "text/plain": [
       "True     309\n",
       "False      2\n",
       "Name: contains_numeric, dtype: int64"
      ]
     },
     "execution_count": 32,
     "metadata": {},
     "output_type": "execute_result"
    }
   ],
   "source": [
    "fincausal_task1_trial_train.loc[fincausal_task1_trial_train['Gold'] == 1]['contains_numeric'].value_counts()"
   ]
  },
  {
   "cell_type": "code",
   "execution_count": 33,
   "metadata": {},
   "outputs": [
    {
     "data": {
      "text/plain": [
       "False    2337\n",
       "True     1579\n",
       "Name: contains_numeric, dtype: int64"
      ]
     },
     "execution_count": 33,
     "metadata": {},
     "output_type": "execute_result"
    }
   ],
   "source": [
    "fincausal_task1_trial_train.loc[fincausal_task1_trial_train['Gold'] == 0]['contains_numeric'].value_counts()"
   ]
  },
  {
   "cell_type": "markdown",
   "metadata": {},
   "source": [
    "# percentages"
   ]
  },
  {
   "cell_type": "code",
   "execution_count": 34,
   "metadata": {},
   "outputs": [
    {
     "name": "stdout",
     "output_type": "stream",
     "text": [
      "False    168\n",
      "True     143\n",
      "Name: contains_percent, dtype: int64\n"
     ]
    },
    {
     "data": {
      "text/plain": [
       "False    3644\n",
       "True      272\n",
       "Name: contains_percent, dtype: int64"
      ]
     },
     "execution_count": 34,
     "metadata": {},
     "output_type": "execute_result"
    }
   ],
   "source": [
    "fincausal_task1_trial_train['contains_percent'] = fincausal_task1_trial_train['Text'].apply(lambda text: '%' in text)\n",
    "print(fincausal_task1_trial_train.loc[fincausal_task1_trial_train['Gold'] == 1]['contains_percent'].value_counts())\n",
    "fincausal_task1_trial_train.loc[fincausal_task1_trial_train['Gold'] == 0]['contains_percent'].value_counts()"
   ]
  },
  {
   "cell_type": "markdown",
   "metadata": {},
   "source": [
    "# comma_with_ing"
   ]
  },
  {
   "cell_type": "code",
   "execution_count": 35,
   "metadata": {},
   "outputs": [
    {
     "name": "stdout",
     "output_type": "stream",
     "text": [
      "False    0.742765\n",
      "True     0.257235\n",
      "Name: contains_comma_with_ing, dtype: float64\n"
     ]
    },
    {
     "data": {
      "text/plain": [
       "False    0.911389\n",
       "True     0.088611\n",
       "Name: contains_comma_with_ing, dtype: float64"
      ]
     },
     "execution_count": 35,
     "metadata": {},
     "output_type": "execute_result"
    }
   ],
   "source": [
    "fincausal_task1_trial_train['contains_comma_with_ing'] = fincausal_task1_trial_train['Text'].apply(lambda text: True if len(re.findall(\"\"\",\\s([a-z]*?ing)\"\"\", text))>0 else False)\n",
    "print(fincausal_task1_trial_train.loc[fincausal_task1_trial_train['Gold'] == 1]['contains_comma_with_ing'].value_counts() / len(fincausal_task1_trial_train.loc[fincausal_task1_trial_train['Gold'] == 1]))\n",
    "fincausal_task1_trial_train.loc[fincausal_task1_trial_train['Gold'] == 0]['contains_comma_with_ing'].value_counts() / len(fincausal_task1_trial_train.loc[fincausal_task1_trial_train['Gold'] == 0])"
   ]
  },
  {
   "cell_type": "code",
   "execution_count": 36,
   "metadata": {},
   "outputs": [
    {
     "data": {
      "text/html": [
       "<div>\n",
       "<style scoped>\n",
       "    .dataframe tbody tr th:only-of-type {\n",
       "        vertical-align: middle;\n",
       "    }\n",
       "\n",
       "    .dataframe tbody tr th {\n",
       "        vertical-align: top;\n",
       "    }\n",
       "\n",
       "    .dataframe thead th {\n",
       "        text-align: right;\n",
       "    }\n",
       "</style>\n",
       "<table border=\"1\" class=\"dataframe\">\n",
       "  <thead>\n",
       "    <tr style=\"text-align: right;\">\n",
       "      <th></th>\n",
       "      <th>Index</th>\n",
       "      <th>Gold</th>\n",
       "      <th>Text</th>\n",
       "      <th>unique_id</th>\n",
       "      <th>contains_numeric</th>\n",
       "      <th>contains_percent</th>\n",
       "      <th>contains_comma_with_ing</th>\n",
       "    </tr>\n",
       "  </thead>\n",
       "  <tbody>\n",
       "    <tr>\n",
       "      <th>26</th>\n",
       "      <td>4202</td>\n",
       "      <td>0</td>\n",
       "      <td>Given Cloudera's higher possible upside, resea...</td>\n",
       "      <td>f50e6796-2cae-4270-a13c-3df711c2fc7f</td>\n",
       "      <td>True</td>\n",
       "      <td>True</td>\n",
       "      <td>True</td>\n",
       "    </tr>\n",
       "    <tr>\n",
       "      <th>78</th>\n",
       "      <td>5424</td>\n",
       "      <td>0</td>\n",
       "      <td>(Melinda Sue Gordon/Paramount Pictures/AP Phot...</td>\n",
       "      <td>c816ac3f-9680-44e5-8f37-615de2881981</td>\n",
       "      <td>True</td>\n",
       "      <td>False</td>\n",
       "      <td>True</td>\n",
       "    </tr>\n",
       "    <tr>\n",
       "      <th>84</th>\n",
       "      <td>3799</td>\n",
       "      <td>0</td>\n",
       "      <td>This is an excellent example of an activist gi...</td>\n",
       "      <td>294c684e-f31e-4ab3-ad8c-e5354e145e30</td>\n",
       "      <td>True</td>\n",
       "      <td>False</td>\n",
       "      <td>True</td>\n",
       "    </tr>\n",
       "    <tr>\n",
       "      <th>85</th>\n",
       "      <td>3355</td>\n",
       "      <td>0</td>\n",
       "      <td>The C-Score is calculated by a variety of item...</td>\n",
       "      <td>2f1dd19b-5cbf-465a-8c77-3fff1a3e46bb</td>\n",
       "      <td>True</td>\n",
       "      <td>False</td>\n",
       "      <td>True</td>\n",
       "    </tr>\n",
       "    <tr>\n",
       "      <th>109</th>\n",
       "      <td>1863</td>\n",
       "      <td>0</td>\n",
       "      <td>Fannie and Freddie are central players in the ...</td>\n",
       "      <td>45d97cc9-2d30-46cf-8a47-639c72a625b8</td>\n",
       "      <td>False</td>\n",
       "      <td>False</td>\n",
       "      <td>True</td>\n",
       "    </tr>\n",
       "    <tr>\n",
       "      <th>...</th>\n",
       "      <td>...</td>\n",
       "      <td>...</td>\n",
       "      <td>...</td>\n",
       "      <td>...</td>\n",
       "      <td>...</td>\n",
       "      <td>...</td>\n",
       "      <td>...</td>\n",
       "    </tr>\n",
       "    <tr>\n",
       "      <th>4180</th>\n",
       "      <td>3748</td>\n",
       "      <td>0</td>\n",
       "      <td>In that scenario, Bitcoin purchased by asset m...</td>\n",
       "      <td>85315b74-5220-44ea-a5a0-893c463ef9a3</td>\n",
       "      <td>False</td>\n",
       "      <td>False</td>\n",
       "      <td>True</td>\n",
       "    </tr>\n",
       "    <tr>\n",
       "      <th>4187</th>\n",
       "      <td>3665</td>\n",
       "      <td>0</td>\n",
       "      <td>Figure 8: Northwest drill section 22950, showi...</td>\n",
       "      <td>1de083d9-6548-46dc-b277-9cfa492bdc4f</td>\n",
       "      <td>True</td>\n",
       "      <td>False</td>\n",
       "      <td>True</td>\n",
       "    </tr>\n",
       "    <tr>\n",
       "      <th>4196</th>\n",
       "      <td>5337</td>\n",
       "      <td>0</td>\n",
       "      <td>Unite, the union, called the Ballymena-based c...</td>\n",
       "      <td>9f6190d9-37dc-41a6-aa85-bd0b242126ed</td>\n",
       "      <td>True</td>\n",
       "      <td>False</td>\n",
       "      <td>True</td>\n",
       "    </tr>\n",
       "    <tr>\n",
       "      <th>4197</th>\n",
       "      <td>4577</td>\n",
       "      <td>0</td>\n",
       "      <td>We triumphed on a wave of hope she said later ...</td>\n",
       "      <td>975aa859-1453-41f5-b008-fbdb81d5ac2d</td>\n",
       "      <td>False</td>\n",
       "      <td>False</td>\n",
       "      <td>True</td>\n",
       "    </tr>\n",
       "    <tr>\n",
       "      <th>4221</th>\n",
       "      <td>4103</td>\n",
       "      <td>0</td>\n",
       "      <td>New high-grade gold intercepts include: 101.70...</td>\n",
       "      <td>65280e7c-9eef-4b2c-b046-c0acd3725780</td>\n",
       "      <td>True</td>\n",
       "      <td>False</td>\n",
       "      <td>True</td>\n",
       "    </tr>\n",
       "  </tbody>\n",
       "</table>\n",
       "<p>347 rows × 7 columns</p>\n",
       "</div>"
      ],
      "text/plain": [
       "      Index  Gold                                               Text  \\\n",
       "26     4202     0  Given Cloudera's higher possible upside, resea...   \n",
       "78     5424     0  (Melinda Sue Gordon/Paramount Pictures/AP Phot...   \n",
       "84     3799     0  This is an excellent example of an activist gi...   \n",
       "85     3355     0  The C-Score is calculated by a variety of item...   \n",
       "109    1863     0  Fannie and Freddie are central players in the ...   \n",
       "...     ...   ...                                                ...   \n",
       "4180   3748     0  In that scenario, Bitcoin purchased by asset m...   \n",
       "4187   3665     0  Figure 8: Northwest drill section 22950, showi...   \n",
       "4196   5337     0  Unite, the union, called the Ballymena-based c...   \n",
       "4197   4577     0  We triumphed on a wave of hope she said later ...   \n",
       "4221   4103     0  New high-grade gold intercepts include: 101.70...   \n",
       "\n",
       "                                 unique_id  contains_numeric  \\\n",
       "26    f50e6796-2cae-4270-a13c-3df711c2fc7f              True   \n",
       "78    c816ac3f-9680-44e5-8f37-615de2881981              True   \n",
       "84    294c684e-f31e-4ab3-ad8c-e5354e145e30              True   \n",
       "85    2f1dd19b-5cbf-465a-8c77-3fff1a3e46bb              True   \n",
       "109   45d97cc9-2d30-46cf-8a47-639c72a625b8             False   \n",
       "...                                    ...               ...   \n",
       "4180  85315b74-5220-44ea-a5a0-893c463ef9a3             False   \n",
       "4187  1de083d9-6548-46dc-b277-9cfa492bdc4f              True   \n",
       "4196  9f6190d9-37dc-41a6-aa85-bd0b242126ed              True   \n",
       "4197  975aa859-1453-41f5-b008-fbdb81d5ac2d             False   \n",
       "4221  65280e7c-9eef-4b2c-b046-c0acd3725780              True   \n",
       "\n",
       "      contains_percent  contains_comma_with_ing  \n",
       "26                True                     True  \n",
       "78               False                     True  \n",
       "84               False                     True  \n",
       "85               False                     True  \n",
       "109              False                     True  \n",
       "...                ...                      ...  \n",
       "4180             False                     True  \n",
       "4187             False                     True  \n",
       "4196             False                     True  \n",
       "4197             False                     True  \n",
       "4221             False                     True  \n",
       "\n",
       "[347 rows x 7 columns]"
      ]
     },
     "execution_count": 36,
     "metadata": {},
     "output_type": "execute_result"
    }
   ],
   "source": [
    "texts = fincausal_task1_trial_train.loc[(fincausal_task1_trial_train['contains_comma_with_ing'] == True) & (fincausal_task1_trial_train['Gold'] == 0)]\n",
    "texts"
   ]
  },
  {
   "cell_type": "code",
   "execution_count": 37,
   "metadata": {},
   "outputs": [
    {
     "data": {
      "text/plain": [
       "\"Given Cloudera's higher possible upside, research analysts plainly believe Cloudera is more favorable than Shopify. Risk and Volatility  Cloudera has a beta of 0.77, suggesting that its share price is 23% less volatile than the S&P 500. Comparatively, Shopify has a beta of 1.23, suggesting that its share price is 23% more volatile than the S&P 500.\""
      ]
     },
     "execution_count": 37,
     "metadata": {},
     "output_type": "execute_result"
    }
   ],
   "source": [
    "texts.iloc[0]['Text']"
   ]
  },
  {
   "cell_type": "code",
   "execution_count": 38,
   "metadata": {},
   "outputs": [
    {
     "data": {
      "text/plain": [
       "'(Melinda Sue Gordon/Paramount Pictures/AP Photos)  Productions in Alberta also generated significant levels of employment, creating 5,350 direct and spinoff full-time jobs in 2017.'"
      ]
     },
     "execution_count": 38,
     "metadata": {},
     "output_type": "execute_result"
    }
   ],
   "source": [
    "texts.iloc[1]['Text']"
   ]
  },
  {
   "cell_type": "code",
   "execution_count": 39,
   "metadata": {},
   "outputs": [
    {
     "data": {
      "text/plain": [
       "\"This is an excellent example of an activist giving a company time to execute its plan and is engaging only because management is unable to do so by itself. Bloomin' trails its peers in Ebitda margin, Ebit margin, and valuation multiple, resulting in poor stock performance. It has a history of poor capital allocation, repurchasing $35 million of stock in the fourth quarter of 2016 at an average price of $19.27, while its CEO exercised options to sell 250,000 shares at $17.15 per share.\""
      ]
     },
     "execution_count": 39,
     "metadata": {},
     "output_type": "execute_result"
    }
   ],
   "source": [
    "texts.iloc[2]['Text']"
   ]
  },
  {
   "cell_type": "code",
   "execution_count": 40,
   "metadata": {},
   "outputs": [
    {
     "data": {
      "text/plain": [
       "'The C-Score is calculated by a variety of items, including a growing difference in net income verse cash flow, increasing days outstanding, growing days sales of inventory, increasing assets to sales, declines in depreciation, and high total asset growth. The C-Score of Glacier Media Inc. (TSX:GVC) is 2.'"
      ]
     },
     "execution_count": 40,
     "metadata": {},
     "output_type": "execute_result"
    }
   ],
   "source": [
    "texts.iloc[3]['Text']"
   ]
  },
  {
   "cell_type": "code",
   "execution_count": 41,
   "metadata": {},
   "outputs": [
    {
     "data": {
      "text/plain": [
       "'Fannie and Freddie are central players in the housing market, buying about half of all U.S. mortgages from lenders and packaging them for issuance as securities.'"
      ]
     },
     "execution_count": 41,
     "metadata": {},
     "output_type": "execute_result"
    }
   ],
   "source": [
    "texts.iloc[4]['Text']"
   ]
  },
  {
   "cell_type": "code",
   "execution_count": 42,
   "metadata": {},
   "outputs": [
    {
     "data": {
      "text/plain": [
       "'However, if the activity involves breeding, training, showing or racing horses, then the period is two out of seven consecutive years. Making the proper determination is important because of the differences in tax treatment for hobbies versus trades or businesses.'"
      ]
     },
     "execution_count": 42,
     "metadata": {},
     "output_type": "execute_result"
    }
   ],
   "source": [
    "texts.iloc[5]['Text']"
   ]
  },
  {
   "cell_type": "code",
   "execution_count": 43,
   "metadata": {},
   "outputs": [
    {
     "data": {
      "text/plain": [
       "'German discounter Aldi plans to open a new store in the UK every week on average for the next two years, investing Â£1bn in the process. UK sales rose 11% in 2018 to Â£11.3bn, but profits were dented by its investment in expansion in London and pricing. Ocado Retail, a joint venture between Ocado and Marks & Spencer, released a trading statement.'"
      ]
     },
     "execution_count": 43,
     "metadata": {},
     "output_type": "execute_result"
    }
   ],
   "source": [
    "texts.iloc[6]['Text']"
   ]
  },
  {
   "cell_type": "code",
   "execution_count": 44,
   "metadata": {},
   "outputs": [
    {
     "data": {
      "text/plain": [
       "\"Start with longer forms of video as if you're talking to a friend. Then break down the long form video into other formats like an audio file for a podcast, a transcription for a blog, a pdf for a download, smaller nuggets of video for social video to create more volume and awareness of your brand. The way to start is to write down topics by either knowing your audience well enough, asking your audience or looking in groups for questions and answering them yourself.\""
      ]
     },
     "execution_count": 44,
     "metadata": {},
     "output_type": "execute_result"
    }
   ],
   "source": [
    "texts.iloc[7]['Text']"
   ]
  },
  {
   "cell_type": "code",
   "execution_count": 45,
   "metadata": {},
   "outputs": [],
   "source": [
    "# find words with -ing where Gold == 1\n",
    "fincausal_task1_trial_train['contains_comma_with_ing_words'] = fincausal_task1_trial_train['Text'].apply(lambda text: re.findall(\"\"\",\\s([a-z]*?ing)\"\"\", text))\n",
    "words_where_ing_and_notgold = fincausal_task1_trial_train.loc[(fincausal_task1_trial_train['contains_comma_with_ing'] == True) & (fincausal_task1_trial_train['Gold'] == 0), 'contains_comma_with_ing_words']\n",
    "words_where_ing_and_gold = fincausal_task1_trial_train.loc[(fincausal_task1_trial_train['contains_comma_with_ing'] == True) & (fincausal_task1_trial_train['Gold'] == 1), 'contains_comma_with_ing_words']"
   ]
  },
  {
   "cell_type": "code",
   "execution_count": 46,
   "metadata": {
    "scrolled": true
   },
   "outputs": [
    {
     "data": {
      "text/plain": [
       "{'according',\n",
       " 'acting',\n",
       " 'adding',\n",
       " 'addressing',\n",
       " 'arguing',\n",
       " 'asking',\n",
       " 'assuming',\n",
       " 'attracting',\n",
       " 'avoiding',\n",
       " 'banking',\n",
       " 'banning',\n",
       " 'beating',\n",
       " 'beginning',\n",
       " 'being',\n",
       " 'bordering',\n",
       " 'borrowing',\n",
       " 'building',\n",
       " 'buying',\n",
       " 'catering',\n",
       " 'chasing',\n",
       " 'circling',\n",
       " 'citing',\n",
       " 'coming',\n",
       " 'conting',\n",
       " 'continuing',\n",
       " 'contracting',\n",
       " 'coupling',\n",
       " 'creating',\n",
       " 'declaring',\n",
       " 'decreasing',\n",
       " 'demanding',\n",
       " 'demonstrating',\n",
       " 'deploying',\n",
       " 'describing',\n",
       " 'detailing',\n",
       " 'devolving',\n",
       " 'dividing',\n",
       " 'drawing',\n",
       " 'during',\n",
       " 'dwindling',\n",
       " 'earning',\n",
       " 'emerging',\n",
       " 'emphasizing',\n",
       " 'enabling',\n",
       " 'encompassing',\n",
       " 'encouraging',\n",
       " 'engineering',\n",
       " 'ensuring',\n",
       " 'escalating',\n",
       " 'establishing',\n",
       " 'everything',\n",
       " 'exceeding',\n",
       " 'facilitating',\n",
       " 'facing',\n",
       " 'falling',\n",
       " 'figuring',\n",
       " 'finding',\n",
       " 'flaming',\n",
       " 'gaining',\n",
       " 'gauging',\n",
       " 'generating',\n",
       " 'getting',\n",
       " 'giving',\n",
       " 'growing',\n",
       " 'handing',\n",
       " 'having',\n",
       " 'highlighting',\n",
       " 'housing',\n",
       " 'identifying',\n",
       " 'implying',\n",
       " 'improving',\n",
       " 'including',\n",
       " 'increasing',\n",
       " 'indicating',\n",
       " 'initiating',\n",
       " 'insisting',\n",
       " 'investing',\n",
       " 'invoking',\n",
       " 'involving',\n",
       " 'kicking',\n",
       " 'knowing',\n",
       " 'leading',\n",
       " 'leasing',\n",
       " 'leaving',\n",
       " 'lending',\n",
       " 'lifting',\n",
       " 'lighting',\n",
       " 'linking',\n",
       " 'looking',\n",
       " 'making',\n",
       " 'managing',\n",
       " 'maneuvering',\n",
       " 'manufacturing',\n",
       " 'marking',\n",
       " 'meaning',\n",
       " 'mining',\n",
       " 'missing',\n",
       " 'mitigating',\n",
       " 'moving',\n",
       " 'noting',\n",
       " 'offering',\n",
       " 'offsetting',\n",
       " 'opening',\n",
       " 'operating',\n",
       " 'owing',\n",
       " 'pausing',\n",
       " 'paying',\n",
       " 'permitting',\n",
       " 'plumbing',\n",
       " 'pointing',\n",
       " 'posting',\n",
       " 'presenting',\n",
       " 'prioritizing',\n",
       " 'processing',\n",
       " 'provoking',\n",
       " 'punishing',\n",
       " 'putting',\n",
       " 'recognizing',\n",
       " 'reducing',\n",
       " 'referring',\n",
       " 'reflecting',\n",
       " 'reiterating',\n",
       " 'relocating',\n",
       " 'reporting',\n",
       " 'representing',\n",
       " 'repurchasing',\n",
       " 'requiring',\n",
       " 'responding',\n",
       " 'restructuring',\n",
       " 'resulting',\n",
       " 'retiring',\n",
       " 'retraining',\n",
       " 'risking',\n",
       " 'sacrificing',\n",
       " 'saying',\n",
       " 'seeing',\n",
       " 'selling',\n",
       " 'sending',\n",
       " 'serving',\n",
       " 'setting',\n",
       " 'sharing',\n",
       " 'shopping',\n",
       " 'shortening',\n",
       " 'showing',\n",
       " 'signaling',\n",
       " 'sing',\n",
       " 'sizing',\n",
       " 'slapping',\n",
       " 'soaring',\n",
       " 'something',\n",
       " 'sparking',\n",
       " 'specializing',\n",
       " 'starting',\n",
       " 'stimulating',\n",
       " 'studying',\n",
       " 'suggesting',\n",
       " 'surpassing',\n",
       " 'surrounding',\n",
       " 'tackling',\n",
       " 'taking',\n",
       " 'tanning',\n",
       " 'tapping',\n",
       " 'tearing',\n",
       " 'testing',\n",
       " 'thing',\n",
       " 'ticking',\n",
       " 'tracking',\n",
       " 'trading',\n",
       " 'training',\n",
       " 'translating',\n",
       " 'triggering',\n",
       " 'trying',\n",
       " 'underlying',\n",
       " 'underperforming',\n",
       " 'using',\n",
       " 'warning',\n",
       " 'withdrawing',\n",
       " 'working'}"
      ]
     },
     "execution_count": 46,
     "metadata": {},
     "output_type": "execute_result"
    }
   ],
   "source": [
    "set(words_where_ing_and_notgold.explode().values)"
   ]
  },
  {
   "cell_type": "code",
   "execution_count": 47,
   "metadata": {
    "scrolled": true
   },
   "outputs": [
    {
     "data": {
      "text/plain": [
       "{'according',\n",
       " 'aiming',\n",
       " 'beating',\n",
       " 'becoming',\n",
       " 'boosting',\n",
       " 'buying',\n",
       " 'citing',\n",
       " 'clothing',\n",
       " 'completing',\n",
       " 'converting',\n",
       " 'during',\n",
       " 'edging',\n",
       " 'enabling',\n",
       " 'equating',\n",
       " 'giving',\n",
       " 'having',\n",
       " 'hitting',\n",
       " 'including',\n",
       " 'increasing',\n",
       " 'indicating',\n",
       " 'lasting',\n",
       " 'leaving',\n",
       " 'lowering',\n",
       " 'making',\n",
       " 'meeting',\n",
       " 'missing',\n",
       " 'noting',\n",
       " 'paying',\n",
       " 'prompting',\n",
       " 'raising',\n",
       " 'reaching',\n",
       " 'reflecting',\n",
       " 'resulting',\n",
       " 'rising',\n",
       " 'slowing',\n",
       " 'suggesting',\n",
       " 'taking',\n",
       " 'topping',\n",
       " 'totaling',\n",
       " 'valuing',\n",
       " 'working'}"
      ]
     },
     "execution_count": 47,
     "metadata": {},
     "output_type": "execute_result"
    }
   ],
   "source": [
    "set(words_where_ing_and_gold.explode().values)"
   ]
  },
  {
   "cell_type": "code",
   "execution_count": 48,
   "metadata": {},
   "outputs": [],
   "source": [
    "possible_verbs = set(words_where_ing_and_gold.explode().values) - set(words_where_ing_and_notgold.explode().values).intersection(set(words_where_ing_and_gold.explode().values))"
   ]
  },
  {
   "cell_type": "code",
   "execution_count": 49,
   "metadata": {},
   "outputs": [],
   "source": [
    "possible_strings_to_check = [', {}'.format(verb) for verb in possible_verbs]"
   ]
  },
  {
   "cell_type": "code",
   "execution_count": 50,
   "metadata": {},
   "outputs": [
    {
     "data": {
      "text/plain": [
       "[', aiming',\n",
       " ', slowing',\n",
       " ', meeting',\n",
       " ', hitting',\n",
       " ', reaching',\n",
       " ', valuing',\n",
       " ', completing',\n",
       " ', raising',\n",
       " ', rising',\n",
       " ', becoming',\n",
       " ', prompting',\n",
       " ', topping',\n",
       " ', equating',\n",
       " ', lasting',\n",
       " ', clothing',\n",
       " ', totaling',\n",
       " ', lowering',\n",
       " ', edging',\n",
       " ', converting',\n",
       " ', boosting']"
      ]
     },
     "execution_count": 50,
     "metadata": {},
     "output_type": "execute_result"
    }
   ],
   "source": [
    "possible_strings_to_check"
   ]
  },
  {
   "cell_type": "code",
   "execution_count": 51,
   "metadata": {},
   "outputs": [
    {
     "name": "stdout",
     "output_type": "stream",
     "text": [
      "False    0.877814\n",
      "True     0.122186\n",
      "Name: contains_specific_ings_with_comma, dtype: float64\n"
     ]
    },
    {
     "data": {
      "text/plain": [
       "False    1.0\n",
       "Name: contains_specific_ings_with_comma, dtype: float64"
      ]
     },
     "execution_count": 51,
     "metadata": {},
     "output_type": "execute_result"
    }
   ],
   "source": [
    "fincausal_task1_trial_train['contains_specific_ings_with_comma'] = fincausal_task1_trial_train['Text'].apply(lambda text: any(substring in text for substring in possible_strings_to_check))\n",
    "print(fincausal_task1_trial_train.loc[fincausal_task1_trial_train['Gold'] == 1]['contains_specific_ings_with_comma'].value_counts() / len(fincausal_task1_trial_train.loc[fincausal_task1_trial_train['Gold'] == 1]))\n",
    "fincausal_task1_trial_train.loc[fincausal_task1_trial_train['Gold'] == 0]['contains_specific_ings_with_comma'].value_counts() / len(fincausal_task1_trial_train.loc[fincausal_task1_trial_train['Gold'] == 0])"
   ]
  },
  {
   "cell_type": "markdown",
   "metadata": {},
   "source": [
    "# Word Lists"
   ]
  },
  {
   "cell_type": "code",
   "execution_count": 52,
   "metadata": {},
   "outputs": [
    {
     "name": "stdout",
     "output_type": "stream",
     "text": [
      "shape of data: (86486, 19)\n"
     ]
    },
    {
     "data": {
      "text/html": [
       "<div>\n",
       "<style scoped>\n",
       "    .dataframe tbody tr th:only-of-type {\n",
       "        vertical-align: middle;\n",
       "    }\n",
       "\n",
       "    .dataframe tbody tr th {\n",
       "        vertical-align: top;\n",
       "    }\n",
       "\n",
       "    .dataframe thead th {\n",
       "        text-align: right;\n",
       "    }\n",
       "</style>\n",
       "<table border=\"1\" class=\"dataframe\">\n",
       "  <thead>\n",
       "    <tr style=\"text-align: right;\">\n",
       "      <th></th>\n",
       "      <th>Word</th>\n",
       "      <th>Sequence Number</th>\n",
       "      <th>Word Count</th>\n",
       "      <th>Word Proportion</th>\n",
       "      <th>Average Proportion</th>\n",
       "      <th>Std Dev</th>\n",
       "      <th>Doc Count</th>\n",
       "      <th>Negative</th>\n",
       "      <th>Positive</th>\n",
       "      <th>Uncertainty</th>\n",
       "      <th>Litigious</th>\n",
       "      <th>Constraining</th>\n",
       "      <th>Superfluous</th>\n",
       "      <th>Interesting</th>\n",
       "      <th>Modal</th>\n",
       "      <th>Irr_Verb</th>\n",
       "      <th>Harvard_IV</th>\n",
       "      <th>Syllables</th>\n",
       "      <th>Source</th>\n",
       "    </tr>\n",
       "  </thead>\n",
       "  <tbody>\n",
       "    <tr>\n",
       "      <th>0</th>\n",
       "      <td>AARDVARK</td>\n",
       "      <td>1</td>\n",
       "      <td>277</td>\n",
       "      <td>1.480000e-08</td>\n",
       "      <td>1.240000e-08</td>\n",
       "      <td>3.560000e-06</td>\n",
       "      <td>84</td>\n",
       "      <td>0</td>\n",
       "      <td>0</td>\n",
       "      <td>0</td>\n",
       "      <td>0</td>\n",
       "      <td>0</td>\n",
       "      <td>0</td>\n",
       "      <td>0</td>\n",
       "      <td>0</td>\n",
       "      <td>0</td>\n",
       "      <td>0</td>\n",
       "      <td>2</td>\n",
       "      <td>12of12inf</td>\n",
       "    </tr>\n",
       "    <tr>\n",
       "      <th>1</th>\n",
       "      <td>AARDVARKS</td>\n",
       "      <td>2</td>\n",
       "      <td>3</td>\n",
       "      <td>1.600000e-10</td>\n",
       "      <td>9.730000e-12</td>\n",
       "      <td>9.860000e-09</td>\n",
       "      <td>1</td>\n",
       "      <td>0</td>\n",
       "      <td>0</td>\n",
       "      <td>0</td>\n",
       "      <td>0</td>\n",
       "      <td>0</td>\n",
       "      <td>0</td>\n",
       "      <td>0</td>\n",
       "      <td>0</td>\n",
       "      <td>0</td>\n",
       "      <td>0</td>\n",
       "      <td>2</td>\n",
       "      <td>12of12inf</td>\n",
       "    </tr>\n",
       "    <tr>\n",
       "      <th>2</th>\n",
       "      <td>ABACI</td>\n",
       "      <td>3</td>\n",
       "      <td>8</td>\n",
       "      <td>4.280000e-10</td>\n",
       "      <td>1.390000e-10</td>\n",
       "      <td>6.230000e-08</td>\n",
       "      <td>7</td>\n",
       "      <td>0</td>\n",
       "      <td>0</td>\n",
       "      <td>0</td>\n",
       "      <td>0</td>\n",
       "      <td>0</td>\n",
       "      <td>0</td>\n",
       "      <td>0</td>\n",
       "      <td>0</td>\n",
       "      <td>0</td>\n",
       "      <td>0</td>\n",
       "      <td>3</td>\n",
       "      <td>12of12inf</td>\n",
       "    </tr>\n",
       "    <tr>\n",
       "      <th>3</th>\n",
       "      <td>ABACK</td>\n",
       "      <td>4</td>\n",
       "      <td>12</td>\n",
       "      <td>6.410000e-10</td>\n",
       "      <td>3.160000e-10</td>\n",
       "      <td>9.380000e-08</td>\n",
       "      <td>12</td>\n",
       "      <td>0</td>\n",
       "      <td>0</td>\n",
       "      <td>0</td>\n",
       "      <td>0</td>\n",
       "      <td>0</td>\n",
       "      <td>0</td>\n",
       "      <td>0</td>\n",
       "      <td>0</td>\n",
       "      <td>0</td>\n",
       "      <td>0</td>\n",
       "      <td>2</td>\n",
       "      <td>12of12inf</td>\n",
       "    </tr>\n",
       "    <tr>\n",
       "      <th>4</th>\n",
       "      <td>ABACUS</td>\n",
       "      <td>5</td>\n",
       "      <td>7250</td>\n",
       "      <td>3.870000e-07</td>\n",
       "      <td>3.680000e-07</td>\n",
       "      <td>3.370000e-05</td>\n",
       "      <td>914</td>\n",
       "      <td>0</td>\n",
       "      <td>0</td>\n",
       "      <td>0</td>\n",
       "      <td>0</td>\n",
       "      <td>0</td>\n",
       "      <td>0</td>\n",
       "      <td>0</td>\n",
       "      <td>0</td>\n",
       "      <td>0</td>\n",
       "      <td>0</td>\n",
       "      <td>3</td>\n",
       "      <td>12of12inf</td>\n",
       "    </tr>\n",
       "  </tbody>\n",
       "</table>\n",
       "</div>"
      ],
      "text/plain": [
       "        Word  Sequence Number  Word Count  Word Proportion  \\\n",
       "0   AARDVARK                1         277     1.480000e-08   \n",
       "1  AARDVARKS                2           3     1.600000e-10   \n",
       "2      ABACI                3           8     4.280000e-10   \n",
       "3      ABACK                4          12     6.410000e-10   \n",
       "4     ABACUS                5        7250     3.870000e-07   \n",
       "\n",
       "   Average Proportion       Std Dev  Doc Count  Negative  Positive  \\\n",
       "0        1.240000e-08  3.560000e-06         84         0         0   \n",
       "1        9.730000e-12  9.860000e-09          1         0         0   \n",
       "2        1.390000e-10  6.230000e-08          7         0         0   \n",
       "3        3.160000e-10  9.380000e-08         12         0         0   \n",
       "4        3.680000e-07  3.370000e-05        914         0         0   \n",
       "\n",
       "   Uncertainty  Litigious  Constraining  Superfluous  Interesting  Modal  \\\n",
       "0            0          0             0            0            0      0   \n",
       "1            0          0             0            0            0      0   \n",
       "2            0          0             0            0            0      0   \n",
       "3            0          0             0            0            0      0   \n",
       "4            0          0             0            0            0      0   \n",
       "\n",
       "   Irr_Verb  Harvard_IV  Syllables     Source  \n",
       "0         0           0          2  12of12inf  \n",
       "1         0           0          2  12of12inf  \n",
       "2         0           0          3  12of12inf  \n",
       "3         0           0          2  12of12inf  \n",
       "4         0           0          3  12of12inf  "
      ]
     },
     "execution_count": 52,
     "metadata": {},
     "output_type": "execute_result"
    }
   ],
   "source": [
    "word_list_path = '/media/sarthak/HDD/data_science/fnp_resources/data/LoughranMcDonald_MasterDictionary_2018.csv'\n",
    "word_list = pd.read_csv(word_list_path)\n",
    "print('shape of data: {}'.format(word_list.shape))\n",
    "word_list.head()"
   ]
  },
  {
   "cell_type": "code",
   "execution_count": 96,
   "metadata": {},
   "outputs": [],
   "source": [
    "# uncertain words\n",
    "uncertain_words = [word.lower() for word in word_list.loc[word_list.Uncertainty != 0].Word.tolist()]"
   ]
  },
  {
   "cell_type": "code",
   "execution_count": 97,
   "metadata": {},
   "outputs": [
    {
     "name": "stdout",
     "output_type": "stream",
     "text": [
      "False    0.787781\n",
      "True     0.212219\n",
      "Name: contains_uncertain_words, dtype: float64\n"
     ]
    },
    {
     "data": {
      "text/plain": [
       "False    0.811542\n",
       "True     0.188458\n",
       "Name: contains_uncertain_words, dtype: float64"
      ]
     },
     "execution_count": 97,
     "metadata": {},
     "output_type": "execute_result"
    }
   ],
   "source": [
    "fincausal_task1_trial_train['contains_uncertain_words'] = fincausal_task1_trial_train['Text'].apply(lambda text: any(substring in text.lower() for substring in uncertain_words))\n",
    "print(fincausal_task1_trial_train.loc[fincausal_task1_trial_train['Gold'] == 1]['contains_uncertain_words'].value_counts() / len(fincausal_task1_trial_train.loc[fincausal_task1_trial_train['Gold'] == 1]))\n",
    "fincausal_task1_trial_train.loc[fincausal_task1_trial_train['Gold'] == 0]['contains_uncertain_words'].value_counts() / len(fincausal_task1_trial_train.loc[fincausal_task1_trial_train['Gold'] == 0])"
   ]
  }
 ],
 "metadata": {
  "kernelspec": {
   "display_name": "Python fnp",
   "language": "python",
   "name": "fnp"
  },
  "language_info": {
   "codemirror_mode": {
    "name": "ipython",
    "version": 3
   },
   "file_extension": ".py",
   "mimetype": "text/x-python",
   "name": "python",
   "nbconvert_exporter": "python",
   "pygments_lexer": "ipython3",
   "version": "3.6.7"
  }
 },
 "nbformat": 4,
 "nbformat_minor": 4
}
