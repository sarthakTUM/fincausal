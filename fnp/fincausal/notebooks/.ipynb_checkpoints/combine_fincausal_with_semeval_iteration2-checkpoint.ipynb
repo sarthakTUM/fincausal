{
 "cells": [
  {
   "cell_type": "code",
   "execution_count": 2,
   "metadata": {},
   "outputs": [],
   "source": [
    "import pandas as pd\n",
    "from pathlib import Path\n",
    "import uuid"
   ]
  },
  {
   "cell_type": "code",
   "execution_count": 8,
   "metadata": {},
   "outputs": [],
   "source": [
    "fincausal_task1_train_path = Path('/media/sarthak/HDD/data_science/fnp_resources/data/task1/iteration_2/train.csv')\n",
    "semeval_all_data_path = Path('/media/sarthak/HDD/data_science/fnp_resources/data/extra/semeval.csv')"
   ]
  },
  {
   "cell_type": "code",
   "execution_count": 9,
   "metadata": {},
   "outputs": [
    {
     "data": {
      "text/html": [
       "<div>\n",
       "<style scoped>\n",
       "    .dataframe tbody tr th:only-of-type {\n",
       "        vertical-align: middle;\n",
       "    }\n",
       "\n",
       "    .dataframe tbody tr th {\n",
       "        vertical-align: top;\n",
       "    }\n",
       "\n",
       "    .dataframe thead th {\n",
       "        text-align: right;\n",
       "    }\n",
       "</style>\n",
       "<table border=\"1\" class=\"dataframe\">\n",
       "  <thead>\n",
       "    <tr style=\"text-align: right;\">\n",
       "      <th></th>\n",
       "      <th>sentence</th>\n",
       "      <th>relation</th>\n",
       "      <th>causal</th>\n",
       "    </tr>\n",
       "  </thead>\n",
       "  <tbody>\n",
       "    <tr>\n",
       "      <th>0</th>\n",
       "      <td>The system as described above has its greatest...</td>\n",
       "      <td>Component-Whole</td>\n",
       "      <td>0</td>\n",
       "    </tr>\n",
       "    <tr>\n",
       "      <th>1</th>\n",
       "      <td>The child was carefully wrapped and bound into...</td>\n",
       "      <td>Other</td>\n",
       "      <td>0</td>\n",
       "    </tr>\n",
       "    <tr>\n",
       "      <th>2</th>\n",
       "      <td>The author of a keygen uses a disassembler to ...</td>\n",
       "      <td>Instrument-Agency</td>\n",
       "      <td>0</td>\n",
       "    </tr>\n",
       "    <tr>\n",
       "      <th>3</th>\n",
       "      <td>A misty ridge uprises from the surge.</td>\n",
       "      <td>Other</td>\n",
       "      <td>0</td>\n",
       "    </tr>\n",
       "    <tr>\n",
       "      <th>4</th>\n",
       "      <td>The student association is the voice of the un...</td>\n",
       "      <td>Member-Collection</td>\n",
       "      <td>0</td>\n",
       "    </tr>\n",
       "  </tbody>\n",
       "</table>\n",
       "</div>"
      ],
      "text/plain": [
       "                                            sentence           relation  \\\n",
       "0  The system as described above has its greatest...    Component-Whole   \n",
       "1  The child was carefully wrapped and bound into...              Other   \n",
       "2  The author of a keygen uses a disassembler to ...  Instrument-Agency   \n",
       "3              A misty ridge uprises from the surge.              Other   \n",
       "4  The student association is the voice of the un...  Member-Collection   \n",
       "\n",
       "   causal  \n",
       "0       0  \n",
       "1       0  \n",
       "2       0  \n",
       "3       0  \n",
       "4       0  "
      ]
     },
     "execution_count": 9,
     "metadata": {},
     "output_type": "execute_result"
    }
   ],
   "source": [
    "semeval_all_data_df = pd.read_csv(semeval_all_data_path)\n",
    "semeval_all_data_df.head()"
   ]
  },
  {
   "cell_type": "code",
   "execution_count": 10,
   "metadata": {},
   "outputs": [
    {
     "data": {
      "text/plain": [
       "(10717, 3)"
      ]
     },
     "execution_count": 10,
     "metadata": {},
     "output_type": "execute_result"
    }
   ],
   "source": [
    "semeval_all_data_df.shape"
   ]
  },
  {
   "cell_type": "code",
   "execution_count": 22,
   "metadata": {},
   "outputs": [
    {
     "data": {
      "text/html": [
       "<div>\n",
       "<style scoped>\n",
       "    .dataframe tbody tr th:only-of-type {\n",
       "        vertical-align: middle;\n",
       "    }\n",
       "\n",
       "    .dataframe tbody tr th {\n",
       "        vertical-align: top;\n",
       "    }\n",
       "\n",
       "    .dataframe thead th {\n",
       "        text-align: right;\n",
       "    }\n",
       "</style>\n",
       "<table border=\"1\" class=\"dataframe\">\n",
       "  <thead>\n",
       "    <tr style=\"text-align: right;\">\n",
       "      <th></th>\n",
       "      <th>Index</th>\n",
       "      <th>Text</th>\n",
       "      <th>Gold</th>\n",
       "      <th>unique_id</th>\n",
       "    </tr>\n",
       "  </thead>\n",
       "  <tbody>\n",
       "    <tr>\n",
       "      <th>0</th>\n",
       "      <td>81.00009</td>\n",
       "      <td>Look at which clients are delivering increasi...</td>\n",
       "      <td>0</td>\n",
       "      <td>849c40bc-8fce-433b-8dc8-6af727480679</td>\n",
       "    </tr>\n",
       "    <tr>\n",
       "      <th>1</th>\n",
       "      <td>357.00082</td>\n",
       "      <td>From foundation modules that introduce asset ...</td>\n",
       "      <td>0</td>\n",
       "      <td>694a6824-613c-4978-9e17-a45b77e2b485</td>\n",
       "    </tr>\n",
       "    <tr>\n",
       "      <th>2</th>\n",
       "      <td>471.00003</td>\n",
       "      <td>The law firm Kessler Topaz Meltzer &amp; Check LL...</td>\n",
       "      <td>0</td>\n",
       "      <td>661e6bf7-ffbf-4581-acff-8c246ecac51a</td>\n",
       "    </tr>\n",
       "    <tr>\n",
       "      <th>3</th>\n",
       "      <td>166.00001</td>\n",
       "      <td>Upcoming events  Learn about the requirements...</td>\n",
       "      <td>0</td>\n",
       "      <td>48a694c5-9372-48d2-b2cb-df9461c713fe</td>\n",
       "    </tr>\n",
       "    <tr>\n",
       "      <th>4</th>\n",
       "      <td>48.00012</td>\n",
       "      <td>The Midwest, where Buffett is from, has a his...</td>\n",
       "      <td>0</td>\n",
       "      <td>a363e188-0393-433b-a86c-94d268eb473c</td>\n",
       "    </tr>\n",
       "  </tbody>\n",
       "</table>\n",
       "</div>"
      ],
      "text/plain": [
       "       Index                                               Text  Gold  \\\n",
       "0   81.00009   Look at which clients are delivering increasi...     0   \n",
       "1  357.00082   From foundation modules that introduce asset ...     0   \n",
       "2  471.00003   The law firm Kessler Topaz Meltzer & Check LL...     0   \n",
       "3  166.00001   Upcoming events  Learn about the requirements...     0   \n",
       "4   48.00012   The Midwest, where Buffett is from, has a his...     0   \n",
       "\n",
       "                              unique_id  \n",
       "0  849c40bc-8fce-433b-8dc8-6af727480679  \n",
       "1  694a6824-613c-4978-9e17-a45b77e2b485  \n",
       "2  661e6bf7-ffbf-4581-acff-8c246ecac51a  \n",
       "3  48a694c5-9372-48d2-b2cb-df9461c713fe  \n",
       "4  a363e188-0393-433b-a86c-94d268eb473c  "
      ]
     },
     "execution_count": 22,
     "metadata": {},
     "output_type": "execute_result"
    }
   ],
   "source": [
    "fincausal_task1_train_df = pd.read_csv(fincausal_task1_train_path)\n",
    "fincausal_task1_train_df.head()"
   ]
  },
  {
   "cell_type": "code",
   "execution_count": 23,
   "metadata": {},
   "outputs": [
    {
     "data": {
      "text/plain": [
       "(15575, 4)"
      ]
     },
     "execution_count": 23,
     "metadata": {},
     "output_type": "execute_result"
    }
   ],
   "source": [
    "fincausal_task1_train_df.shape"
   ]
  },
  {
   "cell_type": "code",
   "execution_count": 24,
   "metadata": {},
   "outputs": [
    {
     "data": {
      "text/plain": [
       "0    0.927897\n",
       "1    0.072103\n",
       "Name: Gold, dtype: float64"
      ]
     },
     "execution_count": 24,
     "metadata": {},
     "output_type": "execute_result"
    }
   ],
   "source": [
    "# what's the distribution of label?\n",
    "causal_distribution = fincausal_task1_train_df.Gold.value_counts() / len(fincausal_task1_train_df)\n",
    "causal_distribution"
   ]
  },
  {
   "cell_type": "code",
   "execution_count": 25,
   "metadata": {},
   "outputs": [
    {
     "data": {
      "text/plain": [
       "0    0.927929\n",
       "1    0.072071\n",
       "Name: causal, dtype: float64"
      ]
     },
     "execution_count": 25,
     "metadata": {},
     "output_type": "execute_result"
    }
   ],
   "source": [
    "# how many causal can I take from semeval?\n",
    "semeval_noncausal = semeval_all_data_df.loc[semeval_all_data_df.causal == 0]\n",
    "semeval_causal = semeval_all_data_df.loc[semeval_all_data_df.causal == 1]\n",
    "\n",
    "semeval_causal_resampled = semeval_causal.sample(n=int((causal_distribution[1]*100*len(semeval_noncausal))/(100-(causal_distribution[1]*100))))\n",
    "\n",
    "semeval_resampled = pd.concat([semeval_noncausal, semeval_causal_resampled])\n",
    "semeval_resampled.causal.value_counts() / len(semeval_resampled)"
   ]
  },
  {
   "cell_type": "code",
   "execution_count": 26,
   "metadata": {},
   "outputs": [
    {
     "data": {
      "text/html": [
       "<div>\n",
       "<style scoped>\n",
       "    .dataframe tbody tr th:only-of-type {\n",
       "        vertical-align: middle;\n",
       "    }\n",
       "\n",
       "    .dataframe tbody tr th {\n",
       "        vertical-align: top;\n",
       "    }\n",
       "\n",
       "    .dataframe thead th {\n",
       "        text-align: right;\n",
       "    }\n",
       "</style>\n",
       "<table border=\"1\" class=\"dataframe\">\n",
       "  <thead>\n",
       "    <tr style=\"text-align: right;\">\n",
       "      <th></th>\n",
       "      <th>Index</th>\n",
       "      <th>Text</th>\n",
       "      <th>Gold</th>\n",
       "      <th>unique_id</th>\n",
       "    </tr>\n",
       "  </thead>\n",
       "  <tbody>\n",
       "    <tr>\n",
       "      <th>0</th>\n",
       "      <td>None</td>\n",
       "      <td>The system as described above has its greatest...</td>\n",
       "      <td>0</td>\n",
       "      <td>3581f615-136e-4e1c-9249-86a7c438632a</td>\n",
       "    </tr>\n",
       "    <tr>\n",
       "      <th>1</th>\n",
       "      <td>None</td>\n",
       "      <td>The child was carefully wrapped and bound into...</td>\n",
       "      <td>0</td>\n",
       "      <td>6143cd7e-f404-44da-9b5b-663de269e93e</td>\n",
       "    </tr>\n",
       "    <tr>\n",
       "      <th>2</th>\n",
       "      <td>None</td>\n",
       "      <td>The author of a keygen uses a disassembler to ...</td>\n",
       "      <td>0</td>\n",
       "      <td>01a1f60b-fa7a-4991-b4db-4841f985c2b1</td>\n",
       "    </tr>\n",
       "    <tr>\n",
       "      <th>3</th>\n",
       "      <td>None</td>\n",
       "      <td>A misty ridge uprises from the surge.</td>\n",
       "      <td>0</td>\n",
       "      <td>b559eaf3-1391-4d33-94eb-ade7d6f172f4</td>\n",
       "    </tr>\n",
       "    <tr>\n",
       "      <th>4</th>\n",
       "      <td>None</td>\n",
       "      <td>The student association is the voice of the un...</td>\n",
       "      <td>0</td>\n",
       "      <td>66b0e9de-9fc7-4740-94bc-f34664d954c2</td>\n",
       "    </tr>\n",
       "  </tbody>\n",
       "</table>\n",
       "</div>"
      ],
      "text/plain": [
       "  Index                                               Text  Gold  \\\n",
       "0  None  The system as described above has its greatest...     0   \n",
       "1  None  The child was carefully wrapped and bound into...     0   \n",
       "2  None  The author of a keygen uses a disassembler to ...     0   \n",
       "3  None              A misty ridge uprises from the surge.     0   \n",
       "4  None  The student association is the voice of the un...     0   \n",
       "\n",
       "                              unique_id  \n",
       "0  3581f615-136e-4e1c-9249-86a7c438632a  \n",
       "1  6143cd7e-f404-44da-9b5b-663de269e93e  \n",
       "2  01a1f60b-fa7a-4991-b4db-4841f985c2b1  \n",
       "3  b559eaf3-1391-4d33-94eb-ade7d6f172f4  \n",
       "4  66b0e9de-9fc7-4740-94bc-f34664d954c2  "
      ]
     },
     "execution_count": 26,
     "metadata": {},
     "output_type": "execute_result"
    }
   ],
   "source": [
    "# combine both the datasets\n",
    "semval_resampled_formatted_df = pd.DataFrame({\n",
    "    'Index': None,\n",
    "    'Text': semeval_resampled.sentence,\n",
    "    'Gold': semeval_resampled.causal,\n",
    "    'unique_id': [str(uuid.uuid4()) for _ in range(len(semeval_resampled))]\n",
    "})\n",
    "semval_resampled_formatted_df.head()"
   ]
  },
  {
   "cell_type": "code",
   "execution_count": 27,
   "metadata": {},
   "outputs": [
    {
     "data": {
      "text/plain": [
       "0    0.927929\n",
       "1    0.072071\n",
       "Name: Gold, dtype: float64"
      ]
     },
     "execution_count": 27,
     "metadata": {},
     "output_type": "execute_result"
    }
   ],
   "source": [
    "semval_resampled_formatted_df.Gold.value_counts() / len(semval_resampled_formatted_df)"
   ]
  },
  {
   "cell_type": "code",
   "execution_count": 28,
   "metadata": {},
   "outputs": [
    {
     "data": {
      "text/plain": [
       "(25690, 4)"
      ]
     },
     "execution_count": 28,
     "metadata": {},
     "output_type": "execute_result"
    }
   ],
   "source": [
    "fincausal_task1_train_combined_semeval = pd.concat([fincausal_task1_train_df, semval_resampled_formatted_df])\n",
    "fincausal_task1_train_combined_semeval.shape"
   ]
  },
  {
   "cell_type": "code",
   "execution_count": 29,
   "metadata": {},
   "outputs": [
    {
     "data": {
      "text/plain": [
       "0    0.92791\n",
       "1    0.07209\n",
       "Name: Gold, dtype: float64"
      ]
     },
     "execution_count": 29,
     "metadata": {},
     "output_type": "execute_result"
    }
   ],
   "source": [
    "fincausal_task1_train_combined_semeval.Gold.value_counts() / len(fincausal_task1_train_combined_semeval)"
   ]
  },
  {
   "cell_type": "code",
   "execution_count": 30,
   "metadata": {},
   "outputs": [],
   "source": [
    "fincausal_task1_train_combined_semeval.to_csv('/media/sarthak/HDD/data_science/fnp_resources/data/task1/iteration_2/train_with_semeval.csv', index=False)"
   ]
  }
 ],
 "metadata": {
  "kernelspec": {
   "display_name": "Python fnp",
   "language": "python",
   "name": "fnp"
  },
  "language_info": {
   "codemirror_mode": {
    "name": "ipython",
    "version": 3
   },
   "file_extension": ".py",
   "mimetype": "text/x-python",
   "name": "python",
   "nbconvert_exporter": "python",
   "pygments_lexer": "ipython3",
   "version": "3.6.7"
  }
 },
 "nbformat": 4,
 "nbformat_minor": 4
}
