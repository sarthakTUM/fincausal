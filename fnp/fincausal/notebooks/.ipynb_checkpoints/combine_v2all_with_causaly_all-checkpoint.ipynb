{
 "cells": [
  {
   "cell_type": "code",
   "execution_count": 1,
   "metadata": {},
   "outputs": [],
   "source": [
    "import pandas as pd\n",
    "from pathlib import Path\n",
    "import uuid"
   ]
  },
  {
   "cell_type": "code",
   "execution_count": 2,
   "metadata": {},
   "outputs": [],
   "source": [
    "fincausal_task1_train_path = Path('/media/sarthak/HDD/data_science/fnp_resources/data/task1/train_on_trial_test_on_practice_v2/train.csv')\n",
    "causaly_all_data_path = Path('/media/sarthak/HDD/data_science/fnp_resources/data/extra/causaly.csv')"
   ]
  },
  {
   "cell_type": "code",
   "execution_count": 3,
   "metadata": {},
   "outputs": [
    {
     "data": {
      "text/html": [
       "<div>\n",
       "<style scoped>\n",
       "    .dataframe tbody tr th:only-of-type {\n",
       "        vertical-align: middle;\n",
       "    }\n",
       "\n",
       "    .dataframe tbody tr th {\n",
       "        vertical-align: top;\n",
       "    }\n",
       "\n",
       "    .dataframe thead th {\n",
       "        text-align: right;\n",
       "    }\n",
       "</style>\n",
       "<table border=\"1\" class=\"dataframe\">\n",
       "  <thead>\n",
       "    <tr style=\"text-align: right;\">\n",
       "      <th></th>\n",
       "      <th>sentence</th>\n",
       "      <th>causal</th>\n",
       "    </tr>\n",
       "  </thead>\n",
       "  <tbody>\n",
       "    <tr>\n",
       "      <th>0</th>\n",
       "      <td>Results indicated that boys with ADHD , relati...</td>\n",
       "      <td>1</td>\n",
       "    </tr>\n",
       "    <tr>\n",
       "      <th>1</th>\n",
       "      <td>Ticagrelor appears to provide higher value for...</td>\n",
       "      <td>0</td>\n",
       "    </tr>\n",
       "    <tr>\n",
       "      <th>2</th>\n",
       "      <td>Whatever the mechanism , active smoking is an ...</td>\n",
       "      <td>1</td>\n",
       "    </tr>\n",
       "    <tr>\n",
       "      <th>3</th>\n",
       "      <td>In this study , we examined whether use of an ...</td>\n",
       "      <td>0</td>\n",
       "    </tr>\n",
       "    <tr>\n",
       "      <th>4</th>\n",
       "      <td>Using causal inference testing , we searched c...</td>\n",
       "      <td>0</td>\n",
       "    </tr>\n",
       "  </tbody>\n",
       "</table>\n",
       "</div>"
      ],
      "text/plain": [
       "                                            sentence  causal\n",
       "0  Results indicated that boys with ADHD , relati...       1\n",
       "1  Ticagrelor appears to provide higher value for...       0\n",
       "2  Whatever the mechanism , active smoking is an ...       1\n",
       "3  In this study , we examined whether use of an ...       0\n",
       "4  Using causal inference testing , we searched c...       0"
      ]
     },
     "execution_count": 3,
     "metadata": {},
     "output_type": "execute_result"
    }
   ],
   "source": [
    "causaly_df = pd.read_csv(causaly_all_data_path)\n",
    "causaly_df.head()"
   ]
  },
  {
   "cell_type": "code",
   "execution_count": 4,
   "metadata": {},
   "outputs": [
    {
     "data": {
      "text/plain": [
       "(2000, 2)"
      ]
     },
     "execution_count": 4,
     "metadata": {},
     "output_type": "execute_result"
    }
   ],
   "source": [
    "causaly_df.shape"
   ]
  },
  {
   "cell_type": "code",
   "execution_count": 5,
   "metadata": {},
   "outputs": [
    {
     "data": {
      "text/html": [
       "<div>\n",
       "<style scoped>\n",
       "    .dataframe tbody tr th:only-of-type {\n",
       "        vertical-align: middle;\n",
       "    }\n",
       "\n",
       "    .dataframe tbody tr th {\n",
       "        vertical-align: top;\n",
       "    }\n",
       "\n",
       "    .dataframe thead th {\n",
       "        text-align: right;\n",
       "    }\n",
       "</style>\n",
       "<table border=\"1\" class=\"dataframe\">\n",
       "  <thead>\n",
       "    <tr style=\"text-align: right;\">\n",
       "      <th></th>\n",
       "      <th>Index</th>\n",
       "      <th>Text</th>\n",
       "      <th>Gold</th>\n",
       "      <th>unique_id</th>\n",
       "    </tr>\n",
       "  </thead>\n",
       "  <tbody>\n",
       "    <tr>\n",
       "      <th>0</th>\n",
       "      <td>149.00013</td>\n",
       "      <td>International Monetary Systems Company Profile...</td>\n",
       "      <td>0</td>\n",
       "      <td>c3ac1fe6-03f3-4c3a-a629-fece251ba910</td>\n",
       "    </tr>\n",
       "    <tr>\n",
       "      <th>1</th>\n",
       "      <td>16.00004</td>\n",
       "      <td>Investment Governance for Fiduciaries, our new...</td>\n",
       "      <td>0</td>\n",
       "      <td>21b03c65-a763-4530-93fe-274329159fe4</td>\n",
       "    </tr>\n",
       "    <tr>\n",
       "      <th>2</th>\n",
       "      <td>123.00020</td>\n",
       "      <td>In other words, whatever emerges over that tim...</td>\n",
       "      <td>0</td>\n",
       "      <td>0a23192c-c361-48af-a32d-6451fc9a0cf9</td>\n",
       "    </tr>\n",
       "    <tr>\n",
       "      <th>3</th>\n",
       "      <td>37.00015</td>\n",
       "      <td>Beijing Meddling  With a focus on divesting fr...</td>\n",
       "      <td>0</td>\n",
       "      <td>59d14846-7cab-4e56-9694-38d42b190239</td>\n",
       "    </tr>\n",
       "    <tr>\n",
       "      <th>4</th>\n",
       "      <td>26.00008</td>\n",
       "      <td>It would probably be a leader in cutting-edge ...</td>\n",
       "      <td>0</td>\n",
       "      <td>70a20d4c-d155-498b-a189-e1d5df3102f3</td>\n",
       "    </tr>\n",
       "  </tbody>\n",
       "</table>\n",
       "</div>"
      ],
      "text/plain": [
       "       Index                                               Text  Gold  \\\n",
       "0  149.00013  International Monetary Systems Company Profile...     0   \n",
       "1   16.00004  Investment Governance for Fiduciaries, our new...     0   \n",
       "2  123.00020  In other words, whatever emerges over that tim...     0   \n",
       "3   37.00015  Beijing Meddling  With a focus on divesting fr...     0   \n",
       "4   26.00008  It would probably be a leader in cutting-edge ...     0   \n",
       "\n",
       "                              unique_id  \n",
       "0  c3ac1fe6-03f3-4c3a-a629-fece251ba910  \n",
       "1  21b03c65-a763-4530-93fe-274329159fe4  \n",
       "2  0a23192c-c361-48af-a32d-6451fc9a0cf9  \n",
       "3  59d14846-7cab-4e56-9694-38d42b190239  \n",
       "4  70a20d4c-d155-498b-a189-e1d5df3102f3  "
      ]
     },
     "execution_count": 5,
     "metadata": {},
     "output_type": "execute_result"
    }
   ],
   "source": [
    "fincausal_task1_train_df = pd.read_csv(fincausal_task1_train_path)\n",
    "fincausal_task1_train_df.head()"
   ]
  },
  {
   "cell_type": "code",
   "execution_count": 6,
   "metadata": {},
   "outputs": [
    {
     "data": {
      "text/plain": [
       "(7721, 4)"
      ]
     },
     "execution_count": 6,
     "metadata": {},
     "output_type": "execute_result"
    }
   ],
   "source": [
    "fincausal_task1_train_df.shape"
   ]
  },
  {
   "cell_type": "code",
   "execution_count": 7,
   "metadata": {},
   "outputs": [
    {
     "data": {
      "text/html": [
       "<div>\n",
       "<style scoped>\n",
       "    .dataframe tbody tr th:only-of-type {\n",
       "        vertical-align: middle;\n",
       "    }\n",
       "\n",
       "    .dataframe tbody tr th {\n",
       "        vertical-align: top;\n",
       "    }\n",
       "\n",
       "    .dataframe thead th {\n",
       "        text-align: right;\n",
       "    }\n",
       "</style>\n",
       "<table border=\"1\" class=\"dataframe\">\n",
       "  <thead>\n",
       "    <tr style=\"text-align: right;\">\n",
       "      <th></th>\n",
       "      <th>Index</th>\n",
       "      <th>Text</th>\n",
       "      <th>Gold</th>\n",
       "      <th>unique_id</th>\n",
       "    </tr>\n",
       "  </thead>\n",
       "  <tbody>\n",
       "    <tr>\n",
       "      <th>0</th>\n",
       "      <td>None</td>\n",
       "      <td>Results indicated that boys with ADHD , relati...</td>\n",
       "      <td>1</td>\n",
       "      <td>0713dd3c-1290-40c8-a945-0515a2adc177</td>\n",
       "    </tr>\n",
       "    <tr>\n",
       "      <th>1</th>\n",
       "      <td>None</td>\n",
       "      <td>Ticagrelor appears to provide higher value for...</td>\n",
       "      <td>0</td>\n",
       "      <td>1204495b-dafb-4bf5-9062-45d1e2c26ad0</td>\n",
       "    </tr>\n",
       "    <tr>\n",
       "      <th>2</th>\n",
       "      <td>None</td>\n",
       "      <td>Whatever the mechanism , active smoking is an ...</td>\n",
       "      <td>1</td>\n",
       "      <td>37473d2c-b23d-429c-a729-cdfe004396ba</td>\n",
       "    </tr>\n",
       "    <tr>\n",
       "      <th>3</th>\n",
       "      <td>None</td>\n",
       "      <td>In this study , we examined whether use of an ...</td>\n",
       "      <td>0</td>\n",
       "      <td>237ff62d-895b-4405-a25e-bd258bd08716</td>\n",
       "    </tr>\n",
       "    <tr>\n",
       "      <th>4</th>\n",
       "      <td>None</td>\n",
       "      <td>Using causal inference testing , we searched c...</td>\n",
       "      <td>0</td>\n",
       "      <td>201b8f9f-bf04-4877-9c6b-e0f167898a3d</td>\n",
       "    </tr>\n",
       "  </tbody>\n",
       "</table>\n",
       "</div>"
      ],
      "text/plain": [
       "  Index                                               Text  Gold  \\\n",
       "0  None  Results indicated that boys with ADHD , relati...     1   \n",
       "1  None  Ticagrelor appears to provide higher value for...     0   \n",
       "2  None  Whatever the mechanism , active smoking is an ...     1   \n",
       "3  None  In this study , we examined whether use of an ...     0   \n",
       "4  None  Using causal inference testing , we searched c...     0   \n",
       "\n",
       "                              unique_id  \n",
       "0  0713dd3c-1290-40c8-a945-0515a2adc177  \n",
       "1  1204495b-dafb-4bf5-9062-45d1e2c26ad0  \n",
       "2  37473d2c-b23d-429c-a729-cdfe004396ba  \n",
       "3  237ff62d-895b-4405-a25e-bd258bd08716  \n",
       "4  201b8f9f-bf04-4877-9c6b-e0f167898a3d  "
      ]
     },
     "execution_count": 7,
     "metadata": {},
     "output_type": "execute_result"
    }
   ],
   "source": [
    "causaly_df = pd.DataFrame({\n",
    "    'Index': None,\n",
    "    'Text': causaly_df.sentence,\n",
    "    'Gold': causaly_df.causal,\n",
    "    'unique_id': [str(uuid.uuid4()) for _ in range(len(causaly_df))]\n",
    "})\n",
    "causaly_df.head()"
   ]
  },
  {
   "cell_type": "code",
   "execution_count": 8,
   "metadata": {},
   "outputs": [
    {
     "data": {
      "text/plain": [
       "(9721, 4)"
      ]
     },
     "execution_count": 8,
     "metadata": {},
     "output_type": "execute_result"
    }
   ],
   "source": [
    "merged_df = pd.concat([fincausal_task1_train_df, causaly_df])\n",
    "merged_df.shape"
   ]
  },
  {
   "cell_type": "code",
   "execution_count": 9,
   "metadata": {},
   "outputs": [
    {
     "data": {
      "text/html": [
       "<div>\n",
       "<style scoped>\n",
       "    .dataframe tbody tr th:only-of-type {\n",
       "        vertical-align: middle;\n",
       "    }\n",
       "\n",
       "    .dataframe tbody tr th {\n",
       "        vertical-align: top;\n",
       "    }\n",
       "\n",
       "    .dataframe thead th {\n",
       "        text-align: right;\n",
       "    }\n",
       "</style>\n",
       "<table border=\"1\" class=\"dataframe\">\n",
       "  <thead>\n",
       "    <tr style=\"text-align: right;\">\n",
       "      <th></th>\n",
       "      <th>Index</th>\n",
       "      <th>Text</th>\n",
       "      <th>Gold</th>\n",
       "      <th>unique_id</th>\n",
       "    </tr>\n",
       "  </thead>\n",
       "  <tbody>\n",
       "    <tr>\n",
       "      <th>0</th>\n",
       "      <td>149</td>\n",
       "      <td>International Monetary Systems Company Profile...</td>\n",
       "      <td>0</td>\n",
       "      <td>c3ac1fe6-03f3-4c3a-a629-fece251ba910</td>\n",
       "    </tr>\n",
       "    <tr>\n",
       "      <th>1</th>\n",
       "      <td>16</td>\n",
       "      <td>Investment Governance for Fiduciaries, our new...</td>\n",
       "      <td>0</td>\n",
       "      <td>21b03c65-a763-4530-93fe-274329159fe4</td>\n",
       "    </tr>\n",
       "    <tr>\n",
       "      <th>2</th>\n",
       "      <td>123</td>\n",
       "      <td>In other words, whatever emerges over that tim...</td>\n",
       "      <td>0</td>\n",
       "      <td>0a23192c-c361-48af-a32d-6451fc9a0cf9</td>\n",
       "    </tr>\n",
       "    <tr>\n",
       "      <th>3</th>\n",
       "      <td>37.0001</td>\n",
       "      <td>Beijing Meddling  With a focus on divesting fr...</td>\n",
       "      <td>0</td>\n",
       "      <td>59d14846-7cab-4e56-9694-38d42b190239</td>\n",
       "    </tr>\n",
       "    <tr>\n",
       "      <th>4</th>\n",
       "      <td>26.0001</td>\n",
       "      <td>It would probably be a leader in cutting-edge ...</td>\n",
       "      <td>0</td>\n",
       "      <td>70a20d4c-d155-498b-a189-e1d5df3102f3</td>\n",
       "    </tr>\n",
       "  </tbody>\n",
       "</table>\n",
       "</div>"
      ],
      "text/plain": [
       "     Index                                               Text  Gold  \\\n",
       "0      149  International Monetary Systems Company Profile...     0   \n",
       "1       16  Investment Governance for Fiduciaries, our new...     0   \n",
       "2      123  In other words, whatever emerges over that tim...     0   \n",
       "3  37.0001  Beijing Meddling  With a focus on divesting fr...     0   \n",
       "4  26.0001  It would probably be a leader in cutting-edge ...     0   \n",
       "\n",
       "                              unique_id  \n",
       "0  c3ac1fe6-03f3-4c3a-a629-fece251ba910  \n",
       "1  21b03c65-a763-4530-93fe-274329159fe4  \n",
       "2  0a23192c-c361-48af-a32d-6451fc9a0cf9  \n",
       "3  59d14846-7cab-4e56-9694-38d42b190239  \n",
       "4  70a20d4c-d155-498b-a189-e1d5df3102f3  "
      ]
     },
     "execution_count": 9,
     "metadata": {},
     "output_type": "execute_result"
    }
   ],
   "source": [
    "merged_df.head()"
   ]
  },
  {
   "cell_type": "code",
   "execution_count": 10,
   "metadata": {},
   "outputs": [
    {
     "data": {
      "text/plain": [
       "0    0.832836\n",
       "1    0.167164\n",
       "Name: Gold, dtype: float64"
      ]
     },
     "execution_count": 10,
     "metadata": {},
     "output_type": "execute_result"
    }
   ],
   "source": [
    "merged_df.Gold.value_counts() / len(merged_df)"
   ]
  },
  {
   "cell_type": "code",
   "execution_count": 11,
   "metadata": {},
   "outputs": [],
   "source": [
    "merged_df.to_csv('/media/sarthak/HDD/data_science/fnp_resources/data/task1/train_on_trial_test_on_practice_v2/train_with_causaly_all.csv', index=False)"
   ]
  }
 ],
 "metadata": {
  "kernelspec": {
   "display_name": "Python fnp",
   "language": "python",
   "name": "fnp"
  },
  "language_info": {
   "codemirror_mode": {
    "name": "ipython",
    "version": 3
   },
   "file_extension": ".py",
   "mimetype": "text/x-python",
   "name": "python",
   "nbconvert_exporter": "python",
   "pygments_lexer": "ipython3",
   "version": "3.6.7"
  }
 },
 "nbformat": 4,
 "nbformat_minor": 4
}
