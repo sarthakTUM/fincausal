{
 "cells": [
  {
   "cell_type": "code",
   "execution_count": 1,
   "metadata": {},
   "outputs": [],
   "source": [
    "import pandas as pd\n",
    "from pathlib import Path\n",
    "import uuid"
   ]
  },
  {
   "cell_type": "code",
   "execution_count": 2,
   "metadata": {},
   "outputs": [],
   "source": [
    "fincausal_trial_path = Path('/media/sarthak/HDD/data_science/fnp_resources/data/task1/trial/train.csv')\n",
    "ade_all_data_path = Path('/media/sarthak/HDD/data_science/fnp_resources/data/extra/ade.csv')"
   ]
  },
  {
   "cell_type": "code",
   "execution_count": 3,
   "metadata": {},
   "outputs": [
    {
     "data": {
      "text/html": [
       "<div>\n",
       "<style scoped>\n",
       "    .dataframe tbody tr th:only-of-type {\n",
       "        vertical-align: middle;\n",
       "    }\n",
       "\n",
       "    .dataframe tbody tr th {\n",
       "        vertical-align: top;\n",
       "    }\n",
       "\n",
       "    .dataframe thead th {\n",
       "        text-align: right;\n",
       "    }\n",
       "</style>\n",
       "<table border=\"1\" class=\"dataframe\">\n",
       "  <thead>\n",
       "    <tr style=\"text-align: right;\">\n",
       "      <th></th>\n",
       "      <th>sentences</th>\n",
       "      <th>causal</th>\n",
       "    </tr>\n",
       "  </thead>\n",
       "  <tbody>\n",
       "    <tr>\n",
       "      <th>0</th>\n",
       "      <td>At 1 year of age cardiovascular and renal func...</td>\n",
       "      <td>0</td>\n",
       "    </tr>\n",
       "    <tr>\n",
       "      <th>1</th>\n",
       "      <td>Chlorambucil-induced chromosome damage to huma...</td>\n",
       "      <td>1</td>\n",
       "    </tr>\n",
       "    <tr>\n",
       "      <th>2</th>\n",
       "      <td>Gingival hemorrhage, myelodysplastic syndromes...</td>\n",
       "      <td>0</td>\n",
       "    </tr>\n",
       "    <tr>\n",
       "      <th>3</th>\n",
       "      <td>The development of safer and more effective me...</td>\n",
       "      <td>0</td>\n",
       "    </tr>\n",
       "    <tr>\n",
       "      <th>4</th>\n",
       "      <td>Molluscum contagiosum is a common viral skin i...</td>\n",
       "      <td>0</td>\n",
       "    </tr>\n",
       "  </tbody>\n",
       "</table>\n",
       "</div>"
      ],
      "text/plain": [
       "                                           sentences  causal\n",
       "0  At 1 year of age cardiovascular and renal func...       0\n",
       "1  Chlorambucil-induced chromosome damage to huma...       1\n",
       "2  Gingival hemorrhage, myelodysplastic syndromes...       0\n",
       "3  The development of safer and more effective me...       0\n",
       "4  Molluscum contagiosum is a common viral skin i...       0"
      ]
     },
     "execution_count": 3,
     "metadata": {},
     "output_type": "execute_result"
    }
   ],
   "source": [
    "ade_all_data_df = pd.read_csv(ade_all_data_path)\n",
    "ade_all_data_df.head()"
   ]
  },
  {
   "cell_type": "code",
   "execution_count": 4,
   "metadata": {},
   "outputs": [
    {
     "data": {
      "text/plain": [
       "(20896, 2)"
      ]
     },
     "execution_count": 4,
     "metadata": {},
     "output_type": "execute_result"
    }
   ],
   "source": [
    "ade_all_data_df.shape"
   ]
  },
  {
   "cell_type": "code",
   "execution_count": 5,
   "metadata": {},
   "outputs": [
    {
     "data": {
      "text/html": [
       "<div>\n",
       "<style scoped>\n",
       "    .dataframe tbody tr th:only-of-type {\n",
       "        vertical-align: middle;\n",
       "    }\n",
       "\n",
       "    .dataframe tbody tr th {\n",
       "        vertical-align: top;\n",
       "    }\n",
       "\n",
       "    .dataframe thead th {\n",
       "        text-align: right;\n",
       "    }\n",
       "</style>\n",
       "<table border=\"1\" class=\"dataframe\">\n",
       "  <thead>\n",
       "    <tr style=\"text-align: right;\">\n",
       "      <th></th>\n",
       "      <th>Index</th>\n",
       "      <th>Gold</th>\n",
       "      <th>Text</th>\n",
       "      <th>unique_id</th>\n",
       "    </tr>\n",
       "  </thead>\n",
       "  <tbody>\n",
       "    <tr>\n",
       "      <th>0</th>\n",
       "      <td>3135</td>\n",
       "      <td>0</td>\n",
       "      <td>We have the highest child poverty rate of almo...</td>\n",
       "      <td>b51542ef-e583-4551-aa90-9475f60bf65a</td>\n",
       "    </tr>\n",
       "    <tr>\n",
       "      <th>1</th>\n",
       "      <td>4340</td>\n",
       "      <td>0</td>\n",
       "      <td>Price is nearly everything - and nearly every ...</td>\n",
       "      <td>f05532da-f6f8-4287-9f11-9a4c7b9ef786</td>\n",
       "    </tr>\n",
       "    <tr>\n",
       "      <th>2</th>\n",
       "      <td>1312</td>\n",
       "      <td>0</td>\n",
       "      <td>We do not write articles to promote products. ...</td>\n",
       "      <td>a6f3230a-4908-4715-b7e7-4355414e7347</td>\n",
       "    </tr>\n",
       "    <tr>\n",
       "      <th>3</th>\n",
       "      <td>4936</td>\n",
       "      <td>0</td>\n",
       "      <td>They were now theoretically worth north of a $...</td>\n",
       "      <td>c65800bc-5629-4ac9-9e80-5543bf786a51</td>\n",
       "    </tr>\n",
       "    <tr>\n",
       "      <th>4</th>\n",
       "      <td>1093</td>\n",
       "      <td>0</td>\n",
       "      <td>The solution  Susan explains she wishes to inv...</td>\n",
       "      <td>a7b1153c-d802-4cb6-9e22-1208734ed909</td>\n",
       "    </tr>\n",
       "  </tbody>\n",
       "</table>\n",
       "</div>"
      ],
      "text/plain": [
       "   Index  Gold                                               Text  \\\n",
       "0   3135     0  We have the highest child poverty rate of almo...   \n",
       "1   4340     0  Price is nearly everything - and nearly every ...   \n",
       "2   1312     0  We do not write articles to promote products. ...   \n",
       "3   4936     0  They were now theoretically worth north of a $...   \n",
       "4   1093     0  The solution  Susan explains she wishes to inv...   \n",
       "\n",
       "                              unique_id  \n",
       "0  b51542ef-e583-4551-aa90-9475f60bf65a  \n",
       "1  f05532da-f6f8-4287-9f11-9a4c7b9ef786  \n",
       "2  a6f3230a-4908-4715-b7e7-4355414e7347  \n",
       "3  c65800bc-5629-4ac9-9e80-5543bf786a51  \n",
       "4  a7b1153c-d802-4cb6-9e22-1208734ed909  "
      ]
     },
     "execution_count": 5,
     "metadata": {},
     "output_type": "execute_result"
    }
   ],
   "source": [
    "fincausal_trial_df = pd.read_csv(fincausal_trial_path)\n",
    "fincausal_trial_df.head()"
   ]
  },
  {
   "cell_type": "code",
   "execution_count": 6,
   "metadata": {},
   "outputs": [
    {
     "data": {
      "text/plain": [
       "(4227, 4)"
      ]
     },
     "execution_count": 6,
     "metadata": {},
     "output_type": "execute_result"
    }
   ],
   "source": [
    "fincausal_trial_df.shape"
   ]
  },
  {
   "cell_type": "code",
   "execution_count": 7,
   "metadata": {},
   "outputs": [
    {
     "data": {
      "text/plain": [
       "0    0.926425\n",
       "1    0.073575\n",
       "Name: Gold, dtype: float64"
      ]
     },
     "execution_count": 7,
     "metadata": {},
     "output_type": "execute_result"
    }
   ],
   "source": [
    "# what's the distribution of label?\n",
    "causal_distribution = fincausal_trial_df.Gold.value_counts() / len(fincausal_trial_df)\n",
    "causal_distribution"
   ]
  },
  {
   "cell_type": "code",
   "execution_count": 15,
   "metadata": {},
   "outputs": [
    {
     "data": {
      "text/plain": [
       "0    0.926442\n",
       "1    0.073558\n",
       "Name: causal, dtype: float64"
      ]
     },
     "execution_count": 15,
     "metadata": {},
     "output_type": "execute_result"
    }
   ],
   "source": [
    "# how many causal can I take from semeval?\n",
    "noncausal = ade_all_data_df.loc[ade_all_data_df.causal == 0]\n",
    "causal = ade_all_data_df.loc[ade_all_data_df.causal == 1]\n",
    "\n",
    "causal_resampled = causal.sample(n=int((causal_distribution[1]*100*len(semeval_noncausal))/(100-(causal_distribution[1]*100))))\n",
    "\n",
    "resampled = pd.concat([noncausal, causal_resampled])\n",
    "resampled.causal.value_counts() / len(resampled)"
   ]
  },
  {
   "cell_type": "code",
   "execution_count": 18,
   "metadata": {},
   "outputs": [
    {
     "data": {
      "text/html": [
       "<div>\n",
       "<style scoped>\n",
       "    .dataframe tbody tr th:only-of-type {\n",
       "        vertical-align: middle;\n",
       "    }\n",
       "\n",
       "    .dataframe tbody tr th {\n",
       "        vertical-align: top;\n",
       "    }\n",
       "\n",
       "    .dataframe thead th {\n",
       "        text-align: right;\n",
       "    }\n",
       "</style>\n",
       "<table border=\"1\" class=\"dataframe\">\n",
       "  <thead>\n",
       "    <tr style=\"text-align: right;\">\n",
       "      <th></th>\n",
       "      <th>Index</th>\n",
       "      <th>Text</th>\n",
       "      <th>Gold</th>\n",
       "      <th>unique_id</th>\n",
       "    </tr>\n",
       "  </thead>\n",
       "  <tbody>\n",
       "    <tr>\n",
       "      <th>0</th>\n",
       "      <td>None</td>\n",
       "      <td>At 1 year of age cardiovascular and renal func...</td>\n",
       "      <td>0</td>\n",
       "      <td>c90cf4cc-095c-4c18-bfe2-a30e19ebd2a3</td>\n",
       "    </tr>\n",
       "    <tr>\n",
       "      <th>2</th>\n",
       "      <td>None</td>\n",
       "      <td>Gingival hemorrhage, myelodysplastic syndromes...</td>\n",
       "      <td>0</td>\n",
       "      <td>2cea2cee-bee0-45b2-8c7f-7da94daa32dd</td>\n",
       "    </tr>\n",
       "    <tr>\n",
       "      <th>3</th>\n",
       "      <td>None</td>\n",
       "      <td>The development of safer and more effective me...</td>\n",
       "      <td>0</td>\n",
       "      <td>0c9c989d-bdb8-41f0-809e-e41b89f37887</td>\n",
       "    </tr>\n",
       "    <tr>\n",
       "      <th>4</th>\n",
       "      <td>None</td>\n",
       "      <td>Molluscum contagiosum is a common viral skin i...</td>\n",
       "      <td>0</td>\n",
       "      <td>db093a94-8956-4a12-802d-783db56fd298</td>\n",
       "    </tr>\n",
       "    <tr>\n",
       "      <th>5</th>\n",
       "      <td>None</td>\n",
       "      <td>Diagnosis requires CT scan and direct aspirati...</td>\n",
       "      <td>0</td>\n",
       "      <td>82fbc375-8fe5-4ea5-9b96-89ff2a5b07e1</td>\n",
       "    </tr>\n",
       "  </tbody>\n",
       "</table>\n",
       "</div>"
      ],
      "text/plain": [
       "  Index                                               Text  Gold  \\\n",
       "0  None  At 1 year of age cardiovascular and renal func...     0   \n",
       "2  None  Gingival hemorrhage, myelodysplastic syndromes...     0   \n",
       "3  None  The development of safer and more effective me...     0   \n",
       "4  None  Molluscum contagiosum is a common viral skin i...     0   \n",
       "5  None  Diagnosis requires CT scan and direct aspirati...     0   \n",
       "\n",
       "                              unique_id  \n",
       "0  c90cf4cc-095c-4c18-bfe2-a30e19ebd2a3  \n",
       "2  2cea2cee-bee0-45b2-8c7f-7da94daa32dd  \n",
       "3  0c9c989d-bdb8-41f0-809e-e41b89f37887  \n",
       "4  db093a94-8956-4a12-802d-783db56fd298  \n",
       "5  82fbc375-8fe5-4ea5-9b96-89ff2a5b07e1  "
      ]
     },
     "execution_count": 18,
     "metadata": {},
     "output_type": "execute_result"
    }
   ],
   "source": [
    "# combine both the datasets\n",
    "resampled_formatted_df = pd.DataFrame({\n",
    "    'Index': None,\n",
    "    'Text': resampled.sentences,\n",
    "    'Gold': resampled.causal,\n",
    "    'unique_id': [str(uuid.uuid4()) for _ in range(len(resampled))]\n",
    "})\n",
    "resampled_formatted_df.head()"
   ]
  },
  {
   "cell_type": "code",
   "execution_count": 19,
   "metadata": {},
   "outputs": [
    {
     "data": {
      "text/plain": [
       "0    0.926442\n",
       "1    0.073558\n",
       "Name: Gold, dtype: float64"
      ]
     },
     "execution_count": 19,
     "metadata": {},
     "output_type": "execute_result"
    }
   ],
   "source": [
    "resampled_formatted_df.Gold.value_counts() / len(resampled_formatted_df)"
   ]
  },
  {
   "cell_type": "code",
   "execution_count": 20,
   "metadata": {},
   "outputs": [
    {
     "data": {
      "text/plain": [
       "(22172, 4)"
      ]
     },
     "execution_count": 20,
     "metadata": {},
     "output_type": "execute_result"
    }
   ],
   "source": [
    "fincausal_task1_trial_combined_ade = pd.concat([fincausal_trial_df, resampled_formatted_df])\n",
    "fincausal_task1_trial_combined_ade.shape"
   ]
  },
  {
   "cell_type": "code",
   "execution_count": 21,
   "metadata": {},
   "outputs": [
    {
     "data": {
      "text/plain": [
       "0    0.926439\n",
       "1    0.073561\n",
       "Name: Gold, dtype: float64"
      ]
     },
     "execution_count": 21,
     "metadata": {},
     "output_type": "execute_result"
    }
   ],
   "source": [
    "fincausal_task1_trial_combined_ade.Gold.value_counts() / len(fincausal_task1_trial_combined_ade)"
   ]
  },
  {
   "cell_type": "code",
   "execution_count": 22,
   "metadata": {},
   "outputs": [],
   "source": [
    "fincausal_task1_trial_combined_ade.to_csv('/media/sarthak/HDD/data_science/fnp_resources/data/task1/trial/train_with_ade.csv', index=False)"
   ]
  }
 ],
 "metadata": {
  "kernelspec": {
   "display_name": "Python fnp",
   "language": "python",
   "name": "fnp"
  },
  "language_info": {
   "codemirror_mode": {
    "name": "ipython",
    "version": 3
   },
   "file_extension": ".py",
   "mimetype": "text/x-python",
   "name": "python",
   "nbconvert_exporter": "python",
   "pygments_lexer": "ipython3",
   "version": "3.6.7"
  }
 },
 "nbformat": 4,
 "nbformat_minor": 4
}
