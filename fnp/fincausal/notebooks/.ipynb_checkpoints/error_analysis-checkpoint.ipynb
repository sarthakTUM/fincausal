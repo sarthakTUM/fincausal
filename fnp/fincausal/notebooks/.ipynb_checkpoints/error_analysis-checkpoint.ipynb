{
 "cells": [
  {
   "cell_type": "code",
   "execution_count": 1,
   "metadata": {},
   "outputs": [],
   "source": [
    "import pandas as pd\n",
    "from pathlib import Path"
   ]
  },
  {
   "cell_type": "code",
   "execution_count": 4,
   "metadata": {},
   "outputs": [],
   "source": [
    "predictions_filepath = Path('//media/sarthak/HDD/data_science/fnp_resources/fincausal_t1_models/51_1/output/best_model/inference/predictions.csv')\n",
    "# predictions_9_iteration_1_path = Path('/media/sarthak/HDD/data_science/fnp_resources/fincausal_t1_models/9/iteration_1/output/best_model/inference/predictions.csv')"
   ]
  },
  {
   "cell_type": "code",
   "execution_count": 5,
   "metadata": {},
   "outputs": [],
   "source": [
    "predictions = pd.read_csv(predictions_filepath)\n",
    "# predictions_9_iteration_1 = pd.read_csv(predictions_9_iteration_1_path)"
   ]
  },
  {
   "cell_type": "code",
   "execution_count": 6,
   "metadata": {},
   "outputs": [
    {
     "data": {
      "text/html": [
       "<div>\n",
       "<style scoped>\n",
       "    .dataframe tbody tr th:only-of-type {\n",
       "        vertical-align: middle;\n",
       "    }\n",
       "\n",
       "    .dataframe tbody tr th {\n",
       "        vertical-align: top;\n",
       "    }\n",
       "\n",
       "    .dataframe thead th {\n",
       "        text-align: right;\n",
       "    }\n",
       "</style>\n",
       "<table border=\"1\" class=\"dataframe\">\n",
       "  <thead>\n",
       "    <tr style=\"text-align: right;\">\n",
       "      <th></th>\n",
       "      <th>Index</th>\n",
       "      <th>Text</th>\n",
       "      <th>Gold</th>\n",
       "      <th>Prediction</th>\n",
       "      <th>unique_id</th>\n",
       "    </tr>\n",
       "  </thead>\n",
       "  <tbody>\n",
       "    <tr>\n",
       "      <th>0</th>\n",
       "      <td>352.00039</td>\n",
       "      <td>One bit of advice Orton had for young finance ...</td>\n",
       "      <td>0</td>\n",
       "      <td>0</td>\n",
       "      <td>f56182ea-5095-4934-889c-f18c1a26134c</td>\n",
       "    </tr>\n",
       "    <tr>\n",
       "      <th>1</th>\n",
       "      <td>8.00001</td>\n",
       "      <td>President Muhammadu Buhari has disclosed that ...</td>\n",
       "      <td>1</td>\n",
       "      <td>1</td>\n",
       "      <td>06cc12f1-1df2-43ef-898a-85ebb29bdede</td>\n",
       "    </tr>\n",
       "    <tr>\n",
       "      <th>2</th>\n",
       "      <td>53.00010</td>\n",
       "      <td>Advent of compressed exhaust systems based on ...</td>\n",
       "      <td>0</td>\n",
       "      <td>0</td>\n",
       "      <td>a2705c77-271b-4870-b948-8b688657f39c</td>\n",
       "    </tr>\n",
       "    <tr>\n",
       "      <th>3</th>\n",
       "      <td>533.00022</td>\n",
       "      <td>Catholic leaders have also suggested the UK go...</td>\n",
       "      <td>0</td>\n",
       "      <td>0</td>\n",
       "      <td>7966c427-9695-4e2f-a098-a5d385d6e0c4</td>\n",
       "    </tr>\n",
       "    <tr>\n",
       "      <th>4</th>\n",
       "      <td>316.00040</td>\n",
       "      <td>(NasdaqGS:CME) is 66. A company with a value o...</td>\n",
       "      <td>0</td>\n",
       "      <td>0</td>\n",
       "      <td>14e3e218-9f6b-4949-96c7-62ca68598d55</td>\n",
       "    </tr>\n",
       "  </tbody>\n",
       "</table>\n",
       "</div>"
      ],
      "text/plain": [
       "       Index                                               Text  Gold  \\\n",
       "0  352.00039  One bit of advice Orton had for young finance ...     0   \n",
       "1    8.00001  President Muhammadu Buhari has disclosed that ...     1   \n",
       "2   53.00010  Advent of compressed exhaust systems based on ...     0   \n",
       "3  533.00022  Catholic leaders have also suggested the UK go...     0   \n",
       "4  316.00040  (NasdaqGS:CME) is 66. A company with a value o...     0   \n",
       "\n",
       "   Prediction                             unique_id  \n",
       "0           0  f56182ea-5095-4934-889c-f18c1a26134c  \n",
       "1           1  06cc12f1-1df2-43ef-898a-85ebb29bdede  \n",
       "2           0  a2705c77-271b-4870-b948-8b688657f39c  \n",
       "3           0  7966c427-9695-4e2f-a098-a5d385d6e0c4  \n",
       "4           0  14e3e218-9f6b-4949-96c7-62ca68598d55  "
      ]
     },
     "execution_count": 6,
     "metadata": {},
     "output_type": "execute_result"
    }
   ],
   "source": [
    "predictions.head()"
   ]
  },
  {
   "cell_type": "code",
   "execution_count": 9,
   "metadata": {},
   "outputs": [
    {
     "data": {
      "text/html": [
       "<div>\n",
       "<style scoped>\n",
       "    .dataframe tbody tr th:only-of-type {\n",
       "        vertical-align: middle;\n",
       "    }\n",
       "\n",
       "    .dataframe tbody tr th {\n",
       "        vertical-align: top;\n",
       "    }\n",
       "\n",
       "    .dataframe thead th {\n",
       "        text-align: right;\n",
       "    }\n",
       "</style>\n",
       "<table border=\"1\" class=\"dataframe\">\n",
       "  <thead>\n",
       "    <tr style=\"text-align: right;\">\n",
       "      <th></th>\n",
       "      <th>Index</th>\n",
       "      <th>Text</th>\n",
       "      <th>Gold</th>\n",
       "      <th>Prediction</th>\n",
       "      <th>unique_id</th>\n",
       "    </tr>\n",
       "  </thead>\n",
       "  <tbody>\n",
       "    <tr>\n",
       "      <th>17</th>\n",
       "      <td>544.00031</td>\n",
       "      <td>This is:- 1. IRP and liquidation costs 2. Work...</td>\n",
       "      <td>0</td>\n",
       "      <td>1</td>\n",
       "      <td>203c03f1-1db1-4671-8b81-f94442679134</td>\n",
       "    </tr>\n",
       "    <tr>\n",
       "      <th>47</th>\n",
       "      <td>403.00009</td>\n",
       "      <td>The San Antonio Economic Development Foundatio...</td>\n",
       "      <td>0</td>\n",
       "      <td>1</td>\n",
       "      <td>16516ba0-710a-4cf1-b5d5-3a24f9593962</td>\n",
       "    </tr>\n",
       "    <tr>\n",
       "      <th>59</th>\n",
       "      <td>323.00098</td>\n",
       "      <td>High street stalwart Next reported a rise in p...</td>\n",
       "      <td>0</td>\n",
       "      <td>1</td>\n",
       "      <td>b649f39f-c262-4c5e-9a71-562289589bf2</td>\n",
       "    </tr>\n",
       "    <tr>\n",
       "      <th>103</th>\n",
       "      <td>21.00003</td>\n",
       "      <td>More than half of the property is rented on th...</td>\n",
       "      <td>0</td>\n",
       "      <td>1</td>\n",
       "      <td>cd20eb77-16f7-4868-a098-925c6bac5340</td>\n",
       "    </tr>\n",
       "    <tr>\n",
       "      <th>108</th>\n",
       "      <td>171.00035</td>\n",
       "      <td>For those retiring early, at age 62, the maxim...</td>\n",
       "      <td>1</td>\n",
       "      <td>0</td>\n",
       "      <td>acde9d96-2fb4-4bf3-97c9-38dbd0c804f3</td>\n",
       "    </tr>\n",
       "  </tbody>\n",
       "</table>\n",
       "</div>"
      ],
      "text/plain": [
       "         Index                                               Text  Gold  \\\n",
       "17   544.00031  This is:- 1. IRP and liquidation costs 2. Work...     0   \n",
       "47   403.00009  The San Antonio Economic Development Foundatio...     0   \n",
       "59   323.00098  High street stalwart Next reported a rise in p...     0   \n",
       "103   21.00003  More than half of the property is rented on th...     0   \n",
       "108  171.00035  For those retiring early, at age 62, the maxim...     1   \n",
       "\n",
       "     Prediction                             unique_id  \n",
       "17            1  203c03f1-1db1-4671-8b81-f94442679134  \n",
       "47            1  16516ba0-710a-4cf1-b5d5-3a24f9593962  \n",
       "59            1  b649f39f-c262-4c5e-9a71-562289589bf2  \n",
       "103           1  cd20eb77-16f7-4868-a098-925c6bac5340  \n",
       "108           0  acde9d96-2fb4-4bf3-97c9-38dbd0c804f3  "
      ]
     },
     "execution_count": 9,
     "metadata": {},
     "output_type": "execute_result"
    }
   ],
   "source": [
    "# locate errors\n",
    "errors = predictions.loc[predictions.Gold != predictions.Prediction]\n",
    "errors.head()"
   ]
  },
  {
   "cell_type": "code",
   "execution_count": 26,
   "metadata": {},
   "outputs": [],
   "source": [
    "random_idx = 15"
   ]
  },
  {
   "cell_type": "code",
   "execution_count": 28,
   "metadata": {},
   "outputs": [
    {
     "data": {
      "text/plain": [
       "(' Page 211 of the report states: The Dutch tax authority has issued a number of assessments on various issues across the years 2003 to 2016 in relation to various intra-group transactions. The assessments amount to an aggregate net liability across these periods of £902m covering tax, interest and penalties.',\n",
       " 1,\n",
       " 0,\n",
       " 52.00011)"
      ]
     },
     "execution_count": 28,
     "metadata": {},
     "output_type": "execute_result"
    }
   ],
   "source": [
    "errors_8.iloc[random_idx].Text, errors_8.iloc[random_idx].Gold, errors_8.iloc[random_idx].Prediction, errors_8.iloc[random_idx].Index"
   ]
  }
 ],
 "metadata": {
  "kernelspec": {
   "display_name": "Python fnp",
   "language": "python",
   "name": "fnp"
  },
  "language_info": {
   "codemirror_mode": {
    "name": "ipython",
    "version": 3
   },
   "file_extension": ".py",
   "mimetype": "text/x-python",
   "name": "python",
   "nbconvert_exporter": "python",
   "pygments_lexer": "ipython3",
   "version": "3.6.7"
  }
 },
 "nbformat": 4,
 "nbformat_minor": 4
}
