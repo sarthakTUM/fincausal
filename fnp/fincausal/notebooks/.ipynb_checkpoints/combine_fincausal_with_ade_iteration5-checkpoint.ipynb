{
 "cells": [
  {
   "cell_type": "code",
   "execution_count": null,
   "metadata": {},
   "outputs": [],
   "source": [
    "import pandas as pd\n",
    "from pathlib import Path\n",
    "import uuid"
   ]
  },
  {
   "cell_type": "code",
   "execution_count": null,
   "metadata": {},
   "outputs": [],
   "source": [
    "fincausal_task1_train_path = Path('/media/sarthak/HDD/data_science/fnp_resources/data/task1/iteration_5/train.csv')\n",
    "ade_all_data_path = Path('/media/sarthak/HDD/data_science/fnp_resources/data/extra/ade.csv')"
   ]
  },
  {
   "cell_type": "code",
   "execution_count": null,
   "metadata": {},
   "outputs": [],
   "source": [
    "ade_df = pd.read_csv(ade_all_data_path)\n",
    "ade_df.head()"
   ]
  },
  {
   "cell_type": "code",
   "execution_count": null,
   "metadata": {},
   "outputs": [],
   "source": [
    "ade_df.shape"
   ]
  },
  {
   "cell_type": "code",
   "execution_count": null,
   "metadata": {},
   "outputs": [],
   "source": [
    "fincausal_task1_train_df = pd.read_csv(fincausal_task1_train_path)\n",
    "fincausal_task1_train_df.head()"
   ]
  },
  {
   "cell_type": "code",
   "execution_count": null,
   "metadata": {},
   "outputs": [],
   "source": [
    "fincausal_task1_train_df.shape"
   ]
  },
  {
   "cell_type": "code",
   "execution_count": null,
   "metadata": {},
   "outputs": [],
   "source": [
    "# what's the distribution of label?\n",
    "causal_distribution = fincausal_task1_train_df.Gold.value_counts() / len(fincausal_task1_train_df)\n",
    "causal_distribution"
   ]
  },
  {
   "cell_type": "code",
   "execution_count": null,
   "metadata": {},
   "outputs": [],
   "source": [
    "# how many causal can I take from semeval?\n",
    "ade_noncausal = ade_df.loc[ade_df.causal == 0]\n",
    "ade_causal = ade_df.loc[ade_df.causal == 1]\n",
    "\n",
    "ade_causal_resampled = ade_causal.sample(n=int((causal_distribution[1]*100*len(ade_noncausal))/(100-(causal_distribution[1]*100))))\n",
    "\n",
    "ade_resampled = pd.concat([ade_noncausal, ade_causal_resampled])\n",
    "ade_resampled.causal.value_counts() / len(ade_resampled)"
   ]
  },
  {
   "cell_type": "code",
   "execution_count": null,
   "metadata": {},
   "outputs": [],
   "source": [
    "# combine both the datasets\n",
    "ade_resampled_formatted_df = pd.DataFrame({\n",
    "    'Index': None,\n",
    "    'Text': ade_resampled.sentences,\n",
    "    'Gold': ade_resampled.causal,\n",
    "    'unique_id': [str(uuid.uuid4()) for _ in range(len(ade_resampled))]\n",
    "})\n",
    "ade_resampled_formatted_df.head()"
   ]
  },
  {
   "cell_type": "code",
   "execution_count": null,
   "metadata": {},
   "outputs": [],
   "source": [
    "ade_resampled_formatted_df.Gold.value_counts() / len(ade_resampled_formatted_df)"
   ]
  },
  {
   "cell_type": "code",
   "execution_count": null,
   "metadata": {},
   "outputs": [],
   "source": [
    "fincausal_task1_train_combined_ade = pd.concat([fincausal_task1_train_df, ade_resampled_formatted_df])\n",
    "fincausal_task1_train_combined_ade.shape"
   ]
  },
  {
   "cell_type": "code",
   "execution_count": null,
   "metadata": {},
   "outputs": [],
   "source": [
    "fincausal_task1_train_combined_ade.Gold.value_counts() / len(fincausal_task1_train_combined_ade)"
   ]
  },
  {
   "cell_type": "code",
   "execution_count": null,
   "metadata": {},
   "outputs": [],
   "source": [
    "fincausal_task1_train_combined_ade.to_csv('/media/sarthak/HDD/data_science/fnp_resources/data/task1/iteration_5_with_ade/train_with_ade.csv', index=False)"
   ]
  }
 ],
 "metadata": {
  "kernelspec": {
   "display_name": "Python fnp",
   "language": "python",
   "name": "fnp"
  },
  "language_info": {
   "codemirror_mode": {
    "name": "ipython",
    "version": 3
   },
   "file_extension": ".py",
   "mimetype": "text/x-python",
   "name": "python",
   "nbconvert_exporter": "python",
   "pygments_lexer": "ipython3",
   "version": "3.6.7"
  }
 },
 "nbformat": 4,
 "nbformat_minor": 4
}
