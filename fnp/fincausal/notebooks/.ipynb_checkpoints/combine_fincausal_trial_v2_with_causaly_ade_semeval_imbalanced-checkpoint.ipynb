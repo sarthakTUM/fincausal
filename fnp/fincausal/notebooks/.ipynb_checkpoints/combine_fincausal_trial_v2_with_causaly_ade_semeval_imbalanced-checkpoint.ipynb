{
 "cells": [
  {
   "cell_type": "code",
   "execution_count": 1,
   "metadata": {},
   "outputs": [],
   "source": [
    "import pandas as pd\n",
    "from pathlib import Path\n",
    "import uuid"
   ]
  },
  {
   "cell_type": "code",
   "execution_count": 5,
   "metadata": {},
   "outputs": [],
   "source": [
    "fincausal_path = Path('/media/sarthak/HDD/data_science/fnp_resources/data/task1/train_on_trial_and_test_on_practice/train.csv')\n",
    "ade_path = Path('/media/sarthak/HDD/data_science/fnp_resources/data/extra/ade.csv')\n",
    "causaly_path = Path('/media/sarthak/HDD/data_science/fnp_resources/data/extra/causaly.csv')\n",
    "semeval_path = Path('/media/sarthak/HDD/data_science/fnp_resources/data/extra/semeval.csv')"
   ]
  },
  {
   "cell_type": "code",
   "execution_count": 11,
   "metadata": {},
   "outputs": [],
   "source": [
    "causaly_df = pd.read_csv(causaly_path)\n",
    "ade_df = pd.read_csv(ade_path)\n",
    "fincausal_df = pd.read_csv(fincausal_path)\n",
    "semeval_df = pd.read_csv(semeval_path)"
   ]
  },
  {
   "cell_type": "code",
   "execution_count": 12,
   "metadata": {},
   "outputs": [
    {
     "data": {
      "text/html": [
       "<div>\n",
       "<style scoped>\n",
       "    .dataframe tbody tr th:only-of-type {\n",
       "        vertical-align: middle;\n",
       "    }\n",
       "\n",
       "    .dataframe tbody tr th {\n",
       "        vertical-align: top;\n",
       "    }\n",
       "\n",
       "    .dataframe thead th {\n",
       "        text-align: right;\n",
       "    }\n",
       "</style>\n",
       "<table border=\"1\" class=\"dataframe\">\n",
       "  <thead>\n",
       "    <tr style=\"text-align: right;\">\n",
       "      <th></th>\n",
       "      <th>Index</th>\n",
       "      <th>Text</th>\n",
       "      <th>Gold</th>\n",
       "      <th>unique_id</th>\n",
       "    </tr>\n",
       "  </thead>\n",
       "  <tbody>\n",
       "    <tr>\n",
       "      <th>0</th>\n",
       "      <td>None</td>\n",
       "      <td>Results indicated that boys with ADHD , relati...</td>\n",
       "      <td>1</td>\n",
       "      <td>65026847-9627-4ac0-8e0d-3dbb5e0f54fe</td>\n",
       "    </tr>\n",
       "    <tr>\n",
       "      <th>1</th>\n",
       "      <td>None</td>\n",
       "      <td>Ticagrelor appears to provide higher value for...</td>\n",
       "      <td>0</td>\n",
       "      <td>68c8d30f-400c-4418-9cfb-b05a7ee6866c</td>\n",
       "    </tr>\n",
       "    <tr>\n",
       "      <th>2</th>\n",
       "      <td>None</td>\n",
       "      <td>Whatever the mechanism , active smoking is an ...</td>\n",
       "      <td>1</td>\n",
       "      <td>21e8eb43-717c-4c75-9af1-97ce57ba0455</td>\n",
       "    </tr>\n",
       "    <tr>\n",
       "      <th>3</th>\n",
       "      <td>None</td>\n",
       "      <td>In this study , we examined whether use of an ...</td>\n",
       "      <td>0</td>\n",
       "      <td>49928c5b-f63b-41cf-ab07-0b7b4b838f9b</td>\n",
       "    </tr>\n",
       "    <tr>\n",
       "      <th>4</th>\n",
       "      <td>None</td>\n",
       "      <td>Using causal inference testing , we searched c...</td>\n",
       "      <td>0</td>\n",
       "      <td>c2c9916a-3bb4-442b-8ae6-35269dff3bad</td>\n",
       "    </tr>\n",
       "  </tbody>\n",
       "</table>\n",
       "</div>"
      ],
      "text/plain": [
       "  Index                                               Text  Gold  \\\n",
       "0  None  Results indicated that boys with ADHD , relati...     1   \n",
       "1  None  Ticagrelor appears to provide higher value for...     0   \n",
       "2  None  Whatever the mechanism , active smoking is an ...     1   \n",
       "3  None  In this study , we examined whether use of an ...     0   \n",
       "4  None  Using causal inference testing , we searched c...     0   \n",
       "\n",
       "                              unique_id  \n",
       "0  65026847-9627-4ac0-8e0d-3dbb5e0f54fe  \n",
       "1  68c8d30f-400c-4418-9cfb-b05a7ee6866c  \n",
       "2  21e8eb43-717c-4c75-9af1-97ce57ba0455  \n",
       "3  49928c5b-f63b-41cf-ab07-0b7b4b838f9b  \n",
       "4  c2c9916a-3bb4-442b-8ae6-35269dff3bad  "
      ]
     },
     "execution_count": 12,
     "metadata": {},
     "output_type": "execute_result"
    }
   ],
   "source": [
    "causaly_df = pd.DataFrame({\n",
    "    'Index': None,\n",
    "    'Text': causaly_df.sentence,\n",
    "    'Gold': causaly_df.causal,\n",
    "    'unique_id': [str(uuid.uuid4()) for _ in range(len(causaly_df))]\n",
    "})\n",
    "causaly_df.head()"
   ]
  },
  {
   "cell_type": "code",
   "execution_count": 13,
   "metadata": {},
   "outputs": [
    {
     "data": {
      "text/html": [
       "<div>\n",
       "<style scoped>\n",
       "    .dataframe tbody tr th:only-of-type {\n",
       "        vertical-align: middle;\n",
       "    }\n",
       "\n",
       "    .dataframe tbody tr th {\n",
       "        vertical-align: top;\n",
       "    }\n",
       "\n",
       "    .dataframe thead th {\n",
       "        text-align: right;\n",
       "    }\n",
       "</style>\n",
       "<table border=\"1\" class=\"dataframe\">\n",
       "  <thead>\n",
       "    <tr style=\"text-align: right;\">\n",
       "      <th></th>\n",
       "      <th>Index</th>\n",
       "      <th>Text</th>\n",
       "      <th>Gold</th>\n",
       "      <th>unique_id</th>\n",
       "    </tr>\n",
       "  </thead>\n",
       "  <tbody>\n",
       "    <tr>\n",
       "      <th>0</th>\n",
       "      <td>None</td>\n",
       "      <td>At 1 year of age cardiovascular and renal func...</td>\n",
       "      <td>0</td>\n",
       "      <td>66cb0b48-34c8-444b-b5a2-cff680801152</td>\n",
       "    </tr>\n",
       "    <tr>\n",
       "      <th>1</th>\n",
       "      <td>None</td>\n",
       "      <td>Chlorambucil-induced chromosome damage to huma...</td>\n",
       "      <td>1</td>\n",
       "      <td>8970e753-bd8c-4813-bf2b-1324ca9037ca</td>\n",
       "    </tr>\n",
       "    <tr>\n",
       "      <th>2</th>\n",
       "      <td>None</td>\n",
       "      <td>Gingival hemorrhage, myelodysplastic syndromes...</td>\n",
       "      <td>0</td>\n",
       "      <td>addc7790-68a9-4058-a073-ee26b55256f9</td>\n",
       "    </tr>\n",
       "    <tr>\n",
       "      <th>3</th>\n",
       "      <td>None</td>\n",
       "      <td>The development of safer and more effective me...</td>\n",
       "      <td>0</td>\n",
       "      <td>10bb2b75-1a15-460b-8592-409fbf77af99</td>\n",
       "    </tr>\n",
       "    <tr>\n",
       "      <th>4</th>\n",
       "      <td>None</td>\n",
       "      <td>Molluscum contagiosum is a common viral skin i...</td>\n",
       "      <td>0</td>\n",
       "      <td>7df78f9a-073d-4f83-9216-ed8f36fa7499</td>\n",
       "    </tr>\n",
       "  </tbody>\n",
       "</table>\n",
       "</div>"
      ],
      "text/plain": [
       "  Index                                               Text  Gold  \\\n",
       "0  None  At 1 year of age cardiovascular and renal func...     0   \n",
       "1  None  Chlorambucil-induced chromosome damage to huma...     1   \n",
       "2  None  Gingival hemorrhage, myelodysplastic syndromes...     0   \n",
       "3  None  The development of safer and more effective me...     0   \n",
       "4  None  Molluscum contagiosum is a common viral skin i...     0   \n",
       "\n",
       "                              unique_id  \n",
       "0  66cb0b48-34c8-444b-b5a2-cff680801152  \n",
       "1  8970e753-bd8c-4813-bf2b-1324ca9037ca  \n",
       "2  addc7790-68a9-4058-a073-ee26b55256f9  \n",
       "3  10bb2b75-1a15-460b-8592-409fbf77af99  \n",
       "4  7df78f9a-073d-4f83-9216-ed8f36fa7499  "
      ]
     },
     "execution_count": 13,
     "metadata": {},
     "output_type": "execute_result"
    }
   ],
   "source": [
    "ade_df = pd.DataFrame({\n",
    "    'Index': None,\n",
    "    'Text': ade_df.sentences,\n",
    "    'Gold': ade_df.causal,\n",
    "    'unique_id': [str(uuid.uuid4()) for _ in range(len(ade_df))]\n",
    "})\n",
    "ade_df.head()"
   ]
  },
  {
   "cell_type": "code",
   "execution_count": 14,
   "metadata": {},
   "outputs": [
    {
     "data": {
      "text/html": [
       "<div>\n",
       "<style scoped>\n",
       "    .dataframe tbody tr th:only-of-type {\n",
       "        vertical-align: middle;\n",
       "    }\n",
       "\n",
       "    .dataframe tbody tr th {\n",
       "        vertical-align: top;\n",
       "    }\n",
       "\n",
       "    .dataframe thead th {\n",
       "        text-align: right;\n",
       "    }\n",
       "</style>\n",
       "<table border=\"1\" class=\"dataframe\">\n",
       "  <thead>\n",
       "    <tr style=\"text-align: right;\">\n",
       "      <th></th>\n",
       "      <th>Index</th>\n",
       "      <th>Text</th>\n",
       "      <th>Gold</th>\n",
       "      <th>unique_id</th>\n",
       "    </tr>\n",
       "  </thead>\n",
       "  <tbody>\n",
       "    <tr>\n",
       "      <th>0</th>\n",
       "      <td>None</td>\n",
       "      <td>The system as described above has its greatest...</td>\n",
       "      <td>0</td>\n",
       "      <td>fc20b388-0775-42e7-bbf4-de79869dd442</td>\n",
       "    </tr>\n",
       "    <tr>\n",
       "      <th>1</th>\n",
       "      <td>None</td>\n",
       "      <td>The child was carefully wrapped and bound into...</td>\n",
       "      <td>0</td>\n",
       "      <td>133753ab-4fe7-45b8-884d-05d5715908d7</td>\n",
       "    </tr>\n",
       "    <tr>\n",
       "      <th>2</th>\n",
       "      <td>None</td>\n",
       "      <td>The author of a keygen uses a disassembler to ...</td>\n",
       "      <td>0</td>\n",
       "      <td>1715c840-4439-4c1b-9a59-d8a4efa9b90f</td>\n",
       "    </tr>\n",
       "    <tr>\n",
       "      <th>3</th>\n",
       "      <td>None</td>\n",
       "      <td>A misty ridge uprises from the surge.</td>\n",
       "      <td>0</td>\n",
       "      <td>4f64626f-2e64-41fd-90bf-3dcf557efbb0</td>\n",
       "    </tr>\n",
       "    <tr>\n",
       "      <th>4</th>\n",
       "      <td>None</td>\n",
       "      <td>The student association is the voice of the un...</td>\n",
       "      <td>0</td>\n",
       "      <td>b9055904-cc61-4f56-a35f-7ee5ecbcff45</td>\n",
       "    </tr>\n",
       "  </tbody>\n",
       "</table>\n",
       "</div>"
      ],
      "text/plain": [
       "  Index                                               Text  Gold  \\\n",
       "0  None  The system as described above has its greatest...     0   \n",
       "1  None  The child was carefully wrapped and bound into...     0   \n",
       "2  None  The author of a keygen uses a disassembler to ...     0   \n",
       "3  None              A misty ridge uprises from the surge.     0   \n",
       "4  None  The student association is the voice of the un...     0   \n",
       "\n",
       "                              unique_id  \n",
       "0  fc20b388-0775-42e7-bbf4-de79869dd442  \n",
       "1  133753ab-4fe7-45b8-884d-05d5715908d7  \n",
       "2  1715c840-4439-4c1b-9a59-d8a4efa9b90f  \n",
       "3  4f64626f-2e64-41fd-90bf-3dcf557efbb0  \n",
       "4  b9055904-cc61-4f56-a35f-7ee5ecbcff45  "
      ]
     },
     "execution_count": 14,
     "metadata": {},
     "output_type": "execute_result"
    }
   ],
   "source": [
    "semeval_df = pd.DataFrame({\n",
    "    'Index': None,\n",
    "    'Text': semeval_df.sentence,\n",
    "    'Gold': semeval_df.causal,\n",
    "    'unique_id': [str(uuid.uuid4()) for _ in range(len(semeval_df))]\n",
    "})\n",
    "semeval_df.head()"
   ]
  },
  {
   "cell_type": "code",
   "execution_count": 21,
   "metadata": {},
   "outputs": [
    {
     "data": {
      "text/plain": [
       "(40515, 4)"
      ]
     },
     "execution_count": 21,
     "metadata": {},
     "output_type": "execute_result"
    }
   ],
   "source": [
    "merged_df = pd.concat([fincausal_df, causaly_df, ade_df, semeval_df])\n",
    "merged_df.shape"
   ]
  },
  {
   "cell_type": "code",
   "execution_count": 22,
   "metadata": {},
   "outputs": [
    {
     "data": {
      "text/html": [
       "<div>\n",
       "<style scoped>\n",
       "    .dataframe tbody tr th:only-of-type {\n",
       "        vertical-align: middle;\n",
       "    }\n",
       "\n",
       "    .dataframe tbody tr th {\n",
       "        vertical-align: top;\n",
       "    }\n",
       "\n",
       "    .dataframe thead th {\n",
       "        text-align: right;\n",
       "    }\n",
       "</style>\n",
       "<table border=\"1\" class=\"dataframe\">\n",
       "  <thead>\n",
       "    <tr style=\"text-align: right;\">\n",
       "      <th></th>\n",
       "      <th>Index</th>\n",
       "      <th>Text</th>\n",
       "      <th>Gold</th>\n",
       "      <th>unique_id</th>\n",
       "    </tr>\n",
       "  </thead>\n",
       "  <tbody>\n",
       "    <tr>\n",
       "      <th>0</th>\n",
       "      <td>115</td>\n",
       "      <td>Seeking Alpha  ETF Analysis  |  About: Global...</td>\n",
       "      <td>0</td>\n",
       "      <td>59aabda8-b867-43eb-bb6d-c9ba59fb8025</td>\n",
       "    </tr>\n",
       "    <tr>\n",
       "      <th>1</th>\n",
       "      <td>330</td>\n",
       "      <td>Options for clients concerned about how IHT l...</td>\n",
       "      <td>0</td>\n",
       "      <td>90866e7b-1440-4d65-a333-17389c1a3705</td>\n",
       "    </tr>\n",
       "    <tr>\n",
       "      <th>2</th>\n",
       "      <td>315</td>\n",
       "      <td>Cackley said that figure indicates loan servi...</td>\n",
       "      <td>0</td>\n",
       "      <td>dbbd03a4-2b62-4f99-bc0b-597a64f2ce60</td>\n",
       "    </tr>\n",
       "    <tr>\n",
       "      <th>3</th>\n",
       "      <td>184</td>\n",
       "      <td>A taxpayer has normally been required to file...</td>\n",
       "      <td>0</td>\n",
       "      <td>72440cd6-7729-4337-b476-3d0b29eec078</td>\n",
       "    </tr>\n",
       "    <tr>\n",
       "      <th>4</th>\n",
       "      <td>241</td>\n",
       "      <td>I was excited to listen…and thanks to Paula f...</td>\n",
       "      <td>0</td>\n",
       "      <td>ed17a935-0095-4b3b-99f6-9798c32d5b68</td>\n",
       "    </tr>\n",
       "  </tbody>\n",
       "</table>\n",
       "</div>"
      ],
      "text/plain": [
       "  Index                                               Text  Gold  \\\n",
       "0   115   Seeking Alpha  ETF Analysis  |  About: Global...     0   \n",
       "1   330   Options for clients concerned about how IHT l...     0   \n",
       "2   315   Cackley said that figure indicates loan servi...     0   \n",
       "3   184   A taxpayer has normally been required to file...     0   \n",
       "4   241   I was excited to listen…and thanks to Paula f...     0   \n",
       "\n",
       "                              unique_id  \n",
       "0  59aabda8-b867-43eb-bb6d-c9ba59fb8025  \n",
       "1  90866e7b-1440-4d65-a333-17389c1a3705  \n",
       "2  dbbd03a4-2b62-4f99-bc0b-597a64f2ce60  \n",
       "3  72440cd6-7729-4337-b476-3d0b29eec078  \n",
       "4  ed17a935-0095-4b3b-99f6-9798c32d5b68  "
      ]
     },
     "execution_count": 22,
     "metadata": {},
     "output_type": "execute_result"
    }
   ],
   "source": [
    "merged_df.head()"
   ]
  },
  {
   "cell_type": "code",
   "execution_count": 23,
   "metadata": {},
   "outputs": [
    {
     "data": {
      "text/plain": [
       "0    0.822954\n",
       "1    0.177046\n",
       "Name: Gold, dtype: float64"
      ]
     },
     "execution_count": 23,
     "metadata": {},
     "output_type": "execute_result"
    }
   ],
   "source": [
    "merged_df.Gold.value_counts() / len(merged_df)"
   ]
  },
  {
   "cell_type": "code",
   "execution_count": 24,
   "metadata": {},
   "outputs": [],
   "source": [
    "merged_df = merged_df.sample(frac=1)"
   ]
  },
  {
   "cell_type": "code",
   "execution_count": 25,
   "metadata": {},
   "outputs": [
    {
     "data": {
      "text/html": [
       "<div>\n",
       "<style scoped>\n",
       "    .dataframe tbody tr th:only-of-type {\n",
       "        vertical-align: middle;\n",
       "    }\n",
       "\n",
       "    .dataframe tbody tr th {\n",
       "        vertical-align: top;\n",
       "    }\n",
       "\n",
       "    .dataframe thead th {\n",
       "        text-align: right;\n",
       "    }\n",
       "</style>\n",
       "<table border=\"1\" class=\"dataframe\">\n",
       "  <thead>\n",
       "    <tr style=\"text-align: right;\">\n",
       "      <th></th>\n",
       "      <th>Index</th>\n",
       "      <th>Text</th>\n",
       "      <th>Gold</th>\n",
       "      <th>unique_id</th>\n",
       "    </tr>\n",
       "  </thead>\n",
       "  <tbody>\n",
       "    <tr>\n",
       "      <th>10985</th>\n",
       "      <td>None</td>\n",
       "      <td>In one patient, interferon induced hypothyroid...</td>\n",
       "      <td>0</td>\n",
       "      <td>1510ee39-111d-4fc6-b625-5a006fbae54a</td>\n",
       "    </tr>\n",
       "    <tr>\n",
       "      <th>15459</th>\n",
       "      <td>None</td>\n",
       "      <td>In the absence of palpable cysticerci, the cli...</td>\n",
       "      <td>0</td>\n",
       "      <td>8f1836cd-251d-49b1-a7ab-229b5492eda0</td>\n",
       "    </tr>\n",
       "    <tr>\n",
       "      <th>6093</th>\n",
       "      <td>112</td>\n",
       "      <td>(39%) and another minority shareholder. About...</td>\n",
       "      <td>0</td>\n",
       "      <td>8729b5c2-0a20-4df3-8489-dd3e38e7e651</td>\n",
       "    </tr>\n",
       "    <tr>\n",
       "      <th>11408</th>\n",
       "      <td>None</td>\n",
       "      <td>Improvements in quality of life following trea...</td>\n",
       "      <td>0</td>\n",
       "      <td>bce4a09d-16d9-4332-975b-8d87db8673b5</td>\n",
       "    </tr>\n",
       "    <tr>\n",
       "      <th>637</th>\n",
       "      <td>None</td>\n",
       "      <td>Occlusion of the right brachial and right femo...</td>\n",
       "      <td>0</td>\n",
       "      <td>7bbc8d9a-f1ea-49c4-b219-0aa111b64692</td>\n",
       "    </tr>\n",
       "  </tbody>\n",
       "</table>\n",
       "</div>"
      ],
      "text/plain": [
       "      Index                                               Text  Gold  \\\n",
       "10985  None  In one patient, interferon induced hypothyroid...     0   \n",
       "15459  None  In the absence of palpable cysticerci, the cli...     0   \n",
       "6093    112   (39%) and another minority shareholder. About...     0   \n",
       "11408  None  Improvements in quality of life following trea...     0   \n",
       "637    None  Occlusion of the right brachial and right femo...     0   \n",
       "\n",
       "                                  unique_id  \n",
       "10985  1510ee39-111d-4fc6-b625-5a006fbae54a  \n",
       "15459  8f1836cd-251d-49b1-a7ab-229b5492eda0  \n",
       "6093   8729b5c2-0a20-4df3-8489-dd3e38e7e651  \n",
       "11408  bce4a09d-16d9-4332-975b-8d87db8673b5  \n",
       "637    7bbc8d9a-f1ea-49c4-b219-0aa111b64692  "
      ]
     },
     "execution_count": 25,
     "metadata": {},
     "output_type": "execute_result"
    }
   ],
   "source": [
    "merged_df.head()"
   ]
  },
  {
   "cell_type": "code",
   "execution_count": 26,
   "metadata": {},
   "outputs": [],
   "source": [
    "merged_df.to_csv('/media/sarthak/HDD/data_science/fnp_resources/data/task1/train_on_trial_and_test_on_practice/train_with_semeval_causal_ade_imbalanced.csv', index=False)"
   ]
  }
 ],
 "metadata": {
  "kernelspec": {
   "display_name": "Python fnp",
   "language": "python",
   "name": "fnp"
  },
  "language_info": {
   "codemirror_mode": {
    "name": "ipython",
    "version": 3
   },
   "file_extension": ".py",
   "mimetype": "text/x-python",
   "name": "python",
   "nbconvert_exporter": "python",
   "pygments_lexer": "ipython3",
   "version": "3.6.7"
  }
 },
 "nbformat": 4,
 "nbformat_minor": 4
}
