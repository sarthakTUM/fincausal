{
 "cells": [
  {
   "cell_type": "code",
   "execution_count": 1,
   "metadata": {},
   "outputs": [],
   "source": [
    "import pandas as pd\n",
    "import numpy as np\n",
    "from pathlib import Path"
   ]
  },
  {
   "cell_type": "code",
   "execution_count": 2,
   "metadata": {},
   "outputs": [],
   "source": [
    "train_path = Path('/media/sarthak/HDD/data_science/fnp_resources/data/task1/train_on_trial_test_on_practice_v2/train.csv')\n",
    "dev_path = Path('/media/sarthak/HDD/data_science/fnp_resources/data/task1/train_on_trial_test_on_practice_v2/dev.csv')"
   ]
  },
  {
   "cell_type": "code",
   "execution_count": 5,
   "metadata": {},
   "outputs": [],
   "source": [
    "train_df = pd.read_csv(train_path)\n",
    "dev_df = pd.read_csv(dev_path)"
   ]
  },
  {
   "cell_type": "code",
   "execution_count": 6,
   "metadata": {},
   "outputs": [
    {
     "data": {
      "text/html": [
       "<div>\n",
       "<style scoped>\n",
       "    .dataframe tbody tr th:only-of-type {\n",
       "        vertical-align: middle;\n",
       "    }\n",
       "\n",
       "    .dataframe tbody tr th {\n",
       "        vertical-align: top;\n",
       "    }\n",
       "\n",
       "    .dataframe thead th {\n",
       "        text-align: right;\n",
       "    }\n",
       "</style>\n",
       "<table border=\"1\" class=\"dataframe\">\n",
       "  <thead>\n",
       "    <tr style=\"text-align: right;\">\n",
       "      <th></th>\n",
       "      <th>Index</th>\n",
       "      <th>Text</th>\n",
       "      <th>Gold</th>\n",
       "      <th>unique_id</th>\n",
       "    </tr>\n",
       "  </thead>\n",
       "  <tbody>\n",
       "    <tr>\n",
       "      <th>0</th>\n",
       "      <td>149.00013</td>\n",
       "      <td>International Monetary Systems Company Profile...</td>\n",
       "      <td>0</td>\n",
       "      <td>c3ac1fe6-03f3-4c3a-a629-fece251ba910</td>\n",
       "    </tr>\n",
       "    <tr>\n",
       "      <th>1</th>\n",
       "      <td>16.00004</td>\n",
       "      <td>Investment Governance for Fiduciaries, our new...</td>\n",
       "      <td>0</td>\n",
       "      <td>21b03c65-a763-4530-93fe-274329159fe4</td>\n",
       "    </tr>\n",
       "    <tr>\n",
       "      <th>2</th>\n",
       "      <td>123.00020</td>\n",
       "      <td>In other words, whatever emerges over that tim...</td>\n",
       "      <td>0</td>\n",
       "      <td>0a23192c-c361-48af-a32d-6451fc9a0cf9</td>\n",
       "    </tr>\n",
       "    <tr>\n",
       "      <th>3</th>\n",
       "      <td>37.00015</td>\n",
       "      <td>Beijing Meddling  With a focus on divesting fr...</td>\n",
       "      <td>0</td>\n",
       "      <td>59d14846-7cab-4e56-9694-38d42b190239</td>\n",
       "    </tr>\n",
       "    <tr>\n",
       "      <th>4</th>\n",
       "      <td>26.00008</td>\n",
       "      <td>It would probably be a leader in cutting-edge ...</td>\n",
       "      <td>0</td>\n",
       "      <td>70a20d4c-d155-498b-a189-e1d5df3102f3</td>\n",
       "    </tr>\n",
       "  </tbody>\n",
       "</table>\n",
       "</div>"
      ],
      "text/plain": [
       "       Index                                               Text  Gold  \\\n",
       "0  149.00013  International Monetary Systems Company Profile...     0   \n",
       "1   16.00004  Investment Governance for Fiduciaries, our new...     0   \n",
       "2  123.00020  In other words, whatever emerges over that tim...     0   \n",
       "3   37.00015  Beijing Meddling  With a focus on divesting fr...     0   \n",
       "4   26.00008  It would probably be a leader in cutting-edge ...     0   \n",
       "\n",
       "                              unique_id  \n",
       "0  c3ac1fe6-03f3-4c3a-a629-fece251ba910  \n",
       "1  21b03c65-a763-4530-93fe-274329159fe4  \n",
       "2  0a23192c-c361-48af-a32d-6451fc9a0cf9  \n",
       "3  59d14846-7cab-4e56-9694-38d42b190239  \n",
       "4  70a20d4c-d155-498b-a189-e1d5df3102f3  "
      ]
     },
     "execution_count": 6,
     "metadata": {},
     "output_type": "execute_result"
    }
   ],
   "source": [
    "train_df.head()"
   ]
  },
  {
   "cell_type": "code",
   "execution_count": 7,
   "metadata": {},
   "outputs": [
    {
     "data": {
      "text/html": [
       "<div>\n",
       "<style scoped>\n",
       "    .dataframe tbody tr th:only-of-type {\n",
       "        vertical-align: middle;\n",
       "    }\n",
       "\n",
       "    .dataframe tbody tr th {\n",
       "        vertical-align: top;\n",
       "    }\n",
       "\n",
       "    .dataframe thead th {\n",
       "        text-align: right;\n",
       "    }\n",
       "</style>\n",
       "<table border=\"1\" class=\"dataframe\">\n",
       "  <thead>\n",
       "    <tr style=\"text-align: right;\">\n",
       "      <th></th>\n",
       "      <th>Index</th>\n",
       "      <th>Text</th>\n",
       "      <th>Gold</th>\n",
       "      <th>unique_id</th>\n",
       "    </tr>\n",
       "  </thead>\n",
       "  <tbody>\n",
       "    <tr>\n",
       "      <th>0</th>\n",
       "      <td>149.00013</td>\n",
       "      <td>International Monetary Systems Company Profile...</td>\n",
       "      <td>0</td>\n",
       "      <td>c3ac1fe6-03f3-4c3a-a629-fece251ba910</td>\n",
       "    </tr>\n",
       "    <tr>\n",
       "      <th>1</th>\n",
       "      <td>16.00004</td>\n",
       "      <td>Investment Governance for Fiduciaries, our new...</td>\n",
       "      <td>0</td>\n",
       "      <td>21b03c65-a763-4530-93fe-274329159fe4</td>\n",
       "    </tr>\n",
       "    <tr>\n",
       "      <th>2</th>\n",
       "      <td>123.00020</td>\n",
       "      <td>In other words, whatever emerges over that tim...</td>\n",
       "      <td>0</td>\n",
       "      <td>0a23192c-c361-48af-a32d-6451fc9a0cf9</td>\n",
       "    </tr>\n",
       "    <tr>\n",
       "      <th>3</th>\n",
       "      <td>37.00015</td>\n",
       "      <td>Beijing Meddling  With a focus on divesting fr...</td>\n",
       "      <td>0</td>\n",
       "      <td>59d14846-7cab-4e56-9694-38d42b190239</td>\n",
       "    </tr>\n",
       "    <tr>\n",
       "      <th>4</th>\n",
       "      <td>26.00008</td>\n",
       "      <td>It would probably be a leader in cutting-edge ...</td>\n",
       "      <td>0</td>\n",
       "      <td>70a20d4c-d155-498b-a189-e1d5df3102f3</td>\n",
       "    </tr>\n",
       "  </tbody>\n",
       "</table>\n",
       "</div>"
      ],
      "text/plain": [
       "       Index                                               Text  Gold  \\\n",
       "0  149.00013  International Monetary Systems Company Profile...     0   \n",
       "1   16.00004  Investment Governance for Fiduciaries, our new...     0   \n",
       "2  123.00020  In other words, whatever emerges over that tim...     0   \n",
       "3   37.00015  Beijing Meddling  With a focus on divesting fr...     0   \n",
       "4   26.00008  It would probably be a leader in cutting-edge ...     0   \n",
       "\n",
       "                              unique_id  \n",
       "0  c3ac1fe6-03f3-4c3a-a629-fece251ba910  \n",
       "1  21b03c65-a763-4530-93fe-274329159fe4  \n",
       "2  0a23192c-c361-48af-a32d-6451fc9a0cf9  \n",
       "3  59d14846-7cab-4e56-9694-38d42b190239  \n",
       "4  70a20d4c-d155-498b-a189-e1d5df3102f3  "
      ]
     },
     "execution_count": 7,
     "metadata": {},
     "output_type": "execute_result"
    }
   ],
   "source": [
    "train_dev_df = pd.concat([train_df, dev_df])\n",
    "train_dev_df.head()"
   ]
  },
  {
   "cell_type": "code",
   "execution_count": 8,
   "metadata": {},
   "outputs": [],
   "source": [
    "train_dev_df.to_csv(Path('/media/sarthak/HDD/data_science/fnp_resources/data/task1/train_on_trial_test_on_practice_v2/train_dev.csv'), index=False)"
   ]
  }
 ],
 "metadata": {
  "kernelspec": {
   "display_name": "Python 3",
   "language": "python",
   "name": "python3"
  },
  "language_info": {
   "codemirror_mode": {
    "name": "ipython",
    "version": 3
   },
   "file_extension": ".py",
   "mimetype": "text/x-python",
   "name": "python",
   "nbconvert_exporter": "python",
   "pygments_lexer": "ipython3",
   "version": "3.6.7"
  }
 },
 "nbformat": 4,
 "nbformat_minor": 4
}
