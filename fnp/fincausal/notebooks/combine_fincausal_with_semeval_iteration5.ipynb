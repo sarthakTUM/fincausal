{
 "cells": [
  {
   "cell_type": "code",
   "execution_count": 1,
   "metadata": {},
   "outputs": [],
   "source": [
    "import pandas as pd\n",
    "from pathlib import Path\n",
    "import uuid"
   ]
  },
  {
   "cell_type": "code",
   "execution_count": 2,
   "metadata": {},
   "outputs": [],
   "source": [
    "fincausal_task1_train_path = Path('/media/sarthak/HDD/data_science/fnp_resources/data/task1/iteration_5/train.csv')\n",
    "semeval_all_data_path = Path('/media/sarthak/HDD/data_science/fnp_resources/data/extra/semeval.csv')"
   ]
  },
  {
   "cell_type": "code",
   "execution_count": 18,
   "metadata": {},
   "outputs": [
    {
     "data": {
      "text/plain": [
       "PosixPath('/media/sarthak/HDD/data_science/fnp_resources/data/task1/iteration_5/train.csv/a')"
      ]
     },
     "execution_count": 18,
     "metadata": {},
     "output_type": "execute_result"
    }
   ],
   "source": [
    "fincausal_task1_train_path / 'a'"
   ]
  },
  {
   "cell_type": "code",
   "execution_count": 3,
   "metadata": {},
   "outputs": [
    {
     "data": {
      "text/html": [
       "<div>\n",
       "<style scoped>\n",
       "    .dataframe tbody tr th:only-of-type {\n",
       "        vertical-align: middle;\n",
       "    }\n",
       "\n",
       "    .dataframe tbody tr th {\n",
       "        vertical-align: top;\n",
       "    }\n",
       "\n",
       "    .dataframe thead th {\n",
       "        text-align: right;\n",
       "    }\n",
       "</style>\n",
       "<table border=\"1\" class=\"dataframe\">\n",
       "  <thead>\n",
       "    <tr style=\"text-align: right;\">\n",
       "      <th></th>\n",
       "      <th>sentence</th>\n",
       "      <th>relation</th>\n",
       "      <th>causal</th>\n",
       "    </tr>\n",
       "  </thead>\n",
       "  <tbody>\n",
       "    <tr>\n",
       "      <th>0</th>\n",
       "      <td>The system as described above has its greatest...</td>\n",
       "      <td>Component-Whole</td>\n",
       "      <td>0</td>\n",
       "    </tr>\n",
       "    <tr>\n",
       "      <th>1</th>\n",
       "      <td>The child was carefully wrapped and bound into...</td>\n",
       "      <td>Other</td>\n",
       "      <td>0</td>\n",
       "    </tr>\n",
       "    <tr>\n",
       "      <th>2</th>\n",
       "      <td>The author of a keygen uses a disassembler to ...</td>\n",
       "      <td>Instrument-Agency</td>\n",
       "      <td>0</td>\n",
       "    </tr>\n",
       "    <tr>\n",
       "      <th>3</th>\n",
       "      <td>A misty ridge uprises from the surge.</td>\n",
       "      <td>Other</td>\n",
       "      <td>0</td>\n",
       "    </tr>\n",
       "    <tr>\n",
       "      <th>4</th>\n",
       "      <td>The student association is the voice of the un...</td>\n",
       "      <td>Member-Collection</td>\n",
       "      <td>0</td>\n",
       "    </tr>\n",
       "  </tbody>\n",
       "</table>\n",
       "</div>"
      ],
      "text/plain": [
       "                                            sentence           relation  \\\n",
       "0  The system as described above has its greatest...    Component-Whole   \n",
       "1  The child was carefully wrapped and bound into...              Other   \n",
       "2  The author of a keygen uses a disassembler to ...  Instrument-Agency   \n",
       "3              A misty ridge uprises from the surge.              Other   \n",
       "4  The student association is the voice of the un...  Member-Collection   \n",
       "\n",
       "   causal  \n",
       "0       0  \n",
       "1       0  \n",
       "2       0  \n",
       "3       0  \n",
       "4       0  "
      ]
     },
     "execution_count": 3,
     "metadata": {},
     "output_type": "execute_result"
    }
   ],
   "source": [
    "semeval_all_data_df = pd.read_csv(semeval_all_data_path)\n",
    "semeval_all_data_df.head()"
   ]
  },
  {
   "cell_type": "code",
   "execution_count": 4,
   "metadata": {},
   "outputs": [
    {
     "data": {
      "text/plain": [
       "(10717, 3)"
      ]
     },
     "execution_count": 4,
     "metadata": {},
     "output_type": "execute_result"
    }
   ],
   "source": [
    "semeval_all_data_df.shape"
   ]
  },
  {
   "cell_type": "code",
   "execution_count": 5,
   "metadata": {},
   "outputs": [
    {
     "data": {
      "text/html": [
       "<div>\n",
       "<style scoped>\n",
       "    .dataframe tbody tr th:only-of-type {\n",
       "        vertical-align: middle;\n",
       "    }\n",
       "\n",
       "    .dataframe tbody tr th {\n",
       "        vertical-align: top;\n",
       "    }\n",
       "\n",
       "    .dataframe thead th {\n",
       "        text-align: right;\n",
       "    }\n",
       "</style>\n",
       "<table border=\"1\" class=\"dataframe\">\n",
       "  <thead>\n",
       "    <tr style=\"text-align: right;\">\n",
       "      <th></th>\n",
       "      <th>Index</th>\n",
       "      <th>Text</th>\n",
       "      <th>Gold</th>\n",
       "      <th>unique_id</th>\n",
       "    </tr>\n",
       "  </thead>\n",
       "  <tbody>\n",
       "    <tr>\n",
       "      <th>0</th>\n",
       "      <td>268.00017</td>\n",
       "      <td>In turn, the Liberal promise could benefit th...</td>\n",
       "      <td>0</td>\n",
       "      <td>5e9f149f-e1c3-43b8-a4f0-2614ca2bfd42</td>\n",
       "    </tr>\n",
       "    <tr>\n",
       "      <th>1</th>\n",
       "      <td>93.00006</td>\n",
       "      <td>Research analysts expect Mackinac Financial t...</td>\n",
       "      <td>0</td>\n",
       "      <td>57b71014-8f81-4d77-a1e2-aee69c36be92</td>\n",
       "    </tr>\n",
       "    <tr>\n",
       "      <th>2</th>\n",
       "      <td>471.00003</td>\n",
       "      <td>The law firm Kessler Topaz Meltzer &amp; Check LL...</td>\n",
       "      <td>0</td>\n",
       "      <td>661e6bf7-ffbf-4581-acff-8c246ecac51a</td>\n",
       "    </tr>\n",
       "    <tr>\n",
       "      <th>3</th>\n",
       "      <td>320.00001</td>\n",
       "      <td>News  The UK Civil Aviation Authority has lau...</td>\n",
       "      <td>0</td>\n",
       "      <td>a6a80d24-dbc0-404d-9f71-e907524e88ec</td>\n",
       "    </tr>\n",
       "    <tr>\n",
       "      <th>4</th>\n",
       "      <td>521.00016</td>\n",
       "      <td>The proportion of middle-skill jobs for worke...</td>\n",
       "      <td>0</td>\n",
       "      <td>9657941b-aae0-4a9c-b1cd-8c7433f3b0bf</td>\n",
       "    </tr>\n",
       "  </tbody>\n",
       "</table>\n",
       "</div>"
      ],
      "text/plain": [
       "       Index                                               Text  Gold  \\\n",
       "0  268.00017   In turn, the Liberal promise could benefit th...     0   \n",
       "1   93.00006   Research analysts expect Mackinac Financial t...     0   \n",
       "2  471.00003   The law firm Kessler Topaz Meltzer & Check LL...     0   \n",
       "3  320.00001   News  The UK Civil Aviation Authority has lau...     0   \n",
       "4  521.00016   The proportion of middle-skill jobs for worke...     0   \n",
       "\n",
       "                              unique_id  \n",
       "0  5e9f149f-e1c3-43b8-a4f0-2614ca2bfd42  \n",
       "1  57b71014-8f81-4d77-a1e2-aee69c36be92  \n",
       "2  661e6bf7-ffbf-4581-acff-8c246ecac51a  \n",
       "3  a6a80d24-dbc0-404d-9f71-e907524e88ec  \n",
       "4  9657941b-aae0-4a9c-b1cd-8c7433f3b0bf  "
      ]
     },
     "execution_count": 5,
     "metadata": {},
     "output_type": "execute_result"
    }
   ],
   "source": [
    "fincausal_task1_train_df = pd.read_csv(fincausal_task1_train_path)\n",
    "fincausal_task1_train_df.head()"
   ]
  },
  {
   "cell_type": "code",
   "execution_count": 6,
   "metadata": {},
   "outputs": [
    {
     "data": {
      "text/plain": [
       "(15576, 4)"
      ]
     },
     "execution_count": 6,
     "metadata": {},
     "output_type": "execute_result"
    }
   ],
   "source": [
    "fincausal_task1_train_df.shape"
   ]
  },
  {
   "cell_type": "code",
   "execution_count": 7,
   "metadata": {},
   "outputs": [
    {
     "data": {
      "text/plain": [
       "0    0.927902\n",
       "1    0.072098\n",
       "Name: Gold, dtype: float64"
      ]
     },
     "execution_count": 7,
     "metadata": {},
     "output_type": "execute_result"
    }
   ],
   "source": [
    "# what's the distribution of label?\n",
    "causal_distribution = fincausal_task1_train_df.Gold.value_counts() / len(fincausal_task1_train_df)\n",
    "causal_distribution"
   ]
  },
  {
   "cell_type": "code",
   "execution_count": 8,
   "metadata": {},
   "outputs": [
    {
     "data": {
      "text/plain": [
       "0    0.927929\n",
       "1    0.072071\n",
       "Name: causal, dtype: float64"
      ]
     },
     "execution_count": 8,
     "metadata": {},
     "output_type": "execute_result"
    }
   ],
   "source": [
    "# how many causal can I take from semeval?\n",
    "semeval_noncausal = semeval_all_data_df.loc[semeval_all_data_df.causal == 0]\n",
    "semeval_causal = semeval_all_data_df.loc[semeval_all_data_df.causal == 1]\n",
    "\n",
    "semeval_causal_resampled = semeval_causal.sample(n=int((causal_distribution[1]*100*len(semeval_noncausal))/(100-(causal_distribution[1]*100))))\n",
    "\n",
    "semeval_resampled = pd.concat([semeval_noncausal, semeval_causal_resampled])\n",
    "semeval_resampled.causal.value_counts() / len(semeval_resampled)"
   ]
  },
  {
   "cell_type": "code",
   "execution_count": 9,
   "metadata": {},
   "outputs": [
    {
     "data": {
      "text/html": [
       "<div>\n",
       "<style scoped>\n",
       "    .dataframe tbody tr th:only-of-type {\n",
       "        vertical-align: middle;\n",
       "    }\n",
       "\n",
       "    .dataframe tbody tr th {\n",
       "        vertical-align: top;\n",
       "    }\n",
       "\n",
       "    .dataframe thead th {\n",
       "        text-align: right;\n",
       "    }\n",
       "</style>\n",
       "<table border=\"1\" class=\"dataframe\">\n",
       "  <thead>\n",
       "    <tr style=\"text-align: right;\">\n",
       "      <th></th>\n",
       "      <th>Index</th>\n",
       "      <th>Text</th>\n",
       "      <th>Gold</th>\n",
       "      <th>unique_id</th>\n",
       "    </tr>\n",
       "  </thead>\n",
       "  <tbody>\n",
       "    <tr>\n",
       "      <th>0</th>\n",
       "      <td>None</td>\n",
       "      <td>The system as described above has its greatest...</td>\n",
       "      <td>0</td>\n",
       "      <td>fea85888-9873-4814-b184-f1d1b5cade96</td>\n",
       "    </tr>\n",
       "    <tr>\n",
       "      <th>1</th>\n",
       "      <td>None</td>\n",
       "      <td>The child was carefully wrapped and bound into...</td>\n",
       "      <td>0</td>\n",
       "      <td>b6616479-ad1e-4386-abdf-02e392ec3978</td>\n",
       "    </tr>\n",
       "    <tr>\n",
       "      <th>2</th>\n",
       "      <td>None</td>\n",
       "      <td>The author of a keygen uses a disassembler to ...</td>\n",
       "      <td>0</td>\n",
       "      <td>504f321c-ecc9-4d8f-af37-41d8f24d8c3f</td>\n",
       "    </tr>\n",
       "    <tr>\n",
       "      <th>3</th>\n",
       "      <td>None</td>\n",
       "      <td>A misty ridge uprises from the surge.</td>\n",
       "      <td>0</td>\n",
       "      <td>6ca25b88-7c63-4b64-8b20-8762b7ee68ff</td>\n",
       "    </tr>\n",
       "    <tr>\n",
       "      <th>4</th>\n",
       "      <td>None</td>\n",
       "      <td>The student association is the voice of the un...</td>\n",
       "      <td>0</td>\n",
       "      <td>27cb3d7d-5348-4c45-9327-4efa0ec074b9</td>\n",
       "    </tr>\n",
       "  </tbody>\n",
       "</table>\n",
       "</div>"
      ],
      "text/plain": [
       "  Index                                               Text  Gold  \\\n",
       "0  None  The system as described above has its greatest...     0   \n",
       "1  None  The child was carefully wrapped and bound into...     0   \n",
       "2  None  The author of a keygen uses a disassembler to ...     0   \n",
       "3  None              A misty ridge uprises from the surge.     0   \n",
       "4  None  The student association is the voice of the un...     0   \n",
       "\n",
       "                              unique_id  \n",
       "0  fea85888-9873-4814-b184-f1d1b5cade96  \n",
       "1  b6616479-ad1e-4386-abdf-02e392ec3978  \n",
       "2  504f321c-ecc9-4d8f-af37-41d8f24d8c3f  \n",
       "3  6ca25b88-7c63-4b64-8b20-8762b7ee68ff  \n",
       "4  27cb3d7d-5348-4c45-9327-4efa0ec074b9  "
      ]
     },
     "execution_count": 9,
     "metadata": {},
     "output_type": "execute_result"
    }
   ],
   "source": [
    "# combine both the datasets\n",
    "semval_resampled_formatted_df = pd.DataFrame({\n",
    "    'Index': None,\n",
    "    'Text': semeval_resampled.sentence,\n",
    "    'Gold': semeval_resampled.causal,\n",
    "    'unique_id': [str(uuid.uuid4()) for _ in range(len(semeval_resampled))]\n",
    "})\n",
    "semval_resampled_formatted_df.head()"
   ]
  },
  {
   "cell_type": "code",
   "execution_count": 10,
   "metadata": {},
   "outputs": [
    {
     "data": {
      "text/plain": [
       "0    0.927929\n",
       "1    0.072071\n",
       "Name: Gold, dtype: float64"
      ]
     },
     "execution_count": 10,
     "metadata": {},
     "output_type": "execute_result"
    }
   ],
   "source": [
    "semval_resampled_formatted_df.Gold.value_counts() / len(semval_resampled_formatted_df)"
   ]
  },
  {
   "cell_type": "code",
   "execution_count": 11,
   "metadata": {},
   "outputs": [
    {
     "data": {
      "text/plain": [
       "(25691, 4)"
      ]
     },
     "execution_count": 11,
     "metadata": {},
     "output_type": "execute_result"
    }
   ],
   "source": [
    "fincausal_task1_train_combined_semeval = pd.concat([fincausal_task1_train_df, semval_resampled_formatted_df])\n",
    "fincausal_task1_train_combined_semeval.shape"
   ]
  },
  {
   "cell_type": "code",
   "execution_count": 12,
   "metadata": {},
   "outputs": [
    {
     "data": {
      "text/plain": [
       "0    0.927912\n",
       "1    0.072088\n",
       "Name: Gold, dtype: float64"
      ]
     },
     "execution_count": 12,
     "metadata": {},
     "output_type": "execute_result"
    }
   ],
   "source": [
    "fincausal_task1_train_combined_semeval.Gold.value_counts() / len(fincausal_task1_train_combined_semeval)"
   ]
  },
  {
   "cell_type": "code",
   "execution_count": 13,
   "metadata": {},
   "outputs": [],
   "source": [
    "fincausal_task1_train_combined_semeval.to_csv('/media/sarthak/HDD/data_science/fnp_resources/data/task1/iteration_5/train_with_semeval.csv', index=False)"
   ]
  }
 ],
 "metadata": {
  "kernelspec": {
   "display_name": "Python fnp",
   "language": "python",
   "name": "fnp"
  },
  "language_info": {
   "codemirror_mode": {
    "name": "ipython",
    "version": 3
   },
   "file_extension": ".py",
   "mimetype": "text/x-python",
   "name": "python",
   "nbconvert_exporter": "python",
   "pygments_lexer": "ipython3",
   "version": "3.6.7"
  }
 },
 "nbformat": 4,
 "nbformat_minor": 4
}
