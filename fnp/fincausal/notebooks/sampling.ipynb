{
 "cells": [
  {
   "cell_type": "code",
   "execution_count": 1,
   "metadata": {},
   "outputs": [],
   "source": [
    "import pandas as pd\n",
    "from pathlib import Path\n",
    "import numpy as np\n",
    "from typing import Any"
   ]
  },
  {
   "cell_type": "code",
   "execution_count": 2,
   "metadata": {},
   "outputs": [
    {
     "name": "stdout",
     "output_type": "stream",
     "text": [
      "shape of data: (22054, 4)\n"
     ]
    },
    {
     "data": {
      "text/html": [
       "<div>\n",
       "<style scoped>\n",
       "    .dataframe tbody tr th:only-of-type {\n",
       "        vertical-align: middle;\n",
       "    }\n",
       "\n",
       "    .dataframe tbody tr th {\n",
       "        vertical-align: top;\n",
       "    }\n",
       "\n",
       "    .dataframe thead th {\n",
       "        text-align: right;\n",
       "    }\n",
       "</style>\n",
       "<table border=\"1\" class=\"dataframe\">\n",
       "  <thead>\n",
       "    <tr style=\"text-align: right;\">\n",
       "      <th></th>\n",
       "      <th>Index</th>\n",
       "      <th>Text</th>\n",
       "      <th>Gold</th>\n",
       "      <th>unique_id</th>\n",
       "    </tr>\n",
       "  </thead>\n",
       "  <tbody>\n",
       "    <tr>\n",
       "      <th>0</th>\n",
       "      <td>334.00005</td>\n",
       "      <td>About Automotive Finco Corp. Automotive Finco ...</td>\n",
       "      <td>0</td>\n",
       "      <td>f6f9b2cd-c18a-41ae-afdf-1a38276e7c76</td>\n",
       "    </tr>\n",
       "    <tr>\n",
       "      <th>1</th>\n",
       "      <td>130.00008</td>\n",
       "      <td>Titan has acquired all of Core Gold's secured ...</td>\n",
       "      <td>1</td>\n",
       "      <td>5c168ebc-1302-44e1-97cb-21a59d505f58</td>\n",
       "    </tr>\n",
       "    <tr>\n",
       "      <th>2</th>\n",
       "      <td>220.00009</td>\n",
       "      <td>Current drill spacing is shown three dimension...</td>\n",
       "      <td>0</td>\n",
       "      <td>2413d551-6a1e-417c-a4f1-8691370ba2cf</td>\n",
       "    </tr>\n",
       "    <tr>\n",
       "      <th>3</th>\n",
       "      <td>426.00012</td>\n",
       "      <td>The company's products and services include Pa...</td>\n",
       "      <td>0</td>\n",
       "      <td>7ec552d1-48c3-4a30-8172-1e77e141a2d0</td>\n",
       "    </tr>\n",
       "    <tr>\n",
       "      <th>4</th>\n",
       "      <td>334.00009</td>\n",
       "      <td>There can be no assurance that such informatio...</td>\n",
       "      <td>0</td>\n",
       "      <td>fbc8ec3f-d91b-40ca-a9b6-c06b37c0c8d2</td>\n",
       "    </tr>\n",
       "  </tbody>\n",
       "</table>\n",
       "</div>"
      ],
      "text/plain": [
       "       Index                                               Text  Gold  \\\n",
       "0  334.00005  About Automotive Finco Corp. Automotive Finco ...     0   \n",
       "1  130.00008  Titan has acquired all of Core Gold's secured ...     1   \n",
       "2  220.00009  Current drill spacing is shown three dimension...     0   \n",
       "3  426.00012  The company's products and services include Pa...     0   \n",
       "4  334.00009  There can be no assurance that such informatio...     0   \n",
       "\n",
       "                              unique_id  \n",
       "0  f6f9b2cd-c18a-41ae-afdf-1a38276e7c76  \n",
       "1  5c168ebc-1302-44e1-97cb-21a59d505f58  \n",
       "2  2413d551-6a1e-417c-a4f1-8691370ba2cf  \n",
       "3  7ec552d1-48c3-4a30-8172-1e77e141a2d0  \n",
       "4  fbc8ec3f-d91b-40ca-a9b6-c06b37c0c8d2  "
      ]
     },
     "execution_count": 2,
     "metadata": {},
     "output_type": "execute_result"
    }
   ],
   "source": [
    "train_path = Path('/media/sarthak/HDD/data_science/fnp_resources/data/task1/all_combined/train_dev_test.csv')\n",
    "train_df = pd.read_csv(train_path)\n",
    "print('shape of data: {}'.format(train_df.shape))\n",
    "train_df.head()"
   ]
  },
  {
   "cell_type": "code",
   "execution_count": 3,
   "metadata": {},
   "outputs": [],
   "source": [
    "def binary_under_sampling(df: pd.DataFrame, label_column: str, majority_label: Any, undersampling_frac: float):\n",
    "    \n",
    "    assert undersampling_frac <= 1.0 and undersampling_frac >=0\n",
    "    \n",
    "    # undersamples the majority class\n",
    "    majority_df = df.loc[df[label_column] == majority_label]\n",
    "    minority_df = df.loc[df[label_column] != majority_label]\n",
    "    size_minority = minority_df.shape[0]\n",
    "    size_majority = int(undersampling_frac * size_minority)\n",
    "    majority_df = majority_df.sample(n=size_majority)\n",
    "    return pd.concat([minority_df, majority_df]).sample(frac=1.0)"
   ]
  },
  {
   "cell_type": "code",
   "execution_count": 4,
   "metadata": {},
   "outputs": [
    {
     "name": "stdout",
     "output_type": "stream",
     "text": [
      "shape of data: (3158, 4)\n",
      "label distribution: 1    1579\n",
      "0    1579\n",
      "Name: Gold, dtype: int64\n"
     ]
    },
    {
     "data": {
      "text/html": [
       "<div>\n",
       "<style scoped>\n",
       "    .dataframe tbody tr th:only-of-type {\n",
       "        vertical-align: middle;\n",
       "    }\n",
       "\n",
       "    .dataframe tbody tr th {\n",
       "        vertical-align: top;\n",
       "    }\n",
       "\n",
       "    .dataframe thead th {\n",
       "        text-align: right;\n",
       "    }\n",
       "</style>\n",
       "<table border=\"1\" class=\"dataframe\">\n",
       "  <thead>\n",
       "    <tr style=\"text-align: right;\">\n",
       "      <th></th>\n",
       "      <th>Index</th>\n",
       "      <th>Text</th>\n",
       "      <th>Gold</th>\n",
       "      <th>unique_id</th>\n",
       "    </tr>\n",
       "  </thead>\n",
       "  <tbody>\n",
       "    <tr>\n",
       "      <th>4802</th>\n",
       "      <td>277.00007</td>\n",
       "      <td>In contrast to common financial institution CD...</td>\n",
       "      <td>0</td>\n",
       "      <td>9a51a4b6-f79b-4538-87da-9c9909326031</td>\n",
       "    </tr>\n",
       "    <tr>\n",
       "      <th>17268</th>\n",
       "      <td>214.00013</td>\n",
       "      <td>Weakened by decades of mismanagement and an ex...</td>\n",
       "      <td>1</td>\n",
       "      <td>f66b9c3e-4874-489b-9c0a-009d9bf66add</td>\n",
       "    </tr>\n",
       "    <tr>\n",
       "      <th>14824</th>\n",
       "      <td>476.00002</td>\n",
       "      <td>We will contrast the two companies based on th...</td>\n",
       "      <td>0</td>\n",
       "      <td>69a1bd34-f6ba-403b-bc13-8c515170ff95</td>\n",
       "    </tr>\n",
       "    <tr>\n",
       "      <th>7095</th>\n",
       "      <td>325.00005</td>\n",
       "      <td>Select your country Continue Create a free Res...</td>\n",
       "      <td>1</td>\n",
       "      <td>01f7475b-dadf-4868-979b-8db92c379750</td>\n",
       "    </tr>\n",
       "    <tr>\n",
       "      <th>3302</th>\n",
       "      <td>5.00007</td>\n",
       "      <td>Finally, First PREMIER Bank increased its hold...</td>\n",
       "      <td>1</td>\n",
       "      <td>aa74d18e-01cc-48d3-bddb-592164680d42</td>\n",
       "    </tr>\n",
       "  </tbody>\n",
       "</table>\n",
       "</div>"
      ],
      "text/plain": [
       "           Index                                               Text  Gold  \\\n",
       "4802   277.00007  In contrast to common financial institution CD...     0   \n",
       "17268  214.00013  Weakened by decades of mismanagement and an ex...     1   \n",
       "14824  476.00002  We will contrast the two companies based on th...     0   \n",
       "7095   325.00005  Select your country Continue Create a free Res...     1   \n",
       "3302     5.00007  Finally, First PREMIER Bank increased its hold...     1   \n",
       "\n",
       "                                  unique_id  \n",
       "4802   9a51a4b6-f79b-4538-87da-9c9909326031  \n",
       "17268  f66b9c3e-4874-489b-9c0a-009d9bf66add  \n",
       "14824  69a1bd34-f6ba-403b-bc13-8c515170ff95  \n",
       "7095   01f7475b-dadf-4868-979b-8db92c379750  \n",
       "3302   aa74d18e-01cc-48d3-bddb-592164680d42  "
      ]
     },
     "execution_count": 4,
     "metadata": {},
     "output_type": "execute_result"
    }
   ],
   "source": [
    "sampled_df = binary_under_sampling(df=train_df, label_column='Gold', majority_label=0, undersampling_frac=1.0)\n",
    "print('shape of data: {}'.format(sampled_df.shape))\n",
    "print('label distribution: {}'.format(sampled_df.Gold.value_counts()))\n",
    "sampled_df.head()"
   ]
  },
  {
   "cell_type": "code",
   "execution_count": 5,
   "metadata": {},
   "outputs": [],
   "source": [
    "sampled_df.to_csv(Path('/media/sarthak/HDD/data_science/fnp_resources/data/task1/all_combined/train_dev_test_5050.csv'), index=False)"
   ]
  }
 ],
 "metadata": {
  "kernelspec": {
   "display_name": "Python fnp",
   "language": "python",
   "name": "fnp"
  },
  "language_info": {
   "codemirror_mode": {
    "name": "ipython",
    "version": 3
   },
   "file_extension": ".py",
   "mimetype": "text/x-python",
   "name": "python",
   "nbconvert_exporter": "python",
   "pygments_lexer": "ipython3",
   "version": "3.6.7"
  }
 },
 "nbformat": 4,
 "nbformat_minor": 4
}
