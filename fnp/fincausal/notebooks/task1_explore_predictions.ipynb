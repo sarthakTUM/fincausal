{
 "cells": [
  {
   "cell_type": "code",
   "execution_count": 41,
   "metadata": {},
   "outputs": [],
   "source": [
    "import pandas as pd\n",
    "from pathlib import Path\n",
    "from sklearn import metrics\n",
    "import re\n",
    "from abc import ABC\n",
    "from typing import List\n",
    "from sklearn.ensemble import RandomForestClassifier\n",
    "from sklearn.datasets import make_classification\n",
    "from sklearn.metrics import f1_score\n",
    "import random"
   ]
  },
  {
   "cell_type": "code",
   "execution_count": 53,
   "metadata": {},
   "outputs": [],
   "source": [
    "predictions_dev_path = Path('/media/sarthak/HDD/data_science/fnp_resources/fincausal_t1_models/56_1/inference_dev.csv')\n",
    "predictions_test_path = Path('/media/sarthak/HDD/data_science/fnp_resources/fincausal_t1_models/56_1/inference_test.csv')\n",
    "\n",
    "predictions_dev = pd.read_csv(predictions_dev_path)\n",
    "predictions_test = pd.read_csv(predictions_test_path)\n",
    "\n",
    "predictions_dev_for_modeling = predictions_dev.copy()\n",
    "predictions_dev_for_submission = predictions_dev.copy()\n",
    "predictions_test_for_modeling = predictions_test.copy()\n",
    "predictions_test_for_submission = predictions_test.copy()\n",
    "\n",
    "# predictions['preds_post'] = predictions['Prediction'].copy()\n",
    "# predictions.head()"
   ]
  },
  {
   "cell_type": "code",
   "execution_count": 54,
   "metadata": {},
   "outputs": [
    {
     "name": "stdout",
     "output_type": "stream",
     "text": [
      "0.9737177343173601 0.9555477507192752\n"
     ]
    }
   ],
   "source": [
    "# original score\n",
    "print(metrics.f1_score(predictions_dev['Gold'], predictions_dev['Prediction'], average='weighted'), \n",
    "metrics.f1_score(predictions_test['Gold'], predictions_test['Prediction'], average='weighted'))"
   ]
  },
  {
   "cell_type": "code",
   "execution_count": 55,
   "metadata": {},
   "outputs": [],
   "source": [
    "possible_strings_to_check = [', reaching',\n",
    " ', prompting',\n",
    " ', aiming',\n",
    " ', equating',\n",
    " ', hitting',\n",
    " ', lowering',\n",
    " ', topping',\n",
    " ', raising',\n",
    " ', converting',\n",
    " ', becoming',\n",
    " ', meeting',\n",
    " ', valuing',\n",
    " ', edging',\n",
    " ', boosting',\n",
    " ', completing',\n",
    " ', slowing',\n",
    " ', lasting',\n",
    " ', clothing',\n",
    " ', totaling',\n",
    " ', rising']"
   ]
  },
  {
   "cell_type": "code",
   "execution_count": 56,
   "metadata": {},
   "outputs": [],
   "source": [
    "predictions_dev_for_modeling['feature_contains_numeric'] = predictions_dev_for_modeling['Text'].apply(lambda text: any(char.isdigit() for char in text))\n",
    "predictions_dev_for_modeling['feature_contains_textual_numeric'] = predictions_dev_for_modeling['Text'].apply(lambda text: any(word in text for word in ['one', 'two', 'three', 'four', 'five', 'six', 'seven', 'eight', 'nine', 'ten']))\n",
    "predictions_dev_for_modeling['feature_contains_causal'] = predictions_dev_for_modeling['Text'].apply(lambda text: any(word in text for word in ['as', 'since', 'because', 'cause', 'after']))\n",
    "predictions_dev_for_modeling['feature_contains_percent'] = predictions_dev_for_modeling['Text'].apply(lambda text: '%' in text)\n",
    "predictions_dev_for_modeling['feature_contains_currency'] = predictions_dev_for_modeling['Text'].apply(lambda text: any(word in text for word in ['$', '€', '£', 'yuan', 'Yuan', 'INR', 'inr']))\n",
    "predictions_dev_for_modeling['feature_contains_comma_with_ing'] = predictions_dev_for_modeling['Text'].apply(lambda text: True if len(re.findall(\"\"\",\\s([a-z]*?ing)\"\"\", text))>0 else False)\n",
    "predictions_dev_for_modeling['feature_contains_specific_ings_with_comma'] = predictions_dev_for_modeling['Text'].apply(lambda text: any(substring in text for substring in possible_strings_to_check))\n",
    "predictions_test_for_modeling['feature_contains_numeric'] = predictions_test_for_modeling['Text'].apply(lambda text: any(char.isdigit() for char in text))\n",
    "predictions_test_for_modeling['feature_contains_textual_numeric'] = predictions_test_for_modeling['Text'].apply(lambda text: any(word in text for word in ['one', 'two', 'three', 'four', 'five', 'six', 'seven', 'eight', 'nine', 'ten']))\n",
    "predictions_test_for_modeling['feature_contains_causal'] = predictions_test_for_modeling['Text'].apply(lambda text: any(word in text for word in ['as', 'since', 'because', 'cause', 'after']))\n",
    "predictions_test_for_modeling['feature_contains_percent'] = predictions_test_for_modeling['Text'].apply(lambda text: '%' in text)\n",
    "predictions_test_for_modeling['feature_contains_currency'] = predictions_test_for_modeling['Text'].apply(lambda text: any(word in text for word in ['$', '€', '£', 'yuan', 'Yuan', 'INR', 'inr']))\n",
    "predictions_test_for_modeling['feature_contains_comma_with_ing'] = predictions_test_for_modeling['Text'].apply(lambda text: True if len(re.findall(\"\"\",\\s([a-z]*?ing)\"\"\", text))>0 else False)\n",
    "predictions_test_for_modeling['feature_contains_specific_ings_with_comma'] = predictions_test_for_modeling['Text'].apply(lambda text: any(substring in text for substring in possible_strings_to_check))"
   ]
  },
  {
   "cell_type": "code",
   "execution_count": 61,
   "metadata": {},
   "outputs": [],
   "source": [
    "feature_cols_to_select = [True if 'feature_' in column_name  else False for column_name in predictions_dev_for_modeling.columns]\n",
    "true_cols_to_select = [True if 'Prediction' in column_name else False for column_name in predictions_dev_for_modeling.columns]"
   ]
  },
  {
   "cell_type": "code",
   "execution_count": 62,
   "metadata": {},
   "outputs": [
    {
     "name": "stdout",
     "output_type": "stream",
     "text": [
      "val:  0.9291052694139045\n",
      "test:  0.9203910184000016\n"
     ]
    }
   ],
   "source": [
    "clf = RandomForestClassifier(max_depth=100, \n",
    "                             n_estimators=1000, \n",
    "                             random_state=0)\n",
    "clf.fit(predictions_dev_for_modeling.loc[:, feature_cols_to_select].values, predictions_dev_for_modeling.loc[:, true_cols_to_select].values.ravel())\n",
    "dev_predict = clf.predict(predictions_dev_for_modeling.loc[:, feature_cols_to_select].values)\n",
    "test_predict = clf.predict(predictions_test_for_modeling.loc[:, feature_cols_to_select].values)\n",
    "print('val: ', f1_score(predictions_dev_for_modeling['Gold'].tolist(), dev_predict, average='weighted'))\n",
    "print('test: ', f1_score(predictions_test_for_modeling['Gold'].tolist(), test_predict, average='weighted'))\n",
    "# final = clf.predict(preds)"
   ]
  },
  {
   "cell_type": "code",
   "execution_count": 63,
   "metadata": {},
   "outputs": [],
   "source": [
    "predictions_dev_for_submission['Prediction'] = dev_predict\n",
    "predictions_test_for_submission['Prediction'] = test_predict"
   ]
  },
  {
   "cell_type": "code",
   "execution_count": 66,
   "metadata": {},
   "outputs": [],
   "source": [
    "predictions_dev_for_submission.to_csv('/media/sarthak/HDD/data_science/fnp_resources/fincausal_t1_models/61_1/inference_dev.csv', index=False)\n",
    "predictions_test_for_submission.to_csv('/media/sarthak/HDD/data_science/fnp_resources/fincausal_t1_models/61_1/inference.csv', index=False)"
   ]
  },
  {
   "cell_type": "code",
   "execution_count": 43,
   "metadata": {},
   "outputs": [],
   "source": [
    "dev_predict_random = [random.choice([True, False]) for _ in range(len(predictions_dev))]\n",
    "test_predict_random = [random.choice([True, False]) for _ in range(len(predictions_test))]\n",
    "dev_predict_majority = [0 for _ in range(len(predictions_dev))]\n",
    "test_predict_majority = [0 for _ in range(len(predictions_test))]"
   ]
  },
  {
   "cell_type": "code",
   "execution_count": 47,
   "metadata": {},
   "outputs": [
    {
     "name": "stdout",
     "output_type": "stream",
     "text": [
      "val:  0.6187014909229698\n",
      "test:  0.6263745624297067\n"
     ]
    }
   ],
   "source": [
    "print('val: ', f1_score(predictions_dev['Gold'].tolist(), dev_predict_random, average='weighted'))\n",
    "print('test: ', f1_score(predictions_test['Gold'].tolist(), test_predict_random, average='weighted'))"
   ]
  },
  {
   "cell_type": "code",
   "execution_count": 48,
   "metadata": {},
   "outputs": [
    {
     "name": "stdout",
     "output_type": "stream",
     "text": [
      "val:  0.8940220409602846\n",
      "test:  0.8938958203062894\n"
     ]
    }
   ],
   "source": [
    "print('val: ', f1_score(predictions_dev['Gold'].tolist(), dev_predict_majority, average='weighted'))\n",
    "print('test: ', f1_score(predictions_test['Gold'].tolist(), test_predict_majority, average='weighted'))"
   ]
  },
  {
   "cell_type": "code",
   "execution_count": null,
   "metadata": {},
   "outputs": [],
   "source": [
    "meta_clf.predict(df_merged_test[cols_pred].values)"
   ]
  },
  {
   "cell_type": "code",
   "execution_count": 352,
   "metadata": {},
   "outputs": [
    {
     "data": {
      "text/plain": [
       "0.9535042241739922"
      ]
     },
     "execution_count": 352,
     "metadata": {},
     "output_type": "execute_result"
    }
   ],
   "source": [
    "# no numbers and percent, pred=1, change to False (AND)\n",
    "predictions['preds_post'] = predictions['Prediction'].copy()\n",
    "predictions.loc[(predictions['contains_numeric']==False) & (predictions['contains_percent']==False) & (predictions['Prediction']==1), 'preds_post'] = 0\n",
    "metrics.f1_score(predictions['Gold'], predictions['preds_post'], average='weighted')"
   ]
  },
  {
   "cell_type": "code",
   "execution_count": 353,
   "metadata": {},
   "outputs": [
    {
     "data": {
      "text/plain": [
       "0.9535042241739922"
      ]
     },
     "execution_count": 353,
     "metadata": {},
     "output_type": "execute_result"
    }
   ],
   "source": [
    "# no numbers (AND)\n",
    "predictions['preds_post'] = predictions['Prediction'].copy()\n",
    "predictions.loc[(predictions['contains_numeric']==False) & (predictions['Prediction']==1), 'preds_post'] = 0\n",
    "metrics.f1_score(predictions['Gold'], predictions['preds_post'], average='weighted')"
   ]
  },
  {
   "cell_type": "code",
   "execution_count": 354,
   "metadata": {},
   "outputs": [
    {
     "data": {
      "text/plain": [
       "0.9135556208038943"
      ]
     },
     "execution_count": 354,
     "metadata": {},
     "output_type": "execute_result"
    }
   ],
   "source": [
    "# no numbers or textual numerics\n",
    "predictions['preds_post'] = predictions['Prediction'].copy()\n",
    "predictions.loc[((predictions['contains_numeric']==False) | (predictions['contains_textual_numeric']==False)) & (predictions['Prediction']==1), 'preds_post'] = 0\n",
    "metrics.f1_score(predictions['Gold'], predictions['preds_post'], average='weighted')"
   ]
  },
  {
   "cell_type": "code",
   "execution_count": 355,
   "metadata": {},
   "outputs": [
    {
     "data": {
      "text/plain": [
       "0.9331973513661947"
      ]
     },
     "execution_count": 355,
     "metadata": {},
     "output_type": "execute_result"
    }
   ],
   "source": [
    "# no percents\n",
    "predictions['preds_post'] = predictions['Prediction'].copy()\n",
    "predictions.loc[(predictions['contains_percent']==False) & (predictions['Prediction']==1), 'preds_post'] = 0\n",
    "metrics.f1_score(predictions['Gold'], predictions['preds_post'], average='weighted')"
   ]
  },
  {
   "cell_type": "code",
   "execution_count": 356,
   "metadata": {},
   "outputs": [
    {
     "data": {
      "text/plain": [
       "0.9460782175319331"
      ]
     },
     "execution_count": 356,
     "metadata": {},
     "output_type": "execute_result"
    }
   ],
   "source": [
    "# contains currency\n",
    "predictions['preds_post'] = predictions['Prediction'].copy()\n",
    "predictions.loc[(predictions['contains_currency']==False) & (predictions['Prediction']==1), 'preds_post'] = 0\n",
    "metrics.f1_score(predictions['Gold'], predictions['preds_post'], average='weighted')"
   ]
  },
  {
   "cell_type": "code",
   "execution_count": 357,
   "metadata": {},
   "outputs": [
    {
     "data": {
      "text/plain": [
       "0.9389635313199106"
      ]
     },
     "execution_count": 357,
     "metadata": {},
     "output_type": "execute_result"
    }
   ],
   "source": [
    "# causal\n",
    "predictions['preds_post'] = predictions['Prediction'].copy()\n",
    "predictions.loc[(predictions['contains_causal']==False) & (predictions['Prediction']==1), 'preds_post'] = 0\n",
    "metrics.f1_score(predictions['Gold'], predictions['preds_post'], average='weighted')"
   ]
  },
  {
   "cell_type": "code",
   "execution_count": 358,
   "metadata": {},
   "outputs": [
    {
     "data": {
      "text/plain": [
       "0.9535042241739922"
      ]
     },
     "execution_count": 358,
     "metadata": {},
     "output_type": "execute_result"
    }
   ],
   "source": [
    "# causal and numbers\n",
    "predictions['preds_post'] = predictions['Prediction'].copy()\n",
    "predictions.loc[(predictions['contains_causal']==False) & (predictions['contains_numeric']==False) & (predictions['Prediction']==1), 'preds_post'] = 0\n",
    "metrics.f1_score(predictions['Gold'], predictions['preds_post'], average='weighted')"
   ]
  },
  {
   "cell_type": "code",
   "execution_count": 359,
   "metadata": {},
   "outputs": [
    {
     "data": {
      "text/plain": [
       "0.9227871058138696"
      ]
     },
     "execution_count": 359,
     "metadata": {},
     "output_type": "execute_result"
    }
   ],
   "source": [
    "# comma_with_ing\n",
    "predictions['preds_post'] = predictions['Prediction'].copy()\n",
    "predictions.loc[(predictions['contains_comma_with_ing']==False) & (predictions['Prediction']==1), 'preds_post'] = 0\n",
    "metrics.f1_score(predictions['Gold'], predictions['preds_post'], average='weighted')"
   ]
  },
  {
   "cell_type": "code",
   "execution_count": 360,
   "metadata": {},
   "outputs": [
    {
     "data": {
      "text/plain": [
       "0.9535042241739922"
      ]
     },
     "execution_count": 360,
     "metadata": {},
     "output_type": "execute_result"
    }
   ],
   "source": [
    "# numbers and comma\n",
    "predictions['preds_post'] = predictions['Prediction'].copy()\n",
    "predictions.loc[(predictions['contains_comma_with_ing']==False) & (predictions['contains_numeric']==False) & (predictions['Prediction']==1), 'preds_post'] = 0\n",
    "metrics.f1_score(predictions['Gold'], predictions['preds_post'], average='weighted')"
   ]
  },
  {
   "cell_type": "code",
   "execution_count": 361,
   "metadata": {},
   "outputs": [
    {
     "data": {
      "text/plain": [
       "0.9545387552316572"
      ]
     },
     "execution_count": 361,
     "metadata": {},
     "output_type": "execute_result"
    }
   ],
   "source": [
    "# comma_with_specific_ing\n",
    "predictions['preds_post'] = predictions['Prediction'].copy()\n",
    "predictions.loc[(predictions['contains_specific_ings_with_comma']==True) & (predictions['Prediction']==0), 'preds_post'] = 1\n",
    "metrics.f1_score(predictions['Gold'], predictions['preds_post'], average='weighted')"
   ]
  },
  {
   "cell_type": "markdown",
   "metadata": {},
   "source": [
    "# Save Predictions"
   ]
  },
  {
   "cell_type": "code",
   "execution_count": 363,
   "metadata": {},
   "outputs": [],
   "source": [
    "import numpy as np"
   ]
  },
  {
   "cell_type": "code",
   "execution_count": 364,
   "metadata": {},
   "outputs": [
    {
     "name": "stderr",
     "output_type": "stream",
     "text": [
      "/media/sarthak/HDD/Anaconda/envs/fnp/lib/python3.6/site-packages/ipykernel_launcher.py:1: ParserWarning: Falling back to the 'python' engine because the 'c' engine does not support regex separators (separators > 1 char and different from '\\s+' are interpreted as regex); you can avoid this warning by specifying engine='python'.\n",
      "  \"\"\"Entry point for launching an IPython kernel.\n"
     ]
    },
    {
     "data": {
      "text/html": [
       "<div>\n",
       "<style scoped>\n",
       "    .dataframe tbody tr th:only-of-type {\n",
       "        vertical-align: middle;\n",
       "    }\n",
       "\n",
       "    .dataframe tbody tr th {\n",
       "        vertical-align: top;\n",
       "    }\n",
       "\n",
       "    .dataframe thead th {\n",
       "        text-align: right;\n",
       "    }\n",
       "</style>\n",
       "<table border=\"1\" class=\"dataframe\">\n",
       "  <thead>\n",
       "    <tr style=\"text-align: right;\">\n",
       "      <th></th>\n",
       "      <th>Index</th>\n",
       "      <th>Text</th>\n",
       "      <th>Gold</th>\n",
       "    </tr>\n",
       "  </thead>\n",
       "  <tbody>\n",
       "    <tr>\n",
       "      <th>0</th>\n",
       "      <td>1.00001</td>\n",
       "      <td>Third Democratic presidential debate  Septembe...</td>\n",
       "      <td>0</td>\n",
       "    </tr>\n",
       "    <tr>\n",
       "      <th>1</th>\n",
       "      <td>1.00002</td>\n",
       "      <td>On the policy front, Bernie Sanders claimed hi...</td>\n",
       "      <td>0</td>\n",
       "    </tr>\n",
       "    <tr>\n",
       "      <th>2</th>\n",
       "      <td>1.00003</td>\n",
       "      <td>Joe Biden misrepresented recent history when h...</td>\n",
       "      <td>0</td>\n",
       "    </tr>\n",
       "    <tr>\n",
       "      <th>3</th>\n",
       "      <td>1.00004</td>\n",
       "      <td>Here's a look at some of the assertions in the...</td>\n",
       "      <td>0</td>\n",
       "    </tr>\n",
       "    <tr>\n",
       "      <th>4</th>\n",
       "      <td>1.00005</td>\n",
       "      <td>It killed 22 people, and injured many more, we...</td>\n",
       "      <td>0</td>\n",
       "    </tr>\n",
       "    <tr>\n",
       "      <th>...</th>\n",
       "      <td>...</td>\n",
       "      <td>...</td>\n",
       "      <td>...</td>\n",
       "    </tr>\n",
       "    <tr>\n",
       "      <th>8575</th>\n",
       "      <td>370.00021</td>\n",
       "      <td>That's correct.</td>\n",
       "      <td>0</td>\n",
       "    </tr>\n",
       "    <tr>\n",
       "      <th>8576</th>\n",
       "      <td>370.00022</td>\n",
       "      <td>Fining a company - which in effect just fines ...</td>\n",
       "      <td>0</td>\n",
       "    </tr>\n",
       "    <tr>\n",
       "      <th>8577</th>\n",
       "      <td>370.00023</td>\n",
       "      <td>It was securing the bribe.</td>\n",
       "      <td>0</td>\n",
       "    </tr>\n",
       "    <tr>\n",
       "      <th>8578</th>\n",
       "      <td>370.00024</td>\n",
       "      <td>Disrupting Democracy: When Big Tech Takes Over...</td>\n",
       "      <td>0</td>\n",
       "    </tr>\n",
       "    <tr>\n",
       "      <th>8579</th>\n",
       "      <td>370.00025</td>\n",
       "      <td>Google Is Like Facebook - but a Lot Smarter  M...</td>\n",
       "      <td>0</td>\n",
       "    </tr>\n",
       "  </tbody>\n",
       "</table>\n",
       "<p>8580 rows × 3 columns</p>\n",
       "</div>"
      ],
      "text/plain": [
       "          Index                                               Text  Gold\n",
       "0       1.00001  Third Democratic presidential debate  Septembe...     0\n",
       "1       1.00002  On the policy front, Bernie Sanders claimed hi...     0\n",
       "2       1.00003  Joe Biden misrepresented recent history when h...     0\n",
       "3       1.00004  Here's a look at some of the assertions in the...     0\n",
       "4       1.00005  It killed 22 people, and injured many more, we...     0\n",
       "...         ...                                                ...   ...\n",
       "8575  370.00021                                    That's correct.     0\n",
       "8576  370.00022  Fining a company - which in effect just fines ...     0\n",
       "8577  370.00023                         It was securing the bribe.     0\n",
       "8578  370.00024  Disrupting Democracy: When Big Tech Takes Over...     0\n",
       "8579  370.00025  Google Is Like Facebook - but a Lot Smarter  M...     0\n",
       "\n",
       "[8580 rows x 3 columns]"
      ]
     },
     "execution_count": 364,
     "metadata": {},
     "output_type": "execute_result"
    }
   ],
   "source": [
    "original_data = pd.read_csv(Path('/media/sarthak/HDD/data_science/fnp_resources/data/task1/v2/trial.csv'), sep='; ')\n",
    "original_data"
   ]
  },
  {
   "cell_type": "code",
   "execution_count": 377,
   "metadata": {},
   "outputs": [
    {
     "name": "stderr",
     "output_type": "stream",
     "text": [
      "/media/sarthak/HDD/Anaconda/envs/fnp/lib/python3.6/site-packages/ipykernel_launcher.py:2: SettingWithCopyWarning: \n",
      "A value is trying to be set on a copy of a slice from a DataFrame.\n",
      "Try using .loc[row_indexer,col_indexer] = value instead\n",
      "\n",
      "See the caveats in the documentation: https://pandas.pydata.org/pandas-docs/stable/user_guide/indexing.html#returning-a-view-versus-a-copy\n",
      "  \n"
     ]
    },
    {
     "data": {
      "text/html": [
       "<div>\n",
       "<style scoped>\n",
       "    .dataframe tbody tr th:only-of-type {\n",
       "        vertical-align: middle;\n",
       "    }\n",
       "\n",
       "    .dataframe tbody tr th {\n",
       "        vertical-align: top;\n",
       "    }\n",
       "\n",
       "    .dataframe thead th {\n",
       "        text-align: right;\n",
       "    }\n",
       "</style>\n",
       "<table border=\"1\" class=\"dataframe\">\n",
       "  <thead>\n",
       "    <tr style=\"text-align: right;\">\n",
       "      <th></th>\n",
       "      <th>Index</th>\n",
       "      <th>Text</th>\n",
       "      <th>Gold</th>\n",
       "      <th>preds_post</th>\n",
       "    </tr>\n",
       "  </thead>\n",
       "  <tbody>\n",
       "    <tr>\n",
       "      <th>1486</th>\n",
       "      <td>53.00018</td>\n",
       "      <td>NaN</td>\n",
       "      <td>0</td>\n",
       "      <td>0</td>\n",
       "    </tr>\n",
       "  </tbody>\n",
       "</table>\n",
       "</div>"
      ],
      "text/plain": [
       "         Index Text  Gold  preds_post\n",
       "1486  53.00018  NaN     0           0"
      ]
     },
     "execution_count": 377,
     "metadata": {},
     "output_type": "execute_result"
    }
   ],
   "source": [
    "na = original_data.loc[original_data.Text.isna()]\n",
    "na['preds_post'] = 0\n",
    "na"
   ]
  },
  {
   "cell_type": "code",
   "execution_count": 380,
   "metadata": {},
   "outputs": [],
   "source": [
    "predictions_p1 = predictions.iloc[:1486][['Index', 'Text', 'preds_post']]\n",
    "predictions_p2 = na[['Index', 'Text', 'preds_post']]\n",
    "predictions_p3 = predictions.iloc[1486:][['Index', 'Text', 'preds_post']]\n",
    "predictions_concat = pd.concat([predictions_p1, predictions_p2, predictions_p3])"
   ]
  },
  {
   "cell_type": "code",
   "execution_count": 384,
   "metadata": {},
   "outputs": [],
   "source": [
    "predictions_concat.rename(columns={'preds_post': 'Prediction'}, inplace=True)"
   ]
  },
  {
   "cell_type": "code",
   "execution_count": 385,
   "metadata": {},
   "outputs": [
    {
     "data": {
      "text/html": [
       "<div>\n",
       "<style scoped>\n",
       "    .dataframe tbody tr th:only-of-type {\n",
       "        vertical-align: middle;\n",
       "    }\n",
       "\n",
       "    .dataframe tbody tr th {\n",
       "        vertical-align: top;\n",
       "    }\n",
       "\n",
       "    .dataframe thead th {\n",
       "        text-align: right;\n",
       "    }\n",
       "</style>\n",
       "<table border=\"1\" class=\"dataframe\">\n",
       "  <thead>\n",
       "    <tr style=\"text-align: right;\">\n",
       "      <th></th>\n",
       "      <th>Index</th>\n",
       "      <th>Text</th>\n",
       "      <th>Prediction</th>\n",
       "    </tr>\n",
       "  </thead>\n",
       "  <tbody>\n",
       "    <tr>\n",
       "      <th>0</th>\n",
       "      <td>1.00001</td>\n",
       "      <td>Third Democratic presidential debate  Septembe...</td>\n",
       "      <td>0</td>\n",
       "    </tr>\n",
       "    <tr>\n",
       "      <th>1</th>\n",
       "      <td>1.00002</td>\n",
       "      <td>On the policy front, Bernie Sanders claimed hi...</td>\n",
       "      <td>0</td>\n",
       "    </tr>\n",
       "    <tr>\n",
       "      <th>2</th>\n",
       "      <td>1.00003</td>\n",
       "      <td>Joe Biden misrepresented recent history when h...</td>\n",
       "      <td>0</td>\n",
       "    </tr>\n",
       "    <tr>\n",
       "      <th>3</th>\n",
       "      <td>1.00004</td>\n",
       "      <td>Here's a look at some of the assertions in the...</td>\n",
       "      <td>0</td>\n",
       "    </tr>\n",
       "    <tr>\n",
       "      <th>4</th>\n",
       "      <td>1.00005</td>\n",
       "      <td>It killed 22 people, and injured many more, we...</td>\n",
       "      <td>0</td>\n",
       "    </tr>\n",
       "    <tr>\n",
       "      <th>...</th>\n",
       "      <td>...</td>\n",
       "      <td>...</td>\n",
       "      <td>...</td>\n",
       "    </tr>\n",
       "    <tr>\n",
       "      <th>8574</th>\n",
       "      <td>370.00021</td>\n",
       "      <td>That's correct.</td>\n",
       "      <td>0</td>\n",
       "    </tr>\n",
       "    <tr>\n",
       "      <th>8575</th>\n",
       "      <td>370.00022</td>\n",
       "      <td>Fining a company - which in effect just fines ...</td>\n",
       "      <td>0</td>\n",
       "    </tr>\n",
       "    <tr>\n",
       "      <th>8576</th>\n",
       "      <td>370.00023</td>\n",
       "      <td>It was securing the bribe.</td>\n",
       "      <td>0</td>\n",
       "    </tr>\n",
       "    <tr>\n",
       "      <th>8577</th>\n",
       "      <td>370.00024</td>\n",
       "      <td>Disrupting Democracy: When Big Tech Takes Over...</td>\n",
       "      <td>0</td>\n",
       "    </tr>\n",
       "    <tr>\n",
       "      <th>8578</th>\n",
       "      <td>370.00025</td>\n",
       "      <td>Google Is Like Facebook - but a Lot Smarter  M...</td>\n",
       "      <td>0</td>\n",
       "    </tr>\n",
       "  </tbody>\n",
       "</table>\n",
       "<p>8580 rows × 3 columns</p>\n",
       "</div>"
      ],
      "text/plain": [
       "          Index                                               Text  Prediction\n",
       "0       1.00001  Third Democratic presidential debate  Septembe...           0\n",
       "1       1.00002  On the policy front, Bernie Sanders claimed hi...           0\n",
       "2       1.00003  Joe Biden misrepresented recent history when h...           0\n",
       "3       1.00004  Here's a look at some of the assertions in the...           0\n",
       "4       1.00005  It killed 22 people, and injured many more, we...           0\n",
       "...         ...                                                ...         ...\n",
       "8574  370.00021                                    That's correct.           0\n",
       "8575  370.00022  Fining a company - which in effect just fines ...           0\n",
       "8576  370.00023                         It was securing the bribe.           0\n",
       "8577  370.00024  Disrupting Democracy: When Big Tech Takes Over...           0\n",
       "8578  370.00025  Google Is Like Facebook - but a Lot Smarter  M...           0\n",
       "\n",
       "[8580 rows x 3 columns]"
      ]
     },
     "execution_count": 385,
     "metadata": {},
     "output_type": "execute_result"
    }
   ],
   "source": [
    "predictions_concat"
   ]
  },
  {
   "cell_type": "code",
   "execution_count": 386,
   "metadata": {},
   "outputs": [],
   "source": [
    "predictions_concat.to_csv('/media/sarthak/HDD/data_science/fnp_resources/fincausal_t1_models/46/output/best_model/inference/predictions.csv', index=False, sep=';')"
   ]
  },
  {
   "cell_type": "code",
   "execution_count": 387,
   "metadata": {},
   "outputs": [
    {
     "data": {
      "text/html": [
       "<div>\n",
       "<style scoped>\n",
       "    .dataframe tbody tr th:only-of-type {\n",
       "        vertical-align: middle;\n",
       "    }\n",
       "\n",
       "    .dataframe tbody tr th {\n",
       "        vertical-align: top;\n",
       "    }\n",
       "\n",
       "    .dataframe thead th {\n",
       "        text-align: right;\n",
       "    }\n",
       "</style>\n",
       "<table border=\"1\" class=\"dataframe\">\n",
       "  <thead>\n",
       "    <tr style=\"text-align: right;\">\n",
       "      <th></th>\n",
       "      <th>Index</th>\n",
       "      <th>Text</th>\n",
       "      <th>Prediction</th>\n",
       "    </tr>\n",
       "  </thead>\n",
       "  <tbody>\n",
       "    <tr>\n",
       "      <th>0</th>\n",
       "      <td>1.00001</td>\n",
       "      <td>Third Democratic presidential debate  Septembe...</td>\n",
       "      <td>0</td>\n",
       "    </tr>\n",
       "    <tr>\n",
       "      <th>1</th>\n",
       "      <td>1.00002</td>\n",
       "      <td>On the policy front, Bernie Sanders claimed hi...</td>\n",
       "      <td>0</td>\n",
       "    </tr>\n",
       "    <tr>\n",
       "      <th>2</th>\n",
       "      <td>1.00003</td>\n",
       "      <td>Joe Biden misrepresented recent history when h...</td>\n",
       "      <td>0</td>\n",
       "    </tr>\n",
       "    <tr>\n",
       "      <th>3</th>\n",
       "      <td>1.00004</td>\n",
       "      <td>Here's a look at some of the assertions in the...</td>\n",
       "      <td>0</td>\n",
       "    </tr>\n",
       "    <tr>\n",
       "      <th>4</th>\n",
       "      <td>1.00005</td>\n",
       "      <td>It killed 22 people, and injured many more, we...</td>\n",
       "      <td>0</td>\n",
       "    </tr>\n",
       "    <tr>\n",
       "      <th>...</th>\n",
       "      <td>...</td>\n",
       "      <td>...</td>\n",
       "      <td>...</td>\n",
       "    </tr>\n",
       "    <tr>\n",
       "      <th>8575</th>\n",
       "      <td>370.00021</td>\n",
       "      <td>That's correct.</td>\n",
       "      <td>0</td>\n",
       "    </tr>\n",
       "    <tr>\n",
       "      <th>8576</th>\n",
       "      <td>370.00022</td>\n",
       "      <td>Fining a company - which in effect just fines ...</td>\n",
       "      <td>0</td>\n",
       "    </tr>\n",
       "    <tr>\n",
       "      <th>8577</th>\n",
       "      <td>370.00023</td>\n",
       "      <td>It was securing the bribe.</td>\n",
       "      <td>0</td>\n",
       "    </tr>\n",
       "    <tr>\n",
       "      <th>8578</th>\n",
       "      <td>370.00024</td>\n",
       "      <td>Disrupting Democracy: When Big Tech Takes Over...</td>\n",
       "      <td>0</td>\n",
       "    </tr>\n",
       "    <tr>\n",
       "      <th>8579</th>\n",
       "      <td>370.00025</td>\n",
       "      <td>Google Is Like Facebook - but a Lot Smarter  M...</td>\n",
       "      <td>0</td>\n",
       "    </tr>\n",
       "  </tbody>\n",
       "</table>\n",
       "<p>8580 rows × 3 columns</p>\n",
       "</div>"
      ],
      "text/plain": [
       "          Index                                               Text  Prediction\n",
       "0       1.00001  Third Democratic presidential debate  Septembe...           0\n",
       "1       1.00002  On the policy front, Bernie Sanders claimed hi...           0\n",
       "2       1.00003  Joe Biden misrepresented recent history when h...           0\n",
       "3       1.00004  Here's a look at some of the assertions in the...           0\n",
       "4       1.00005  It killed 22 people, and injured many more, we...           0\n",
       "...         ...                                                ...         ...\n",
       "8575  370.00021                                    That's correct.           0\n",
       "8576  370.00022  Fining a company - which in effect just fines ...           0\n",
       "8577  370.00023                         It was securing the bribe.           0\n",
       "8578  370.00024  Disrupting Democracy: When Big Tech Takes Over...           0\n",
       "8579  370.00025  Google Is Like Facebook - but a Lot Smarter  M...           0\n",
       "\n",
       "[8580 rows x 3 columns]"
      ]
     },
     "execution_count": 387,
     "metadata": {},
     "output_type": "execute_result"
    }
   ],
   "source": [
    "preds_load = pd.read_csv('/media/sarthak/HDD/data_science/fnp_resources/fincausal_t1_models/46/output/best_model/inference/predictions.csv', sep=';')\n",
    "preds_load"
   ]
  }
 ],
 "metadata": {
  "kernelspec": {
   "display_name": "Python fnp",
   "language": "python",
   "name": "fnp"
  },
  "language_info": {
   "codemirror_mode": {
    "name": "ipython",
    "version": 3
   },
   "file_extension": ".py",
   "mimetype": "text/x-python",
   "name": "python",
   "nbconvert_exporter": "python",
   "pygments_lexer": "ipython3",
   "version": "3.6.7"
  }
 },
 "nbformat": 4,
 "nbformat_minor": 4
}
